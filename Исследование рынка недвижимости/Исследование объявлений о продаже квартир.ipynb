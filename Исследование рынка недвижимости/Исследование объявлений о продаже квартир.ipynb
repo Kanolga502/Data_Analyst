{
 "cells": [
  {
   "cell_type": "markdown",
   "metadata": {},
   "source": [
    "# Исследование объявлений о продаже квартир\n",
    "\n",
    "В вашем распоряжении данные сервиса Яндекс.Недвижимость — архив объявлений о продаже квартир в Санкт-Петербурге и соседних населённых пунктов за несколько лет. Нужно научиться определять рыночную стоимость объектов недвижимости. Ваша задача — установить параметры. Это позволит построить автоматизированную систему: она отследит аномалии и мошенническую деятельность. \n",
    "\n",
    "По каждой квартире на продажу доступны два вида данных. Первые вписаны пользователем, вторые — получены автоматически на основе картографических данных. Например, расстояние до центра, аэропорта, ближайшего парка и водоёма. "
   ]
  },
  {
   "cell_type": "markdown",
   "metadata": {},
   "source": [
    "### Откройте файл с данными и изучите общую информацию. "
   ]
  },
  {
   "cell_type": "code",
   "execution_count": 1,
   "metadata": {
    "scrolled": false
   },
   "outputs": [
    {
     "name": "stdout",
     "output_type": "stream",
     "text": [
      "<class 'pandas.core.frame.DataFrame'>\n",
      "RangeIndex: 23699 entries, 0 to 23698\n",
      "Data columns (total 22 columns):\n",
      " #   Column                Non-Null Count  Dtype  \n",
      "---  ------                --------------  -----  \n",
      " 0   total_images          23699 non-null  int64  \n",
      " 1   last_price            23699 non-null  float64\n",
      " 2   total_area            23699 non-null  float64\n",
      " 3   first_day_exposition  23699 non-null  object \n",
      " 4   rooms                 23699 non-null  int64  \n",
      " 5   ceiling_height        14504 non-null  float64\n",
      " 6   floors_total          23613 non-null  float64\n",
      " 7   living_area           21796 non-null  float64\n",
      " 8   floor                 23699 non-null  int64  \n",
      " 9   is_apartment          2775 non-null   object \n",
      " 10  studio                23699 non-null  bool   \n",
      " 11  open_plan             23699 non-null  bool   \n",
      " 12  kitchen_area          21421 non-null  float64\n",
      " 13  balcony               12180 non-null  float64\n",
      " 14  locality_name         23650 non-null  object \n",
      " 15  airports_nearest      18157 non-null  float64\n",
      " 16  cityCenters_nearest   18180 non-null  float64\n",
      " 17  parks_around3000      18181 non-null  float64\n",
      " 18  parks_nearest         8079 non-null   float64\n",
      " 19  ponds_around3000      18181 non-null  float64\n",
      " 20  ponds_nearest         9110 non-null   float64\n",
      " 21  days_exposition       20518 non-null  float64\n",
      "dtypes: bool(2), float64(14), int64(3), object(3)\n",
      "memory usage: 3.7+ MB\n"
     ]
    },
    {
     "data": {
      "text/html": [
       "<div>\n",
       "<style scoped>\n",
       "    .dataframe tbody tr th:only-of-type {\n",
       "        vertical-align: middle;\n",
       "    }\n",
       "\n",
       "    .dataframe tbody tr th {\n",
       "        vertical-align: top;\n",
       "    }\n",
       "\n",
       "    .dataframe thead th {\n",
       "        text-align: right;\n",
       "    }\n",
       "</style>\n",
       "<table border=\"1\" class=\"dataframe\">\n",
       "  <thead>\n",
       "    <tr style=\"text-align: right;\">\n",
       "      <th></th>\n",
       "      <th>total_images</th>\n",
       "      <th>last_price</th>\n",
       "      <th>total_area</th>\n",
       "      <th>first_day_exposition</th>\n",
       "      <th>rooms</th>\n",
       "      <th>ceiling_height</th>\n",
       "      <th>floors_total</th>\n",
       "      <th>living_area</th>\n",
       "      <th>floor</th>\n",
       "      <th>is_apartment</th>\n",
       "      <th>...</th>\n",
       "      <th>kitchen_area</th>\n",
       "      <th>balcony</th>\n",
       "      <th>locality_name</th>\n",
       "      <th>airports_nearest</th>\n",
       "      <th>cityCenters_nearest</th>\n",
       "      <th>parks_around3000</th>\n",
       "      <th>parks_nearest</th>\n",
       "      <th>ponds_around3000</th>\n",
       "      <th>ponds_nearest</th>\n",
       "      <th>days_exposition</th>\n",
       "    </tr>\n",
       "  </thead>\n",
       "  <tbody>\n",
       "    <tr>\n",
       "      <th>0</th>\n",
       "      <td>20</td>\n",
       "      <td>13000000.0</td>\n",
       "      <td>108.0</td>\n",
       "      <td>2019-03-07T00:00:00</td>\n",
       "      <td>3</td>\n",
       "      <td>2.70</td>\n",
       "      <td>16.0</td>\n",
       "      <td>51.0</td>\n",
       "      <td>8</td>\n",
       "      <td>NaN</td>\n",
       "      <td>...</td>\n",
       "      <td>25.0</td>\n",
       "      <td>NaN</td>\n",
       "      <td>Санкт-Петербург</td>\n",
       "      <td>18863.0</td>\n",
       "      <td>16028.0</td>\n",
       "      <td>1.0</td>\n",
       "      <td>482.0</td>\n",
       "      <td>2.0</td>\n",
       "      <td>755.0</td>\n",
       "      <td>NaN</td>\n",
       "    </tr>\n",
       "    <tr>\n",
       "      <th>1</th>\n",
       "      <td>7</td>\n",
       "      <td>3350000.0</td>\n",
       "      <td>40.4</td>\n",
       "      <td>2018-12-04T00:00:00</td>\n",
       "      <td>1</td>\n",
       "      <td>NaN</td>\n",
       "      <td>11.0</td>\n",
       "      <td>18.6</td>\n",
       "      <td>1</td>\n",
       "      <td>NaN</td>\n",
       "      <td>...</td>\n",
       "      <td>11.0</td>\n",
       "      <td>2.0</td>\n",
       "      <td>посёлок Шушары</td>\n",
       "      <td>12817.0</td>\n",
       "      <td>18603.0</td>\n",
       "      <td>0.0</td>\n",
       "      <td>NaN</td>\n",
       "      <td>0.0</td>\n",
       "      <td>NaN</td>\n",
       "      <td>81.0</td>\n",
       "    </tr>\n",
       "    <tr>\n",
       "      <th>2</th>\n",
       "      <td>10</td>\n",
       "      <td>5196000.0</td>\n",
       "      <td>56.0</td>\n",
       "      <td>2015-08-20T00:00:00</td>\n",
       "      <td>2</td>\n",
       "      <td>NaN</td>\n",
       "      <td>5.0</td>\n",
       "      <td>34.3</td>\n",
       "      <td>4</td>\n",
       "      <td>NaN</td>\n",
       "      <td>...</td>\n",
       "      <td>8.3</td>\n",
       "      <td>0.0</td>\n",
       "      <td>Санкт-Петербург</td>\n",
       "      <td>21741.0</td>\n",
       "      <td>13933.0</td>\n",
       "      <td>1.0</td>\n",
       "      <td>90.0</td>\n",
       "      <td>2.0</td>\n",
       "      <td>574.0</td>\n",
       "      <td>558.0</td>\n",
       "    </tr>\n",
       "    <tr>\n",
       "      <th>3</th>\n",
       "      <td>0</td>\n",
       "      <td>64900000.0</td>\n",
       "      <td>159.0</td>\n",
       "      <td>2015-07-24T00:00:00</td>\n",
       "      <td>3</td>\n",
       "      <td>NaN</td>\n",
       "      <td>14.0</td>\n",
       "      <td>NaN</td>\n",
       "      <td>9</td>\n",
       "      <td>NaN</td>\n",
       "      <td>...</td>\n",
       "      <td>NaN</td>\n",
       "      <td>0.0</td>\n",
       "      <td>Санкт-Петербург</td>\n",
       "      <td>28098.0</td>\n",
       "      <td>6800.0</td>\n",
       "      <td>2.0</td>\n",
       "      <td>84.0</td>\n",
       "      <td>3.0</td>\n",
       "      <td>234.0</td>\n",
       "      <td>424.0</td>\n",
       "    </tr>\n",
       "    <tr>\n",
       "      <th>4</th>\n",
       "      <td>2</td>\n",
       "      <td>10000000.0</td>\n",
       "      <td>100.0</td>\n",
       "      <td>2018-06-19T00:00:00</td>\n",
       "      <td>2</td>\n",
       "      <td>3.03</td>\n",
       "      <td>14.0</td>\n",
       "      <td>32.0</td>\n",
       "      <td>13</td>\n",
       "      <td>NaN</td>\n",
       "      <td>...</td>\n",
       "      <td>41.0</td>\n",
       "      <td>NaN</td>\n",
       "      <td>Санкт-Петербург</td>\n",
       "      <td>31856.0</td>\n",
       "      <td>8098.0</td>\n",
       "      <td>2.0</td>\n",
       "      <td>112.0</td>\n",
       "      <td>1.0</td>\n",
       "      <td>48.0</td>\n",
       "      <td>121.0</td>\n",
       "    </tr>\n",
       "  </tbody>\n",
       "</table>\n",
       "<p>5 rows × 22 columns</p>\n",
       "</div>"
      ],
      "text/plain": [
       "   total_images  last_price  total_area first_day_exposition  rooms  \\\n",
       "0            20  13000000.0       108.0  2019-03-07T00:00:00      3   \n",
       "1             7   3350000.0        40.4  2018-12-04T00:00:00      1   \n",
       "2            10   5196000.0        56.0  2015-08-20T00:00:00      2   \n",
       "3             0  64900000.0       159.0  2015-07-24T00:00:00      3   \n",
       "4             2  10000000.0       100.0  2018-06-19T00:00:00      2   \n",
       "\n",
       "   ceiling_height  floors_total  living_area  floor is_apartment  ...  \\\n",
       "0            2.70          16.0         51.0      8          NaN  ...   \n",
       "1             NaN          11.0         18.6      1          NaN  ...   \n",
       "2             NaN           5.0         34.3      4          NaN  ...   \n",
       "3             NaN          14.0          NaN      9          NaN  ...   \n",
       "4            3.03          14.0         32.0     13          NaN  ...   \n",
       "\n",
       "   kitchen_area  balcony    locality_name  airports_nearest  \\\n",
       "0          25.0      NaN  Санкт-Петербург           18863.0   \n",
       "1          11.0      2.0   посёлок Шушары           12817.0   \n",
       "2           8.3      0.0  Санкт-Петербург           21741.0   \n",
       "3           NaN      0.0  Санкт-Петербург           28098.0   \n",
       "4          41.0      NaN  Санкт-Петербург           31856.0   \n",
       "\n",
       "  cityCenters_nearest  parks_around3000  parks_nearest  ponds_around3000  \\\n",
       "0             16028.0               1.0          482.0               2.0   \n",
       "1             18603.0               0.0            NaN               0.0   \n",
       "2             13933.0               1.0           90.0               2.0   \n",
       "3              6800.0               2.0           84.0               3.0   \n",
       "4              8098.0               2.0          112.0               1.0   \n",
       "\n",
       "   ponds_nearest  days_exposition  \n",
       "0          755.0              NaN  \n",
       "1            NaN             81.0  \n",
       "2          574.0            558.0  \n",
       "3          234.0            424.0  \n",
       "4           48.0            121.0  \n",
       "\n",
       "[5 rows x 22 columns]"
      ]
     },
     "metadata": {},
     "output_type": "display_data"
    },
    {
     "data": {
      "image/png": "[encoded data removed]",
      "text/plain": [
       "<Figure size 1080x1440 with 20 Axes>"
      ]
     },
     "metadata": {
      "needs_background": "light"
     },
     "output_type": "display_data"
    }
   ],
   "source": [
    "#открываем фал и выводим информацию на экран\n",
    "import pandas as pd\n",
    "data=pd.read_csv('/datasets/real_estate_data.csv',sep='\\t')\n",
    "data.info()\n",
    "data.describe()\n",
    "display(data.head())\n",
    "data.hist(figsize=(15, 20));"
   ]
  },
  {
   "cell_type": "markdown",
   "metadata": {},
   "source": [
    "### Предобработка данных"
   ]
  },
  {
   "cell_type": "code",
   "execution_count": 2,
   "metadata": {
    "scrolled": true
   },
   "outputs": [
    {
     "name": "stdout",
     "output_type": "stream",
     "text": [
      "total_images                0\n",
      "last_price                  0\n",
      "total_area                  0\n",
      "first_day_exposition        0\n",
      "rooms                       0\n",
      "ceiling_height           9195\n",
      "floors_total               86\n",
      "living_area              1903\n",
      "floor                       0\n",
      "is_apartment            20924\n",
      "studio                      0\n",
      "open_plan                   0\n",
      "kitchen_area             2278\n",
      "balcony                 11519\n",
      "locality_name              49\n",
      "airports_nearest         5542\n",
      "cityCenters_nearest      5519\n",
      "parks_around3000         5518\n",
      "parks_nearest           15620\n",
      "ponds_around3000         5518\n",
      "ponds_nearest           14589\n",
      "days_exposition          3181\n",
      "dtype: int64\n"
     ]
    }
   ],
   "source": [
    "#находим количество пропущенных значений в каждом столбце\n",
    "print(data.isna().sum())"
   ]
  },
  {
   "cell_type": "code",
   "execution_count": 3,
   "metadata": {},
   "outputs": [],
   "source": [
    "# check\n",
    "# пропущенные значения бары\n",
    "\n",
    "# check\n",
    "def pass_value_barh(df):\n",
    "    (\n",
    "        (df.isna().mean()*100)\n",
    "        .to_frame()\n",
    "        .rename(columns = {0:'space'})\n",
    "        .query('space > 0')\n",
    "        .sort_values(by = 'space', ascending = True)\n",
    "        .plot(kind= 'barh', figsize=(19,6), rot = -5, legend = False, fontsize = 16)\n",
    "        .set_title('Пример' + \"\\n\", fontsize = 22, color = 'SteelBlue')    \n",
    "    );    "
   ]
  },
  {
   "cell_type": "code",
   "execution_count": 4,
   "metadata": {},
   "outputs": [
    {
     "data": {
      "image/png": "[encoded data removed]",
      "text/plain": [
       "<Figure size 1368x432 with 1 Axes>"
      ]
     },
     "metadata": {
      "needs_background": "light"
     },
     "output_type": "display_data"
    }
   ],
   "source": [
    "pass_value_barh(data)"
   ]
  },
  {
   "cell_type": "markdown",
   "metadata": {},
   "source": [
    "<div style=\"border:solid steelblue 3px; padding: 20px\">\n",
    "<font size=\"4\">🍕<b> Комментарий ревьюера</b></font>\n",
    "<br /> \n",
    "<font size=\"3\", color = \"black\">\n",
    "<br /> Наглядность представления информации одна из важных составляющих работы дата-аналитика или дата-сайентиста\n",
    "    \n",
    "Функцию можно разломать на кусочки ☝ и собрать заново, чтобы научиться, какая команда, за что отвечает, многое тебе уже знакомо\n",
    "    \n",
    "___\n",
    "    "
   ]
  },
  {
   "cell_type": "code",
   "execution_count": 5,
   "metadata": {},
   "outputs": [],
   "source": [
    "# заменяем пропуски на 0, там, где это подходит\n",
    "data['balcony']=data['balcony'].fillna(0)\n",
    "data['parks_around3000']=data['parks_around3000'].fillna(0)\n",
    "data['ponds_around3000']=data['ponds_around3000'].fillna(0)\n",
    "data['is_apartment']=data['is_apartment'].fillna(False)\n",
    "data['parks_nearest']=data['parks_nearest'].fillna(0)\n",
    "data['cityCenters_nearest']=data['cityCenters_nearest'].fillna(0)\n",
    "data['ponds_nearest']=data['ponds_nearest'].fillna(0)\n",
    "data['airports_nearest']=data['airports_nearest'].fillna(0) \n"
   ]
  },
  {
   "cell_type": "code",
   "execution_count": 6,
   "metadata": {},
   "outputs": [
    {
     "name": "stdout",
     "output_type": "stream",
     "text": [
      "total_images               0\n",
      "last_price                 0\n",
      "total_area                 0\n",
      "first_day_exposition       0\n",
      "rooms                      0\n",
      "ceiling_height             0\n",
      "floors_total               0\n",
      "living_area                0\n",
      "floor                      0\n",
      "is_apartment               0\n",
      "studio                     0\n",
      "open_plan                  0\n",
      "kitchen_area               0\n",
      "balcony                    0\n",
      "locality_name              0\n",
      "airports_nearest           0\n",
      "cityCenters_nearest        0\n",
      "parks_around3000           0\n",
      "parks_nearest              0\n",
      "ponds_around3000           0\n",
      "ponds_nearest              0\n",
      "days_exposition         3179\n",
      "dtype: int64\n"
     ]
    }
   ],
   "source": [
    "#переведем столбец с датой в формат даты без времени, т.к. время не указано\n",
    "data['first_day_exposition'] = pd.to_datetime(data['first_day_exposition'], format = '%Y-%m-%d')\n",
    "#заменяем пропуски медианными значениями, в столбцах ceiling_height,floors_total\n",
    "ceiling_mean=data.groupby('floor')['ceiling_height'].median()\n",
    "for inc_type in data['floor'].unique():\n",
    "    data.loc[(data['floor']==inc_type)&(data['ceiling_height'].isna()==True),'ceiling_height']=ceiling_mean[inc_type]\n",
    "floors_mean=data.groupby('last_price')['floors_total'].median()\n",
    "for inc_type in data['last_price'].unique():\n",
    "    data.loc[(data['last_price']==inc_type)&(data['floors_total'].isna()==True),'floors_total']=floors_mean[inc_type]\n",
    "# заменим пропуски в столбцах 'kitchen_area' и 'living_area'\n",
    "data['kitchen_area']=data['kitchen_area'].fillna(data['total_area']-data['living_area'])\n",
    "data['living_area']=data['living_area'].fillna(data['total_area']-data['kitchen_area'])\n",
    "# оставшиеся пропуски в этих столбцах заменим медианными значениями\n",
    "area_mean=data.groupby('floor')['living_area'].median()\n",
    "for inc_type in data['floor'].unique():\n",
    "    data.loc[(data['floor']==inc_type)&(data['living_area'].isna()==True),'living_area']=area_mean[inc_type]\n",
    "k_area_mean=data.groupby('floor')['kitchen_area'].median()\n",
    "for inc_type in data['floor'].unique():\n",
    "    data.loc[(data['floor']==inc_type)&(data['kitchen_area'].isna()==True),'kitchen_area']=k_area_mean[inc_type]\n",
    "\n",
    "data=data.dropna(subset=['locality_name'])\n",
    "data=data.dropna(subset=['ceiling_height'])\n",
    "data=data.dropna(subset=['floors_total'])\n",
    "print(data.isna().sum())\n"
   ]
  },
  {
   "cell_type": "code",
   "execution_count": 7,
   "metadata": {},
   "outputs": [
    {
     "data": {
      "text/plain": [
       "5.0     5780\n",
       "9.0     3776\n",
       "16.0    1376\n",
       "12.0    1364\n",
       "4.0     1193\n",
       "10.0    1179\n",
       "25.0    1075\n",
       "6.0      913\n",
       "17.0     833\n",
       "3.0      667\n",
       "7.0      593\n",
       "14.0     554\n",
       "18.0     505\n",
       "24.0     462\n",
       "8.0      388\n",
       "2.0      381\n",
       "15.0     365\n",
       "23.0     349\n",
       "19.0     339\n",
       "22.0     286\n",
       "20.0     271\n",
       "13.0     230\n",
       "11.0     202\n",
       "27.0     164\n",
       "21.0     158\n",
       "26.0     124\n",
       "1.0       25\n",
       "35.0      22\n",
       "28.0      21\n",
       "14.5       2\n",
       "36.0       2\n",
       "52.0       1\n",
       "10.5       1\n",
       "9.5        1\n",
       "7.5        1\n",
       "34.0       1\n",
       "29.0       1\n",
       "60.0       1\n",
       "37.0       1\n",
       "Name: floors_total, dtype: int64"
      ]
     },
     "execution_count": 7,
     "metadata": {},
     "output_type": "execute_result"
    }
   ],
   "source": [
    "# check\n",
    "data['floors_total'].value_counts()\n",
    " "
   ]
  },
  {
   "cell_type": "markdown",
   "metadata": {},
   "source": [
    "Убарала обработку столбца room тк, в этом не было смысла,в нем не было пропусков.\n",
    "Убрала обработку days_exposition,потому что это не позволит верно рассчитать.\n",
    "Поменяла заполнение пропусков в жилой площади и площади кухни, правильнее будет отталкиваться от разницы общей площади и площади кухни, либо жилой площади, потому что иначе не учитывались сан.узлы и коридоры, остальные данные заполнила медианными значениями"
   ]
  },
  {
   "cell_type": "code",
   "execution_count": 8,
   "metadata": {
    "scrolled": true
   },
   "outputs": [
    {
     "name": "stdout",
     "output_type": "stream",
     "text": [
      "<class 'pandas.core.frame.DataFrame'>\n",
      "Int64Index: 23607 entries, 0 to 23698\n",
      "Data columns (total 22 columns):\n",
      " #   Column                Non-Null Count  Dtype         \n",
      "---  ------                --------------  -----         \n",
      " 0   total_images          23607 non-null  int64         \n",
      " 1   last_price            23607 non-null  float64       \n",
      " 2   total_area            23607 non-null  float64       \n",
      " 3   first_day_exposition  23607 non-null  datetime64[ns]\n",
      " 4   rooms                 23607 non-null  int64         \n",
      " 5   ceiling_height        23607 non-null  float64       \n",
      " 6   floors_total          23607 non-null  float64       \n",
      " 7   living_area           23607 non-null  float64       \n",
      " 8   floor                 23607 non-null  int64         \n",
      " 9   is_apartment          23607 non-null  bool          \n",
      " 10  studio                23607 non-null  bool          \n",
      " 11  open_plan             23607 non-null  bool          \n",
      " 12  kitchen_area          23607 non-null  float64       \n",
      " 13  balcony               23607 non-null  float64       \n",
      " 14  locality_name         23607 non-null  object        \n",
      " 15  airports_nearest      23607 non-null  float64       \n",
      " 16  cityCenters_nearest   23607 non-null  float64       \n",
      " 17  parks_around3000      23607 non-null  float64       \n",
      " 18  parks_nearest         23607 non-null  float64       \n",
      " 19  ponds_around3000      23607 non-null  float64       \n",
      " 20  ponds_nearest         23607 non-null  float64       \n",
      " 21  days_exposition       20428 non-null  float64       \n",
      "dtypes: bool(3), datetime64[ns](1), float64(14), int64(3), object(1)\n",
      "memory usage: 3.7+ MB\n"
     ]
    }
   ],
   "source": [
    "# просмортим данные по датасету еще раз. чтоб поменять тип данных\n",
    "data.info()"
   ]
  },
  {
   "cell_type": "code",
   "execution_count": 9,
   "metadata": {
    "scrolled": false
   },
   "outputs": [
    {
     "name": "stdout",
     "output_type": "stream",
     "text": [
      "<class 'pandas.core.frame.DataFrame'>\n",
      "Int64Index: 23607 entries, 0 to 23698\n",
      "Data columns (total 22 columns):\n",
      " #   Column                Non-Null Count  Dtype         \n",
      "---  ------                --------------  -----         \n",
      " 0   total_images          23607 non-null  int32         \n",
      " 1   last_price            23607 non-null  int32         \n",
      " 2   total_area            23607 non-null  float32       \n",
      " 3   first_day_exposition  23607 non-null  datetime64[ns]\n",
      " 4   rooms                 23607 non-null  int32         \n",
      " 5   ceiling_height        23607 non-null  float32       \n",
      " 6   floors_total          23607 non-null  int32         \n",
      " 7   living_area           23607 non-null  float64       \n",
      " 8   floor                 23607 non-null  int32         \n",
      " 9   is_apartment          23607 non-null  bool          \n",
      " 10  studio                23607 non-null  bool          \n",
      " 11  open_plan             23607 non-null  bool          \n",
      " 12  kitchen_area          23607 non-null  float32       \n",
      " 13  balcony               23607 non-null  int32         \n",
      " 14  locality_name         23607 non-null  object        \n",
      " 15  airports_nearest      23607 non-null  float64       \n",
      " 16  cityCenters_nearest   23607 non-null  float64       \n",
      " 17  parks_around3000      23607 non-null  float64       \n",
      " 18  parks_nearest         23607 non-null  float32       \n",
      " 19  ponds_around3000      23607 non-null  float64       \n",
      " 20  ponds_nearest         23607 non-null  float64       \n",
      " 21  days_exposition       20428 non-null  float32       \n",
      "dtypes: bool(3), datetime64[ns](1), float32(5), float64(6), int32(6), object(1)\n",
      "memory usage: 2.7+ MB\n"
     ]
    }
   ],
   "source": [
    "# меняем тип данных\n",
    "for col in ['total_images','rooms','floor','balcony','floors_total','last_price']:\n",
    "    data[col]=data[col].astype('int32')\n",
    "for col in ['total_area','ceiling_height','kitchen_area','parks_nearest','days_exposition']:\n",
    "    data[col]=data[col].astype('float32')    \n",
    "data.info()"
   ]
  },
  {
   "cell_type": "code",
   "execution_count": 10,
   "metadata": {},
   "outputs": [],
   "source": [
    "#изучаем уникальные названия в столбце locality_name,меняем дубликаты на пропуски\n",
    "data['locality_name'].unique()\n",
    "def func_name(locality_name):\n",
    "    up_name = []\n",
    "    for word in locality_name.split():\n",
    "        for w in word:\n",
    "            if w.isupper():\n",
    "                up_name.append(word)\n",
    "                break\n",
    "    return ' '.join(up_name)\n",
    "data['locality_name']=data['locality_name'].apply(func_name)"
   ]
  },
  {
   "cell_type": "markdown",
   "metadata": {},
   "source": [
    "Используем функцию"
   ]
  },
  {
   "cell_type": "code",
   "execution_count": 11,
   "metadata": {},
   "outputs": [
    {
     "data": {
      "text/plain": [
       "array(['Санкт-Петербург', 'Шушары', 'Янино-1', 'Парголово', 'Мурино',\n",
       "       'Ломоносов', 'Сертолово', 'Петергоф', 'Пушкин', 'Кудрово',\n",
       "       'Коммунар', 'Колпино', 'Красный Бор', 'Гатчина', 'Фёдоровское',\n",
       "       'Выборг', 'Кронштадт', 'Кировск', 'Новое Девяткино',\n",
       "       'Металлострой', 'Лебяжье', 'Сиверский', 'Молодцово',\n",
       "       'Кузьмоловский', 'Новая Ропша', 'Павловск', 'Пикколово',\n",
       "       'Всеволожск', 'Волхов', 'Кингисепп', 'Приозерск', 'Сестрорецк',\n",
       "       'Куттузи', 'Аннино', 'Ефимовский', 'Плодовое', 'Заклинье',\n",
       "       'Торковичи', 'Первомайское', 'Красное Село', 'Понтонный',\n",
       "       'Сясьстрой', 'Старая', 'Лесколово', 'Новый Свет', 'Сланцы',\n",
       "       'Путилово', 'Ивангород', 'Шлиссельбург', 'Никольское',\n",
       "       'Зеленогорск', 'Сосновый Бор', 'Оржицы', 'Кальтино', 'Романовка',\n",
       "       'Бугры', 'Рощино', 'Кириши', 'Луга', 'Волосово', 'Отрадное',\n",
       "       'Павлово', 'Оредеж', 'Копорье', 'Молодёжное', 'Тихвин', 'Победа',\n",
       "       'Нурма', 'Синявино', 'Тосно', 'Стрельна', 'Бокситогорск',\n",
       "       'Александровская', 'Лопухинка', 'Пикалёво', 'Терволово',\n",
       "       'Советский', 'Подпорожье', 'Петровское', 'Токсово', 'Сельцо',\n",
       "       'Вырица', 'Кипень', 'Келози', 'Вартемяги', 'Тельмана',\n",
       "       'Севастьяново', 'Большая Ижора', 'Агалатово', 'Новогорелово',\n",
       "       'Лесогорский', 'Лаголово', 'Цвелодубово', 'Рахья', 'Белогорка',\n",
       "       'Заводской', 'Новоселье', 'Большие Колпаны', 'Горбунки', 'Батово',\n",
       "       'Заневка', 'Иссад', 'Приморск', 'Мистолово', 'Новая Ладога',\n",
       "       'Зимитицы', 'Барышево', 'Разметелево', 'Свердлова', 'Пеники',\n",
       "       'Рябово', 'Пудомяги', 'Корнево', 'Низино', 'Бегуницы', 'Поляны',\n",
       "       'Мга', 'Елизаветино', 'Кузнечное', 'Колтуши', 'Запорожское',\n",
       "       'Гостилицы', 'Малое Карлино', 'Мичуринское', 'Морозова',\n",
       "       'Песочный', 'Сосново', 'Аро', 'Ильичёво', 'Тайцы', 'Малое Верево',\n",
       "       'Извара', 'Вещево', 'Паша', 'Калитино', 'Ульяновка', 'Чудской Бор',\n",
       "       'Дубровка', 'Мины', 'Войсковицы', 'Коркино', 'Ропша',\n",
       "       'Приладожский', 'Щеглово', 'Гаврилово', 'Лодейное Поле',\n",
       "       'Рабитицы', 'Никольский', 'Кузьмолово', 'Малые Колпаны',\n",
       "       'Петро-Славянка', 'Назия', 'Репино', 'Углово', 'Старая Малукса',\n",
       "       'Меньково', 'Старые Бегуницы', 'Сапёрный', 'Семрино', 'Глажево',\n",
       "       'Кобринское', 'Гарболово', 'Юкки', 'Приветнинское', 'Мануйлово',\n",
       "       'Пчева', 'Цвылёво', 'Мельниково', 'Пудость', 'Усть-Луга',\n",
       "       'Светогорск', 'Любань', 'Селезнёво', 'Каменногорск', 'Кривко',\n",
       "       'Глебычево', 'Парицы', 'Жилпосёлок', 'Войскорово', 'Стеклянный',\n",
       "       'Важины', 'Мыза-Ивановка', 'Русско-Высоцкое', 'Форносово',\n",
       "       'Старая Ладога', 'Житково', 'Виллози', 'Лампово', 'Шпаньково',\n",
       "       'Лаврики', 'Сумино', 'Возрождение', 'Старосиверская', 'Кикерино',\n",
       "       'Старое Хинколово', 'Пригородный', 'Торфяное', 'Будогощь',\n",
       "       'Суходолье', 'Красная Долина', 'Хапо-Ое', 'Дружная Горка',\n",
       "       'Лисий Нос', 'Яльгелево', 'Рождествено', 'Старополье', 'Левашово',\n",
       "       'Сяськелево', 'Камышовка', 'Лесная Поляна', 'Хязельки',\n",
       "       'Жилгородок', 'Ялгино', 'Новый Учхоз', 'Гончарово', 'Почап',\n",
       "       'Сапёрное', 'Платформа', 'Каложицы', 'Фалилеево', 'Пельгора',\n",
       "       'Торошковичи', 'Белоостров', 'Алексеевка', 'Серебрянский',\n",
       "       'Лукаши', 'Тарасово', 'Кингисеппский', 'Ушаки', 'Котлы', 'Сижно',\n",
       "       'Торосово', 'Форт Красная Горка', 'Новолисино', 'Громово',\n",
       "       'Глинка', 'Старая Пустошь', 'Коммунары', 'Починок', 'Вознесенье',\n",
       "       'Разбегаево', 'Гладкое', 'Тёсово-4', 'Бор', 'Коробицыно',\n",
       "       'Большая Вруда', 'Курковицы', 'Кобралово', 'Суоранда',\n",
       "       'Кондратьево', 'Счастье', 'Реброво', 'Тойворово', 'Семиозерье',\n",
       "       'Лесное', 'Совхозный', 'Ленинское', 'Суйда', 'Нижние Осельки',\n",
       "       'Свирь', 'Перово', 'Высоцк', 'Шум', 'Котельский', 'Лужайка',\n",
       "       'Большая Пустомержа', 'Красносельское', 'Вахнова Кара', 'Пижма',\n",
       "       'Кивеннапа Север', 'Ромашки', 'Каськово', 'Куровицы', 'Плоское',\n",
       "       'Кирпичное', 'Ям-Тесово', 'Раздолье', 'Терпилицы', 'Шугозеро',\n",
       "       'Ваганово', 'Пушное', 'Садко', 'Усть-Ижора', 'Выскатка',\n",
       "       'Свирьстрой', 'Кисельня', 'Трубников Бор', 'Высокоключевой',\n",
       "       'Пансионат Зелёный Бор', 'Ненимяки', 'Снегирёвка', 'Рапполово',\n",
       "       'Пустынка', 'Большой Сабск', 'Русско', 'Лупполово',\n",
       "       'Большое Рейзино', 'Малая Романовка', 'Дружноселье', 'Пчевжа',\n",
       "       'Володарское', 'Нижняя', 'Тихковицы', 'Борисова Грива',\n",
       "       'Дзержинского'], dtype=object)"
      ]
     },
     "execution_count": 11,
     "metadata": {},
     "output_type": "execute_result"
    }
   ],
   "source": [
    "# проверяем столбей, на дубликаты\n",
    "data['locality_name'].unique()\n"
   ]
  },
  {
   "cell_type": "code",
   "execution_count": 12,
   "metadata": {},
   "outputs": [
    {
     "data": {
      "image/png": "[encoded data removed]",
      "text/plain": [
       "<Figure size 1080x360 with 1 Axes>"
      ]
     },
     "metadata": {
      "needs_background": "light"
     },
     "output_type": "display_data"
    },
    {
     "data": {
      "image/png": "[encoded data removed]",
      "text/plain": [
       "<Figure size 1080x360 with 1 Axes>"
      ]
     },
     "metadata": {
      "needs_background": "light"
     },
     "output_type": "display_data"
    },
    {
     "data": {
      "image/png": "[encoded data removed]",
      "text/plain": [
       "<Figure size 1080x360 with 1 Axes>"
      ]
     },
     "metadata": {
      "needs_background": "light"
     },
     "output_type": "display_data"
    },
    {
     "data": {
      "image/png": "[encoded data removed]",
      "text/plain": [
       "<Figure size 1080x360 with 1 Axes>"
      ]
     },
     "metadata": {
      "needs_background": "light"
     },
     "output_type": "display_data"
    },
    {
     "data": {
      "image/png": "[encoded data removed]",
      "text/plain": [
       "<Figure size 1080x360 with 1 Axes>"
      ]
     },
     "metadata": {
      "needs_background": "light"
     },
     "output_type": "display_data"
    }
   ],
   "source": [
    "# проверяем редкие и выбивающиеся значения в столбцах, в которых это нам интересно\n",
    "data.plot(x='floor',y='ceiling_height',kind='scatter',style='-',figsize=(15,5)); \n",
    "data.plot(x='floor',y='total_area',kind='scatter',style='-',figsize=(15,5)); \n",
    "data.plot(x='floor',y='rooms',kind='scatter',style='-',figsize=(15,5)); \n",
    "data.plot(x='rooms',kind='scatter',y='floors_total',style='-',figsize=(15,5)); \n",
    "data.plot(x='total_area',kind='scatter',y='living_area',style='-',figsize=(15,5)); \n",
    "# видим, что выбросы есть, далее будем избавляться от них\n"
   ]
  },
  {
   "cell_type": "code",
   "execution_count": 13,
   "metadata": {},
   "outputs": [
    {
     "data": {
      "text/plain": [
       "count    23591.000000\n",
       "mean         2.694745\n",
       "std          0.222684\n",
       "min          2.000000\n",
       "25%          2.600000\n",
       "50%          2.650000\n",
       "75%          2.700000\n",
       "max         10.000000\n",
       "Name: ceiling_height, dtype: float64"
      ]
     },
     "execution_count": 13,
     "metadata": {},
     "output_type": "execute_result"
    }
   ],
   "source": [
    "#меняем аномально высокие данные на корректные\n",
    "data.loc[data['ceiling_height']>5,'ceiling_height']=data.loc[data['ceiling_height']>5,'ceiling_height']/10\n",
    "data.loc[data['ceiling_height']<2,'ceiling_height']=data.loc[data['ceiling_height']==0,'ceiling_height']\n",
    "data['ceiling_height'].describe()\n"
   ]
  },
  {
   "cell_type": "code",
   "execution_count": 14,
   "metadata": {
    "scrolled": false
   },
   "outputs": [
    {
     "data": {
      "text/plain": [
       "count    23606.000000\n",
       "mean         2.069516\n",
       "std          1.073312\n",
       "min          0.000000\n",
       "25%          1.000000\n",
       "50%          2.000000\n",
       "75%          3.000000\n",
       "max         16.000000\n",
       "Name: rooms, dtype: float64"
      ]
     },
     "execution_count": 14,
     "metadata": {},
     "output_type": "execute_result"
    }
   ],
   "source": [
    "data.loc[data['rooms']>18,'rooms']=data.loc[data['rooms']==0,'rooms']\n",
    "data['rooms'].describe()    \n"
   ]
  },
  {
   "cell_type": "code",
   "execution_count": 15,
   "metadata": {
    "scrolled": true
   },
   "outputs": [
    {
     "data": {
      "text/plain": [
       "count    23584.000000\n",
       "mean        59.881054\n",
       "std         32.625156\n",
       "min         12.000000\n",
       "25%         40.000000\n",
       "50%         52.000000\n",
       "75%         69.599998\n",
       "max        400.000000\n",
       "Name: total_area, dtype: float64"
      ]
     },
     "execution_count": 15,
     "metadata": {},
     "output_type": "execute_result"
    }
   ],
   "source": [
    "data.loc[data['total_area']>400,'total_area']=data.loc[data['total_area']==0,'total_area']\n",
    "data['total_area'].describe()    \n"
   ]
  },
  {
   "cell_type": "code",
   "execution_count": 16,
   "metadata": {
    "scrolled": true
   },
   "outputs": [
    {
     "data": {
      "text/plain": [
       "count    20268.000000\n",
       "mean        36.509686\n",
       "std         17.635506\n",
       "min         17.010000\n",
       "25%         26.800000\n",
       "50%         31.400000\n",
       "75%         43.200000\n",
       "max        150.000000\n",
       "Name: living_area, dtype: float64"
      ]
     },
     "execution_count": 16,
     "metadata": {},
     "output_type": "execute_result"
    }
   ],
   "source": [
    "data.loc[data['living_area']<=17,'living_area']=data.loc[data['living_area']==0,'living_area']\n",
    "data.loc[data['living_area']>150,'living_area']=data.loc[data['living_area']==0,'living_area']\n",
    "data['living_area'].describe()    "
   ]
  },
  {
   "cell_type": "code",
   "execution_count": 17,
   "metadata": {},
   "outputs": [
    {
     "data": {
      "text/plain": [
       "count    2.360600e+04\n",
       "mean     6.541340e+06\n",
       "std      1.090321e+07\n",
       "min      4.300000e+05\n",
       "25%      3.400000e+06\n",
       "50%      4.650000e+06\n",
       "75%      6.799000e+06\n",
       "max      7.630000e+08\n",
       "Name: last_price, dtype: float64"
      ]
     },
     "execution_count": 17,
     "metadata": {},
     "output_type": "execute_result"
    }
   ],
   "source": [
    "data.loc[data['last_price']<=12190,'last_price']=data.loc[data['last_price']==0,'last_price']\n",
    "data['last_price'].describe()    "
   ]
  },
  {
   "cell_type": "markdown",
   "metadata": {},
   "source": [
    "В ходе преодобрабоки данных:\n",
    "Были заполнены значемые строки для гипотез.\n",
    "Было выполнено удаление значений, относящиеся к мошенническим, и тех значимых, пустоты которых не возможно было заполнить.\n",
    "Была произведена смена типов данных.\n",
    "Были найдены и подкорректированы выбросы в данных."
   ]
  },
  {
   "cell_type": "code",
   "execution_count": 51,
   "metadata": {
    "scrolled": true
   },
   "outputs": [
    {
     "data": {
      "text/html": [
       "<style  type=\"text/css\" >\n",
       "</style><table id=\"T_0e330_\" ><thead>    <tr>        <th class=\"blank level0\" ></th>        <th class=\"col_heading level0 col0\" >rooms</th>        <th class=\"col_heading level0 col1\" >total_area</th>        <th class=\"col_heading level0 col2\" >ceiling_height</th>        <th class=\"col_heading level0 col3\" >days_exposition</th>        <th class=\"col_heading level0 col4\" >last_price</th>        <th class=\"col_heading level0 col5\" >living_area</th>        <th class=\"col_heading level0 col6\" >kitchen_area</th>        <th class=\"col_heading level0 col7\" >floor</th>        <th class=\"col_heading level0 col8\" >floors_total</th>    </tr></thead><tbody>\n",
       "                <tr>\n",
       "                        <th id=\"T_0e330_level0_row0\" class=\"row_heading level0 row0\" >count</th>\n",
       "                        <td id=\"T_0e330_row0_col0\" class=\"data row0 col0\" >23,606.00</td>\n",
       "                        <td id=\"T_0e330_row0_col1\" class=\"data row0 col1\" >23,584.00</td>\n",
       "                        <td id=\"T_0e330_row0_col2\" class=\"data row0 col2\" >23,591.00</td>\n",
       "                        <td id=\"T_0e330_row0_col3\" class=\"data row0 col3\" >20,428.00</td>\n",
       "                        <td id=\"T_0e330_row0_col4\" class=\"data row0 col4\" >23,606.00</td>\n",
       "                        <td id=\"T_0e330_row0_col5\" class=\"data row0 col5\" >20,268.00</td>\n",
       "                        <td id=\"T_0e330_row0_col6\" class=\"data row0 col6\" >23,607.00</td>\n",
       "                        <td id=\"T_0e330_row0_col7\" class=\"data row0 col7\" >23,607.00</td>\n",
       "                        <td id=\"T_0e330_row0_col8\" class=\"data row0 col8\" >23,607.00</td>\n",
       "            </tr>\n",
       "            <tr>\n",
       "                        <th id=\"T_0e330_level0_row1\" class=\"row_heading level0 row1\" >min</th>\n",
       "                        <td id=\"T_0e330_row1_col0\" class=\"data row1 col0\" >0.00</td>\n",
       "                        <td id=\"T_0e330_row1_col1\" class=\"data row1 col1\" >12.00</td>\n",
       "                        <td id=\"T_0e330_row1_col2\" class=\"data row1 col2\" >2.00</td>\n",
       "                        <td id=\"T_0e330_row1_col3\" class=\"data row1 col3\" >1.00</td>\n",
       "                        <td id=\"T_0e330_row1_col4\" class=\"data row1 col4\" >430,000.00</td>\n",
       "                        <td id=\"T_0e330_row1_col5\" class=\"data row1 col5\" >17.01</td>\n",
       "                        <td id=\"T_0e330_row1_col6\" class=\"data row1 col6\" >0.00</td>\n",
       "                        <td id=\"T_0e330_row1_col7\" class=\"data row1 col7\" >1.00</td>\n",
       "                        <td id=\"T_0e330_row1_col8\" class=\"data row1 col8\" >1.00</td>\n",
       "            </tr>\n",
       "            <tr>\n",
       "                        <th id=\"T_0e330_level0_row2\" class=\"row_heading level0 row2\" >max</th>\n",
       "                        <td id=\"T_0e330_row2_col0\" class=\"data row2 col0\" >16.00</td>\n",
       "                        <td id=\"T_0e330_row2_col1\" class=\"data row2 col1\" >400.00</td>\n",
       "                        <td id=\"T_0e330_row2_col2\" class=\"data row2 col2\" >10.00</td>\n",
       "                        <td id=\"T_0e330_row2_col3\" class=\"data row2 col3\" >1,580.00</td>\n",
       "                        <td id=\"T_0e330_row2_col4\" class=\"data row2 col4\" >763,000,000.00</td>\n",
       "                        <td id=\"T_0e330_row2_col5\" class=\"data row2 col5\" >150.00</td>\n",
       "                        <td id=\"T_0e330_row2_col6\" class=\"data row2 col6\" >230.00</td>\n",
       "                        <td id=\"T_0e330_row2_col7\" class=\"data row2 col7\" >30.00</td>\n",
       "                        <td id=\"T_0e330_row2_col8\" class=\"data row2 col8\" >60.00</td>\n",
       "            </tr>\n",
       "    </tbody></table>"
      ],
      "text/plain": [
       "<pandas.io.formats.style.Styler at 0x7f0979ce48b0>"
      ]
     },
     "execution_count": 51,
     "metadata": {},
     "output_type": "execute_result"
    }
   ],
   "source": [
    "###### check\n",
    "\n",
    "# Показатели о кол-ве объявлений в датасете, минимальных и максимальных показателях \n",
    "# в выбранных параметрах о продаже квартир\n",
    "# сырые данные\n",
    "\n",
    "(\n",
    "    data[['rooms', 'total_area', 'ceiling_height', 'days_exposition', 'last_price', 'living_area',  'kitchen_area', 'floor',\n",
    "       'floors_total']]\n",
    "    .apply (['count', 'min', 'max'])   \n",
    "    .style.format(\"{:,.2f}\")\n",
    ")"
   ]
  },
  {
   "cell_type": "markdown",
   "metadata": {},
   "source": [
    "### Посчитайте и добавьте в таблицу новые столбцы"
   ]
  },
  {
   "cell_type": "code",
   "execution_count": 19,
   "metadata": {},
   "outputs": [],
   "source": [
    "#посчитаем цену квадратного метра\n",
    "data['price_per_meter'] = data['last_price'] / data['total_area']\n",
    "\n",
    "#создаю столбец дня недели\n",
    "data['weekday_exposition'] = data['first_day_exposition'].dt.weekday\n",
    "\n",
    "#создаю столбец месяца\n",
    "data['month_exposition'] = data['first_day_exposition'].dt.month\n",
    "\n",
    "#создаю столбец года\n",
    "data['year_exposition'] = data['first_day_exposition'].dt.year\n",
    "\n",
    "\n",
    "\n"
   ]
  },
  {
   "cell_type": "code",
   "execution_count": 20,
   "metadata": {
    "scrolled": true
   },
   "outputs": [
    {
     "data": {
      "text/plain": [
       "другой       17342\n",
       "последний     3333\n",
       "первый        2911\n",
       "Name: floor_category, dtype: int64"
      ]
     },
     "execution_count": 20,
     "metadata": {},
     "output_type": "execute_result"
    }
   ],
   "source": [
    "\n",
    "#напишем функцию категоризации по этажам, используя метод apply применимо к каждой строке датафрейма через axis = 1\n",
    "def floor_category(row):\n",
    "    floors_total = row['floors_total']\n",
    "    floor = row['floor']\n",
    "    if floor <= 1:\n",
    "        return 'первый'\n",
    "    elif floor == floors_total:\n",
    "        return 'последний'\n",
    "    elif 1 < floor < floors_total:\n",
    "        return 'другой'\n",
    "    \n",
    "#категоризуем этажи с помощью функции  \n",
    "data['floor_category'] = data.apply(floor_category, axis = 1)\n",
    "data['floor_category'].value_counts() "
   ]
  },
  {
   "cell_type": "markdown",
   "metadata": {},
   "source": [
    "<div class=\"alert alert-warning\", style=\"border:solid coral 3px; padding: 20px\">\n",
    "<font size=\"4\", color = \"DimGrey\"><b>⚠️ Комментарий ревьюера</b></font>\n",
    "    <br /> \n",
    "    <font size=\"3\", color = \"black\">\n",
    "<br />Функция хорошая, стоит учесть крайние условия: нулевые и отрицательные значения"
   ]
  },
  {
   "cell_type": "code",
   "execution_count": 21,
   "metadata": {},
   "outputs": [
    {
     "data": {
      "text/plain": [
       "0        16\n",
       "1        18\n",
       "2        13\n",
       "3         6\n",
       "4         8\n",
       "         ..\n",
       "23694     4\n",
       "23695     0\n",
       "23696     0\n",
       "23697    10\n",
       "23698     0\n",
       "Name: cityCenters_nearest_km, Length: 23607, dtype: int32"
      ]
     },
     "execution_count": 21,
     "metadata": {},
     "output_type": "execute_result"
    }
   ],
   "source": [
    "#переводим столбец расстояние до центра города в километры\n",
    "data['cityCenters_nearest_km']= data['cityCenters_nearest']/1000\n",
    "data['cityCenters_nearest_km'].astype('int32')\n",
    "\n",
    "\n"
   ]
  },
  {
   "cell_type": "markdown",
   "metadata": {},
   "source": [
    "Все данные для гипотезы подготовлены"
   ]
  },
  {
   "cell_type": "markdown",
   "metadata": {},
   "source": [
    "### Проведите исследовательский анализ данных"
   ]
  },
  {
   "cell_type": "markdown",
   "metadata": {},
   "source": [
    "Построим гистограммы для следующих данных: площадь общая, жилая и площадь кухни, цена, число комнат, высота потолков, этаж квартиры,тип этажа квартиры («первый», «последний», «другой»);\n",
    "общее количество этажей в доме;расстояние до центра города в метрах;расстояние до ближайшего аэропорта;\n",
    "расстояние до ближайшего парка;день и месяц публикации объявления"
   ]
  },
  {
   "cell_type": "code",
   "execution_count": 22,
   "metadata": {
    "scrolled": false
   },
   "outputs": [
    {
     "data": {
      "image/png": "[encoded data removed]",
      "text/plain": [
       "<Figure size 720x360 with 1 Axes>"
      ]
     },
     "metadata": {
      "needs_background": "light"
     },
     "output_type": "display_data"
    }
   ],
   "source": [
    "import matplotlib.pyplot as plt\n",
    "data['total_area'].hist(bins=70, figsize=(10,5), ec='black').set(xlabel = 'Общая площадь');\n",
    "\n"
   ]
  },
  {
   "cell_type": "markdown",
   "metadata": {},
   "source": [
    "здесь мы видим, что общая площадь квартир от 15м2 до 155 м2, наибольшее количество квартир от 45 до 50 м2"
   ]
  },
  {
   "cell_type": "code",
   "execution_count": 23,
   "metadata": {
    "scrolled": false
   },
   "outputs": [
    {
     "data": {
      "image/png": "[encoded data removed]",
      "text/plain": [
       "<Figure size 1080x360 with 1 Axes>"
      ]
     },
     "metadata": {
      "needs_background": "light"
     },
     "output_type": "display_data"
    }
   ],
   "source": [
    "data['living_area'].hist(bins=10, figsize=(15,5), ec='black').set(xlabel ='Жилая площадь');"
   ]
  },
  {
   "cell_type": "markdown",
   "metadata": {},
   "source": [
    "Исследуя жилую площадь, мы видим, что большее количество обьявлений с квартирами до 50 м2."
   ]
  },
  {
   "cell_type": "code",
   "execution_count": 24,
   "metadata": {
    "scrolled": true
   },
   "outputs": [
    {
     "data": {
      "image/png": "[encoded data removed]",
      "text/plain": [
       "<Figure size 720x360 with 1 Axes>"
      ]
     },
     "metadata": {
      "needs_background": "light"
     },
     "output_type": "display_data"
    }
   ],
   "source": [
    "data['kitchen_area'].hist(bins=70, figsize=(10,5), ec='black').set(xlabel ='Площадь кухни');"
   ]
  },
  {
   "cell_type": "markdown",
   "metadata": {},
   "source": [
    "Исследуя площадь кухни, мы видим, что большее количество обьявлений с площадью кухни около 10 м2."
   ]
  },
  {
   "cell_type": "code",
   "execution_count": 25,
   "metadata": {
    "scrolled": false
   },
   "outputs": [
    {
     "data": {
      "text/plain": [
       "count    2.360600e+04\n",
       "mean     6.541340e+06\n",
       "std      1.090321e+07\n",
       "min      4.300000e+05\n",
       "25%      3.400000e+06\n",
       "50%      4.650000e+06\n",
       "75%      6.799000e+06\n",
       "max      7.630000e+08\n",
       "Name: last_price, dtype: float64"
      ]
     },
     "execution_count": 25,
     "metadata": {},
     "output_type": "execute_result"
    },
    {
     "data": {
      "image/png": "[encoded data removed]",
      "text/plain": [
       "<Figure size 360x216 with 1 Axes>"
      ]
     },
     "metadata": {
      "needs_background": "light"
     },
     "output_type": "display_data"
    }
   ],
   "source": [
    "data.plot(y = 'last_price', kind = 'hist', bins = 100, grid=True, range = (0,15000000), figsize = (5,3)).set(xlabel ='Цена');\n",
    "data['last_price'].describe()"
   ]
  },
  {
   "cell_type": "markdown",
   "metadata": {},
   "source": [
    "Больше всех квартир находяться в районе 6000000 рублей. "
   ]
  },
  {
   "cell_type": "code",
   "execution_count": 26,
   "metadata": {},
   "outputs": [
    {
     "data": {
      "image/png": "[encoded data removed]",
      "text/plain": [
       "<Figure size 432x288 with 1 Axes>"
      ]
     },
     "metadata": {
      "needs_background": "light"
     },
     "output_type": "display_data"
    }
   ],
   "source": [
    "data['rooms'].hist(bins=16).set(xlabel ='Количество комнат');"
   ]
  },
  {
   "cell_type": "markdown",
   "metadata": {},
   "source": [
    "Здесь мы видим, что больше всего однокомнатных и двухкомнатных квартир."
   ]
  },
  {
   "cell_type": "code",
   "execution_count": 27,
   "metadata": {
    "scrolled": false
   },
   "outputs": [
    {
     "data": {
      "image/png": "[encoded data removed]",
      "text/plain": [
       "<Figure size 432x288 with 1 Axes>"
      ]
     },
     "metadata": {
      "needs_background": "light"
     },
     "output_type": "display_data"
    }
   ],
   "source": [
    "data['ceiling_height'].hist(bins=10).set(xlabel ='Высота потолков');"
   ]
  },
  {
   "cell_type": "markdown",
   "metadata": {},
   "source": [
    "Большинсnво кварnир имеют высоту от 2.5 до 2.75 м."
   ]
  },
  {
   "cell_type": "code",
   "execution_count": 28,
   "metadata": {},
   "outputs": [
    {
     "data": {
      "image/png": "[encoded data removed]",
      "text/plain": [
       "<Figure size 1152x216 with 1 Axes>"
      ]
     },
     "metadata": {
      "needs_background": "light"
     },
     "output_type": "display_data"
    },
    {
     "data": {
      "image/png": "[encoded data removed]",
      "text/plain": [
       "<Figure size 1152x360 with 1 Axes>"
      ]
     },
     "metadata": {
      "needs_background": "light"
     },
     "output_type": "display_data"
    }
   ],
   "source": [
    "# check\n",
    "# построим график значений для столбца с высотой потолков\n",
    "\n",
    "import matplotlib.pyplot as plt\n",
    "\n",
    "(\n",
    "    data['ceiling_height']\n",
    "        .sort_values()\n",
    "        .plot(y='ceiling_height', kind='hist', \n",
    "              bins=300, range=(2,4.5), grid=True, title='Высота потолков', figsize=(16,3))        \n",
    "        .set( ylabel = 'кол-во записей', xlabel = 'высота, м.')\n",
    ")\n",
    "plt.show()\n",
    "(\n",
    "    data['ceiling_height']\n",
    "        .sort_values()\n",
    "        .plot(y='ceiling_height', kind='hist', \n",
    "              bins=300, range=(2,4.5), grid=True, title='Высота потолков', figsize=(16,5))\n",
    "        .set(ylim = (0, 300), ylabel = 'кол-во записей', xlabel = 'высота, м.')\n",
    "        \n",
    ")\n",
    "plt.show()"
   ]
  },
  {
   "cell_type": "code",
   "execution_count": 29,
   "metadata": {
    "scrolled": true
   },
   "outputs": [
    {
     "data": {
      "image/png": "[encoded data removed]",
      "text/plain": [
       "<Figure size 720x360 with 1 Axes>"
      ]
     },
     "metadata": {
      "needs_background": "light"
     },
     "output_type": "display_data"
    }
   ],
   "source": [
    "data['floor'].hist(bins=30, figsize=(10,5), ec='black').set(xlabel ='Этажи');"
   ]
  },
  {
   "cell_type": "markdown",
   "metadata": {},
   "source": [
    "Большая часть вкартир располагается со 2 по 6 этаж"
   ]
  },
  {
   "cell_type": "code",
   "execution_count": 30,
   "metadata": {
    "scrolled": true
   },
   "outputs": [
    {
     "data": {
      "image/png": "[encoded data removed]",
      "text/plain": [
       "<Figure size 720x360 with 1 Axes>"
      ]
     },
     "metadata": {
      "needs_background": "light"
     },
     "output_type": "display_data"
    }
   ],
   "source": [
    "data['floor_category'].hist(bins=10, figsize=(10,5), ec='black').set(xlabel ='Категория этажа');"
   ]
  },
  {
   "cell_type": "markdown",
   "metadata": {},
   "source": [
    "Также мы можем заметить, что меньше что меньше всего квартир на первом и последних этажах."
   ]
  },
  {
   "cell_type": "code",
   "execution_count": 31,
   "metadata": {},
   "outputs": [
    {
     "data": {
      "text/plain": [
       "<AxesSubplot:>"
      ]
     },
     "execution_count": 31,
     "metadata": {},
     "output_type": "execute_result"
    },
    {
     "data": {
      "image/png": "[encoded data removed]",
      "text/plain": [
       "<Figure size 720x360 with 1 Axes>"
      ]
     },
     "metadata": {
      "needs_background": "light"
     },
     "output_type": "display_data"
    }
   ],
   "source": [
    "data['floors_total'].hist(bins=20, figsize=(10,5), ec='black')"
   ]
  },
  {
   "cell_type": "markdown",
   "metadata": {},
   "source": [
    "Мы видим что большая часть квартир находятся в домах с 3 до 18 этажами. Домов свыше 25 этажей очень мало."
   ]
  },
  {
   "cell_type": "code",
   "execution_count": 32,
   "metadata": {},
   "outputs": [
    {
     "data": {
      "text/plain": [
       "count    23607.000000\n",
       "mean     10878.680391\n",
       "std       9636.695985\n",
       "min          0.000000\n",
       "25%       2209.500000\n",
       "50%      11246.000000\n",
       "75%      15233.000000\n",
       "max      65968.000000\n",
       "Name: cityCenters_nearest, dtype: float64"
      ]
     },
     "execution_count": 32,
     "metadata": {},
     "output_type": "execute_result"
    },
    {
     "data": {
      "image/png": "[encoded data removed]",
      "text/plain": [
       "<Figure size 720x360 with 1 Axes>"
      ]
     },
     "metadata": {
      "needs_background": "light"
     },
     "output_type": "display_data"
    }
   ],
   "source": [
    "data['cityCenters_nearest'].hist(bins=10, figsize=(10,5), ec='black').set(xlabel ='Удаленность от центра');\n",
    "data['cityCenters_nearest'].describe()"
   ]
  },
  {
   "cell_type": "markdown",
   "metadata": {},
   "source": [
    "большая часть обьявлений с квартирами, находящимися до 8000 метров от центра"
   ]
  },
  {
   "cell_type": "code",
   "execution_count": 33,
   "metadata": {
    "scrolled": false
   },
   "outputs": [
    {
     "data": {
      "text/plain": [
       "count    23607.000000\n",
       "mean     22054.827763\n",
       "std      16466.055898\n",
       "min          0.000000\n",
       "25%      10143.000000\n",
       "50%      21860.000000\n",
       "75%      34331.000000\n",
       "max      84869.000000\n",
       "Name: airports_nearest, dtype: float64"
      ]
     },
     "execution_count": 33,
     "metadata": {},
     "output_type": "execute_result"
    },
    {
     "data": {
      "image/png": "[encoded data removed]",
      "text/plain": [
       "<Figure size 720x360 with 1 Axes>"
      ]
     },
     "metadata": {
      "needs_background": "light"
     },
     "output_type": "display_data"
    }
   ],
   "source": [
    "data['airports_nearest'].hist(bins=10, figsize=(10,5), ec='black').set(xlabel ='Удаленность от аэропорта');\n",
    "data['airports_nearest'].describe()"
   ]
  },
  {
   "cell_type": "markdown",
   "metadata": {},
   "source": [
    "Здесь мы видим, что квартиры больше всего находятся в 100000 и 20000 м от аэропортов"
   ]
  },
  {
   "cell_type": "code",
   "execution_count": 34,
   "metadata": {},
   "outputs": [
    {
     "data": {
      "text/plain": [
       "count    23607.000000\n",
       "mean       167.311981\n",
       "std        306.658508\n",
       "min          0.000000\n",
       "25%          0.000000\n",
       "50%          0.000000\n",
       "75%        301.000000\n",
       "max       3190.000000\n",
       "Name: parks_nearest, dtype: float64"
      ]
     },
     "execution_count": 34,
     "metadata": {},
     "output_type": "execute_result"
    },
    {
     "data": {
      "image/png": "[encoded data removed]",
      "text/plain": [
       "<Figure size 720x360 with 1 Axes>"
      ]
     },
     "metadata": {
      "needs_background": "light"
     },
     "output_type": "display_data"
    }
   ],
   "source": [
    "data['parks_nearest'].hist(bins=10, figsize=(10,5), ec='black').set(xlabel ='Удаленность от парков');\n",
    "data['parks_nearest'].describe()"
   ]
  },
  {
   "cell_type": "markdown",
   "metadata": {},
   "source": [
    "Видим, что много квартир у парков."
   ]
  },
  {
   "cell_type": "code",
   "execution_count": 35,
   "metadata": {},
   "outputs": [
    {
     "data": {
      "image/png": "[encoded data removed]",
      "text/plain": [
       "<Figure size 720x360 with 1 Axes>"
      ]
     },
     "metadata": {
      "needs_background": "light"
     },
     "output_type": "display_data"
    }
   ],
   "source": [
    "data['weekday_exposition'].hist(bins=70, figsize=(10,5), ec='black').set(xlabel ='День недели');"
   ]
  },
  {
   "cell_type": "markdown",
   "metadata": {},
   "source": [
    "Меньше всего обьявлений выставляется в выходные"
   ]
  },
  {
   "cell_type": "code",
   "execution_count": 36,
   "metadata": {},
   "outputs": [
    {
     "data": {
      "image/png": "[encoded data removed]",
      "text/plain": [
       "<Figure size 720x360 with 1 Axes>"
      ]
     },
     "metadata": {
      "needs_background": "light"
     },
     "output_type": "display_data"
    }
   ],
   "source": [
    "data['month_exposition'].hist(bins=70, figsize=(10,5), ec='black').set(xlabel ='Месяц');"
   ]
  },
  {
   "cell_type": "markdown",
   "metadata": {},
   "source": [
    "Меньше всего обьявлений выставляется в январе и в мае, предполагаю, что изза большого количества праздничных дней"
   ]
  },
  {
   "cell_type": "markdown",
   "metadata": {},
   "source": [
    "#### Скорость продажи"
   ]
  },
  {
   "cell_type": "code",
   "execution_count": 37,
   "metadata": {},
   "outputs": [
    {
     "data": {
      "text/plain": [
       "count    20428.000000\n",
       "mean       180.754105\n",
       "std        219.800400\n",
       "min          1.000000\n",
       "25%         45.000000\n",
       "50%         95.000000\n",
       "75%        231.000000\n",
       "max       1580.000000\n",
       "Name: days_exposition, dtype: float64"
      ]
     },
     "execution_count": 37,
     "metadata": {},
     "output_type": "execute_result"
    },
    {
     "data": {
      "image/png": "[encoded data removed]",
      "text/plain": [
       "<Figure size 720x360 with 1 Axes>"
      ]
     },
     "metadata": {
      "needs_background": "light"
     },
     "output_type": "display_data"
    }
   ],
   "source": [
    "# далее изучим как быстро продавались квартиры\n",
    "data['days_exposition'].hist(bins=70, figsize=(10,5), ec='black').set(xlabel ='дни продажи');\n",
    "#с помощью метода увидим среднее значение,медианное,минимально и максимально возможно\n",
    "data['days_exposition'].describe()"
   ]
  },
  {
   "cell_type": "markdown",
   "metadata": {},
   "source": [
    "Мы видим что среднее значение количества дней продажи 180 дней, медианное 95 дней. Есть значения например 1 день и 5 лет, которые возможны, но скорее всего те, что продавались 5 лет это обьявления, которые забыли закрыть, а те что продавались 1 день, мошенические.\n",
    "Я думаю что быстрой продажей можно считать 45 дней, а долгой это 231 дней. \n",
    "Зачения, которые находятся внутри наших выбивающихся значений.\n",
    "Большая часть квартир продавалась в течение первых 100 дней, есть и квартиры, которые продавались до года. Чем дальше, тем реже встречаются такие случаи."
   ]
  },
  {
   "cell_type": "code",
   "execution_count": 38,
   "metadata": {
    "scrolled": true
   },
   "outputs": [
    {
     "data": {
      "image/png": "[encoded data removed]",
      "text/plain": [
       "<Figure size 720x216 with 1 Axes>"
      ]
     },
     "metadata": {
      "needs_background": "light"
     },
     "output_type": "display_data"
    }
   ],
   "source": [
    "# Ограничим срок продажи 500 днями, чтоб убрать выбросы. Посмотрим на данные более детально:\n",
    "data.query('days_exposition<500')['days_exposition'].hist(bins=70, figsize=(10,3), ec='black');"
   ]
  },
  {
   "cell_type": "markdown",
   "metadata": {},
   "source": [
    "Здесь по прежнему видим большое количество квартир проданных спустя 100 дней, есть вероятность, что обьявления либо автоматически закрываются,но возможно это и реальные значения)"
   ]
  },
  {
   "cell_type": "code",
   "execution_count": 39,
   "metadata": {
    "scrolled": true
   },
   "outputs": [
    {
     "data": {
      "text/plain": [
       "'Корреляция Пирсона равна'"
      ]
     },
     "metadata": {},
     "output_type": "display_data"
    },
    {
     "data": {
      "text/plain": [
       "0.6248386954130137"
      ]
     },
     "metadata": {},
     "output_type": "display_data"
    },
    {
     "data": {
      "image/png": "[encoded data removed]",
      "text/plain": [
       "<Figure size 432x288 with 1 Axes>"
      ]
     },
     "metadata": {
      "needs_background": "light"
     },
     "output_type": "display_data"
    }
   ],
   "source": [
    "data.pivot_table(index='total_area',values='last_price', aggfunc='median')\n",
    "data.plot(x='last_price',y='total_area',kind='scatter',grid=True)\n",
    "display('Корреляция Пирсона равна',data['total_area'].corr(data['last_price']))\n"
   ]
  },
  {
   "cell_type": "markdown",
   "metadata": {},
   "source": [
    "Мы видим,зависимость есть, коэффициент корреляции Пирсона=0,62. Это значит, что чем больше площадь жилья, стоимость обьекта недвижимости увеличивается."
   ]
  },
  {
   "cell_type": "markdown",
   "metadata": {},
   "source": [
    "Изменила графики на тип scatter, тк мы изменили обработку данных, данных немного изменились."
   ]
  },
  {
   "cell_type": "code",
   "execution_count": 40,
   "metadata": {},
   "outputs": [
    {
     "data": {
      "text/html": [
       "<style  type=\"text/css\" >\n",
       "</style><table id=\"T_0b6a5_\" ><thead>    <tr>        <th class=\"blank level0\" ></th>        <th class=\"col_heading level0 col0\" >rooms</th>        <th class=\"col_heading level0 col1\" >total_area</th>        <th class=\"col_heading level0 col2\" >ceiling_height</th>        <th class=\"col_heading level0 col3\" >days_exposition</th>        <th class=\"col_heading level0 col4\" >last_price</th>        <th class=\"col_heading level0 col5\" >living_area</th>        <th class=\"col_heading level0 col6\" >kitchen_area</th>        <th class=\"col_heading level0 col7\" >floor</th>        <th class=\"col_heading level0 col8\" >floors_total</th>    </tr></thead><tbody>\n",
       "                <tr>\n",
       "                        <th id=\"T_0b6a5_level0_row0\" class=\"row_heading level0 row0\" >count</th>\n",
       "                        <td id=\"T_0b6a5_row0_col0\" class=\"data row0 col0\" >23,606.00</td>\n",
       "                        <td id=\"T_0b6a5_row0_col1\" class=\"data row0 col1\" >23,584.00</td>\n",
       "                        <td id=\"T_0b6a5_row0_col2\" class=\"data row0 col2\" >23,591.00</td>\n",
       "                        <td id=\"T_0b6a5_row0_col3\" class=\"data row0 col3\" >20,428.00</td>\n",
       "                        <td id=\"T_0b6a5_row0_col4\" class=\"data row0 col4\" >23,606.00</td>\n",
       "                        <td id=\"T_0b6a5_row0_col5\" class=\"data row0 col5\" >20,268.00</td>\n",
       "                        <td id=\"T_0b6a5_row0_col6\" class=\"data row0 col6\" >23,607.00</td>\n",
       "                        <td id=\"T_0b6a5_row0_col7\" class=\"data row0 col7\" >23,607.00</td>\n",
       "                        <td id=\"T_0b6a5_row0_col8\" class=\"data row0 col8\" >23,607.00</td>\n",
       "            </tr>\n",
       "            <tr>\n",
       "                        <th id=\"T_0b6a5_level0_row1\" class=\"row_heading level0 row1\" >min</th>\n",
       "                        <td id=\"T_0b6a5_row1_col0\" class=\"data row1 col0\" >0.00</td>\n",
       "                        <td id=\"T_0b6a5_row1_col1\" class=\"data row1 col1\" >12.00</td>\n",
       "                        <td id=\"T_0b6a5_row1_col2\" class=\"data row1 col2\" >2.00</td>\n",
       "                        <td id=\"T_0b6a5_row1_col3\" class=\"data row1 col3\" >1.00</td>\n",
       "                        <td id=\"T_0b6a5_row1_col4\" class=\"data row1 col4\" >430,000.00</td>\n",
       "                        <td id=\"T_0b6a5_row1_col5\" class=\"data row1 col5\" >17.01</td>\n",
       "                        <td id=\"T_0b6a5_row1_col6\" class=\"data row1 col6\" >0.00</td>\n",
       "                        <td id=\"T_0b6a5_row1_col7\" class=\"data row1 col7\" >1.00</td>\n",
       "                        <td id=\"T_0b6a5_row1_col8\" class=\"data row1 col8\" >1.00</td>\n",
       "            </tr>\n",
       "            <tr>\n",
       "                        <th id=\"T_0b6a5_level0_row2\" class=\"row_heading level0 row2\" >mean</th>\n",
       "                        <td id=\"T_0b6a5_row2_col0\" class=\"data row2 col0\" >2.07</td>\n",
       "                        <td id=\"T_0b6a5_row2_col1\" class=\"data row2 col1\" >59.88</td>\n",
       "                        <td id=\"T_0b6a5_row2_col2\" class=\"data row2 col2\" >2.69</td>\n",
       "                        <td id=\"T_0b6a5_row2_col3\" class=\"data row2 col3\" >180.75</td>\n",
       "                        <td id=\"T_0b6a5_row2_col4\" class=\"data row2 col4\" >6,541,339.52</td>\n",
       "                        <td id=\"T_0b6a5_row2_col5\" class=\"data row2 col5\" >36.51</td>\n",
       "                        <td id=\"T_0b6a5_row2_col6\" class=\"data row2 col6\" >10.75</td>\n",
       "                        <td id=\"T_0b6a5_row2_col7\" class=\"data row2 col7\" >5.88</td>\n",
       "                        <td id=\"T_0b6a5_row2_col8\" class=\"data row2 col8\" >10.67</td>\n",
       "            </tr>\n",
       "            <tr>\n",
       "                        <th id=\"T_0b6a5_level0_row3\" class=\"row_heading level0 row3\" >max</th>\n",
       "                        <td id=\"T_0b6a5_row3_col0\" class=\"data row3 col0\" >16.00</td>\n",
       "                        <td id=\"T_0b6a5_row3_col1\" class=\"data row3 col1\" >400.00</td>\n",
       "                        <td id=\"T_0b6a5_row3_col2\" class=\"data row3 col2\" >10.00</td>\n",
       "                        <td id=\"T_0b6a5_row3_col3\" class=\"data row3 col3\" >1,580.00</td>\n",
       "                        <td id=\"T_0b6a5_row3_col4\" class=\"data row3 col4\" >763,000,000.00</td>\n",
       "                        <td id=\"T_0b6a5_row3_col5\" class=\"data row3 col5\" >150.00</td>\n",
       "                        <td id=\"T_0b6a5_row3_col6\" class=\"data row3 col6\" >230.00</td>\n",
       "                        <td id=\"T_0b6a5_row3_col7\" class=\"data row3 col7\" >30.00</td>\n",
       "                        <td id=\"T_0b6a5_row3_col8\" class=\"data row3 col8\" >60.00</td>\n",
       "            </tr>\n",
       "    </tbody></table>"
      ],
      "text/plain": [
       "<pandas.io.formats.style.Styler at 0x7f0970f6d8e0>"
      ]
     },
     "execution_count": 40,
     "metadata": {},
     "output_type": "execute_result"
    }
   ],
   "source": [
    "# check\n",
    "\n",
    "# Показатели о кол-ве объявлений в датасете, минимальных и максимальных показателях \n",
    "# в выбранных параметрах о продаже квартир\n",
    "# сырые данные\n",
    "\n",
    "(\n",
    "    data[['rooms', 'total_area', 'ceiling_height', 'days_exposition', 'last_price', 'living_area',  'kitchen_area', 'floor',\n",
    "       'floors_total']]\n",
    "    .apply (['count', 'min', 'mean', 'max'])   \n",
    "    .style.format(\"{:,.2f}\")\n",
    ")"
   ]
  },
  {
   "cell_type": "code",
   "execution_count": 41,
   "metadata": {},
   "outputs": [
    {
     "data": {
      "text/plain": [
       "0.6536750579657242"
      ]
     },
     "execution_count": 41,
     "metadata": {},
     "output_type": "execute_result"
    }
   ],
   "source": [
    "# check\n",
    "df_check = pd.read_csv('/datasets/real_estate_data.csv', sep='\\t') \n",
    "df_check['total_area'].corr(df_check['last_price'])"
   ]
  },
  {
   "cell_type": "code",
   "execution_count": 42,
   "metadata": {
    "scrolled": true
   },
   "outputs": [
    {
     "data": {
      "text/plain": [
       "'Корреляция Пирсона равна'"
      ]
     },
     "metadata": {},
     "output_type": "display_data"
    },
    {
     "data": {
      "text/plain": [
       "0.3636314613912241"
      ]
     },
     "metadata": {},
     "output_type": "display_data"
    },
    {
     "data": {
      "image/png": "[encoded data removed]",
      "text/plain": [
       "<Figure size 432x288 with 1 Axes>"
      ]
     },
     "metadata": {
      "needs_background": "light"
     },
     "output_type": "display_data"
    }
   ],
   "source": [
    "data.pivot_table(index='rooms', values='last_price', aggfunc='median')\n",
    "data.plot(x='last_price',y='rooms',kind='scatter',grid=True)\n",
    "display('Корреляция Пирсона равна',data['rooms'].corr(data['last_price']))\n"
   ]
  },
  {
   "cell_type": "markdown",
   "metadata": {},
   "source": [
    "Мы видим, что зависимости практически нет."
   ]
  },
  {
   "cell_type": "code",
   "execution_count": 43,
   "metadata": {},
   "outputs": [
    {
     "data": {
      "text/plain": [
       "'Корреляция Пирсона равна'"
      ]
     },
     "metadata": {},
     "output_type": "display_data"
    },
    {
     "data": {
      "text/plain": [
       "0.4804443151394527"
      ]
     },
     "metadata": {},
     "output_type": "display_data"
    },
    {
     "data": {
      "image/png": "[encoded data removed]",
      "text/plain": [
       "<Figure size 432x288 with 1 Axes>"
      ]
     },
     "metadata": {
      "needs_background": "light"
     },
     "output_type": "display_data"
    }
   ],
   "source": [
    "data.pivot_table(index='kitchen_area', values='last_price', aggfunc='median')\n",
    "data.plot(x='last_price',y='kitchen_area',kind='scatter',grid=True)\n",
    "display('Корреляция Пирсона равна',data['kitchen_area'].corr(data['last_price']))\n"
   ]
  },
  {
   "cell_type": "code",
   "execution_count": 44,
   "metadata": {},
   "outputs": [
    {
     "data": {
      "text/plain": [
       "'Корреляция Пирсона равна'"
      ]
     },
     "metadata": {},
     "output_type": "display_data"
    },
    {
     "data": {
      "text/plain": [
       "0.516089674689898"
      ]
     },
     "metadata": {},
     "output_type": "display_data"
    },
    {
     "data": {
      "image/png": "[encoded data removed]",
      "text/plain": [
       "<Figure size 432x288 with 1 Axes>"
      ]
     },
     "metadata": {
      "needs_background": "light"
     },
     "output_type": "display_data"
    }
   ],
   "source": [
    "data.pivot_table(index='living_area', values='last_price', aggfunc='median')\n",
    "data.plot(x='last_price',y='living_area',kind='scatter',grid=True)\n",
    "display('Корреляция Пирсона равна',data['living_area'].corr(data['last_price']))"
   ]
  },
  {
   "cell_type": "markdown",
   "metadata": {},
   "source": [
    "Видим гораздо большую зависимость цены квартиры, от жилой площади и площади кухни.\n",
    "Чем больше площадь,тем выше цена."
   ]
  },
  {
   "cell_type": "code",
   "execution_count": 45,
   "metadata": {
    "scrolled": true
   },
   "outputs": [
    {
     "data": {
      "image/png": "[encoded data removed]",
      "text/plain": [
       "<Figure size 432x288 with 1 Axes>"
      ]
     },
     "metadata": {
      "needs_background": "light"
     },
     "output_type": "display_data"
    }
   ],
   "source": [
    "data.pivot_table(index='floor_category', values='last_price', aggfunc='median').plot(grid=True);"
   ]
  },
  {
   "cell_type": "markdown",
   "metadata": {},
   "source": [
    "На этом графике четко видно, что самые дешевые квартиры на первом этаже, далее идет последний этаж.\n"
   ]
  },
  {
   "cell_type": "code",
   "execution_count": 46,
   "metadata": {
    "scrolled": false
   },
   "outputs": [
    {
     "data": {
      "image/png": "[encoded data removed]",
      "text/plain": [
       "<Figure size 432x288 with 1 Axes>"
      ]
     },
     "metadata": {
      "needs_background": "light"
     },
     "output_type": "display_data"
    }
   ],
   "source": [
    "data.pivot_table(index='weekday_exposition', values='last_price', aggfunc='median').plot(grid=True);"
   ]
  },
  {
   "cell_type": "markdown",
   "metadata": {},
   "source": [
    "Здесь мы можем заметить, что цены на вкартиры, которые выставили на выходные ниже, чем в начале и середине недели"
   ]
  },
  {
   "cell_type": "code",
   "execution_count": 47,
   "metadata": {
    "scrolled": true
   },
   "outputs": [
    {
     "data": {
      "image/png": "[encoded data removed]",
      "text/plain": [
       "<Figure size 432x288 with 1 Axes>"
      ]
     },
     "metadata": {
      "needs_background": "light"
     },
     "output_type": "display_data"
    }
   ],
   "source": [
    "data.pivot_table(index='month_exposition', values='last_price', aggfunc='median').plot(grid=True);"
   ]
  },
  {
   "cell_type": "markdown",
   "metadata": {},
   "source": [
    "Здесь мы видим, что в летом, стоимость квартир дешевле, очевидно, что спрос на квартиры в летние месяцы гораздо меньше."
   ]
  },
  {
   "cell_type": "code",
   "execution_count": 48,
   "metadata": {
    "scrolled": true
   },
   "outputs": [
    {
     "data": {
      "image/png": "[encoded data removed]",
      "text/plain": [
       "<Figure size 432x288 with 1 Axes>"
      ]
     },
     "metadata": {
      "needs_background": "light"
     },
     "output_type": "display_data"
    }
   ],
   "source": [
    "data.pivot_table(index='year_exposition', values='last_price', aggfunc='median').plot(grid=True);"
   ]
  },
  {
   "cell_type": "markdown",
   "metadata": {},
   "source": [
    "В этом графике мы можем наблюдать всплеск цен в 2014 году, далее все шло более менее стабильно, но затем, в 2019 году снова пошел рост."
   ]
  },
  {
   "cell_type": "code",
   "execution_count": 49,
   "metadata": {
    "scrolled": false
   },
   "outputs": [
    {
     "data": {
      "text/html": [
       "<div>\n",
       "<style scoped>\n",
       "    .dataframe tbody tr th:only-of-type {\n",
       "        vertical-align: middle;\n",
       "    }\n",
       "\n",
       "    .dataframe tbody tr th {\n",
       "        vertical-align: top;\n",
       "    }\n",
       "\n",
       "    .dataframe thead th {\n",
       "        text-align: right;\n",
       "    }\n",
       "</style>\n",
       "<table border=\"1\" class=\"dataframe\">\n",
       "  <thead>\n",
       "    <tr style=\"text-align: right;\">\n",
       "      <th></th>\n",
       "      <th>Город</th>\n",
       "      <th>Средняя цена за кв.м., тыс. руб.</th>\n",
       "      <th>Средняя цена за квартиру, тыс. руб.</th>\n",
       "    </tr>\n",
       "  </thead>\n",
       "  <tbody>\n",
       "    <tr>\n",
       "      <th>0</th>\n",
       "      <td>Санкт-Петербург</td>\n",
       "      <td>104805.92</td>\n",
       "      <td>5500000.0</td>\n",
       "    </tr>\n",
       "    <tr>\n",
       "      <th>5</th>\n",
       "      <td>Пушкин</td>\n",
       "      <td>100000.00</td>\n",
       "      <td>5180000.0</td>\n",
       "    </tr>\n",
       "    <tr>\n",
       "      <th>2</th>\n",
       "      <td>Кудрово</td>\n",
       "      <td>95675.47</td>\n",
       "      <td>3890000.0</td>\n",
       "    </tr>\n",
       "    <tr>\n",
       "      <th>7</th>\n",
       "      <td>Парголово</td>\n",
       "      <td>91642.86</td>\n",
       "      <td>4100000.0</td>\n",
       "    </tr>\n",
       "    <tr>\n",
       "      <th>1</th>\n",
       "      <td>Мурино</td>\n",
       "      <td>86175.64</td>\n",
       "      <td>3400000.0</td>\n",
       "    </tr>\n",
       "    <tr>\n",
       "      <th>3</th>\n",
       "      <td>Шушары</td>\n",
       "      <td>76876.17</td>\n",
       "      <td>3950000.0</td>\n",
       "    </tr>\n",
       "    <tr>\n",
       "      <th>6</th>\n",
       "      <td>Колпино</td>\n",
       "      <td>74723.75</td>\n",
       "      <td>3600000.0</td>\n",
       "    </tr>\n",
       "    <tr>\n",
       "      <th>8</th>\n",
       "      <td>Гатчина</td>\n",
       "      <td>67796.61</td>\n",
       "      <td>3100000.0</td>\n",
       "    </tr>\n",
       "    <tr>\n",
       "      <th>4</th>\n",
       "      <td>Всеволожск</td>\n",
       "      <td>65789.47</td>\n",
       "      <td>3450000.0</td>\n",
       "    </tr>\n",
       "    <tr>\n",
       "      <th>9</th>\n",
       "      <td>Выборг</td>\n",
       "      <td>58158.32</td>\n",
       "      <td>2897000.0</td>\n",
       "    </tr>\n",
       "  </tbody>\n",
       "</table>\n",
       "</div>"
      ],
      "text/plain": [
       "             Город  Средняя цена за кв.м., тыс. руб.  \\\n",
       "0  Санкт-Петербург                         104805.92   \n",
       "5           Пушкин                         100000.00   \n",
       "2          Кудрово                          95675.47   \n",
       "7        Парголово                          91642.86   \n",
       "1           Мурино                          86175.64   \n",
       "3           Шушары                          76876.17   \n",
       "6          Колпино                          74723.75   \n",
       "8          Гатчина                          67796.61   \n",
       "4       Всеволожск                          65789.47   \n",
       "9           Выборг                          58158.32   \n",
       "\n",
       "   Средняя цена за квартиру, тыс. руб.  \n",
       "0                            5500000.0  \n",
       "5                            5180000.0  \n",
       "2                            3890000.0  \n",
       "7                            4100000.0  \n",
       "1                            3400000.0  \n",
       "3                            3950000.0  \n",
       "6                            3600000.0  \n",
       "8                            3100000.0  \n",
       "4                            3450000.0  \n",
       "9                            2897000.0  "
      ]
     },
     "execution_count": 49,
     "metadata": {},
     "output_type": "execute_result"
    }
   ],
   "source": [
    "top10 = data['locality_name'].value_counts().index.tolist()[:10]\n",
    "mean10_m = [data[data['locality_name'] == city]['price_per_meter'].median().round(2) for city in top10]\n",
    "mean10_prices = [data[data['locality_name'] == city]['last_price'].median() for city in top10]\n",
    "frame = {'Город': top10, 'Средняя цена за кв.м., тыс. руб.': mean10_m, 'Средняя цена за квартиру, тыс. руб.': mean10_prices}\n",
    "dataframe = pd.DataFrame(frame).sort_values(by='Средняя цена за кв.м., тыс. руб.', ascending=False)\n",
    "dataframe"
   ]
  },
  {
   "cell_type": "markdown",
   "metadata": {},
   "source": [
    "Как и предполагалось, самые дорогие квартиры  в Санкт-Петербурге и парковом городе Пушкине. Чем дальше от города, тем дешевле. В Выборге средняя цена за квадратный метр в 2 раз ниже, чем в Санкт-Петербурге."
   ]
  },
  {
   "cell_type": "markdown",
   "metadata": {},
   "source": []
  },
  {
   "cell_type": "code",
   "execution_count": 50,
   "metadata": {
    "scrolled": false
   },
   "outputs": [
    {
     "data": {
      "text/html": [
       "<div>\n",
       "<style scoped>\n",
       "    .dataframe tbody tr th:only-of-type {\n",
       "        vertical-align: middle;\n",
       "    }\n",
       "\n",
       "    .dataframe tbody tr th {\n",
       "        vertical-align: top;\n",
       "    }\n",
       "\n",
       "    .dataframe thead th {\n",
       "        text-align: right;\n",
       "    }\n",
       "</style>\n",
       "<table border=\"1\" class=\"dataframe\">\n",
       "  <thead>\n",
       "    <tr style=\"text-align: right;\">\n",
       "      <th></th>\n",
       "      <th>price_per_meter</th>\n",
       "    </tr>\n",
       "    <tr>\n",
       "      <th>cityCenters_nearest_km</th>\n",
       "      <th></th>\n",
       "    </tr>\n",
       "  </thead>\n",
       "  <tbody>\n",
       "    <tr>\n",
       "      <th>0</th>\n",
       "      <td>174015.535195</td>\n",
       "    </tr>\n",
       "    <tr>\n",
       "      <th>1</th>\n",
       "      <td>166896.190618</td>\n",
       "    </tr>\n",
       "    <tr>\n",
       "      <th>2</th>\n",
       "      <td>143871.731983</td>\n",
       "    </tr>\n",
       "    <tr>\n",
       "      <th>3</th>\n",
       "      <td>129416.344572</td>\n",
       "    </tr>\n",
       "    <tr>\n",
       "      <th>4</th>\n",
       "      <td>137240.112687</td>\n",
       "    </tr>\n",
       "    <tr>\n",
       "      <th>5</th>\n",
       "      <td>145556.119849</td>\n",
       "    </tr>\n",
       "    <tr>\n",
       "      <th>6</th>\n",
       "      <td>152100.871468</td>\n",
       "    </tr>\n",
       "    <tr>\n",
       "      <th>7</th>\n",
       "      <td>140598.581428</td>\n",
       "    </tr>\n",
       "    <tr>\n",
       "      <th>8</th>\n",
       "      <td>120581.728194</td>\n",
       "    </tr>\n",
       "    <tr>\n",
       "      <th>9</th>\n",
       "      <td>110172.057345</td>\n",
       "    </tr>\n",
       "    <tr>\n",
       "      <th>10</th>\n",
       "      <td>111624.181257</td>\n",
       "    </tr>\n",
       "    <tr>\n",
       "      <th>11</th>\n",
       "      <td>106753.395251</td>\n",
       "    </tr>\n",
       "    <tr>\n",
       "      <th>12</th>\n",
       "      <td>108330.516143</td>\n",
       "    </tr>\n",
       "    <tr>\n",
       "      <th>13</th>\n",
       "      <td>107213.872731</td>\n",
       "    </tr>\n",
       "    <tr>\n",
       "      <th>14</th>\n",
       "      <td>104986.483414</td>\n",
       "    </tr>\n",
       "    <tr>\n",
       "      <th>15</th>\n",
       "      <td>101947.353261</td>\n",
       "    </tr>\n",
       "    <tr>\n",
       "      <th>16</th>\n",
       "      <td>100116.055023</td>\n",
       "    </tr>\n",
       "    <tr>\n",
       "      <th>17</th>\n",
       "      <td>94666.409916</td>\n",
       "    </tr>\n",
       "    <tr>\n",
       "      <th>18</th>\n",
       "      <td>94831.953330</td>\n",
       "    </tr>\n",
       "    <tr>\n",
       "      <th>19</th>\n",
       "      <td>95434.377473</td>\n",
       "    </tr>\n",
       "    <tr>\n",
       "      <th>20</th>\n",
       "      <td>107241.960465</td>\n",
       "    </tr>\n",
       "    <tr>\n",
       "      <th>21</th>\n",
       "      <td>91492.687930</td>\n",
       "    </tr>\n",
       "    <tr>\n",
       "      <th>22</th>\n",
       "      <td>88714.697055</td>\n",
       "    </tr>\n",
       "    <tr>\n",
       "      <th>23</th>\n",
       "      <td>92720.641662</td>\n",
       "    </tr>\n",
       "    <tr>\n",
       "      <th>24</th>\n",
       "      <td>82440.343594</td>\n",
       "    </tr>\n",
       "    <tr>\n",
       "      <th>25</th>\n",
       "      <td>90436.945556</td>\n",
       "    </tr>\n",
       "    <tr>\n",
       "      <th>26</th>\n",
       "      <td>75171.911041</td>\n",
       "    </tr>\n",
       "    <tr>\n",
       "      <th>27</th>\n",
       "      <td>132115.709459</td>\n",
       "    </tr>\n",
       "    <tr>\n",
       "      <th>28</th>\n",
       "      <td>81840.638611</td>\n",
       "    </tr>\n",
       "    <tr>\n",
       "      <th>29</th>\n",
       "      <td>62482.403889</td>\n",
       "    </tr>\n",
       "  </tbody>\n",
       "</table>\n",
       "</div>"
      ],
      "text/plain": [
       "                        price_per_meter\n",
       "cityCenters_nearest_km                 \n",
       "0                         174015.535195\n",
       "1                         166896.190618\n",
       "2                         143871.731983\n",
       "3                         129416.344572\n",
       "4                         137240.112687\n",
       "5                         145556.119849\n",
       "6                         152100.871468\n",
       "7                         140598.581428\n",
       "8                         120581.728194\n",
       "9                         110172.057345\n",
       "10                        111624.181257\n",
       "11                        106753.395251\n",
       "12                        108330.516143\n",
       "13                        107213.872731\n",
       "14                        104986.483414\n",
       "15                        101947.353261\n",
       "16                        100116.055023\n",
       "17                         94666.409916\n",
       "18                         94831.953330\n",
       "19                         95434.377473\n",
       "20                        107241.960465\n",
       "21                         91492.687930\n",
       "22                         88714.697055\n",
       "23                         92720.641662\n",
       "24                         82440.343594\n",
       "25                         90436.945556\n",
       "26                         75171.911041\n",
       "27                        132115.709459\n",
       "28                         81840.638611\n",
       "29                         62482.403889"
      ]
     },
     "execution_count": 50,
     "metadata": {},
     "output_type": "execute_result"
    },
    {
     "data": {
      "image/png": "[encoded data removed]",
      "text/plain": [
       "<Figure size 432x288 with 1 Axes>"
      ]
     },
     "metadata": {
      "needs_background": "light"
     },
     "output_type": "display_data"
    }
   ],
   "source": [
    "data['cityCenters_nearest_km'] = data['cityCenters_nearest']/1000\n",
    "data['cityCenters_nearest_km'] = data['cityCenters_nearest_km'].fillna(999999)\n",
    "data['cityCenters_nearest_km'] = data['cityCenters_nearest_km'].astype('int')\n",
    "pivot_table_km = data.query('locality_name == \"Санкт-Петербург\" and cityCenters_nearest_km !=999999').pivot_table(index = 'cityCenters_nearest_km', values = 'price_per_meter', aggfunc = 'mean')\n",
    "pivot_table_km.plot()\n",
    "pivot_table_km"
   ]
  },
  {
   "cell_type": "markdown",
   "metadata": {},
   "source": [
    "Мы можем наблюдать зависимость цены, от расстояния до центра, есть конечно пики, в 8 км например,это значит что в Санкт-Петербурге, есть хорошие районы, которые не находятся в центре, но спрос и цены на недвижимость там высок."
   ]
  },
  {
   "cell_type": "markdown",
   "metadata": {},
   "source": [
    "### Общий вывод"
   ]
  },
  {
   "cell_type": "markdown",
   "metadata": {},
   "source": [
    "Мы изучили данные по продаже недвижимости.\n",
    "Обработали данные,так,чтоб пропуски не влияли на наше исследование.\n",
    "Из данного иссследования можем заметить,что больше всего квартир продается в 5 этажных домах.\n",
    "Из данного исследования мы можем заметить, что стоимость квартир в Санкт-Петербурге гораздо выше в среднем 104800 за квадратный метр, чем в области в Пушкине например уже окола 100000 за квадратный метр.\n",
    "Есть небольшая зависимость, между площадью жилого помещения,площадью кухни,общей площадью, количеством комнат и ценой, цена повышается,но не сильно.\n",
    "Можем сделать вывод, что квартиры на первом этаже, дешевле остальных.\n",
    "Можем увидить, что выставленный обьявления весной, дороже, чем в летние месяцы.\n",
    "Квартиры, находящиеся в центре, также дороже примерно 174000 за квадратный метр,в целом чем дальше от центра, тем дешевле, не считая, некоторых районов.\n",
    "В среднем квартиры продаются примерно полгода."
   ]
  },
  {
   "cell_type": "markdown",
   "metadata": {},
   "source": []
  },
  {
   "cell_type": "markdown",
   "metadata": {},
   "source": [
    "**Чек-лист готовности проекта**\n",
    "\n",
    "Поставьте 'x' в выполненных пунктах. Далее нажмите Shift+Enter."
   ]
  },
  {
   "cell_type": "markdown",
   "metadata": {},
   "source": [
    "- [x]  открыт файл\n",
    "- [x]  файлы изучены (выведены первые строки, метод `info()`, гистограммы и т.д.)\n",
    "- [x]  определены пропущенные значения\n",
    "- [x]  заполнены пропущенные значения там, где это возможно\n",
    "- [x]  есть пояснение, какие пропущенные значения обнаружены\n",
    "- [x]  изменены типы данных\n",
    "- [x]  есть пояснение, в каких столбцах изменены типы и почему\n",
    "- [x]  устранены неявные дубликаты в названиях населённых пунктов\n",
    "- [x]  устранены редкие и выбивающиеся значения (аномалии) во всех столбцах\n",
    "- [x]  посчитано и добавлено в таблицу: цена одного квадратного метра\n",
    "- [x]  посчитано и добавлено в таблицу: день публикации объявления (0 - понедельник, 1 - вторник и т.д.)\n",
    "- [x]  посчитано и добавлено в таблицу: месяц публикации объявления\n",
    "- [x]  посчитано и добавлено в таблицу: год публикации объявления\n",
    "- [x]  посчитано и добавлено в таблицу: тип этажа квартиры (значения — «первый», «последний», «другой»)\n",
    "- [x]  посчитано и добавлено в таблицу: расстояние в км до центра города\n",
    "- [x]  изучены и описаны следующие параметры:\n",
    "        - общая площадь;\n",
    "        - жилая площадь;\n",
    "        - площадь кухни;\n",
    "        - цена объекта;\n",
    "        - количество комнат;\n",
    "        - высота потолков;\n",
    "        - этаж квартиры;\n",
    "        - тип этажа квартиры («первый», «последний», «другой»);\n",
    "        - общее количество этажей в доме;\n",
    "        - расстояние до центра города в метрах;\n",
    "        - расстояние до ближайшего аэропорта;\n",
    "        - расстояние до ближайшего парка;\n",
    "        - день и месяц публикации объявления\n",
    "- [x]  построены гистограммы для каждого параметра\n",
    "- [x]  выполнено задание: \"Изучите, как быстро продавались квартиры (столбец days_exposition). Этот параметр показывает, сколько дней «висело» каждое объявление.\n",
    "    - Постройте гистограмму.\n",
    "    - Посчитайте среднее и медиану.\n",
    "    - В ячейке типа markdown опишите, сколько обычно занимает продажа. Какие продажи можно считать быстрыми, а какие — необычно долгими?\"\n",
    "- [x]  выполнено задание: \"Какие факторы больше всего влияют на общую (полную) стоимость объекта? Постройте графики, которые покажут зависимость цены от указанных ниже параметров. Для подготовки данных перед визуализацией вы можете использовать сводные таблицы.\"\n",
    "        - общей площади;\n",
    "        - жилой площади;\n",
    "        - площади кухни;\n",
    "        - количество комнат;\n",
    "        - типа этажа, на котором расположена квартира (первый, последний, другой);\n",
    "        - даты размещения (день недели, месяц, год);\n",
    "- [X]  выполнено задание: \"Посчитайте среднюю цену одного квадратного метра в 10 населённых пунктах с наибольшим числом объявлений. Выделите населённые пункты с самой высокой и низкой стоимостью квадратного метра. Эти данные можно найти по имени в столбце `locality_name`.\"\n",
    "- [X]  выполнено задание: \"Ранее вы посчитали расстояние до центра в километрах. Теперь выделите квартиры в Санкт-Петербурге с помощью столбца `locality_name` и вычислите среднюю цену каждого километра. Опишите, как стоимость объектов зависит от расстояния до центра города.\"\n",
    "- [X]  в каждом этапе есть промежуточные выводы\n",
    "- [X]  есть общий вывод"
   ]
  }
 ],
 "metadata": {
  "ExecuteTimeLog": [
   {
    "duration": 647,
    "start_time": "2022-06-25T07:49:17.982Z"
   },
   {
    "duration": 452,
    "start_time": "2022-06-25T07:49:43.147Z"
   },
   {
    "duration": 80,
    "start_time": "2022-06-25T07:51:11.390Z"
   },
   {
    "duration": 79,
    "start_time": "2022-06-25T07:51:14.814Z"
   },
   {
    "duration": 82,
    "start_time": "2022-06-25T07:51:31.119Z"
   },
   {
    "duration": 104,
    "start_time": "2022-06-25T07:52:35.576Z"
   },
   {
    "duration": 1962,
    "start_time": "2022-06-25T07:53:04.735Z"
   },
   {
    "duration": 1925,
    "start_time": "2022-06-25T08:07:48.184Z"
   },
   {
    "duration": 1983,
    "start_time": "2022-06-25T08:07:59.279Z"
   },
   {
    "duration": 1875,
    "start_time": "2022-06-25T08:08:31.478Z"
   },
   {
    "duration": 1994,
    "start_time": "2022-06-25T08:08:46.134Z"
   },
   {
    "duration": 2000,
    "start_time": "2022-06-25T08:09:30.282Z"
   },
   {
    "duration": 96,
    "start_time": "2022-06-25T08:11:30.289Z"
   },
   {
    "duration": 80,
    "start_time": "2022-06-25T08:12:33.352Z"
   },
   {
    "duration": 103,
    "start_time": "2022-06-25T08:12:50.339Z"
   },
   {
    "duration": 90,
    "start_time": "2022-06-25T08:13:56.048Z"
   },
   {
    "duration": 55,
    "start_time": "2022-06-25T08:14:04.790Z"
   },
   {
    "duration": 1907,
    "start_time": "2022-06-25T08:14:08.769Z"
   },
   {
    "duration": 2030,
    "start_time": "2022-06-25T08:15:22.008Z"
   },
   {
    "duration": 1854,
    "start_time": "2022-06-25T08:15:40.441Z"
   },
   {
    "duration": 46,
    "start_time": "2022-06-25T08:22:32.705Z"
   },
   {
    "duration": 40,
    "start_time": "2022-06-25T08:22:38.137Z"
   },
   {
    "duration": 2622,
    "start_time": "2022-06-25T08:22:41.138Z"
   },
   {
    "duration": 11,
    "start_time": "2022-06-25T08:22:47.186Z"
   },
   {
    "duration": 1979,
    "start_time": "2022-06-25T08:39:47.346Z"
   },
   {
    "duration": 10,
    "start_time": "2022-06-25T11:56:20.599Z"
   },
   {
    "duration": 9,
    "start_time": "2022-06-25T12:06:46.749Z"
   },
   {
    "duration": 46,
    "start_time": "2022-06-25T12:07:34.329Z"
   },
   {
    "duration": 17,
    "start_time": "2022-06-25T12:07:43.581Z"
   },
   {
    "duration": 26,
    "start_time": "2022-06-25T12:07:47.456Z"
   },
   {
    "duration": 7,
    "start_time": "2022-06-25T12:08:25.879Z"
   },
   {
    "duration": 10,
    "start_time": "2022-06-25T12:08:29.356Z"
   },
   {
    "duration": 2260,
    "start_time": "2022-06-25T12:08:32.237Z"
   },
   {
    "duration": 14,
    "start_time": "2022-06-25T12:08:42.688Z"
   },
   {
    "duration": 10,
    "start_time": "2022-06-25T12:12:53.933Z"
   },
   {
    "duration": 12,
    "start_time": "2022-06-25T12:12:57.424Z"
   },
   {
    "duration": 9,
    "start_time": "2022-06-25T12:16:01.902Z"
   },
   {
    "duration": 18,
    "start_time": "2022-06-25T12:16:22.964Z"
   },
   {
    "duration": 21,
    "start_time": "2022-06-25T12:18:27.277Z"
   },
   {
    "duration": 18,
    "start_time": "2022-06-25T12:18:36.535Z"
   },
   {
    "duration": 18,
    "start_time": "2022-06-25T12:18:43.138Z"
   },
   {
    "duration": 66,
    "start_time": "2022-06-25T12:23:56.688Z"
   },
   {
    "duration": 79,
    "start_time": "2022-06-25T12:24:14.333Z"
   },
   {
    "duration": 24,
    "start_time": "2022-06-25T12:24:25.580Z"
   },
   {
    "duration": 22,
    "start_time": "2022-06-25T12:24:48.709Z"
   },
   {
    "duration": 42,
    "start_time": "2022-06-25T12:27:39.649Z"
   },
   {
    "duration": 26,
    "start_time": "2022-06-25T12:36:03.644Z"
   },
   {
    "duration": 15,
    "start_time": "2022-06-25T12:36:13.415Z"
   },
   {
    "duration": 21,
    "start_time": "2022-06-25T12:40:55.208Z"
   },
   {
    "duration": 50,
    "start_time": "2022-06-25T12:48:00.878Z"
   },
   {
    "duration": 29,
    "start_time": "2022-06-25T12:48:05.890Z"
   },
   {
    "duration": 94,
    "start_time": "2022-06-25T12:57:30.258Z"
   },
   {
    "duration": 85,
    "start_time": "2022-06-25T12:58:13.241Z"
   },
   {
    "duration": 1562,
    "start_time": "2022-06-25T12:59:31.320Z"
   },
   {
    "duration": 70,
    "start_time": "2022-06-25T12:59:46.346Z"
   },
   {
    "duration": 10,
    "start_time": "2022-06-25T13:02:22.287Z"
   },
   {
    "duration": 103,
    "start_time": "2022-06-25T13:02:32.029Z"
   },
   {
    "duration": 5,
    "start_time": "2022-06-25T13:03:49.213Z"
   },
   {
    "duration": 21,
    "start_time": "2022-06-25T13:03:57.979Z"
   },
   {
    "duration": 15,
    "start_time": "2022-06-25T13:04:23.202Z"
   },
   {
    "duration": 1302,
    "start_time": "2022-06-25T13:04:51.826Z"
   },
   {
    "duration": 32,
    "start_time": "2022-06-25T13:05:05.991Z"
   },
   {
    "duration": 19,
    "start_time": "2022-06-25T13:05:25.493Z"
   },
   {
    "duration": 22,
    "start_time": "2022-06-25T13:05:28.233Z"
   },
   {
    "duration": 17,
    "start_time": "2022-06-25T13:05:31.729Z"
   },
   {
    "duration": 19,
    "start_time": "2022-06-25T13:06:31.231Z"
   },
   {
    "duration": 28,
    "start_time": "2022-06-25T13:07:38.888Z"
   },
   {
    "duration": 38,
    "start_time": "2022-06-25T13:08:46.207Z"
   },
   {
    "duration": 69,
    "start_time": "2022-06-25T13:09:03.653Z"
   },
   {
    "duration": 18,
    "start_time": "2022-06-25T13:11:20.704Z"
   },
   {
    "duration": 26,
    "start_time": "2022-06-25T13:11:21.786Z"
   },
   {
    "duration": 26,
    "start_time": "2022-06-25T13:13:22.236Z"
   },
   {
    "duration": 68,
    "start_time": "2022-06-26T14:52:14.294Z"
   },
   {
    "duration": 3706,
    "start_time": "2022-06-26T14:52:27.844Z"
   },
   {
    "duration": 15,
    "start_time": "2022-06-26T14:52:41.912Z"
   },
   {
    "duration": 17,
    "start_time": "2022-06-26T14:52:49.325Z"
   },
   {
    "duration": 33,
    "start_time": "2022-06-26T14:52:55.445Z"
   },
   {
    "duration": 22,
    "start_time": "2022-06-26T14:52:57.850Z"
   },
   {
    "duration": 29,
    "start_time": "2022-06-26T14:53:02.721Z"
   },
   {
    "duration": 8,
    "start_time": "2022-06-26T18:22:25.183Z"
   },
   {
    "duration": 3,
    "start_time": "2022-06-26T18:22:35.839Z"
   },
   {
    "duration": 7,
    "start_time": "2022-06-26T18:22:46.595Z"
   },
   {
    "duration": 1914,
    "start_time": "2022-06-26T18:22:56.077Z"
   },
   {
    "duration": 7,
    "start_time": "2022-06-26T18:23:03.980Z"
   },
   {
    "duration": 10,
    "start_time": "2022-06-26T18:23:28.835Z"
   },
   {
    "duration": 24,
    "start_time": "2022-06-26T18:23:34.835Z"
   },
   {
    "duration": 7,
    "start_time": "2022-06-26T18:24:11.423Z"
   },
   {
    "duration": 25,
    "start_time": "2022-06-26T18:27:33.441Z"
   },
   {
    "duration": 64,
    "start_time": "2022-06-26T18:30:20.848Z"
   },
   {
    "duration": 18,
    "start_time": "2022-06-26T18:37:59.288Z"
   },
   {
    "duration": 61,
    "start_time": "2022-06-26T18:38:14.543Z"
   },
   {
    "duration": 4,
    "start_time": "2022-06-26T18:40:06.438Z"
   },
   {
    "duration": 3,
    "start_time": "2022-06-26T18:40:22.381Z"
   },
   {
    "duration": 41,
    "start_time": "2022-06-26T18:52:45.360Z"
   },
   {
    "duration": 61,
    "start_time": "2022-06-26T18:54:56.765Z"
   },
   {
    "duration": 144,
    "start_time": "2022-06-26T18:55:09.961Z"
   },
   {
    "duration": 61,
    "start_time": "2022-06-26T18:57:25.718Z"
   },
   {
    "duration": 58,
    "start_time": "2022-06-26T19:00:45.338Z"
   },
   {
    "duration": 23,
    "start_time": "2022-06-26T19:03:20.851Z"
   },
   {
    "duration": 22,
    "start_time": "2022-06-26T19:04:01.155Z"
   },
   {
    "duration": 58,
    "start_time": "2022-06-26T19:04:14.303Z"
   },
   {
    "duration": 59,
    "start_time": "2022-06-26T19:05:13.068Z"
   },
   {
    "duration": 10,
    "start_time": "2022-06-26T19:17:48.834Z"
   },
   {
    "duration": 8,
    "start_time": "2022-06-26T19:17:56.178Z"
   },
   {
    "duration": 14,
    "start_time": "2022-06-26T19:18:04.166Z"
   },
   {
    "duration": 64,
    "start_time": "2022-06-26T19:18:11.442Z"
   },
   {
    "duration": 57,
    "start_time": "2022-06-26T19:20:41.581Z"
   },
   {
    "duration": 154,
    "start_time": "2022-06-26T19:27:27.487Z"
   },
   {
    "duration": 23,
    "start_time": "2022-06-26T19:27:40.099Z"
   },
   {
    "duration": 10,
    "start_time": "2022-06-26T19:29:46.323Z"
   },
   {
    "duration": 57,
    "start_time": "2022-06-26T19:30:01.395Z"
   },
   {
    "duration": 55,
    "start_time": "2022-06-26T19:30:17.278Z"
   },
   {
    "duration": 63,
    "start_time": "2022-06-26T19:30:43.107Z"
   },
   {
    "duration": 51,
    "start_time": "2022-06-26T19:31:43.499Z"
   },
   {
    "duration": 50,
    "start_time": "2022-06-26T19:32:13.288Z"
   },
   {
    "duration": 52,
    "start_time": "2022-06-26T19:32:52.635Z"
   },
   {
    "duration": 56,
    "start_time": "2022-06-27T12:31:38.796Z"
   },
   {
    "duration": 3063,
    "start_time": "2022-06-27T12:31:51.772Z"
   },
   {
    "duration": 7,
    "start_time": "2022-06-27T12:32:02.425Z"
   },
   {
    "duration": 11,
    "start_time": "2022-06-27T12:32:05.432Z"
   },
   {
    "duration": 20,
    "start_time": "2022-06-27T12:32:07.549Z"
   },
   {
    "duration": 926,
    "start_time": "2022-06-27T12:32:09.044Z"
   },
   {
    "duration": 980,
    "start_time": "2022-06-27T12:32:38.357Z"
   },
   {
    "duration": 991,
    "start_time": "2022-06-27T12:36:23.506Z"
   },
   {
    "duration": 1141,
    "start_time": "2022-06-27T12:37:06.934Z"
   },
   {
    "duration": 60,
    "start_time": "2022-06-27T12:37:21.454Z"
   },
   {
    "duration": 1520,
    "start_time": "2022-06-27T12:37:53.982Z"
   },
   {
    "duration": 55,
    "start_time": "2022-06-27T12:39:14.306Z"
   },
   {
    "duration": 50,
    "start_time": "2022-06-27T12:39:32.077Z"
   },
   {
    "duration": 52,
    "start_time": "2022-06-27T12:39:46.555Z"
   },
   {
    "duration": 19,
    "start_time": "2022-06-27T12:45:12.337Z"
   },
   {
    "duration": 138,
    "start_time": "2022-06-27T12:45:58.860Z"
   },
   {
    "duration": 117,
    "start_time": "2022-06-27T12:48:54.112Z"
   },
   {
    "duration": 135,
    "start_time": "2022-06-27T12:49:33.337Z"
   },
   {
    "duration": 1239,
    "start_time": "2022-06-27T12:51:07.714Z"
   },
   {
    "duration": 211,
    "start_time": "2022-06-27T12:51:32.218Z"
   },
   {
    "duration": 166,
    "start_time": "2022-06-27T12:52:38.374Z"
   },
   {
    "duration": 115,
    "start_time": "2022-06-27T12:54:22.105Z"
   },
   {
    "duration": 190,
    "start_time": "2022-06-27T12:54:36.284Z"
   },
   {
    "duration": 1830,
    "start_time": "2022-06-27T12:56:33.260Z"
   },
   {
    "duration": 1877,
    "start_time": "2022-06-27T12:57:04.944Z"
   },
   {
    "duration": 1902,
    "start_time": "2022-06-27T13:04:55.057Z"
   },
   {
    "duration": 29,
    "start_time": "2022-06-27T13:05:15.790Z"
   },
   {
    "duration": 31,
    "start_time": "2022-06-27T13:05:42.757Z"
   },
   {
    "duration": 1857,
    "start_time": "2022-06-27T13:09:03.981Z"
   },
   {
    "duration": 1871,
    "start_time": "2022-06-27T13:15:59.220Z"
   },
   {
    "duration": 2549,
    "start_time": "2022-06-27T13:17:12.865Z"
   },
   {
    "duration": 2414,
    "start_time": "2022-06-27T13:17:30.196Z"
   },
   {
    "duration": 1870,
    "start_time": "2022-06-27T13:18:14.696Z"
   },
   {
    "duration": 1746,
    "start_time": "2022-06-27T13:18:47.885Z"
   },
   {
    "duration": 1757,
    "start_time": "2022-06-27T13:19:24.589Z"
   },
   {
    "duration": 20,
    "start_time": "2022-06-27T13:21:14.535Z"
   },
   {
    "duration": 1812,
    "start_time": "2022-06-27T13:21:25.182Z"
   },
   {
    "duration": 18,
    "start_time": "2022-06-27T13:21:31.771Z"
   },
   {
    "duration": 6,
    "start_time": "2022-06-27T13:24:09.468Z"
   },
   {
    "duration": 7,
    "start_time": "2022-06-27T13:27:47.173Z"
   },
   {
    "duration": 14,
    "start_time": "2022-06-27T13:28:42.884Z"
   },
   {
    "duration": 8,
    "start_time": "2022-06-27T13:28:54.693Z"
   },
   {
    "duration": 11,
    "start_time": "2022-06-27T13:35:19.392Z"
   },
   {
    "duration": 10,
    "start_time": "2022-06-27T13:35:28.726Z"
   },
   {
    "duration": 75,
    "start_time": "2022-06-27T13:38:52.939Z"
   },
   {
    "duration": 10,
    "start_time": "2022-06-27T13:39:21.903Z"
   },
   {
    "duration": 10,
    "start_time": "2022-06-27T13:39:25.467Z"
   },
   {
    "duration": 6,
    "start_time": "2022-06-27T13:39:38.903Z"
   },
   {
    "duration": 7,
    "start_time": "2022-06-27T13:40:08.683Z"
   },
   {
    "duration": 315,
    "start_time": "2022-06-27T13:49:26.692Z"
   },
   {
    "duration": 368,
    "start_time": "2022-06-27T13:50:05.904Z"
   },
   {
    "duration": 93,
    "start_time": "2022-06-27T13:53:01.884Z"
   },
   {
    "duration": 75,
    "start_time": "2022-06-27T13:54:33.825Z"
   },
   {
    "duration": 289,
    "start_time": "2022-06-27T13:55:23.310Z"
   },
   {
    "duration": 275,
    "start_time": "2022-06-27T13:55:30.205Z"
   },
   {
    "duration": 285,
    "start_time": "2022-06-27T13:55:59.798Z"
   },
   {
    "duration": 349,
    "start_time": "2022-06-27T13:56:09.661Z"
   },
   {
    "duration": 266,
    "start_time": "2022-06-27T13:58:21.542Z"
   },
   {
    "duration": 282,
    "start_time": "2022-06-27T13:58:41.458Z"
   },
   {
    "duration": 269,
    "start_time": "2022-06-27T13:59:17.615Z"
   },
   {
    "duration": 359,
    "start_time": "2022-06-27T14:03:58.888Z"
   },
   {
    "duration": 75,
    "start_time": "2022-06-27T14:04:11.408Z"
   },
   {
    "duration": 277,
    "start_time": "2022-06-27T14:04:30.418Z"
   },
   {
    "duration": 287,
    "start_time": "2022-06-27T14:04:42.598Z"
   },
   {
    "duration": 301,
    "start_time": "2022-06-27T14:04:59.276Z"
   },
   {
    "duration": 334,
    "start_time": "2022-06-27T14:05:06.552Z"
   },
   {
    "duration": 275,
    "start_time": "2022-06-27T14:05:15.520Z"
   },
   {
    "duration": 273,
    "start_time": "2022-06-27T14:05:22.299Z"
   },
   {
    "duration": 330,
    "start_time": "2022-06-27T14:05:29.852Z"
   },
   {
    "duration": 268,
    "start_time": "2022-06-27T14:08:33.034Z"
   },
   {
    "duration": 285,
    "start_time": "2022-06-27T14:08:53.645Z"
   },
   {
    "duration": 287,
    "start_time": "2022-06-27T14:09:15.016Z"
   },
   {
    "duration": 363,
    "start_time": "2022-06-27T14:09:28.647Z"
   },
   {
    "duration": 302,
    "start_time": "2022-06-27T14:09:33.717Z"
   },
   {
    "duration": 280,
    "start_time": "2022-06-27T14:09:55.286Z"
   },
   {
    "duration": 3236,
    "start_time": "2022-06-27T14:24:16.369Z"
   },
   {
    "duration": 2048,
    "start_time": "2022-06-27T14:24:35.741Z"
   },
   {
    "duration": 76,
    "start_time": "2022-06-27T14:41:07.943Z"
   },
   {
    "duration": 27,
    "start_time": "2022-06-27T14:41:21.441Z"
   },
   {
    "duration": 20,
    "start_time": "2022-06-27T14:41:24.241Z"
   },
   {
    "duration": 6,
    "start_time": "2022-06-27T14:41:39.590Z"
   },
   {
    "duration": 1860,
    "start_time": "2022-06-27T14:41:43.749Z"
   },
   {
    "duration": 21,
    "start_time": "2022-06-27T14:41:49.994Z"
   },
   {
    "duration": 20,
    "start_time": "2022-06-27T14:41:52.490Z"
   },
   {
    "duration": 27,
    "start_time": "2022-06-27T14:43:54.690Z"
   },
   {
    "duration": 39,
    "start_time": "2022-06-27T14:44:09.654Z"
   },
   {
    "duration": 43,
    "start_time": "2022-06-27T14:45:10.006Z"
   },
   {
    "duration": 19,
    "start_time": "2022-06-27T14:45:15.588Z"
   },
   {
    "duration": 12,
    "start_time": "2022-06-27T14:45:34.987Z"
   },
   {
    "duration": 2050,
    "start_time": "2022-06-27T14:45:38.050Z"
   },
   {
    "duration": 11,
    "start_time": "2022-06-27T14:45:42.662Z"
   },
   {
    "duration": 7,
    "start_time": "2022-06-27T14:46:16.214Z"
   },
   {
    "duration": 7,
    "start_time": "2022-06-27T14:47:34.551Z"
   },
   {
    "duration": 8,
    "start_time": "2022-06-27T14:47:54.859Z"
   },
   {
    "duration": 7,
    "start_time": "2022-06-27T14:48:57.677Z"
   },
   {
    "duration": 6,
    "start_time": "2022-06-27T14:49:26.098Z"
   },
   {
    "duration": 10,
    "start_time": "2022-06-27T14:49:57.631Z"
   },
   {
    "duration": 20,
    "start_time": "2022-06-27T14:50:05.283Z"
   },
   {
    "duration": 15,
    "start_time": "2022-06-27T14:53:27.245Z"
   },
   {
    "duration": 331,
    "start_time": "2022-06-27T14:53:49.947Z"
   },
   {
    "duration": 9,
    "start_time": "2022-06-27T14:55:31.183Z"
   },
   {
    "duration": 274,
    "start_time": "2022-06-27T15:00:32.073Z"
   },
   {
    "duration": 571,
    "start_time": "2022-06-27T15:02:26.942Z"
   },
   {
    "duration": 933,
    "start_time": "2022-06-27T15:04:46.578Z"
   },
   {
    "duration": 1348,
    "start_time": "2022-06-27T15:05:41.203Z"
   },
   {
    "duration": 1384,
    "start_time": "2022-06-27T15:06:12.010Z"
   },
   {
    "duration": 1258,
    "start_time": "2022-06-27T15:06:40.668Z"
   },
   {
    "duration": 1275,
    "start_time": "2022-06-27T15:08:27.710Z"
   },
   {
    "duration": 1199,
    "start_time": "2022-06-27T15:09:14.518Z"
   },
   {
    "duration": 1458,
    "start_time": "2022-06-27T15:10:35.487Z"
   },
   {
    "duration": 1391,
    "start_time": "2022-06-27T15:11:01.711Z"
   },
   {
    "duration": 1401,
    "start_time": "2022-06-27T15:11:27.519Z"
   },
   {
    "duration": 2698,
    "start_time": "2022-06-27T15:12:44.399Z"
   },
   {
    "duration": 1710,
    "start_time": "2022-06-27T15:13:15.395Z"
   },
   {
    "duration": 1729,
    "start_time": "2022-06-27T15:13:36.499Z"
   },
   {
    "duration": 1479,
    "start_time": "2022-06-27T15:14:02.091Z"
   },
   {
    "duration": 1751,
    "start_time": "2022-06-27T15:23:54.537Z"
   },
   {
    "duration": 1864,
    "start_time": "2022-06-27T15:24:05.849Z"
   },
   {
    "duration": 1733,
    "start_time": "2022-06-27T15:24:10.197Z"
   },
   {
    "duration": 1693,
    "start_time": "2022-06-27T15:24:21.229Z"
   },
   {
    "duration": 1617,
    "start_time": "2022-06-27T15:26:12.777Z"
   },
   {
    "duration": 438,
    "start_time": "2022-06-27T15:26:21.574Z"
   },
   {
    "duration": 1749,
    "start_time": "2022-06-27T15:26:25.529Z"
   },
   {
    "duration": 1671,
    "start_time": "2022-06-27T15:29:14.630Z"
   },
   {
    "duration": 2090,
    "start_time": "2022-06-27T15:30:13.590Z"
   },
   {
    "duration": 2041,
    "start_time": "2022-06-27T15:31:50.218Z"
   },
   {
    "duration": 2120,
    "start_time": "2022-06-27T15:32:22.990Z"
   },
   {
    "duration": 2026,
    "start_time": "2022-06-27T15:36:02.019Z"
   },
   {
    "duration": 2214,
    "start_time": "2022-06-27T15:36:36.651Z"
   },
   {
    "duration": 82,
    "start_time": "2022-06-27T15:40:52.005Z"
   },
   {
    "duration": 9,
    "start_time": "2022-06-27T15:41:11.944Z"
   },
   {
    "duration": 2199,
    "start_time": "2022-06-27T15:41:15.940Z"
   },
   {
    "duration": 8,
    "start_time": "2022-06-27T15:41:18.857Z"
   },
   {
    "duration": 11,
    "start_time": "2022-06-27T15:41:20.796Z"
   },
   {
    "duration": 80,
    "start_time": "2022-06-27T15:41:31.196Z"
   },
   {
    "duration": 86,
    "start_time": "2022-06-27T15:41:44.461Z"
   },
   {
    "duration": 2729,
    "start_time": "2022-06-27T15:42:08.095Z"
   },
   {
    "duration": 11,
    "start_time": "2022-06-27T15:42:15.303Z"
   },
   {
    "duration": 79,
    "start_time": "2022-06-27T15:42:27.819Z"
   },
   {
    "duration": 79,
    "start_time": "2022-06-27T15:42:47.007Z"
   },
   {
    "duration": 82,
    "start_time": "2022-06-27T15:43:01.368Z"
   },
   {
    "duration": 7,
    "start_time": "2022-06-27T15:43:09.083Z"
   },
   {
    "duration": 1888,
    "start_time": "2022-06-27T15:43:20.188Z"
   },
   {
    "duration": 1828,
    "start_time": "2022-06-27T15:43:42.831Z"
   },
   {
    "duration": 1848,
    "start_time": "2022-06-27T15:44:12.936Z"
   },
   {
    "duration": 1982,
    "start_time": "2022-06-27T15:44:37.107Z"
   },
   {
    "duration": 3964,
    "start_time": "2022-07-01T11:55:16.238Z"
   },
   {
    "duration": 8,
    "start_time": "2022-07-01T11:55:25.793Z"
   },
   {
    "duration": 16,
    "start_time": "2022-07-01T11:55:32.493Z"
   },
   {
    "duration": 2235,
    "start_time": "2022-07-01T11:57:37.835Z"
   },
   {
    "duration": 2110,
    "start_time": "2022-07-01T11:58:26.045Z"
   },
   {
    "duration": 2136,
    "start_time": "2022-07-01T11:58:38.337Z"
   },
   {
    "duration": 7,
    "start_time": "2022-07-01T11:59:23.777Z"
   },
   {
    "duration": 2027,
    "start_time": "2022-07-01T11:59:34.581Z"
   },
   {
    "duration": 14,
    "start_time": "2022-07-01T12:00:53.686Z"
   },
   {
    "duration": 18,
    "start_time": "2022-07-01T12:05:24.420Z"
   },
   {
    "duration": 26,
    "start_time": "2022-07-01T12:09:44.493Z"
   },
   {
    "duration": 765,
    "start_time": "2022-07-01T12:16:44.955Z"
   },
   {
    "duration": 9,
    "start_time": "2022-07-01T12:17:00.770Z"
   },
   {
    "duration": 9,
    "start_time": "2022-07-01T12:20:10.322Z"
   },
   {
    "duration": 9,
    "start_time": "2022-07-01T12:20:16.125Z"
   },
   {
    "duration": 9,
    "start_time": "2022-07-01T12:20:20.354Z"
   },
   {
    "duration": 9,
    "start_time": "2022-07-01T12:20:25.278Z"
   },
   {
    "duration": 10,
    "start_time": "2022-07-01T12:22:44.612Z"
   },
   {
    "duration": 9,
    "start_time": "2022-07-01T12:22:51.982Z"
   },
   {
    "duration": 9,
    "start_time": "2022-07-01T12:22:57.651Z"
   },
   {
    "duration": 14,
    "start_time": "2022-07-01T14:03:45.342Z"
   },
   {
    "duration": 2426,
    "start_time": "2022-07-01T14:03:55.236Z"
   },
   {
    "duration": 10,
    "start_time": "2022-07-01T14:04:01.017Z"
   },
   {
    "duration": 10,
    "start_time": "2022-07-01T14:04:02.781Z"
   },
   {
    "duration": 2085,
    "start_time": "2022-07-01T14:04:07.176Z"
   },
   {
    "duration": 16,
    "start_time": "2022-07-01T14:04:09.263Z"
   },
   {
    "duration": 26,
    "start_time": "2022-07-01T14:04:10.207Z"
   },
   {
    "duration": 8,
    "start_time": "2022-07-01T14:04:12.582Z"
   },
   {
    "duration": 49,
    "start_time": "2022-07-01T14:06:28.721Z"
   },
   {
    "duration": 9,
    "start_time": "2022-07-01T14:06:45.204Z"
   },
   {
    "duration": 63,
    "start_time": "2022-07-01T14:07:29.422Z"
   },
   {
    "duration": 18,
    "start_time": "2022-07-01T14:07:31.436Z"
   },
   {
    "duration": 101,
    "start_time": "2022-07-01T14:08:22.838Z"
   },
   {
    "duration": 8,
    "start_time": "2022-07-01T14:08:26.088Z"
   },
   {
    "duration": 105,
    "start_time": "2022-07-01T14:08:39.960Z"
   },
   {
    "duration": 100,
    "start_time": "2022-07-01T14:08:48.392Z"
   },
   {
    "duration": 8,
    "start_time": "2022-07-01T14:08:50.254Z"
   },
   {
    "duration": 96,
    "start_time": "2022-07-01T14:09:17.866Z"
   },
   {
    "duration": 8,
    "start_time": "2022-07-01T14:09:21.513Z"
   },
   {
    "duration": 6,
    "start_time": "2022-07-01T14:09:50.818Z"
   },
   {
    "duration": 6,
    "start_time": "2022-07-01T14:10:00.818Z"
   },
   {
    "duration": 29,
    "start_time": "2022-07-01T14:10:14.709Z"
   },
   {
    "duration": 7,
    "start_time": "2022-07-01T14:10:16.094Z"
   },
   {
    "duration": 106,
    "start_time": "2022-07-01T14:14:07.838Z"
   },
   {
    "duration": 7,
    "start_time": "2022-07-01T14:15:22.899Z"
   },
   {
    "duration": 9,
    "start_time": "2022-07-01T14:15:24.758Z"
   },
   {
    "duration": 3191,
    "start_time": "2022-07-01T14:15:40.719Z"
   },
   {
    "duration": 12,
    "start_time": "2022-07-01T14:15:47.356Z"
   },
   {
    "duration": 12,
    "start_time": "2022-07-01T14:15:50.804Z"
   },
   {
    "duration": 2155,
    "start_time": "2022-07-01T14:16:03.482Z"
   },
   {
    "duration": 15,
    "start_time": "2022-07-01T14:16:05.853Z"
   },
   {
    "duration": 22,
    "start_time": "2022-07-01T14:16:10.655Z"
   },
   {
    "duration": 8,
    "start_time": "2022-07-01T14:16:12.874Z"
   },
   {
    "duration": 90,
    "start_time": "2022-07-01T14:22:23.536Z"
   },
   {
    "duration": 7,
    "start_time": "2022-07-01T14:22:24.884Z"
   },
   {
    "duration": 124,
    "start_time": "2022-07-01T14:22:37.114Z"
   },
   {
    "duration": 126,
    "start_time": "2022-07-01T14:22:43.024Z"
   },
   {
    "duration": 7,
    "start_time": "2022-07-01T14:23:15.085Z"
   },
   {
    "duration": 126,
    "start_time": "2022-07-01T14:23:25.385Z"
   },
   {
    "duration": 151,
    "start_time": "2022-07-01T14:24:20.773Z"
   },
   {
    "duration": 7,
    "start_time": "2022-07-01T14:24:22.229Z"
   },
   {
    "duration": 187,
    "start_time": "2022-07-01T14:25:23.350Z"
   },
   {
    "duration": 7,
    "start_time": "2022-07-01T14:25:26.230Z"
   },
   {
    "duration": 183,
    "start_time": "2022-07-01T14:37:14.919Z"
   },
   {
    "duration": 106,
    "start_time": "2022-07-01T14:37:36.144Z"
   },
   {
    "duration": 184,
    "start_time": "2022-07-01T14:37:54.188Z"
   },
   {
    "duration": 209,
    "start_time": "2022-07-01T14:38:21.717Z"
   },
   {
    "duration": 162,
    "start_time": "2022-07-01T14:38:33.740Z"
   },
   {
    "duration": 5,
    "start_time": "2022-07-01T14:43:46.661Z"
   },
   {
    "duration": 203,
    "start_time": "2022-07-01T14:44:18.845Z"
   },
   {
    "duration": 146,
    "start_time": "2022-07-01T14:44:48.229Z"
   },
   {
    "duration": 6,
    "start_time": "2022-07-01T14:46:11.199Z"
   },
   {
    "duration": 4,
    "start_time": "2022-07-01T14:47:56.307Z"
   },
   {
    "duration": 5,
    "start_time": "2022-07-01T14:48:04.131Z"
   },
   {
    "duration": 248,
    "start_time": "2022-07-01T14:48:08.747Z"
   },
   {
    "duration": 5,
    "start_time": "2022-07-01T14:48:12.653Z"
   },
   {
    "duration": 4,
    "start_time": "2022-07-01T14:48:18.407Z"
   },
   {
    "duration": 8,
    "start_time": "2022-07-01T14:50:53.263Z"
   },
   {
    "duration": 10,
    "start_time": "2022-07-01T14:50:56.763Z"
   },
   {
    "duration": 5,
    "start_time": "2022-07-01T15:01:19.424Z"
   },
   {
    "duration": 7,
    "start_time": "2022-07-01T15:01:27.993Z"
   },
   {
    "duration": 142,
    "start_time": "2022-07-01T15:01:42.054Z"
   },
   {
    "duration": 162,
    "start_time": "2022-07-01T15:01:52.998Z"
   },
   {
    "duration": 159,
    "start_time": "2022-07-01T15:02:10.326Z"
   },
   {
    "duration": 194,
    "start_time": "2022-07-01T15:02:24.898Z"
   },
   {
    "duration": 14,
    "start_time": "2022-07-01T15:02:29.843Z"
   },
   {
    "duration": 228,
    "start_time": "2022-07-01T15:02:33.978Z"
   },
   {
    "duration": 143,
    "start_time": "2022-07-01T15:02:44.254Z"
   },
   {
    "duration": 131,
    "start_time": "2022-07-01T15:04:20.407Z"
   },
   {
    "duration": 154,
    "start_time": "2022-07-01T15:07:02.013Z"
   },
   {
    "duration": 149,
    "start_time": "2022-07-01T15:07:02.983Z"
   },
   {
    "duration": 137,
    "start_time": "2022-07-01T15:07:11.115Z"
   },
   {
    "duration": 146,
    "start_time": "2022-07-01T15:08:27.739Z"
   },
   {
    "duration": 391,
    "start_time": "2022-07-01T15:12:10.595Z"
   },
   {
    "duration": 218,
    "start_time": "2022-07-01T15:12:20.540Z"
   },
   {
    "duration": 179,
    "start_time": "2022-07-01T15:12:31.405Z"
   },
   {
    "duration": 277,
    "start_time": "2022-07-01T15:12:46.896Z"
   },
   {
    "duration": 10,
    "start_time": "2022-07-01T15:14:39.513Z"
   },
   {
    "duration": 183,
    "start_time": "2022-07-01T15:14:55.620Z"
   },
   {
    "duration": 137,
    "start_time": "2022-07-01T15:15:20.476Z"
   },
   {
    "duration": 124,
    "start_time": "2022-07-01T15:15:29.537Z"
   },
   {
    "duration": 116,
    "start_time": "2022-07-01T15:15:43.753Z"
   },
   {
    "duration": 174,
    "start_time": "2022-07-01T15:16:33.616Z"
   },
   {
    "duration": 17,
    "start_time": "2022-07-01T15:18:07.013Z"
   },
   {
    "duration": 24,
    "start_time": "2022-07-01T15:19:02.882Z"
   },
   {
    "duration": 8,
    "start_time": "2022-07-01T15:19:10.485Z"
   },
   {
    "duration": 16,
    "start_time": "2022-07-01T15:19:13.646Z"
   },
   {
    "duration": 1584,
    "start_time": "2022-07-01T18:04:37.686Z"
   },
   {
    "duration": 16,
    "start_time": "2022-07-01T18:04:56.858Z"
   },
   {
    "duration": 204,
    "start_time": "2022-07-01T18:05:25.713Z"
   },
   {
    "duration": 161,
    "start_time": "2022-07-01T18:06:26.911Z"
   },
   {
    "duration": 135,
    "start_time": "2022-07-01T18:07:50.622Z"
   },
   {
    "duration": 137,
    "start_time": "2022-07-01T18:08:15.057Z"
   },
   {
    "duration": 2838,
    "start_time": "2022-07-01T18:10:13.818Z"
   },
   {
    "duration": 4098,
    "start_time": "2022-07-01T18:10:44.190Z"
   },
   {
    "duration": 272,
    "start_time": "2022-07-01T18:12:12.530Z"
   },
   {
    "duration": 275,
    "start_time": "2022-07-01T18:12:26.318Z"
   },
   {
    "duration": 151,
    "start_time": "2022-07-01T18:15:31.364Z"
   },
   {
    "duration": 18,
    "start_time": "2022-07-01T18:19:45.358Z"
   },
   {
    "duration": 127,
    "start_time": "2022-07-01T18:20:26.814Z"
   },
   {
    "duration": 16,
    "start_time": "2022-07-01T18:20:37.892Z"
   },
   {
    "duration": 16,
    "start_time": "2022-07-01T18:21:29.763Z"
   },
   {
    "duration": 136,
    "start_time": "2022-07-01T18:34:54.895Z"
   },
   {
    "duration": 149,
    "start_time": "2022-07-01T18:43:20.206Z"
   },
   {
    "duration": 13,
    "start_time": "2022-07-01T18:43:27.986Z"
   },
   {
    "duration": 162,
    "start_time": "2022-07-01T18:43:37.226Z"
   },
   {
    "duration": 281,
    "start_time": "2022-07-01T18:45:00.414Z"
   },
   {
    "duration": 280,
    "start_time": "2022-07-01T18:45:20.622Z"
   },
   {
    "duration": 312,
    "start_time": "2022-07-01T18:45:29.299Z"
   },
   {
    "duration": 8,
    "start_time": "2022-07-01T18:48:16.519Z"
   },
   {
    "duration": 9,
    "start_time": "2022-07-01T18:54:14.911Z"
   },
   {
    "duration": 138,
    "start_time": "2022-07-01T18:54:31.688Z"
   },
   {
    "duration": 126,
    "start_time": "2022-07-01T18:54:49.983Z"
   },
   {
    "duration": 193,
    "start_time": "2022-07-01T18:54:55.301Z"
   },
   {
    "duration": 164,
    "start_time": "2022-07-01T18:55:01.323Z"
   },
   {
    "duration": 137,
    "start_time": "2022-07-01T18:55:09.863Z"
   },
   {
    "duration": 201,
    "start_time": "2022-07-01T18:55:15.198Z"
   },
   {
    "duration": 141,
    "start_time": "2022-07-01T18:55:21.997Z"
   },
   {
    "duration": 610,
    "start_time": "2022-07-01T18:57:25.720Z"
   },
   {
    "duration": 807,
    "start_time": "2022-07-01T18:57:31.865Z"
   },
   {
    "duration": 189,
    "start_time": "2022-07-01T19:05:07.344Z"
   },
   {
    "duration": 41,
    "start_time": "2022-07-02T07:00:44.575Z"
   },
   {
    "duration": 2973,
    "start_time": "2022-07-02T07:00:52.874Z"
   },
   {
    "duration": 7,
    "start_time": "2022-07-02T07:00:58.622Z"
   },
   {
    "duration": 11,
    "start_time": "2022-07-02T07:00:59.518Z"
   },
   {
    "duration": 1795,
    "start_time": "2022-07-02T07:01:00.238Z"
   },
   {
    "duration": 10,
    "start_time": "2022-07-02T07:01:02.035Z"
   },
   {
    "duration": 20,
    "start_time": "2022-07-02T07:01:02.649Z"
   },
   {
    "duration": 4,
    "start_time": "2022-07-02T07:01:04.333Z"
   },
   {
    "duration": 6,
    "start_time": "2022-07-02T07:01:05.215Z"
   },
   {
    "duration": 660,
    "start_time": "2022-07-02T07:01:07.758Z"
   },
   {
    "duration": 90,
    "start_time": "2022-07-02T07:04:16.955Z"
   },
   {
    "duration": 33,
    "start_time": "2022-07-02T07:07:45.604Z"
   },
   {
    "duration": 17,
    "start_time": "2022-07-02T07:08:17.199Z"
   },
   {
    "duration": 7,
    "start_time": "2022-07-02T07:08:20.460Z"
   },
   {
    "duration": 8,
    "start_time": "2022-07-02T07:08:21.943Z"
   },
   {
    "duration": 28,
    "start_time": "2022-07-02T07:08:24.782Z"
   },
   {
    "duration": 66,
    "start_time": "2022-07-02T07:08:43.659Z"
   },
   {
    "duration": 7,
    "start_time": "2022-07-02T07:19:10.346Z"
   },
   {
    "duration": 10,
    "start_time": "2022-07-02T07:31:03.355Z"
   },
   {
    "duration": 206,
    "start_time": "2022-07-02T07:31:12.846Z"
   },
   {
    "duration": 284,
    "start_time": "2022-07-02T07:31:49.484Z"
   },
   {
    "duration": 243,
    "start_time": "2022-07-02T07:32:03.291Z"
   },
   {
    "duration": 1791,
    "start_time": "2022-07-02T07:32:59.600Z"
   },
   {
    "duration": 205,
    "start_time": "2022-07-02T07:33:09.708Z"
   },
   {
    "duration": 96,
    "start_time": "2022-07-02T07:33:26.660Z"
   },
   {
    "duration": 221,
    "start_time": "2022-07-02T07:33:56.746Z"
   },
   {
    "duration": 458,
    "start_time": "2022-07-02T07:34:30.251Z"
   },
   {
    "duration": 337,
    "start_time": "2022-07-02T07:35:22.584Z"
   },
   {
    "duration": 232,
    "start_time": "2022-07-02T07:35:33.572Z"
   },
   {
    "duration": 188,
    "start_time": "2022-07-02T07:35:40.624Z"
   },
   {
    "duration": 191,
    "start_time": "2022-07-02T07:35:54.166Z"
   },
   {
    "duration": 88,
    "start_time": "2022-07-02T07:36:24.629Z"
   },
   {
    "duration": 183,
    "start_time": "2022-07-02T07:36:34.789Z"
   },
   {
    "duration": 207,
    "start_time": "2022-07-02T07:36:44.660Z"
   },
   {
    "duration": 188,
    "start_time": "2022-07-02T07:37:35.656Z"
   },
   {
    "duration": 347,
    "start_time": "2022-07-02T07:37:45.929Z"
   },
   {
    "duration": 365,
    "start_time": "2022-07-02T07:39:01.705Z"
   },
   {
    "duration": 565,
    "start_time": "2022-07-02T07:53:38.305Z"
   },
   {
    "duration": 974,
    "start_time": "2022-07-02T07:54:16.129Z"
   },
   {
    "duration": 1235,
    "start_time": "2022-07-02T07:55:25.869Z"
   },
   {
    "duration": 12,
    "start_time": "2022-07-02T08:26:26.870Z"
   },
   {
    "duration": 24,
    "start_time": "2022-07-02T08:26:37.134Z"
   },
   {
    "duration": 190,
    "start_time": "2022-07-02T08:26:54.384Z"
   },
   {
    "duration": 250,
    "start_time": "2022-07-02T08:27:06.572Z"
   },
   {
    "duration": 1113,
    "start_time": "2022-07-02T08:28:24.190Z"
   },
   {
    "duration": 18,
    "start_time": "2022-07-02T08:28:48.213Z"
   },
   {
    "duration": 1028,
    "start_time": "2022-07-02T08:28:57.047Z"
   },
   {
    "duration": 20,
    "start_time": "2022-07-02T08:29:51.557Z"
   },
   {
    "duration": 9,
    "start_time": "2022-07-02T08:30:01.774Z"
   },
   {
    "duration": 17,
    "start_time": "2022-07-02T08:30:09.561Z"
   },
   {
    "duration": 10,
    "start_time": "2022-07-02T08:30:17.482Z"
   },
   {
    "duration": 10,
    "start_time": "2022-07-02T08:30:27.514Z"
   },
   {
    "duration": 10,
    "start_time": "2022-07-02T08:30:38.469Z"
   },
   {
    "duration": 16,
    "start_time": "2022-07-02T08:30:58.846Z"
   },
   {
    "duration": 11,
    "start_time": "2022-07-02T08:31:05.610Z"
   },
   {
    "duration": 11,
    "start_time": "2022-07-02T08:32:24.511Z"
   },
   {
    "duration": 15,
    "start_time": "2022-07-02T08:33:01.449Z"
   },
   {
    "duration": 302,
    "start_time": "2022-07-02T08:49:59.938Z"
   },
   {
    "duration": 20,
    "start_time": "2022-07-02T08:50:28.016Z"
   },
   {
    "duration": 336,
    "start_time": "2022-07-02T08:50:35.939Z"
   },
   {
    "duration": 190,
    "start_time": "2022-07-02T08:54:29.120Z"
   },
   {
    "duration": 87,
    "start_time": "2022-07-02T08:54:51.384Z"
   },
   {
    "duration": 398,
    "start_time": "2022-07-02T08:55:00.074Z"
   },
   {
    "duration": 1262,
    "start_time": "2022-07-02T08:56:18.425Z"
   },
   {
    "duration": 13,
    "start_time": "2022-07-02T08:57:53.240Z"
   },
   {
    "duration": 13,
    "start_time": "2022-07-02T08:58:06.476Z"
   },
   {
    "duration": 277,
    "start_time": "2022-07-02T08:58:13.340Z"
   },
   {
    "duration": 5,
    "start_time": "2022-07-02T09:00:12.590Z"
   },
   {
    "duration": 5,
    "start_time": "2022-07-02T09:43:16.627Z"
   },
   {
    "duration": 4,
    "start_time": "2022-07-02T09:43:19.597Z"
   },
   {
    "duration": 5,
    "start_time": "2022-07-02T09:43:25.278Z"
   },
   {
    "duration": 1932,
    "start_time": "2022-07-02T09:44:33.483Z"
   },
   {
    "duration": 25,
    "start_time": "2022-07-02T09:44:35.417Z"
   },
   {
    "duration": 24,
    "start_time": "2022-07-02T09:44:35.444Z"
   },
   {
    "duration": 5,
    "start_time": "2022-07-02T09:44:35.975Z"
   },
   {
    "duration": 11,
    "start_time": "2022-07-02T09:45:03.315Z"
   },
   {
    "duration": 2751,
    "start_time": "2022-07-02T09:47:25.068Z"
   },
   {
    "duration": 8,
    "start_time": "2022-07-02T09:47:27.821Z"
   },
   {
    "duration": 14,
    "start_time": "2022-07-02T09:47:36.556Z"
   },
   {
    "duration": 1806,
    "start_time": "2022-07-02T09:47:38.185Z"
   },
   {
    "duration": 13,
    "start_time": "2022-07-02T09:47:40.207Z"
   },
   {
    "duration": 21,
    "start_time": "2022-07-02T09:47:42.470Z"
   },
   {
    "duration": 5,
    "start_time": "2022-07-02T09:47:45.220Z"
   },
   {
    "duration": 9,
    "start_time": "2022-07-02T09:47:46.154Z"
   },
   {
    "duration": 918,
    "start_time": "2022-07-02T09:47:48.424Z"
   },
   {
    "duration": 14,
    "start_time": "2022-07-02T09:47:51.316Z"
   },
   {
    "duration": 12,
    "start_time": "2022-07-02T09:47:52.487Z"
   },
   {
    "duration": 10,
    "start_time": "2022-07-02T09:47:53.552Z"
   },
   {
    "duration": 10,
    "start_time": "2022-07-02T09:47:54.280Z"
   },
   {
    "duration": 86,
    "start_time": "2022-07-02T09:47:55.188Z"
   },
   {
    "duration": 2,
    "start_time": "2022-07-02T09:49:02.720Z"
   },
   {
    "duration": 21,
    "start_time": "2022-07-02T09:49:03.498Z"
   },
   {
    "duration": 302,
    "start_time": "2022-07-02T09:49:05.029Z"
   },
   {
    "duration": 73,
    "start_time": "2022-07-02T10:00:26.477Z"
   },
   {
    "duration": 3,
    "start_time": "2022-07-02T10:00:58.722Z"
   },
   {
    "duration": 3,
    "start_time": "2022-07-02T10:01:03.602Z"
   },
   {
    "duration": 347,
    "start_time": "2022-07-02T10:03:50.086Z"
   },
   {
    "duration": 286,
    "start_time": "2022-07-02T10:04:34.370Z"
   },
   {
    "duration": 264,
    "start_time": "2022-07-02T10:04:41.582Z"
   },
   {
    "duration": 283,
    "start_time": "2022-07-02T10:06:57.971Z"
   },
   {
    "duration": 353,
    "start_time": "2022-07-02T10:07:09.944Z"
   },
   {
    "duration": 277,
    "start_time": "2022-07-02T10:07:27.075Z"
   },
   {
    "duration": 323,
    "start_time": "2022-07-02T10:08:18.748Z"
   },
   {
    "duration": 8,
    "start_time": "2022-07-02T10:09:00.561Z"
   },
   {
    "duration": 12,
    "start_time": "2022-07-02T10:14:57.615Z"
   },
   {
    "duration": 6,
    "start_time": "2022-07-02T10:15:22.516Z"
   },
   {
    "duration": 8,
    "start_time": "2022-07-02T10:16:55.462Z"
   },
   {
    "duration": 4,
    "start_time": "2022-07-02T10:17:35.238Z"
   },
   {
    "duration": 7,
    "start_time": "2022-07-02T10:17:51.018Z"
   },
   {
    "duration": 6,
    "start_time": "2022-07-02T10:18:56.381Z"
   },
   {
    "duration": 9,
    "start_time": "2022-07-02T10:19:19.221Z"
   },
   {
    "duration": 7,
    "start_time": "2022-07-02T10:19:25.630Z"
   },
   {
    "duration": 90,
    "start_time": "2022-07-02T10:21:09.073Z"
   },
   {
    "duration": 6,
    "start_time": "2022-07-02T10:21:18.549Z"
   },
   {
    "duration": 7,
    "start_time": "2022-07-02T10:21:25.664Z"
   },
   {
    "duration": 7,
    "start_time": "2022-07-02T10:21:38.457Z"
   },
   {
    "duration": 7,
    "start_time": "2022-07-02T10:21:44.409Z"
   },
   {
    "duration": 22,
    "start_time": "2022-07-02T10:22:11.725Z"
   },
   {
    "duration": 259,
    "start_time": "2022-07-02T10:31:07.311Z"
   },
   {
    "duration": 3863,
    "start_time": "2022-07-02T10:31:33.439Z"
   },
   {
    "duration": 298,
    "start_time": "2022-07-02T10:32:08.944Z"
   },
   {
    "duration": 217,
    "start_time": "2022-07-02T10:32:25.235Z"
   },
   {
    "duration": 237,
    "start_time": "2022-07-02T10:32:37.355Z"
   },
   {
    "duration": 202,
    "start_time": "2022-07-02T10:32:53.639Z"
   },
   {
    "duration": 1302,
    "start_time": "2022-07-02T10:33:37.136Z"
   },
   {
    "duration": 397,
    "start_time": "2022-07-02T10:33:59.960Z"
   },
   {
    "duration": 199,
    "start_time": "2022-07-02T10:34:22.944Z"
   },
   {
    "duration": 184,
    "start_time": "2022-07-02T10:35:21.737Z"
   },
   {
    "duration": 12,
    "start_time": "2022-07-02T10:35:48.669Z"
   },
   {
    "duration": 10,
    "start_time": "2022-07-02T10:35:51.257Z"
   },
   {
    "duration": 10,
    "start_time": "2022-07-02T10:35:51.888Z"
   },
   {
    "duration": 11,
    "start_time": "2022-07-02T10:35:52.368Z"
   },
   {
    "duration": 13,
    "start_time": "2022-07-02T10:35:55.848Z"
   },
   {
    "duration": 269,
    "start_time": "2022-07-02T10:35:56.472Z"
   },
   {
    "duration": 7,
    "start_time": "2022-07-02T10:35:57.048Z"
   },
   {
    "duration": 204,
    "start_time": "2022-07-02T10:36:01.896Z"
   },
   {
    "duration": 205,
    "start_time": "2022-07-02T10:36:02.384Z"
   },
   {
    "duration": 191,
    "start_time": "2022-07-02T10:36:03.345Z"
   },
   {
    "duration": 231,
    "start_time": "2022-07-02T10:36:08.201Z"
   },
   {
    "duration": 199,
    "start_time": "2022-07-02T10:36:10.740Z"
   },
   {
    "duration": 264,
    "start_time": "2022-07-02T10:36:13.521Z"
   },
   {
    "duration": 404,
    "start_time": "2022-07-02T10:36:20.212Z"
   },
   {
    "duration": 208,
    "start_time": "2022-07-02T10:37:22.793Z"
   },
   {
    "duration": 260,
    "start_time": "2022-07-02T10:37:32.241Z"
   },
   {
    "duration": 210,
    "start_time": "2022-07-02T10:37:39.557Z"
   },
   {
    "duration": 198,
    "start_time": "2022-07-02T10:37:56.548Z"
   },
   {
    "duration": 248,
    "start_time": "2022-07-02T10:38:35.990Z"
   },
   {
    "duration": 211,
    "start_time": "2022-07-02T10:38:54.382Z"
   },
   {
    "duration": 215,
    "start_time": "2022-07-02T10:39:28.944Z"
   },
   {
    "duration": 188,
    "start_time": "2022-07-02T10:39:58.614Z"
   },
   {
    "duration": 272,
    "start_time": "2022-07-02T10:40:24.330Z"
   },
   {
    "duration": 234,
    "start_time": "2022-07-02T10:42:27.038Z"
   },
   {
    "duration": 163,
    "start_time": "2022-07-02T10:43:23.337Z"
   },
   {
    "duration": 427,
    "start_time": "2022-07-02T10:43:32.823Z"
   },
   {
    "duration": 252,
    "start_time": "2022-07-02T10:43:38.560Z"
   },
   {
    "duration": 193,
    "start_time": "2022-07-02T10:43:43.304Z"
   },
   {
    "duration": 176,
    "start_time": "2022-07-02T10:43:50.792Z"
   },
   {
    "duration": 179,
    "start_time": "2022-07-02T10:44:35.531Z"
   },
   {
    "duration": 207,
    "start_time": "2022-07-02T10:44:43.231Z"
   },
   {
    "duration": 157,
    "start_time": "2022-07-02T10:44:58.195Z"
   },
   {
    "duration": 123,
    "start_time": "2022-07-02T10:45:10.248Z"
   },
   {
    "duration": 166,
    "start_time": "2022-07-02T10:45:21.086Z"
   },
   {
    "duration": 153,
    "start_time": "2022-07-02T10:45:30.068Z"
   },
   {
    "duration": 135,
    "start_time": "2022-07-02T10:45:41.052Z"
   },
   {
    "duration": 168,
    "start_time": "2022-07-02T10:45:46.595Z"
   },
   {
    "duration": 134,
    "start_time": "2022-07-02T10:45:52.996Z"
   },
   {
    "duration": 183,
    "start_time": "2022-07-02T10:51:39.017Z"
   },
   {
    "duration": 194,
    "start_time": "2022-07-02T10:51:46.220Z"
   },
   {
    "duration": 150,
    "start_time": "2022-07-02T10:51:52.786Z"
   },
   {
    "duration": 136,
    "start_time": "2022-07-02T10:52:29.793Z"
   },
   {
    "duration": 169,
    "start_time": "2022-07-02T10:52:37.313Z"
   },
   {
    "duration": 182,
    "start_time": "2022-07-02T10:52:43.637Z"
   },
   {
    "duration": 153,
    "start_time": "2022-07-02T10:52:50.037Z"
   },
   {
    "duration": 194,
    "start_time": "2022-07-02T10:53:13.849Z"
   },
   {
    "duration": 129,
    "start_time": "2022-07-02T10:54:32.870Z"
   },
   {
    "duration": 143,
    "start_time": "2022-07-02T10:55:50.128Z"
   },
   {
    "duration": 143,
    "start_time": "2022-07-02T10:55:57.050Z"
   },
   {
    "duration": 756,
    "start_time": "2022-07-02T10:56:31.923Z"
   },
   {
    "duration": 506,
    "start_time": "2022-07-02T10:58:03.642Z"
   },
   {
    "duration": 148,
    "start_time": "2022-07-02T10:58:10.119Z"
   },
   {
    "duration": 267,
    "start_time": "2022-07-02T10:58:40.875Z"
   },
   {
    "duration": 144,
    "start_time": "2022-07-02T11:00:34.323Z"
   },
   {
    "duration": 125,
    "start_time": "2022-07-02T11:01:30.788Z"
   },
   {
    "duration": 1768,
    "start_time": "2022-07-02T11:03:24.140Z"
   },
   {
    "duration": 13,
    "start_time": "2022-07-02T11:03:34.664Z"
   },
   {
    "duration": 19,
    "start_time": "2022-07-02T11:03:35.104Z"
   },
   {
    "duration": 5,
    "start_time": "2022-07-02T11:03:35.527Z"
   },
   {
    "duration": 6,
    "start_time": "2022-07-02T11:03:36.344Z"
   },
   {
    "duration": 1201,
    "start_time": "2022-07-02T11:03:36.795Z"
   },
   {
    "duration": 11,
    "start_time": "2022-07-02T11:03:37.998Z"
   },
   {
    "duration": 21,
    "start_time": "2022-07-02T11:03:38.011Z"
   },
   {
    "duration": 11,
    "start_time": "2022-07-02T11:03:38.355Z"
   },
   {
    "duration": 12,
    "start_time": "2022-07-02T11:03:40.183Z"
   },
   {
    "duration": 13,
    "start_time": "2022-07-02T11:03:42.730Z"
   },
   {
    "duration": 277,
    "start_time": "2022-07-02T11:03:43.123Z"
   },
   {
    "duration": 7,
    "start_time": "2022-07-02T11:03:43.886Z"
   },
   {
    "duration": 157,
    "start_time": "2022-07-02T11:03:49.028Z"
   },
   {
    "duration": 2650,
    "start_time": "2022-07-02T11:04:58.494Z"
   },
   {
    "duration": 8,
    "start_time": "2022-07-02T11:05:01.145Z"
   },
   {
    "duration": 9,
    "start_time": "2022-07-02T11:05:01.352Z"
   },
   {
    "duration": 1848,
    "start_time": "2022-07-02T11:05:01.692Z"
   },
   {
    "duration": 12,
    "start_time": "2022-07-02T11:05:03.542Z"
   },
   {
    "duration": 21,
    "start_time": "2022-07-02T11:05:03.555Z"
   },
   {
    "duration": 4,
    "start_time": "2022-07-02T11:05:03.579Z"
   },
   {
    "duration": 12,
    "start_time": "2022-07-02T11:05:03.585Z"
   },
   {
    "duration": 844,
    "start_time": "2022-07-02T11:05:03.599Z"
   },
   {
    "duration": 11,
    "start_time": "2022-07-02T11:05:04.445Z"
   },
   {
    "duration": 9,
    "start_time": "2022-07-02T11:05:04.458Z"
   },
   {
    "duration": 15,
    "start_time": "2022-07-02T11:05:04.469Z"
   },
   {
    "duration": 14,
    "start_time": "2022-07-02T11:05:04.485Z"
   },
   {
    "duration": 15,
    "start_time": "2022-07-02T11:05:05.091Z"
   },
   {
    "duration": 270,
    "start_time": "2022-07-02T11:05:05.387Z"
   },
   {
    "duration": 6,
    "start_time": "2022-07-02T11:05:05.662Z"
   },
   {
    "duration": 318,
    "start_time": "2022-07-02T11:05:07.643Z"
   },
   {
    "duration": 159,
    "start_time": "2022-07-02T11:05:08.186Z"
   },
   {
    "duration": 193,
    "start_time": "2022-07-02T11:05:08.732Z"
   },
   {
    "duration": 285,
    "start_time": "2022-07-02T11:05:10.871Z"
   },
   {
    "duration": 138,
    "start_time": "2022-07-02T11:05:14.859Z"
   },
   {
    "duration": 111,
    "start_time": "2022-07-02T11:06:00.798Z"
   },
   {
    "duration": 135,
    "start_time": "2022-07-02T11:07:05.321Z"
   },
   {
    "duration": 155,
    "start_time": "2022-07-02T11:07:22.504Z"
   },
   {
    "duration": 161,
    "start_time": "2022-07-02T11:10:04.036Z"
   },
   {
    "duration": 243,
    "start_time": "2022-07-02T11:12:17.789Z"
   },
   {
    "duration": 180,
    "start_time": "2022-07-02T11:15:51.750Z"
   },
   {
    "duration": 169,
    "start_time": "2022-07-02T11:16:11.963Z"
   },
   {
    "duration": 149,
    "start_time": "2022-07-02T11:17:10.535Z"
   },
   {
    "duration": 130,
    "start_time": "2022-07-02T11:17:20.623Z"
   },
   {
    "duration": 155,
    "start_time": "2022-07-02T11:17:49.489Z"
   },
   {
    "duration": 131,
    "start_time": "2022-07-02T11:17:59.366Z"
   },
   {
    "duration": 145,
    "start_time": "2022-07-02T11:20:12.189Z"
   },
   {
    "duration": 3,
    "start_time": "2022-07-02T11:23:01.091Z"
   },
   {
    "duration": 327,
    "start_time": "2022-07-02T11:23:13.209Z"
   },
   {
    "duration": 349,
    "start_time": "2022-07-02T11:23:28.409Z"
   },
   {
    "duration": 268,
    "start_time": "2022-07-02T11:26:09.521Z"
   },
   {
    "duration": 250,
    "start_time": "2022-07-02T11:26:16.547Z"
   },
   {
    "duration": 249,
    "start_time": "2022-07-02T11:27:04.543Z"
   },
   {
    "duration": 321,
    "start_time": "2022-07-02T11:27:16.764Z"
   },
   {
    "duration": 8,
    "start_time": "2022-07-02T11:29:39.008Z"
   },
   {
    "duration": 262,
    "start_time": "2022-07-02T11:30:38.090Z"
   },
   {
    "duration": 303,
    "start_time": "2022-07-02T11:34:45.610Z"
   },
   {
    "duration": 149,
    "start_time": "2022-07-02T11:35:09.919Z"
   },
   {
    "duration": 229,
    "start_time": "2022-07-02T11:35:40.632Z"
   },
   {
    "duration": 184,
    "start_time": "2022-07-02T11:37:28.159Z"
   },
   {
    "duration": 205,
    "start_time": "2022-07-02T11:44:48.597Z"
   },
   {
    "duration": 74,
    "start_time": "2022-07-02T11:48:41.622Z"
   },
   {
    "duration": 0,
    "start_time": "2022-07-02T12:01:34.908Z"
   },
   {
    "duration": 0,
    "start_time": "2022-07-02T12:01:34.909Z"
   },
   {
    "duration": 0,
    "start_time": "2022-07-02T12:01:34.910Z"
   },
   {
    "duration": 0,
    "start_time": "2022-07-02T12:01:34.911Z"
   },
   {
    "duration": 0,
    "start_time": "2022-07-02T12:01:34.929Z"
   },
   {
    "duration": 2023,
    "start_time": "2022-07-02T12:01:38.554Z"
   },
   {
    "duration": 8,
    "start_time": "2022-07-02T12:01:40.579Z"
   },
   {
    "duration": 10,
    "start_time": "2022-07-02T12:01:40.588Z"
   },
   {
    "duration": 1975,
    "start_time": "2022-07-02T12:01:41.441Z"
   },
   {
    "duration": 29,
    "start_time": "2022-07-02T12:01:43.419Z"
   },
   {
    "duration": 23,
    "start_time": "2022-07-02T12:01:43.450Z"
   },
   {
    "duration": 5,
    "start_time": "2022-07-02T12:01:43.572Z"
   },
   {
    "duration": 6,
    "start_time": "2022-07-02T12:01:44.675Z"
   },
   {
    "duration": 873,
    "start_time": "2022-07-02T12:01:45.510Z"
   },
   {
    "duration": 1968,
    "start_time": "2022-07-02T12:01:49.748Z"
   },
   {
    "duration": 2771,
    "start_time": "2022-07-02T12:01:55.416Z"
   },
   {
    "duration": 8,
    "start_time": "2022-07-02T12:02:00.411Z"
   },
   {
    "duration": 10,
    "start_time": "2022-07-02T12:02:00.651Z"
   },
   {
    "duration": 1905,
    "start_time": "2022-07-02T12:02:00.895Z"
   },
   {
    "duration": 11,
    "start_time": "2022-07-02T12:02:02.802Z"
   },
   {
    "duration": 38,
    "start_time": "2022-07-02T12:02:02.815Z"
   },
   {
    "duration": 5,
    "start_time": "2022-07-02T12:02:02.854Z"
   },
   {
    "duration": 10,
    "start_time": "2022-07-02T12:02:02.860Z"
   },
   {
    "duration": 893,
    "start_time": "2022-07-02T12:02:02.871Z"
   },
   {
    "duration": 12,
    "start_time": "2022-07-02T12:02:03.765Z"
   },
   {
    "duration": 10,
    "start_time": "2022-07-02T12:02:03.779Z"
   },
   {
    "duration": 10,
    "start_time": "2022-07-02T12:02:03.790Z"
   },
   {
    "duration": 41,
    "start_time": "2022-07-02T12:02:03.802Z"
   },
   {
    "duration": 14,
    "start_time": "2022-07-02T12:02:03.864Z"
   },
   {
    "duration": 303,
    "start_time": "2022-07-02T12:02:04.098Z"
   },
   {
    "duration": 6,
    "start_time": "2022-07-02T12:02:04.403Z"
   },
   {
    "duration": 313,
    "start_time": "2022-07-02T12:02:06.402Z"
   },
   {
    "duration": 174,
    "start_time": "2022-07-02T12:02:15.113Z"
   },
   {
    "duration": 202,
    "start_time": "2022-07-02T12:02:15.478Z"
   },
   {
    "duration": 287,
    "start_time": "2022-07-02T12:02:15.862Z"
   },
   {
    "duration": 158,
    "start_time": "2022-07-02T12:02:16.391Z"
   },
   {
    "duration": 111,
    "start_time": "2022-07-02T12:02:17.270Z"
   },
   {
    "duration": 175,
    "start_time": "2022-07-02T12:02:17.770Z"
   },
   {
    "duration": 129,
    "start_time": "2022-07-02T12:02:18.315Z"
   },
   {
    "duration": 151,
    "start_time": "2022-07-02T12:02:19.202Z"
   },
   {
    "duration": 216,
    "start_time": "2022-07-02T12:02:20.307Z"
   },
   {
    "duration": 139,
    "start_time": "2022-07-02T12:02:21.414Z"
   },
   {
    "duration": 146,
    "start_time": "2022-07-02T12:02:23.278Z"
   },
   {
    "duration": 223,
    "start_time": "2022-07-02T12:02:25.147Z"
   },
   {
    "duration": 185,
    "start_time": "2022-07-02T12:02:26.639Z"
   },
   {
    "duration": 219,
    "start_time": "2022-07-02T12:02:27.592Z"
   },
   {
    "duration": 198,
    "start_time": "2022-07-02T12:02:28.846Z"
   },
   {
    "duration": 169,
    "start_time": "2022-07-02T12:02:31.042Z"
   },
   {
    "duration": 2840,
    "start_time": "2022-07-02T12:09:36.752Z"
   },
   {
    "duration": 8,
    "start_time": "2022-07-02T12:09:42.940Z"
   },
   {
    "duration": 11,
    "start_time": "2022-07-02T12:09:43.241Z"
   },
   {
    "duration": 1988,
    "start_time": "2022-07-02T12:09:43.513Z"
   },
   {
    "duration": 13,
    "start_time": "2022-07-02T12:09:45.503Z"
   },
   {
    "duration": 27,
    "start_time": "2022-07-02T12:09:45.528Z"
   },
   {
    "duration": 6,
    "start_time": "2022-07-02T12:09:45.557Z"
   },
   {
    "duration": 9,
    "start_time": "2022-07-02T12:09:45.564Z"
   },
   {
    "duration": 924,
    "start_time": "2022-07-02T12:09:46.379Z"
   },
   {
    "duration": 11,
    "start_time": "2022-07-02T12:09:47.501Z"
   },
   {
    "duration": 10,
    "start_time": "2022-07-02T12:09:48.189Z"
   },
   {
    "duration": 16,
    "start_time": "2022-07-02T12:09:49.026Z"
   },
   {
    "duration": 11,
    "start_time": "2022-07-02T12:09:50.552Z"
   },
   {
    "duration": 15,
    "start_time": "2022-07-02T12:09:53.652Z"
   },
   {
    "duration": 292,
    "start_time": "2022-07-02T12:09:55.089Z"
   },
   {
    "duration": 8,
    "start_time": "2022-07-02T12:10:05.525Z"
   },
   {
    "duration": 288,
    "start_time": "2022-07-02T12:10:16.917Z"
   },
   {
    "duration": 153,
    "start_time": "2022-07-02T12:10:17.353Z"
   },
   {
    "duration": 209,
    "start_time": "2022-07-02T12:10:17.789Z"
   },
   {
    "duration": 314,
    "start_time": "2022-07-02T12:10:18.625Z"
   },
   {
    "duration": 145,
    "start_time": "2022-07-02T12:10:19.201Z"
   },
   {
    "duration": 125,
    "start_time": "2022-07-02T12:10:22.834Z"
   },
   {
    "duration": 160,
    "start_time": "2022-07-02T12:10:28.945Z"
   },
   {
    "duration": 120,
    "start_time": "2022-07-02T12:10:33.740Z"
   },
   {
    "duration": 167,
    "start_time": "2022-07-02T12:10:35.274Z"
   },
   {
    "duration": 223,
    "start_time": "2022-07-02T12:10:38.649Z"
   },
   {
    "duration": 144,
    "start_time": "2022-07-02T12:10:46.753Z"
   },
   {
    "duration": 170,
    "start_time": "2022-07-02T12:10:49.132Z"
   },
   {
    "duration": 233,
    "start_time": "2022-07-02T12:10:50.892Z"
   },
   {
    "duration": 191,
    "start_time": "2022-07-02T12:10:52.680Z"
   },
   {
    "duration": 254,
    "start_time": "2022-07-02T12:11:00.021Z"
   },
   {
    "duration": 220,
    "start_time": "2022-07-02T12:11:06.793Z"
   },
   {
    "duration": 207,
    "start_time": "2022-07-02T12:16:56.446Z"
   },
   {
    "duration": 0,
    "start_time": "2022-07-02T12:32:48.151Z"
   },
   {
    "duration": 171,
    "start_time": "2022-07-02T12:34:58.601Z"
   },
   {
    "duration": 213,
    "start_time": "2022-07-02T12:35:06.264Z"
   },
   {
    "duration": 3911,
    "start_time": "2022-07-02T12:35:35.202Z"
   },
   {
    "duration": 224,
    "start_time": "2022-07-02T12:35:44.608Z"
   },
   {
    "duration": 217,
    "start_time": "2022-07-02T12:36:49.801Z"
   },
   {
    "duration": 188,
    "start_time": "2022-07-02T12:38:37.649Z"
   },
   {
    "duration": 249,
    "start_time": "2022-07-02T12:45:07.267Z"
   },
   {
    "duration": 256,
    "start_time": "2022-07-02T12:45:07.518Z"
   },
   {
    "duration": 12,
    "start_time": "2022-07-02T12:53:36.027Z"
   },
   {
    "duration": 313,
    "start_time": "2022-07-02T12:53:46.190Z"
   },
   {
    "duration": 15,
    "start_time": "2022-07-02T12:54:56.191Z"
   },
   {
    "duration": 12,
    "start_time": "2022-07-02T12:54:59.785Z"
   },
   {
    "duration": 145,
    "start_time": "2022-07-02T12:55:22.171Z"
   },
   {
    "duration": 325,
    "start_time": "2022-07-02T12:57:15.670Z"
   },
   {
    "duration": 149,
    "start_time": "2022-07-02T12:57:23.694Z"
   },
   {
    "duration": 303,
    "start_time": "2022-07-02T12:57:30.914Z"
   },
   {
    "duration": 18567,
    "start_time": "2022-07-02T12:58:26.524Z"
   },
   {
    "duration": 42171,
    "start_time": "2022-07-02T13:00:10.065Z"
   },
   {
    "duration": 143,
    "start_time": "2022-07-02T13:04:10.312Z"
   },
   {
    "duration": 159,
    "start_time": "2022-07-02T13:06:07.933Z"
   },
   {
    "duration": 10,
    "start_time": "2022-07-02T13:21:18.054Z"
   },
   {
    "duration": 17,
    "start_time": "2022-07-02T13:21:23.424Z"
   },
   {
    "duration": 165,
    "start_time": "2022-07-02T13:21:57.992Z"
   },
   {
    "duration": 154,
    "start_time": "2022-07-02T13:23:40.300Z"
   },
   {
    "duration": 182,
    "start_time": "2022-07-02T13:23:48.907Z"
   },
   {
    "duration": 76,
    "start_time": "2022-07-02T13:24:18.053Z"
   },
   {
    "duration": 175,
    "start_time": "2022-07-02T13:24:26.789Z"
   },
   {
    "duration": 174,
    "start_time": "2022-07-02T13:24:41.356Z"
   },
   {
    "duration": 175,
    "start_time": "2022-07-02T13:26:33.672Z"
   },
   {
    "duration": 154,
    "start_time": "2022-07-02T13:28:01.103Z"
   },
   {
    "duration": 74,
    "start_time": "2022-07-02T13:30:28.557Z"
   },
   {
    "duration": 162,
    "start_time": "2022-07-02T13:30:35.729Z"
   },
   {
    "duration": 143,
    "start_time": "2022-07-02T13:31:04.210Z"
   },
   {
    "duration": 160,
    "start_time": "2022-07-02T13:31:16.098Z"
   },
   {
    "duration": 127,
    "start_time": "2022-07-02T13:31:32.441Z"
   },
   {
    "duration": 150,
    "start_time": "2022-07-02T13:33:08.743Z"
   },
   {
    "duration": 148,
    "start_time": "2022-07-02T13:33:22.510Z"
   },
   {
    "duration": 466,
    "start_time": "2022-07-02T13:34:11.366Z"
   },
   {
    "duration": 27,
    "start_time": "2022-07-02T13:35:46.111Z"
   },
   {
    "duration": 11,
    "start_time": "2022-07-02T13:36:17.014Z"
   },
   {
    "duration": 10,
    "start_time": "2022-07-02T13:36:29.007Z"
   },
   {
    "duration": 23,
    "start_time": "2022-07-02T13:37:05.227Z"
   },
   {
    "duration": 22,
    "start_time": "2022-07-02T13:37:41.343Z"
   },
   {
    "duration": 30,
    "start_time": "2022-07-02T13:38:07.316Z"
   },
   {
    "duration": 21,
    "start_time": "2022-07-02T13:39:11.613Z"
   },
   {
    "duration": 129,
    "start_time": "2022-07-02T13:40:09.044Z"
   },
   {
    "duration": 763,
    "start_time": "2022-07-02T13:40:36.822Z"
   },
   {
    "duration": 138,
    "start_time": "2022-07-02T13:41:03.847Z"
   },
   {
    "duration": 168,
    "start_time": "2022-07-02T13:42:46.316Z"
   },
   {
    "duration": 148,
    "start_time": "2022-07-02T13:44:24.922Z"
   },
   {
    "duration": 151,
    "start_time": "2022-07-02T13:46:07.097Z"
   },
   {
    "duration": 10,
    "start_time": "2022-07-02T13:52:04.270Z"
   },
   {
    "duration": 59,
    "start_time": "2022-07-02T13:52:40.947Z"
   },
   {
    "duration": 63,
    "start_time": "2022-07-02T13:53:14.094Z"
   },
   {
    "duration": 20,
    "start_time": "2022-07-02T14:01:39.287Z"
   },
   {
    "duration": 143,
    "start_time": "2022-07-02T14:01:52.908Z"
   },
   {
    "duration": 63,
    "start_time": "2022-07-02T20:17:09.671Z"
   },
   {
    "duration": 3028,
    "start_time": "2022-07-02T20:17:16.031Z"
   },
   {
    "duration": 13,
    "start_time": "2022-07-02T20:17:19.061Z"
   },
   {
    "duration": 15,
    "start_time": "2022-07-02T20:17:19.075Z"
   },
   {
    "duration": 317,
    "start_time": "2022-07-02T20:17:19.091Z"
   },
   {
    "duration": 27,
    "start_time": "2022-07-02T20:17:19.410Z"
   },
   {
    "duration": 2095,
    "start_time": "2022-07-02T20:17:19.439Z"
   },
   {
    "duration": 16,
    "start_time": "2022-07-02T20:17:21.538Z"
   },
   {
    "duration": 37,
    "start_time": "2022-07-02T20:17:21.562Z"
   },
   {
    "duration": 37,
    "start_time": "2022-07-02T20:17:21.601Z"
   },
   {
    "duration": 23,
    "start_time": "2022-07-02T20:17:21.640Z"
   },
   {
    "duration": 23,
    "start_time": "2022-07-02T20:17:21.671Z"
   },
   {
    "duration": 991,
    "start_time": "2022-07-02T20:17:21.697Z"
   },
   {
    "duration": 12,
    "start_time": "2022-07-02T20:17:22.690Z"
   },
   {
    "duration": 33,
    "start_time": "2022-07-02T20:17:22.705Z"
   },
   {
    "duration": 30,
    "start_time": "2022-07-02T20:17:22.739Z"
   },
   {
    "duration": 13,
    "start_time": "2022-07-02T20:17:22.771Z"
   },
   {
    "duration": 16,
    "start_time": "2022-07-02T20:17:22.785Z"
   },
   {
    "duration": 387,
    "start_time": "2022-07-02T20:17:22.803Z"
   },
   {
    "duration": 6,
    "start_time": "2022-07-02T20:17:23.191Z"
   },
   {
    "duration": 255,
    "start_time": "2022-07-02T20:17:23.199Z"
   },
   {
    "duration": 194,
    "start_time": "2022-07-02T20:17:23.456Z"
   },
   {
    "duration": 225,
    "start_time": "2022-07-02T20:17:23.651Z"
   },
   {
    "duration": 324,
    "start_time": "2022-07-02T20:17:23.878Z"
   },
   {
    "duration": 159,
    "start_time": "2022-07-02T20:17:24.204Z"
   },
   {
    "duration": 128,
    "start_time": "2022-07-02T20:17:24.365Z"
   },
   {
    "duration": 215,
    "start_time": "2022-07-02T20:17:24.495Z"
   },
   {
    "duration": 247,
    "start_time": "2022-07-02T20:17:24.712Z"
   },
   {
    "duration": 192,
    "start_time": "2022-07-02T20:17:24.961Z"
   },
   {
    "duration": 148,
    "start_time": "2022-07-02T20:17:25.154Z"
   },
   {
    "duration": 160,
    "start_time": "2022-07-02T20:17:25.304Z"
   },
   {
    "duration": 162,
    "start_time": "2022-07-02T20:17:25.469Z"
   },
   {
    "duration": 292,
    "start_time": "2022-07-02T20:17:25.633Z"
   },
   {
    "duration": 240,
    "start_time": "2022-07-02T20:17:25.927Z"
   },
   {
    "duration": 251,
    "start_time": "2022-07-02T20:17:26.169Z"
   },
   {
    "duration": 379,
    "start_time": "2022-07-02T20:17:26.422Z"
   },
   {
    "duration": 177,
    "start_time": "2022-07-02T20:17:26.803Z"
   },
   {
    "duration": 152,
    "start_time": "2022-07-02T20:17:26.982Z"
   },
   {
    "duration": 166,
    "start_time": "2022-07-02T20:17:27.136Z"
   },
   {
    "duration": 180,
    "start_time": "2022-07-02T20:17:27.304Z"
   },
   {
    "duration": 99,
    "start_time": "2022-07-02T20:17:27.486Z"
   },
   {
    "duration": 0,
    "start_time": "2022-07-02T20:17:27.587Z"
   },
   {
    "duration": 0,
    "start_time": "2022-07-02T20:17:27.589Z"
   },
   {
    "duration": 0,
    "start_time": "2022-07-02T20:17:27.591Z"
   },
   {
    "duration": 0,
    "start_time": "2022-07-02T20:17:27.592Z"
   },
   {
    "duration": 0,
    "start_time": "2022-07-02T20:17:27.593Z"
   },
   {
    "duration": 0,
    "start_time": "2022-07-02T20:17:27.595Z"
   },
   {
    "duration": 60,
    "start_time": "2022-07-02T20:31:14.561Z"
   },
   {
    "duration": 1385,
    "start_time": "2022-07-02T20:36:10.602Z"
   },
   {
    "duration": 1323,
    "start_time": "2022-07-02T20:36:36.891Z"
   },
   {
    "duration": 458,
    "start_time": "2022-07-02T20:42:14.146Z"
   },
   {
    "duration": 191,
    "start_time": "2022-07-02T20:43:16.024Z"
   },
   {
    "duration": 21,
    "start_time": "2022-07-02T20:43:32.264Z"
   },
   {
    "duration": 26,
    "start_time": "2022-07-02T20:44:16.454Z"
   },
   {
    "duration": 26,
    "start_time": "2022-07-02T20:44:30.121Z"
   },
   {
    "duration": 246,
    "start_time": "2022-07-02T20:47:38.248Z"
   },
   {
    "duration": 258,
    "start_time": "2022-07-02T20:47:38.843Z"
   },
   {
    "duration": 214,
    "start_time": "2022-07-02T20:47:39.786Z"
   },
   {
    "duration": 266,
    "start_time": "2022-07-02T20:47:40.481Z"
   },
   {
    "duration": 113,
    "start_time": "2022-07-02T20:47:41.483Z"
   },
   {
    "duration": 223,
    "start_time": "2022-07-02T20:47:42.930Z"
   },
   {
    "duration": 3083,
    "start_time": "2022-07-02T20:59:48.133Z"
   },
   {
    "duration": 29,
    "start_time": "2022-07-02T20:59:51.218Z"
   },
   {
    "duration": 38,
    "start_time": "2022-07-02T20:59:51.249Z"
   },
   {
    "duration": 296,
    "start_time": "2022-07-02T20:59:51.289Z"
   },
   {
    "duration": 14,
    "start_time": "2022-07-02T20:59:51.587Z"
   },
   {
    "duration": 2213,
    "start_time": "2022-07-02T20:59:51.603Z"
   },
   {
    "duration": 10,
    "start_time": "2022-07-02T20:59:53.818Z"
   },
   {
    "duration": 42,
    "start_time": "2022-07-02T20:59:53.835Z"
   },
   {
    "duration": 22,
    "start_time": "2022-07-02T20:59:53.878Z"
   },
   {
    "duration": 5,
    "start_time": "2022-07-02T20:59:53.903Z"
   },
   {
    "duration": 11,
    "start_time": "2022-07-02T20:59:53.910Z"
   },
   {
    "duration": 1049,
    "start_time": "2022-07-02T20:59:53.923Z"
   },
   {
    "duration": 11,
    "start_time": "2022-07-02T20:59:54.974Z"
   },
   {
    "duration": 22,
    "start_time": "2022-07-02T20:59:54.988Z"
   },
   {
    "duration": 31,
    "start_time": "2022-07-02T20:59:55.012Z"
   },
   {
    "duration": 41,
    "start_time": "2022-07-02T20:59:55.045Z"
   },
   {
    "duration": 74,
    "start_time": "2022-07-02T20:59:55.088Z"
   },
   {
    "duration": 15,
    "start_time": "2022-07-02T20:59:55.164Z"
   },
   {
    "duration": 445,
    "start_time": "2022-07-02T20:59:55.180Z"
   },
   {
    "duration": 25,
    "start_time": "2022-07-02T20:59:55.631Z"
   },
   {
    "duration": 304,
    "start_time": "2022-07-02T20:59:55.662Z"
   },
   {
    "duration": 194,
    "start_time": "2022-07-02T20:59:55.969Z"
   },
   {
    "duration": 258,
    "start_time": "2022-07-02T20:59:56.170Z"
   },
   {
    "duration": 352,
    "start_time": "2022-07-02T20:59:56.430Z"
   },
   {
    "duration": 176,
    "start_time": "2022-07-02T20:59:56.784Z"
   },
   {
    "duration": 148,
    "start_time": "2022-07-02T20:59:56.965Z"
   },
   {
    "duration": 1245,
    "start_time": "2022-07-02T20:59:57.114Z"
   },
   {
    "duration": 208,
    "start_time": "2022-07-02T20:59:58.363Z"
   },
   {
    "duration": 170,
    "start_time": "2022-07-02T20:59:58.573Z"
   },
   {
    "duration": 181,
    "start_time": "2022-07-02T20:59:58.744Z"
   },
   {
    "duration": 173,
    "start_time": "2022-07-02T20:59:58.927Z"
   },
   {
    "duration": 296,
    "start_time": "2022-07-02T20:59:59.102Z"
   },
   {
    "duration": 200,
    "start_time": "2022-07-02T20:59:59.399Z"
   },
   {
    "duration": 267,
    "start_time": "2022-07-02T20:59:59.601Z"
   },
   {
    "duration": 255,
    "start_time": "2022-07-02T20:59:59.870Z"
   },
   {
    "duration": 267,
    "start_time": "2022-07-02T21:00:00.132Z"
   },
   {
    "duration": 258,
    "start_time": "2022-07-02T21:00:00.401Z"
   },
   {
    "duration": 220,
    "start_time": "2022-07-02T21:00:00.661Z"
   },
   {
    "duration": 19,
    "start_time": "2022-07-02T21:00:00.883Z"
   },
   {
    "duration": 99,
    "start_time": "2022-07-02T21:00:00.904Z"
   },
   {
    "duration": 188,
    "start_time": "2022-07-02T21:00:01.007Z"
   },
   {
    "duration": 348,
    "start_time": "2022-07-02T21:00:01.197Z"
   },
   {
    "duration": 240,
    "start_time": "2022-07-02T21:00:01.551Z"
   },
   {
    "duration": 206,
    "start_time": "2022-07-02T21:00:01.794Z"
   },
   {
    "duration": 240,
    "start_time": "2022-07-02T21:00:02.002Z"
   },
   {
    "duration": 200,
    "start_time": "2022-07-02T21:00:02.251Z"
   },
   {
    "duration": 195,
    "start_time": "2022-07-02T21:00:02.453Z"
   },
   {
    "duration": 112,
    "start_time": "2022-07-02T21:00:02.657Z"
   },
   {
    "duration": 205,
    "start_time": "2022-07-02T21:00:02.770Z"
   },
   {
    "duration": 3057,
    "start_time": "2022-07-03T07:28:10.320Z"
   },
   {
    "duration": 4814,
    "start_time": "2022-07-03T07:30:25.138Z"
   },
   {
    "duration": 91,
    "start_time": "2022-07-03T07:32:58.183Z"
   },
   {
    "duration": 1977,
    "start_time": "2022-07-03T07:33:10.503Z"
   },
   {
    "duration": 1900,
    "start_time": "2022-07-03T07:34:19.102Z"
   },
   {
    "duration": 11,
    "start_time": "2022-07-03T07:34:40.590Z"
   },
   {
    "duration": 1948,
    "start_time": "2022-07-03T07:34:43.390Z"
   },
   {
    "duration": 3919,
    "start_time": "2022-07-03T07:36:49.636Z"
   },
   {
    "duration": 7,
    "start_time": "2022-07-03T07:37:33.494Z"
   },
   {
    "duration": 6,
    "start_time": "2022-07-03T07:45:37.394Z"
   },
   {
    "duration": 19,
    "start_time": "2022-07-03T07:47:20.902Z"
   },
   {
    "duration": 7,
    "start_time": "2022-07-03T07:47:25.316Z"
   },
   {
    "duration": 11,
    "start_time": "2022-07-03T07:49:46.610Z"
   },
   {
    "duration": 18,
    "start_time": "2022-07-03T07:50:15.622Z"
   },
   {
    "duration": 6,
    "start_time": "2022-07-03T07:50:30.594Z"
   },
   {
    "duration": 15,
    "start_time": "2022-07-03T07:50:34.013Z"
   },
   {
    "duration": 17,
    "start_time": "2022-07-03T07:50:43.324Z"
   },
   {
    "duration": 15,
    "start_time": "2022-07-03T07:50:50.006Z"
   },
   {
    "duration": 10,
    "start_time": "2022-07-03T07:50:53.647Z"
   },
   {
    "duration": 9,
    "start_time": "2022-07-03T07:51:13.486Z"
   },
   {
    "duration": 62,
    "start_time": "2022-07-03T08:37:01.776Z"
   },
   {
    "duration": 59,
    "start_time": "2022-07-03T08:37:11.195Z"
   },
   {
    "duration": 2271,
    "start_time": "2022-07-03T09:07:00.317Z"
   },
   {
    "duration": 2094,
    "start_time": "2022-07-03T09:07:43.213Z"
   },
   {
    "duration": 1929,
    "start_time": "2022-07-03T09:08:56.705Z"
   },
   {
    "duration": 8,
    "start_time": "2022-07-03T09:47:10.686Z"
   },
   {
    "duration": 2623,
    "start_time": "2022-07-03T10:02:46.196Z"
   },
   {
    "duration": 24,
    "start_time": "2022-07-03T10:02:54.823Z"
   },
   {
    "duration": 3,
    "start_time": "2022-07-03T10:02:56.608Z"
   },
   {
    "duration": 295,
    "start_time": "2022-07-03T10:02:58.389Z"
   },
   {
    "duration": 11,
    "start_time": "2022-07-03T10:03:02.903Z"
   },
   {
    "duration": 132,
    "start_time": "2022-07-03T10:03:04.076Z"
   },
   {
    "duration": 84,
    "start_time": "2022-07-03T10:04:00.390Z"
   },
   {
    "duration": 105,
    "start_time": "2022-07-03T10:06:28.416Z"
   },
   {
    "duration": 86,
    "start_time": "2022-07-03T10:09:00.678Z"
   },
   {
    "duration": 98,
    "start_time": "2022-07-03T10:09:18.613Z"
   },
   {
    "duration": 2967,
    "start_time": "2022-07-03T10:09:39.252Z"
   },
   {
    "duration": 32,
    "start_time": "2022-07-03T10:09:48.924Z"
   },
   {
    "duration": 9,
    "start_time": "2022-07-03T10:09:53.661Z"
   },
   {
    "duration": 4097,
    "start_time": "2022-07-03T10:10:13.222Z"
   },
   {
    "duration": 13,
    "start_time": "2022-07-03T10:10:23.908Z"
   },
   {
    "duration": 8,
    "start_time": "2022-07-03T10:10:26.007Z"
   },
   {
    "duration": 375,
    "start_time": "2022-07-03T10:10:29.003Z"
   },
   {
    "duration": 25,
    "start_time": "2022-07-03T10:10:32.541Z"
   },
   {
    "duration": 214,
    "start_time": "2022-07-03T10:10:34.411Z"
   },
   {
    "duration": 54,
    "start_time": "2022-07-03T10:10:45.806Z"
   },
   {
    "duration": 136,
    "start_time": "2022-07-03T10:11:01.049Z"
   },
   {
    "duration": 3530,
    "start_time": "2022-07-03T10:11:55.561Z"
   },
   {
    "duration": 3629,
    "start_time": "2022-07-03T10:12:10.308Z"
   },
   {
    "duration": 4003,
    "start_time": "2022-07-03T10:13:06.958Z"
   },
   {
    "duration": 3814,
    "start_time": "2022-07-03T10:16:18.595Z"
   },
   {
    "duration": 5079,
    "start_time": "2022-07-03T10:20:24.112Z"
   },
   {
    "duration": 4401,
    "start_time": "2022-07-03T10:21:09.728Z"
   },
   {
    "duration": 4206,
    "start_time": "2022-07-03T10:21:38.906Z"
   },
   {
    "duration": 3897,
    "start_time": "2022-07-03T10:26:23.639Z"
   },
   {
    "duration": 3798,
    "start_time": "2022-07-03T10:43:42.243Z"
   },
   {
    "duration": 155,
    "start_time": "2022-07-03T10:44:15.719Z"
   },
   {
    "duration": 105,
    "start_time": "2022-07-03T10:44:33.671Z"
   },
   {
    "duration": 2910,
    "start_time": "2022-07-03T10:45:09.959Z"
   },
   {
    "duration": 11,
    "start_time": "2022-07-03T10:45:15.811Z"
   },
   {
    "duration": 8,
    "start_time": "2022-07-03T10:45:18.267Z"
   },
   {
    "duration": 309,
    "start_time": "2022-07-03T10:45:19.794Z"
   },
   {
    "duration": 13,
    "start_time": "2022-07-03T10:45:23.206Z"
   },
   {
    "duration": 119,
    "start_time": "2022-07-03T10:45:24.696Z"
   },
   {
    "duration": 81,
    "start_time": "2022-07-03T10:45:47.469Z"
   },
   {
    "duration": 86,
    "start_time": "2022-07-03T10:48:20.221Z"
   },
   {
    "duration": 9,
    "start_time": "2022-07-03T11:01:18.092Z"
   },
   {
    "duration": 58,
    "start_time": "2022-07-03T11:01:48.390Z"
   },
   {
    "duration": 88,
    "start_time": "2022-07-03T11:02:19.397Z"
   },
   {
    "duration": 161,
    "start_time": "2022-07-03T11:03:16.744Z"
   },
   {
    "duration": 78,
    "start_time": "2022-07-03T11:03:29.716Z"
   },
   {
    "duration": 130,
    "start_time": "2022-07-03T11:09:11.525Z"
   },
   {
    "duration": 84,
    "start_time": "2022-07-03T11:09:27.410Z"
   },
   {
    "duration": 2673,
    "start_time": "2022-07-03T11:09:40.300Z"
   },
   {
    "duration": 12,
    "start_time": "2022-07-03T11:09:43.107Z"
   },
   {
    "duration": 10,
    "start_time": "2022-07-03T11:09:43.947Z"
   },
   {
    "duration": 387,
    "start_time": "2022-07-03T11:09:44.603Z"
   },
   {
    "duration": 13,
    "start_time": "2022-07-03T11:09:46.398Z"
   },
   {
    "duration": 58,
    "start_time": "2022-07-03T11:09:48.457Z"
   },
   {
    "duration": 78,
    "start_time": "2022-07-03T11:10:32.965Z"
   },
   {
    "duration": 86,
    "start_time": "2022-07-03T11:10:49.573Z"
   },
   {
    "duration": 39,
    "start_time": "2022-07-03T11:11:27.253Z"
   },
   {
    "duration": 117,
    "start_time": "2022-07-03T11:11:59.208Z"
   },
   {
    "duration": 81,
    "start_time": "2022-07-03T11:12:27.517Z"
   },
   {
    "duration": 156,
    "start_time": "2022-07-03T11:18:44.604Z"
   },
   {
    "duration": 131,
    "start_time": "2022-07-03T11:19:33.847Z"
   },
   {
    "duration": 260,
    "start_time": "2022-07-03T11:19:48.820Z"
   },
   {
    "duration": 83,
    "start_time": "2022-07-03T11:20:18.206Z"
   },
   {
    "duration": 76,
    "start_time": "2022-07-03T11:20:58.875Z"
   },
   {
    "duration": 31,
    "start_time": "2022-07-03T11:21:15.414Z"
   },
   {
    "duration": 115,
    "start_time": "2022-07-03T11:24:20.120Z"
   },
   {
    "duration": 79,
    "start_time": "2022-07-03T11:24:27.047Z"
   },
   {
    "duration": 99,
    "start_time": "2022-07-03T11:27:35.631Z"
   },
   {
    "duration": 94,
    "start_time": "2022-07-03T11:28:08.301Z"
   },
   {
    "duration": 108,
    "start_time": "2022-07-03T11:28:31.251Z"
   },
   {
    "duration": 4127,
    "start_time": "2022-07-03T11:28:38.240Z"
   },
   {
    "duration": 29,
    "start_time": "2022-07-03T11:28:42.388Z"
   },
   {
    "duration": 22,
    "start_time": "2022-07-03T11:28:43.121Z"
   },
   {
    "duration": 396,
    "start_time": "2022-07-03T11:28:43.731Z"
   },
   {
    "duration": 33,
    "start_time": "2022-07-03T11:28:45.428Z"
   },
   {
    "duration": 149,
    "start_time": "2022-07-03T11:28:46.815Z"
   },
   {
    "duration": 123,
    "start_time": "2022-07-03T11:29:02.781Z"
   },
   {
    "duration": 127,
    "start_time": "2022-07-03T11:29:15.409Z"
   },
   {
    "duration": 111,
    "start_time": "2022-07-03T11:29:29.409Z"
   },
   {
    "duration": 145,
    "start_time": "2022-07-03T11:31:04.009Z"
   },
   {
    "duration": 222,
    "start_time": "2022-07-03T11:31:51.530Z"
   },
   {
    "duration": 84,
    "start_time": "2022-07-03T11:32:10.057Z"
   },
   {
    "duration": 3055,
    "start_time": "2022-07-03T11:35:41.816Z"
   },
   {
    "duration": 21,
    "start_time": "2022-07-03T11:36:03.004Z"
   },
   {
    "duration": 9,
    "start_time": "2022-07-03T11:36:13.108Z"
   },
   {
    "duration": 395,
    "start_time": "2022-07-03T11:36:14.421Z"
   },
   {
    "duration": 22,
    "start_time": "2022-07-03T11:36:16.968Z"
   },
   {
    "duration": 77,
    "start_time": "2022-07-03T11:36:18.503Z"
   },
   {
    "duration": 135,
    "start_time": "2022-07-03T11:45:04.116Z"
   },
   {
    "duration": 305,
    "start_time": "2022-07-03T11:45:22.028Z"
   },
   {
    "duration": 95,
    "start_time": "2022-07-03T11:45:35.625Z"
   },
   {
    "duration": 32,
    "start_time": "2022-07-03T11:49:56.650Z"
   },
   {
    "duration": 79,
    "start_time": "2022-07-03T11:49:58.507Z"
   },
   {
    "duration": 143,
    "start_time": "2022-07-03T11:50:12.993Z"
   },
   {
    "duration": 4191,
    "start_time": "2022-07-03T11:50:56.557Z"
   },
   {
    "duration": 3869,
    "start_time": "2022-07-03T11:51:53.210Z"
   },
   {
    "duration": 3876,
    "start_time": "2022-07-03T11:52:35.501Z"
   },
   {
    "duration": 3974,
    "start_time": "2022-07-03T11:53:32.519Z"
   },
   {
    "duration": 3832,
    "start_time": "2022-07-03T11:54:08.293Z"
   },
   {
    "duration": 4075,
    "start_time": "2022-07-03T11:54:18.596Z"
   },
   {
    "duration": 6154,
    "start_time": "2022-07-03T11:55:22.023Z"
   },
   {
    "duration": 12,
    "start_time": "2022-07-03T12:01:12.398Z"
   },
   {
    "duration": 35,
    "start_time": "2022-07-03T12:01:22.334Z"
   },
   {
    "duration": 34,
    "start_time": "2022-07-03T12:01:25.462Z"
   },
   {
    "duration": 34,
    "start_time": "2022-07-03T12:01:30.418Z"
   },
   {
    "duration": 9,
    "start_time": "2022-07-03T12:01:46.598Z"
   },
   {
    "duration": 1295,
    "start_time": "2022-07-03T12:01:51.860Z"
   },
   {
    "duration": 1912,
    "start_time": "2022-07-03T12:09:25.876Z"
   },
   {
    "duration": 341,
    "start_time": "2022-07-03T12:09:37.021Z"
   },
   {
    "duration": 1650,
    "start_time": "2022-07-03T12:10:16.836Z"
   },
   {
    "duration": 4617,
    "start_time": "2022-07-03T12:13:56.378Z"
   },
   {
    "duration": 36,
    "start_time": "2022-07-03T12:14:01.005Z"
   },
   {
    "duration": 15,
    "start_time": "2022-07-03T12:14:03.038Z"
   },
   {
    "duration": 473,
    "start_time": "2022-07-03T12:14:03.599Z"
   },
   {
    "duration": 39,
    "start_time": "2022-07-03T12:14:04.588Z"
   },
   {
    "duration": 4464,
    "start_time": "2022-07-03T12:14:05.044Z"
   },
   {
    "duration": 17,
    "start_time": "2022-07-03T12:14:09.513Z"
   },
   {
    "duration": 45,
    "start_time": "2022-07-03T12:14:11.643Z"
   },
   {
    "duration": 83,
    "start_time": "2022-07-03T12:14:12.500Z"
   },
   {
    "duration": 87,
    "start_time": "2022-07-03T12:14:13.116Z"
   },
   {
    "duration": 12,
    "start_time": "2022-07-03T12:14:16.213Z"
   },
   {
    "duration": 1237,
    "start_time": "2022-07-03T12:14:19.192Z"
   },
   {
    "duration": 1418,
    "start_time": "2022-07-03T12:14:28.797Z"
   },
   {
    "duration": 1496,
    "start_time": "2022-07-03T12:15:02.145Z"
   },
   {
    "duration": 2178,
    "start_time": "2022-07-03T12:15:23.929Z"
   },
   {
    "duration": 1103,
    "start_time": "2022-07-03T12:16:29.090Z"
   },
   {
    "duration": 228,
    "start_time": "2022-07-03T12:16:53.691Z"
   },
   {
    "duration": 1167,
    "start_time": "2022-07-03T12:17:33.029Z"
   },
   {
    "duration": 1228,
    "start_time": "2022-07-03T12:19:10.934Z"
   },
   {
    "duration": 1125,
    "start_time": "2022-07-03T12:20:00.147Z"
   },
   {
    "duration": 1984,
    "start_time": "2022-07-03T12:20:36.807Z"
   },
   {
    "duration": 4511,
    "start_time": "2022-07-03T12:20:56.629Z"
   },
   {
    "duration": 1245,
    "start_time": "2022-07-03T12:21:06.111Z"
   },
   {
    "duration": 167,
    "start_time": "2022-07-03T12:22:07.297Z"
   },
   {
    "duration": 31,
    "start_time": "2022-07-03T12:28:07.313Z"
   },
   {
    "duration": 42,
    "start_time": "2022-07-03T12:28:21.029Z"
   },
   {
    "duration": 32,
    "start_time": "2022-07-03T12:28:29.942Z"
   },
   {
    "duration": 23,
    "start_time": "2022-07-03T12:28:52.296Z"
   },
   {
    "duration": 28,
    "start_time": "2022-07-03T12:29:40.257Z"
   },
   {
    "duration": 37,
    "start_time": "2022-07-03T12:30:23.725Z"
   },
   {
    "duration": 23,
    "start_time": "2022-07-03T12:31:14.968Z"
   },
   {
    "duration": 19,
    "start_time": "2022-07-03T12:31:47.197Z"
   },
   {
    "duration": 26,
    "start_time": "2022-07-03T12:31:56.789Z"
   },
   {
    "duration": 26,
    "start_time": "2022-07-03T12:32:40.149Z"
   },
   {
    "duration": 24,
    "start_time": "2022-07-03T12:32:57.105Z"
   },
   {
    "duration": 48,
    "start_time": "2022-07-03T12:33:08.252Z"
   },
   {
    "duration": 6,
    "start_time": "2022-07-03T12:37:19.321Z"
   },
   {
    "duration": 10,
    "start_time": "2022-07-03T12:37:34.841Z"
   },
   {
    "duration": 52,
    "start_time": "2022-07-03T12:40:48.464Z"
   },
   {
    "duration": 2926,
    "start_time": "2022-07-03T14:23:09.155Z"
   },
   {
    "duration": 9,
    "start_time": "2022-07-03T14:23:12.175Z"
   },
   {
    "duration": 5,
    "start_time": "2022-07-03T14:23:13.011Z"
   },
   {
    "duration": 239,
    "start_time": "2022-07-03T14:23:14.599Z"
   },
   {
    "duration": 18,
    "start_time": "2022-07-03T14:23:16.734Z"
   },
   {
    "duration": 2951,
    "start_time": "2022-07-03T14:23:17.719Z"
   },
   {
    "duration": 7,
    "start_time": "2022-07-03T14:23:22.966Z"
   },
   {
    "duration": 12,
    "start_time": "2022-07-03T14:23:25.839Z"
   },
   {
    "duration": 23,
    "start_time": "2022-07-03T14:23:33.507Z"
   },
   {
    "duration": 20,
    "start_time": "2022-07-03T14:23:37.180Z"
   },
   {
    "duration": 8,
    "start_time": "2022-07-03T14:23:41.030Z"
   },
   {
    "duration": 752,
    "start_time": "2022-07-03T14:23:45.547Z"
   },
   {
    "duration": 11,
    "start_time": "2022-07-03T14:23:52.107Z"
   },
   {
    "duration": 73,
    "start_time": "2022-07-03T14:23:58.459Z"
   },
   {
    "duration": 8,
    "start_time": "2022-07-03T14:25:30.739Z"
   },
   {
    "duration": 8,
    "start_time": "2022-07-03T14:25:56.627Z"
   },
   {
    "duration": 14,
    "start_time": "2022-07-03T14:26:11.155Z"
   },
   {
    "duration": 20,
    "start_time": "2022-07-03T14:26:42.456Z"
   },
   {
    "duration": 10,
    "start_time": "2022-07-03T14:26:54.871Z"
   },
   {
    "duration": 12,
    "start_time": "2022-07-03T14:32:31.312Z"
   },
   {
    "duration": 14,
    "start_time": "2022-07-03T14:33:04.489Z"
   },
   {
    "duration": 13,
    "start_time": "2022-07-03T14:33:24.852Z"
   },
   {
    "duration": 12,
    "start_time": "2022-07-03T14:33:51.073Z"
   },
   {
    "duration": 11,
    "start_time": "2022-07-03T14:33:54.897Z"
   },
   {
    "duration": 219,
    "start_time": "2022-07-03T14:34:15.666Z"
   },
   {
    "duration": 11,
    "start_time": "2022-07-03T14:37:20.377Z"
   },
   {
    "duration": 12,
    "start_time": "2022-07-03T14:37:36.558Z"
   },
   {
    "duration": 11,
    "start_time": "2022-07-03T14:37:53.649Z"
   },
   {
    "duration": 353,
    "start_time": "2022-07-03T14:38:05.345Z"
   },
   {
    "duration": 298,
    "start_time": "2022-07-03T14:38:22.293Z"
   },
   {
    "duration": 99,
    "start_time": "2022-07-03T14:38:44.110Z"
   },
   {
    "duration": 320,
    "start_time": "2022-07-03T14:38:56.141Z"
   },
   {
    "duration": 230,
    "start_time": "2022-07-03T14:41:10.031Z"
   },
   {
    "duration": 225,
    "start_time": "2022-07-03T14:41:29.982Z"
   },
   {
    "duration": 216,
    "start_time": "2022-07-03T14:41:37.442Z"
   },
   {
    "duration": 57,
    "start_time": "2022-07-03T14:41:59.103Z"
   },
   {
    "duration": 240,
    "start_time": "2022-07-03T14:42:02.583Z"
   },
   {
    "duration": 59,
    "start_time": "2022-07-03T14:42:46.894Z"
   },
   {
    "duration": 207,
    "start_time": "2022-07-03T14:43:25.914Z"
   },
   {
    "duration": 64,
    "start_time": "2022-07-03T14:44:41.882Z"
   },
   {
    "duration": 52,
    "start_time": "2022-07-03T14:44:57.406Z"
   },
   {
    "duration": 260,
    "start_time": "2022-07-03T14:45:19.411Z"
   },
   {
    "duration": 356,
    "start_time": "2022-07-03T14:45:33.079Z"
   },
   {
    "duration": 257,
    "start_time": "2022-07-03T14:46:00.716Z"
   },
   {
    "duration": 307,
    "start_time": "2022-07-03T14:46:09.527Z"
   },
   {
    "duration": 17,
    "start_time": "2022-07-03T14:52:07.016Z"
   },
   {
    "duration": 16,
    "start_time": "2022-07-03T14:52:16.735Z"
   },
   {
    "duration": 13,
    "start_time": "2022-07-03T14:52:26.768Z"
   },
   {
    "duration": 15,
    "start_time": "2022-07-03T14:53:10.767Z"
   },
   {
    "duration": 61,
    "start_time": "2022-07-03T14:53:24.420Z"
   },
   {
    "duration": 54,
    "start_time": "2022-07-03T14:53:46.765Z"
   },
   {
    "duration": 20,
    "start_time": "2022-07-03T14:55:14.408Z"
   },
   {
    "duration": 2265,
    "start_time": "2022-07-03T14:55:44.749Z"
   },
   {
    "duration": 2865,
    "start_time": "2022-07-03T14:55:53.948Z"
   },
   {
    "duration": 9,
    "start_time": "2022-07-03T14:55:56.815Z"
   },
   {
    "duration": 9,
    "start_time": "2022-07-03T14:56:02.028Z"
   },
   {
    "duration": 250,
    "start_time": "2022-07-03T14:56:02.784Z"
   },
   {
    "duration": 10,
    "start_time": "2022-07-03T14:56:05.924Z"
   },
   {
    "duration": 3038,
    "start_time": "2022-07-03T14:56:06.832Z"
   },
   {
    "duration": 8,
    "start_time": "2022-07-03T14:56:11.828Z"
   },
   {
    "duration": 20,
    "start_time": "2022-07-03T14:56:19.824Z"
   },
   {
    "duration": 31,
    "start_time": "2022-07-03T14:56:20.928Z"
   },
   {
    "duration": 34,
    "start_time": "2022-07-03T14:56:21.952Z"
   },
   {
    "duration": 7,
    "start_time": "2022-07-03T14:56:24.833Z"
   },
   {
    "duration": 772,
    "start_time": "2022-07-03T14:56:31.070Z"
   },
   {
    "duration": 12,
    "start_time": "2022-07-03T14:56:39.552Z"
   },
   {
    "duration": 11,
    "start_time": "2022-07-03T14:56:42.175Z"
   },
   {
    "duration": 11,
    "start_time": "2022-07-03T14:56:52.524Z"
   },
   {
    "duration": 14,
    "start_time": "2022-07-03T14:56:58.537Z"
   },
   {
    "duration": 188,
    "start_time": "2022-07-03T14:57:33.028Z"
   },
   {
    "duration": 56,
    "start_time": "2022-07-03T14:57:48.248Z"
   },
   {
    "duration": 2845,
    "start_time": "2022-07-03T14:57:55.180Z"
   },
   {
    "duration": 10,
    "start_time": "2022-07-03T14:57:58.027Z"
   },
   {
    "duration": 12,
    "start_time": "2022-07-03T14:57:58.040Z"
   },
   {
    "duration": 264,
    "start_time": "2022-07-03T14:57:59.181Z"
   },
   {
    "duration": 10,
    "start_time": "2022-07-03T14:58:00.396Z"
   },
   {
    "duration": 3050,
    "start_time": "2022-07-03T14:58:00.728Z"
   },
   {
    "duration": 8,
    "start_time": "2022-07-03T14:58:03.780Z"
   },
   {
    "duration": 14,
    "start_time": "2022-07-03T14:58:04.004Z"
   },
   {
    "duration": 30,
    "start_time": "2022-07-03T14:58:04.685Z"
   },
   {
    "duration": 29,
    "start_time": "2022-07-03T14:58:05.076Z"
   },
   {
    "duration": 11,
    "start_time": "2022-07-03T14:58:07.624Z"
   },
   {
    "duration": 852,
    "start_time": "2022-07-03T14:58:08.592Z"
   },
   {
    "duration": 11,
    "start_time": "2022-07-03T14:58:13.275Z"
   },
   {
    "duration": 185,
    "start_time": "2022-07-03T14:58:15.736Z"
   },
   {
    "duration": 14,
    "start_time": "2022-07-03T14:58:25.792Z"
   },
   {
    "duration": 11,
    "start_time": "2022-07-03T14:58:45.540Z"
   },
   {
    "duration": 64,
    "start_time": "2022-07-03T14:58:54.800Z"
   },
   {
    "duration": 2799,
    "start_time": "2022-07-03T14:59:03.647Z"
   },
   {
    "duration": 10,
    "start_time": "2022-07-03T14:59:06.449Z"
   },
   {
    "duration": 5,
    "start_time": "2022-07-03T14:59:06.875Z"
   },
   {
    "duration": 266,
    "start_time": "2022-07-03T14:59:07.212Z"
   },
   {
    "duration": 13,
    "start_time": "2022-07-03T14:59:07.639Z"
   },
   {
    "duration": 2977,
    "start_time": "2022-07-03T14:59:07.880Z"
   },
   {
    "duration": 8,
    "start_time": "2022-07-03T14:59:13.132Z"
   },
   {
    "duration": 13,
    "start_time": "2022-07-03T14:59:17.040Z"
   },
   {
    "duration": 22,
    "start_time": "2022-07-03T14:59:18.480Z"
   },
   {
    "duration": 24,
    "start_time": "2022-07-03T14:59:21.586Z"
   },
   {
    "duration": 7,
    "start_time": "2022-07-03T14:59:24.188Z"
   },
   {
    "duration": 721,
    "start_time": "2022-07-03T14:59:26.240Z"
   },
   {
    "duration": 13,
    "start_time": "2022-07-03T14:59:30.256Z"
   },
   {
    "duration": 12,
    "start_time": "2022-07-03T14:59:32.616Z"
   },
   {
    "duration": 77,
    "start_time": "2022-07-03T15:00:25.175Z"
   },
   {
    "duration": 94,
    "start_time": "2022-07-03T15:00:33.275Z"
   },
   {
    "duration": 58,
    "start_time": "2022-07-03T15:01:30.276Z"
   },
   {
    "duration": 381,
    "start_time": "2022-07-03T15:01:32.936Z"
   },
   {
    "duration": 16,
    "start_time": "2022-07-03T15:05:47.136Z"
   },
   {
    "duration": 3202,
    "start_time": "2022-07-03T15:05:58.304Z"
   },
   {
    "duration": 12,
    "start_time": "2022-07-03T15:06:01.508Z"
   },
   {
    "duration": 71,
    "start_time": "2022-07-03T15:06:01.523Z"
   },
   {
    "duration": 350,
    "start_time": "2022-07-03T15:06:01.597Z"
   },
   {
    "duration": 13,
    "start_time": "2022-07-03T15:06:01.949Z"
   },
   {
    "duration": 3479,
    "start_time": "2022-07-03T15:06:01.964Z"
   },
   {
    "duration": 10,
    "start_time": "2022-07-03T15:06:05.446Z"
   },
   {
    "duration": 21,
    "start_time": "2022-07-03T15:06:07.869Z"
   },
   {
    "duration": 24,
    "start_time": "2022-07-03T15:06:08.620Z"
   },
   {
    "duration": 22,
    "start_time": "2022-07-03T15:06:09.325Z"
   },
   {
    "duration": 7,
    "start_time": "2022-07-03T15:06:12.508Z"
   },
   {
    "duration": 800,
    "start_time": "2022-07-03T15:06:13.189Z"
   },
   {
    "duration": 13,
    "start_time": "2022-07-03T15:06:16.549Z"
   },
   {
    "duration": 13,
    "start_time": "2022-07-03T15:06:18.485Z"
   },
   {
    "duration": 10,
    "start_time": "2022-07-03T15:06:27.529Z"
   },
   {
    "duration": 15,
    "start_time": "2022-07-03T15:07:27.529Z"
   },
   {
    "duration": 2896,
    "start_time": "2022-07-03T15:07:47.330Z"
   },
   {
    "duration": 12,
    "start_time": "2022-07-03T15:07:50.231Z"
   },
   {
    "duration": 6,
    "start_time": "2022-07-03T15:07:50.245Z"
   },
   {
    "duration": 402,
    "start_time": "2022-07-03T15:07:50.254Z"
   },
   {
    "duration": 16,
    "start_time": "2022-07-03T15:07:50.658Z"
   },
   {
    "duration": 3112,
    "start_time": "2022-07-03T15:07:50.677Z"
   },
   {
    "duration": 8,
    "start_time": "2022-07-03T15:07:53.791Z"
   },
   {
    "duration": 14,
    "start_time": "2022-07-03T15:07:55.789Z"
   },
   {
    "duration": 25,
    "start_time": "2022-07-03T15:07:56.468Z"
   },
   {
    "duration": 20,
    "start_time": "2022-07-03T15:07:57.253Z"
   },
   {
    "duration": 11,
    "start_time": "2022-07-03T15:07:59.129Z"
   },
   {
    "duration": 760,
    "start_time": "2022-07-03T15:07:59.837Z"
   },
   {
    "duration": 12,
    "start_time": "2022-07-03T15:08:03.173Z"
   },
   {
    "duration": 17,
    "start_time": "2022-07-03T15:08:04.317Z"
   },
   {
    "duration": 16,
    "start_time": "2022-07-03T15:10:20.929Z"
   },
   {
    "duration": 16,
    "start_time": "2022-07-03T15:10:34.597Z"
   },
   {
    "duration": 21,
    "start_time": "2022-07-03T15:10:44.370Z"
   },
   {
    "duration": 10,
    "start_time": "2022-07-03T15:11:55.226Z"
   },
   {
    "duration": 2975,
    "start_time": "2022-07-03T15:14:49.990Z"
   },
   {
    "duration": 2995,
    "start_time": "2022-07-03T15:15:03.498Z"
   },
   {
    "duration": 10,
    "start_time": "2022-07-03T15:15:09.534Z"
   },
   {
    "duration": 5,
    "start_time": "2022-07-03T15:15:11.987Z"
   },
   {
    "duration": 268,
    "start_time": "2022-07-03T15:15:13.598Z"
   },
   {
    "duration": 11,
    "start_time": "2022-07-03T15:15:16.934Z"
   },
   {
    "duration": 2905,
    "start_time": "2022-07-03T15:15:18.830Z"
   },
   {
    "duration": 8,
    "start_time": "2022-07-03T15:16:23.110Z"
   },
   {
    "duration": 20,
    "start_time": "2022-07-03T15:16:24.653Z"
   },
   {
    "duration": 27,
    "start_time": "2022-07-03T15:16:25.387Z"
   },
   {
    "duration": 34,
    "start_time": "2022-07-03T15:16:26.276Z"
   },
   {
    "duration": 10,
    "start_time": "2022-07-03T15:16:29.218Z"
   },
   {
    "duration": 848,
    "start_time": "2022-07-03T15:16:29.835Z"
   },
   {
    "duration": 13,
    "start_time": "2022-07-03T15:16:33.042Z"
   },
   {
    "duration": 73,
    "start_time": "2022-07-03T15:16:58.534Z"
   },
   {
    "duration": 55,
    "start_time": "2022-07-03T15:17:11.702Z"
   },
   {
    "duration": 7,
    "start_time": "2022-07-03T15:17:32.575Z"
   },
   {
    "duration": 13,
    "start_time": "2022-07-03T15:17:42.076Z"
   },
   {
    "duration": 2187,
    "start_time": "2022-07-03T15:18:07.979Z"
   },
   {
    "duration": 9,
    "start_time": "2022-07-03T15:18:13.526Z"
   },
   {
    "duration": 3055,
    "start_time": "2022-07-03T15:18:22.562Z"
   },
   {
    "duration": 9,
    "start_time": "2022-07-03T15:18:27.127Z"
   },
   {
    "duration": 5,
    "start_time": "2022-07-03T15:18:35.237Z"
   },
   {
    "duration": 236,
    "start_time": "2022-07-03T15:18:37.734Z"
   },
   {
    "duration": 10,
    "start_time": "2022-07-03T15:18:41.839Z"
   },
   {
    "duration": 3048,
    "start_time": "2022-07-03T15:18:50.306Z"
   },
   {
    "duration": 3095,
    "start_time": "2022-07-03T15:20:41.937Z"
   },
   {
    "duration": 2912,
    "start_time": "2022-07-03T15:21:10.511Z"
   },
   {
    "duration": 50,
    "start_time": "2022-07-03T15:33:09.521Z"
   },
   {
    "duration": 93,
    "start_time": "2022-07-03T15:33:34.688Z"
   },
   {
    "duration": 3375,
    "start_time": "2022-07-03T15:34:37.483Z"
   },
   {
    "duration": 3176,
    "start_time": "2022-07-03T15:34:52.787Z"
   },
   {
    "duration": 3427,
    "start_time": "2022-07-03T15:35:07.034Z"
   },
   {
    "duration": 3029,
    "start_time": "2022-07-03T15:35:32.230Z"
   },
   {
    "duration": 10,
    "start_time": "2022-07-03T15:35:35.349Z"
   },
   {
    "duration": 5,
    "start_time": "2022-07-03T15:35:36.187Z"
   },
   {
    "duration": 237,
    "start_time": "2022-07-03T15:35:36.837Z"
   },
   {
    "duration": 11,
    "start_time": "2022-07-03T15:35:38.737Z"
   },
   {
    "duration": 3220,
    "start_time": "2022-07-03T15:35:39.615Z"
   },
   {
    "duration": 3140,
    "start_time": "2022-07-03T15:37:08.080Z"
   },
   {
    "duration": 3249,
    "start_time": "2022-07-03T15:37:25.885Z"
   },
   {
    "duration": 3266,
    "start_time": "2022-07-03T15:40:23.003Z"
   },
   {
    "duration": 2907,
    "start_time": "2022-07-03T15:40:37.738Z"
   },
   {
    "duration": 2854,
    "start_time": "2022-07-03T15:40:52.739Z"
   },
   {
    "duration": 9,
    "start_time": "2022-07-03T15:40:55.784Z"
   },
   {
    "duration": 4,
    "start_time": "2022-07-03T15:40:56.785Z"
   },
   {
    "duration": 241,
    "start_time": "2022-07-03T15:40:57.486Z"
   },
   {
    "duration": 10,
    "start_time": "2022-07-03T15:40:59.508Z"
   },
   {
    "duration": 3377,
    "start_time": "2022-07-03T15:41:01.203Z"
   },
   {
    "duration": 2940,
    "start_time": "2022-07-03T15:41:38.716Z"
   },
   {
    "duration": 3116,
    "start_time": "2022-07-03T15:42:43.024Z"
   },
   {
    "duration": 63,
    "start_time": "2022-07-03T15:43:43.301Z"
   },
   {
    "duration": 3137,
    "start_time": "2022-07-03T15:43:59.738Z"
   },
   {
    "duration": 3146,
    "start_time": "2022-07-03T15:44:21.492Z"
   },
   {
    "duration": 17,
    "start_time": "2022-07-03T15:44:24.641Z"
   },
   {
    "duration": 14,
    "start_time": "2022-07-03T15:44:24.660Z"
   },
   {
    "duration": 390,
    "start_time": "2022-07-03T15:44:24.677Z"
   },
   {
    "duration": 11,
    "start_time": "2022-07-03T15:44:25.069Z"
   },
   {
    "duration": 3210,
    "start_time": "2022-07-03T15:44:25.168Z"
   },
   {
    "duration": 11,
    "start_time": "2022-07-03T16:02:23.929Z"
   },
   {
    "duration": 237,
    "start_time": "2022-07-03T16:02:41.434Z"
   },
   {
    "duration": 12,
    "start_time": "2022-07-03T16:03:49.157Z"
   },
   {
    "duration": 13,
    "start_time": "2022-07-03T16:04:00.045Z"
   },
   {
    "duration": 50,
    "start_time": "2022-07-03T16:04:08.806Z"
   },
   {
    "duration": 2732,
    "start_time": "2022-07-03T16:04:21.885Z"
   },
   {
    "duration": 11,
    "start_time": "2022-07-03T16:04:24.620Z"
   },
   {
    "duration": 5,
    "start_time": "2022-07-03T16:04:25.176Z"
   },
   {
    "duration": 236,
    "start_time": "2022-07-03T16:04:26.175Z"
   },
   {
    "duration": 13,
    "start_time": "2022-07-03T16:04:27.530Z"
   },
   {
    "duration": 3127,
    "start_time": "2022-07-03T16:04:28.245Z"
   },
   {
    "duration": 10,
    "start_time": "2022-07-03T16:04:31.942Z"
   },
   {
    "duration": 13,
    "start_time": "2022-07-03T16:04:34.487Z"
   },
   {
    "duration": 32,
    "start_time": "2022-07-03T16:04:36.741Z"
   },
   {
    "duration": 20,
    "start_time": "2022-07-03T16:04:40.917Z"
   },
   {
    "duration": 9,
    "start_time": "2022-07-03T16:04:42.437Z"
   },
   {
    "duration": 749,
    "start_time": "2022-07-03T16:04:43.233Z"
   },
   {
    "duration": 13,
    "start_time": "2022-07-03T16:04:44.738Z"
   },
   {
    "duration": 191,
    "start_time": "2022-07-03T16:04:46.481Z"
   },
   {
    "duration": 11,
    "start_time": "2022-07-03T16:04:49.629Z"
   },
   {
    "duration": 46,
    "start_time": "2022-07-03T16:05:58.744Z"
   },
   {
    "duration": 52,
    "start_time": "2022-07-03T16:06:30.541Z"
   },
   {
    "duration": 46,
    "start_time": "2022-07-03T16:06:35.432Z"
   },
   {
    "duration": 68,
    "start_time": "2022-07-03T16:06:52.271Z"
   },
   {
    "duration": 1125,
    "start_time": "2022-07-03T16:07:06.641Z"
   },
   {
    "duration": 6,
    "start_time": "2022-07-03T17:07:30.036Z"
   },
   {
    "duration": 15,
    "start_time": "2022-07-03T17:07:41.710Z"
   },
   {
    "duration": 2138,
    "start_time": "2022-07-03T17:08:18.030Z"
   },
   {
    "duration": 8,
    "start_time": "2022-07-03T17:08:20.231Z"
   },
   {
    "duration": 4,
    "start_time": "2022-07-03T17:08:20.699Z"
   },
   {
    "duration": 224,
    "start_time": "2022-07-03T17:08:20.926Z"
   },
   {
    "duration": 11,
    "start_time": "2022-07-03T17:08:21.843Z"
   },
   {
    "duration": 3076,
    "start_time": "2022-07-03T17:08:22.132Z"
   },
   {
    "duration": 8,
    "start_time": "2022-07-03T17:08:25.704Z"
   },
   {
    "duration": 14,
    "start_time": "2022-07-03T17:08:29.219Z"
   },
   {
    "duration": 23,
    "start_time": "2022-07-03T17:08:33.900Z"
   },
   {
    "duration": 19,
    "start_time": "2022-07-03T17:08:35.658Z"
   },
   {
    "duration": 7,
    "start_time": "2022-07-03T17:08:38.023Z"
   },
   {
    "duration": 738,
    "start_time": "2022-07-03T17:08:39.358Z"
   },
   {
    "duration": 12,
    "start_time": "2022-07-03T17:08:43.135Z"
   },
   {
    "duration": 12,
    "start_time": "2022-07-03T17:08:44.340Z"
   },
   {
    "duration": 15,
    "start_time": "2022-07-03T17:14:07.565Z"
   },
   {
    "duration": 14,
    "start_time": "2022-07-03T17:15:37.480Z"
   },
   {
    "duration": 14,
    "start_time": "2022-07-03T17:18:34.425Z"
   },
   {
    "duration": 174,
    "start_time": "2022-07-03T17:19:48.105Z"
   },
   {
    "duration": 1588,
    "start_time": "2022-07-03T17:20:41.578Z"
   },
   {
    "duration": 16,
    "start_time": "2022-07-03T17:23:06.701Z"
   },
   {
    "duration": 13,
    "start_time": "2022-07-03T17:23:26.956Z"
   },
   {
    "duration": 11,
    "start_time": "2022-07-03T17:23:38.953Z"
   },
   {
    "duration": 15,
    "start_time": "2022-07-03T17:23:59.886Z"
   },
   {
    "duration": 13,
    "start_time": "2022-07-03T17:24:44.201Z"
   },
   {
    "duration": 13,
    "start_time": "2022-07-03T17:24:51.653Z"
   },
   {
    "duration": 20,
    "start_time": "2022-07-03T17:25:00.428Z"
   },
   {
    "duration": 13,
    "start_time": "2022-07-03T17:25:39.081Z"
   },
   {
    "duration": 88,
    "start_time": "2022-07-03T17:26:14.936Z"
   },
   {
    "duration": 11,
    "start_time": "2022-07-03T17:26:37.087Z"
   },
   {
    "duration": 49,
    "start_time": "2022-07-03T17:27:30.440Z"
   },
   {
    "duration": 23,
    "start_time": "2022-07-03T17:27:36.221Z"
   },
   {
    "duration": 13,
    "start_time": "2022-07-03T17:27:53.193Z"
   },
   {
    "duration": 2956,
    "start_time": "2022-07-03T17:28:04.261Z"
   },
   {
    "duration": 12,
    "start_time": "2022-07-03T17:28:09.611Z"
   },
   {
    "duration": 5,
    "start_time": "2022-07-03T17:28:10.587Z"
   },
   {
    "duration": 272,
    "start_time": "2022-07-03T17:28:11.287Z"
   },
   {
    "duration": 10,
    "start_time": "2022-07-03T17:28:12.749Z"
   },
   {
    "duration": 3243,
    "start_time": "2022-07-03T17:28:13.917Z"
   },
   {
    "duration": 7,
    "start_time": "2022-07-03T17:28:17.697Z"
   },
   {
    "duration": 14,
    "start_time": "2022-07-03T17:28:19.787Z"
   },
   {
    "duration": 24,
    "start_time": "2022-07-03T17:28:20.680Z"
   },
   {
    "duration": 23,
    "start_time": "2022-07-03T17:28:21.281Z"
   },
   {
    "duration": 7,
    "start_time": "2022-07-03T17:28:23.783Z"
   },
   {
    "duration": 990,
    "start_time": "2022-07-03T17:28:25.021Z"
   },
   {
    "duration": 12,
    "start_time": "2022-07-03T17:28:31.001Z"
   },
   {
    "duration": 13,
    "start_time": "2022-07-03T17:28:33.141Z"
   },
   {
    "duration": 11,
    "start_time": "2022-07-03T17:28:36.549Z"
   },
   {
    "duration": 12,
    "start_time": "2022-07-03T17:28:37.740Z"
   },
   {
    "duration": 58,
    "start_time": "2022-07-03T17:28:46.145Z"
   },
   {
    "duration": 15,
    "start_time": "2022-07-03T17:29:24.193Z"
   },
   {
    "duration": 14,
    "start_time": "2022-07-03T17:29:27.335Z"
   },
   {
    "duration": 18,
    "start_time": "2022-07-03T17:29:31.158Z"
   },
   {
    "duration": 12,
    "start_time": "2022-07-03T17:29:47.645Z"
   },
   {
    "duration": 13,
    "start_time": "2022-07-03T17:30:08.505Z"
   },
   {
    "duration": 19,
    "start_time": "2022-07-03T17:30:16.313Z"
   },
   {
    "duration": 19,
    "start_time": "2022-07-03T17:30:19.814Z"
   },
   {
    "duration": 15,
    "start_time": "2022-07-03T17:30:33.197Z"
   },
   {
    "duration": 13,
    "start_time": "2022-07-03T17:30:54.841Z"
   },
   {
    "duration": 11,
    "start_time": "2022-07-03T17:31:03.184Z"
   },
   {
    "duration": 66,
    "start_time": "2022-07-03T17:31:14.241Z"
   },
   {
    "duration": 2853,
    "start_time": "2022-07-03T17:31:24.690Z"
   },
   {
    "duration": 9,
    "start_time": "2022-07-03T17:31:27.545Z"
   },
   {
    "duration": 6,
    "start_time": "2022-07-03T17:31:27.555Z"
   },
   {
    "duration": 241,
    "start_time": "2022-07-03T17:31:27.784Z"
   },
   {
    "duration": 18,
    "start_time": "2022-07-03T17:31:28.330Z"
   },
   {
    "duration": 3115,
    "start_time": "2022-07-03T17:31:28.588Z"
   },
   {
    "duration": 7,
    "start_time": "2022-07-03T17:31:31.705Z"
   },
   {
    "duration": 48,
    "start_time": "2022-07-03T17:31:31.714Z"
   },
   {
    "duration": 24,
    "start_time": "2022-07-03T17:31:32.487Z"
   },
   {
    "duration": 19,
    "start_time": "2022-07-03T17:31:33.586Z"
   },
   {
    "duration": 10,
    "start_time": "2022-07-03T17:31:35.621Z"
   },
   {
    "duration": 944,
    "start_time": "2022-07-03T17:31:36.587Z"
   },
   {
    "duration": 12,
    "start_time": "2022-07-03T17:31:39.186Z"
   },
   {
    "duration": 15,
    "start_time": "2022-07-03T17:31:40.026Z"
   },
   {
    "duration": 26,
    "start_time": "2022-07-03T17:31:42.410Z"
   },
   {
    "duration": 14,
    "start_time": "2022-07-03T17:31:43.262Z"
   },
   {
    "duration": 79,
    "start_time": "2022-07-03T17:31:49.377Z"
   },
   {
    "duration": 19,
    "start_time": "2022-07-03T17:33:13.886Z"
   },
   {
    "duration": 89,
    "start_time": "2022-07-03T17:33:16.053Z"
   },
   {
    "duration": 410,
    "start_time": "2022-07-03T17:33:35.126Z"
   },
   {
    "duration": 313,
    "start_time": "2022-07-03T17:33:51.340Z"
   },
   {
    "duration": 2928,
    "start_time": "2022-07-03T17:34:16.722Z"
   },
   {
    "duration": 9,
    "start_time": "2022-07-03T17:34:21.058Z"
   },
   {
    "duration": 5,
    "start_time": "2022-07-03T17:34:21.565Z"
   },
   {
    "duration": 271,
    "start_time": "2022-07-03T17:34:21.998Z"
   },
   {
    "duration": 16,
    "start_time": "2022-07-03T17:34:23.118Z"
   },
   {
    "duration": 3254,
    "start_time": "2022-07-03T17:34:23.643Z"
   },
   {
    "duration": 6,
    "start_time": "2022-07-03T17:34:26.900Z"
   },
   {
    "duration": 30,
    "start_time": "2022-07-03T17:34:26.908Z"
   },
   {
    "duration": 22,
    "start_time": "2022-07-03T17:34:26.945Z"
   },
   {
    "duration": 19,
    "start_time": "2022-07-03T17:34:26.968Z"
   },
   {
    "duration": 7,
    "start_time": "2022-07-03T17:34:29.258Z"
   },
   {
    "duration": 1022,
    "start_time": "2022-07-03T17:34:29.887Z"
   },
   {
    "duration": 15,
    "start_time": "2022-07-03T17:34:32.394Z"
   },
   {
    "duration": 16,
    "start_time": "2022-07-03T17:34:33.032Z"
   },
   {
    "duration": 12,
    "start_time": "2022-07-03T17:34:35.258Z"
   },
   {
    "duration": 15,
    "start_time": "2022-07-03T17:34:35.815Z"
   },
   {
    "duration": 80,
    "start_time": "2022-07-03T17:34:39.707Z"
   },
   {
    "duration": 88,
    "start_time": "2022-07-03T17:34:42.427Z"
   },
   {
    "duration": 14,
    "start_time": "2022-07-03T17:34:59.787Z"
   },
   {
    "duration": 14,
    "start_time": "2022-07-03T17:35:04.802Z"
   },
   {
    "duration": 14,
    "start_time": "2022-07-03T17:35:29.588Z"
   },
   {
    "duration": 14,
    "start_time": "2022-07-03T17:35:36.287Z"
   },
   {
    "duration": 392,
    "start_time": "2022-07-03T17:35:38.786Z"
   },
   {
    "duration": 64,
    "start_time": "2022-07-03T17:35:43.187Z"
   },
   {
    "duration": 9,
    "start_time": "2022-07-03T17:35:52.591Z"
   },
   {
    "duration": 16,
    "start_time": "2022-07-03T17:36:14.255Z"
   },
   {
    "duration": 28,
    "start_time": "2022-07-03T17:37:43.912Z"
   },
   {
    "duration": 506,
    "start_time": "2022-07-03T17:37:44.694Z"
   },
   {
    "duration": 13,
    "start_time": "2022-07-03T17:37:47.365Z"
   },
   {
    "duration": 36,
    "start_time": "2022-07-03T17:37:54.653Z"
   },
   {
    "duration": 10,
    "start_time": "2022-07-03T17:38:01.202Z"
   },
   {
    "duration": 11,
    "start_time": "2022-07-03T17:38:16.955Z"
   },
   {
    "duration": 8,
    "start_time": "2022-07-03T17:38:21.108Z"
   },
   {
    "duration": 353,
    "start_time": "2022-07-03T17:38:36.483Z"
   },
   {
    "duration": 246,
    "start_time": "2022-07-03T17:39:35.392Z"
   },
   {
    "duration": 281,
    "start_time": "2022-07-03T17:39:44.056Z"
   },
   {
    "duration": 364,
    "start_time": "2022-07-03T17:39:53.023Z"
   },
   {
    "duration": 282,
    "start_time": "2022-07-03T17:40:03.387Z"
   },
   {
    "duration": 256,
    "start_time": "2022-07-03T17:40:40.488Z"
   },
   {
    "duration": 268,
    "start_time": "2022-07-03T17:41:36.086Z"
   },
   {
    "duration": 163,
    "start_time": "2022-07-03T17:41:58.091Z"
   },
   {
    "duration": 142,
    "start_time": "2022-07-03T17:42:07.624Z"
   },
   {
    "duration": 242,
    "start_time": "2022-07-03T17:43:46.748Z"
   },
   {
    "duration": 231,
    "start_time": "2022-07-03T17:44:00.740Z"
   },
   {
    "duration": 334,
    "start_time": "2022-07-03T17:44:54.896Z"
   },
   {
    "duration": 296,
    "start_time": "2022-07-03T17:45:04.142Z"
   },
   {
    "duration": 236,
    "start_time": "2022-07-03T17:45:47.388Z"
   },
   {
    "duration": 247,
    "start_time": "2022-07-03T17:45:57.355Z"
   },
   {
    "duration": 14,
    "start_time": "2022-07-03T17:46:33.824Z"
   },
   {
    "duration": 399,
    "start_time": "2022-07-03T17:46:41.287Z"
   },
   {
    "duration": 345,
    "start_time": "2022-07-03T17:46:47.148Z"
   },
   {
    "duration": 251,
    "start_time": "2022-07-03T17:49:20.019Z"
   },
   {
    "duration": 226,
    "start_time": "2022-07-03T17:50:35.637Z"
   },
   {
    "duration": 238,
    "start_time": "2022-07-03T17:50:50.027Z"
   },
   {
    "duration": 162,
    "start_time": "2022-07-03T17:53:23.785Z"
   },
   {
    "duration": 204,
    "start_time": "2022-07-03T17:53:27.239Z"
   },
   {
    "duration": 417,
    "start_time": "2022-07-03T17:53:30.485Z"
   },
   {
    "duration": 158,
    "start_time": "2022-07-03T17:53:33.627Z"
   },
   {
    "duration": 116,
    "start_time": "2022-07-03T17:53:38.447Z"
   },
   {
    "duration": 1130,
    "start_time": "2022-07-03T17:53:45.479Z"
   },
   {
    "duration": 465,
    "start_time": "2022-07-03T17:54:24.199Z"
   },
   {
    "duration": 261,
    "start_time": "2022-07-03T17:55:26.341Z"
   },
   {
    "duration": 276,
    "start_time": "2022-07-03T17:55:38.128Z"
   },
   {
    "duration": 260,
    "start_time": "2022-07-03T17:56:22.442Z"
   },
   {
    "duration": 270,
    "start_time": "2022-07-03T17:57:15.176Z"
   },
   {
    "duration": 382,
    "start_time": "2022-07-03T17:57:28.431Z"
   },
   {
    "duration": 156,
    "start_time": "2022-07-03T17:58:40.659Z"
   },
   {
    "duration": 217,
    "start_time": "2022-07-03T17:58:56.734Z"
   },
   {
    "duration": 15,
    "start_time": "2022-07-03T17:59:24.443Z"
   },
   {
    "duration": 375,
    "start_time": "2022-07-03T17:59:41.927Z"
   },
   {
    "duration": 173,
    "start_time": "2022-07-03T18:00:11.711Z"
   },
   {
    "duration": 118,
    "start_time": "2022-07-03T18:00:20.970Z"
   },
   {
    "duration": 134,
    "start_time": "2022-07-03T18:00:36.047Z"
   },
   {
    "duration": 1504,
    "start_time": "2022-07-03T18:00:42.450Z"
   },
   {
    "duration": 70,
    "start_time": "2022-07-03T18:01:12.019Z"
   },
   {
    "duration": 191,
    "start_time": "2022-07-03T18:01:25.775Z"
   },
   {
    "duration": 138,
    "start_time": "2022-07-03T18:01:48.427Z"
   },
   {
    "duration": 155,
    "start_time": "2022-07-03T18:03:46.423Z"
   },
   {
    "duration": 172,
    "start_time": "2022-07-03T18:04:08.195Z"
   },
   {
    "duration": 236,
    "start_time": "2022-07-03T18:04:31.188Z"
   },
   {
    "duration": 425,
    "start_time": "2022-07-03T18:05:04.620Z"
   },
   {
    "duration": 256,
    "start_time": "2022-07-03T18:05:24.720Z"
   },
   {
    "duration": 245,
    "start_time": "2022-07-03T18:06:58.859Z"
   },
   {
    "duration": 70,
    "start_time": "2022-07-03T18:07:06.220Z"
   },
   {
    "duration": 361,
    "start_time": "2022-07-03T18:07:11.325Z"
   },
   {
    "duration": 10,
    "start_time": "2022-07-03T18:07:55.780Z"
   },
   {
    "duration": 15,
    "start_time": "2022-07-03T18:08:01.284Z"
   },
   {
    "duration": 12,
    "start_time": "2022-07-03T18:08:49.140Z"
   },
   {
    "duration": 23,
    "start_time": "2022-07-03T18:09:10.362Z"
   },
   {
    "duration": 183,
    "start_time": "2022-07-03T18:09:37.720Z"
   },
   {
    "duration": 81,
    "start_time": "2022-07-03T18:10:14.986Z"
   },
   {
    "duration": 1045,
    "start_time": "2022-07-03T18:10:25.780Z"
   },
   {
    "duration": 41,
    "start_time": "2022-07-03T18:10:56.328Z"
   },
   {
    "duration": 952,
    "start_time": "2022-07-03T18:13:50.541Z"
   },
   {
    "duration": 22,
    "start_time": "2022-07-03T18:14:45.556Z"
   },
   {
    "duration": 329,
    "start_time": "2022-07-03T18:15:20.356Z"
   },
   {
    "duration": 229,
    "start_time": "2022-07-03T18:16:58.783Z"
   },
   {
    "duration": 20,
    "start_time": "2022-07-03T18:17:04.886Z"
   },
   {
    "duration": 86,
    "start_time": "2022-07-03T18:17:09.849Z"
   },
   {
    "duration": 319,
    "start_time": "2022-07-03T18:18:24.501Z"
   },
   {
    "duration": 208,
    "start_time": "2022-07-03T18:19:35.457Z"
   },
   {
    "duration": 216,
    "start_time": "2022-07-03T18:20:05.091Z"
   },
   {
    "duration": 185,
    "start_time": "2022-07-03T18:21:10.886Z"
   },
   {
    "duration": 149,
    "start_time": "2022-07-03T18:21:35.348Z"
   },
   {
    "duration": 171,
    "start_time": "2022-07-03T18:23:05.213Z"
   },
   {
    "duration": 36,
    "start_time": "2022-07-03T18:23:25.736Z"
   },
   {
    "duration": 195,
    "start_time": "2022-07-03T18:24:11.247Z"
   },
   {
    "duration": 203,
    "start_time": "2022-07-03T18:24:17.702Z"
   },
   {
    "duration": 207,
    "start_time": "2022-07-03T18:24:26.398Z"
   },
   {
    "duration": 250,
    "start_time": "2022-07-03T18:24:28.326Z"
   },
   {
    "duration": 348,
    "start_time": "2022-07-03T18:24:34.788Z"
   },
   {
    "duration": 227,
    "start_time": "2022-07-03T18:24:41.055Z"
   },
   {
    "duration": 208,
    "start_time": "2022-07-03T18:24:48.527Z"
   },
   {
    "duration": 108,
    "start_time": "2022-07-03T18:25:02.390Z"
   },
   {
    "duration": 215,
    "start_time": "2022-07-03T18:25:06.390Z"
   },
   {
    "duration": 213,
    "start_time": "2022-07-03T18:35:24.978Z"
   },
   {
    "duration": 3241,
    "start_time": "2022-07-04T15:20:40.951Z"
   },
   {
    "duration": 18,
    "start_time": "2022-07-04T15:20:44.193Z"
   },
   {
    "duration": 5,
    "start_time": "2022-07-04T15:20:44.214Z"
   },
   {
    "duration": 296,
    "start_time": "2022-07-04T15:20:44.223Z"
   },
   {
    "duration": 15,
    "start_time": "2022-07-04T15:20:44.523Z"
   },
   {
    "duration": 3622,
    "start_time": "2022-07-04T15:20:44.540Z"
   },
   {
    "duration": 7,
    "start_time": "2022-07-04T15:20:48.164Z"
   },
   {
    "duration": 29,
    "start_time": "2022-07-04T15:20:48.172Z"
   },
   {
    "duration": 29,
    "start_time": "2022-07-04T15:20:48.204Z"
   },
   {
    "duration": 26,
    "start_time": "2022-07-04T15:20:48.236Z"
   },
   {
    "duration": 6,
    "start_time": "2022-07-04T15:20:48.264Z"
   },
   {
    "duration": 1053,
    "start_time": "2022-07-04T15:20:48.272Z"
   },
   {
    "duration": 14,
    "start_time": "2022-07-04T15:20:49.328Z"
   },
   {
    "duration": 12,
    "start_time": "2022-07-04T15:20:49.343Z"
   },
   {
    "duration": 11,
    "start_time": "2022-07-04T15:20:49.357Z"
   },
   {
    "duration": 38,
    "start_time": "2022-07-04T15:20:49.370Z"
   },
   {
    "duration": 60,
    "start_time": "2022-07-04T15:20:49.410Z"
   },
   {
    "duration": 34,
    "start_time": "2022-07-04T15:20:49.471Z"
   },
   {
    "duration": 438,
    "start_time": "2022-07-04T15:20:49.508Z"
   },
   {
    "duration": 6,
    "start_time": "2022-07-04T15:20:49.948Z"
   },
   {
    "duration": 287,
    "start_time": "2022-07-04T15:20:49.956Z"
   },
   {
    "duration": 171,
    "start_time": "2022-07-04T15:20:50.245Z"
   },
   {
    "duration": 229,
    "start_time": "2022-07-04T15:20:50.418Z"
   },
   {
    "duration": 332,
    "start_time": "2022-07-04T15:20:50.649Z"
   },
   {
    "duration": 183,
    "start_time": "2022-07-04T15:20:50.983Z"
   },
   {
    "duration": 133,
    "start_time": "2022-07-04T15:20:51.168Z"
   },
   {
    "duration": 1231,
    "start_time": "2022-07-04T15:20:51.303Z"
   },
   {
    "duration": 197,
    "start_time": "2022-07-04T15:20:52.537Z"
   },
   {
    "duration": 154,
    "start_time": "2022-07-04T15:20:52.735Z"
   },
   {
    "duration": 199,
    "start_time": "2022-07-04T15:20:52.890Z"
   },
   {
    "duration": 176,
    "start_time": "2022-07-04T15:20:53.090Z"
   },
   {
    "duration": 275,
    "start_time": "2022-07-04T15:20:53.268Z"
   },
   {
    "duration": 168,
    "start_time": "2022-07-04T15:20:53.545Z"
   },
   {
    "duration": 288,
    "start_time": "2022-07-04T15:20:53.716Z"
   },
   {
    "duration": 257,
    "start_time": "2022-07-04T15:20:54.006Z"
   },
   {
    "duration": 297,
    "start_time": "2022-07-04T15:20:54.265Z"
   },
   {
    "duration": 243,
    "start_time": "2022-07-04T15:20:54.564Z"
   },
   {
    "duration": 306,
    "start_time": "2022-07-04T15:20:54.809Z"
   },
   {
    "duration": 69,
    "start_time": "2022-07-04T15:20:55.118Z"
   },
   {
    "duration": 0,
    "start_time": "2022-07-04T15:20:55.189Z"
   },
   {
    "duration": 0,
    "start_time": "2022-07-04T15:20:55.191Z"
   },
   {
    "duration": 0,
    "start_time": "2022-07-04T15:20:55.192Z"
   },
   {
    "duration": 0,
    "start_time": "2022-07-04T15:20:55.193Z"
   },
   {
    "duration": 0,
    "start_time": "2022-07-04T15:20:55.195Z"
   },
   {
    "duration": 0,
    "start_time": "2022-07-04T15:20:55.196Z"
   },
   {
    "duration": 0,
    "start_time": "2022-07-04T15:20:55.197Z"
   },
   {
    "duration": 0,
    "start_time": "2022-07-04T15:20:55.198Z"
   },
   {
    "duration": 0,
    "start_time": "2022-07-04T15:20:55.199Z"
   },
   {
    "duration": 0,
    "start_time": "2022-07-04T15:20:55.200Z"
   },
   {
    "duration": 0,
    "start_time": "2022-07-04T15:20:55.202Z"
   },
   {
    "duration": 22,
    "start_time": "2022-07-04T15:21:44.684Z"
   },
   {
    "duration": 167,
    "start_time": "2022-07-04T15:22:05.057Z"
   },
   {
    "duration": 314,
    "start_time": "2022-07-04T15:22:06.522Z"
   },
   {
    "duration": 17,
    "start_time": "2022-07-04T15:23:10.428Z"
   },
   {
    "duration": 216,
    "start_time": "2022-07-04T15:25:52.915Z"
   },
   {
    "duration": 238,
    "start_time": "2022-07-04T15:25:53.866Z"
   },
   {
    "duration": 157,
    "start_time": "2022-07-04T15:25:55.780Z"
   },
   {
    "duration": 181,
    "start_time": "2022-07-04T15:25:56.697Z"
   },
   {
    "duration": 167,
    "start_time": "2022-07-04T15:25:57.530Z"
   },
   {
    "duration": 156,
    "start_time": "2022-07-04T15:25:58.057Z"
   },
   {
    "duration": 75,
    "start_time": "2022-07-04T15:25:59.282Z"
   },
   {
    "duration": 185,
    "start_time": "2022-07-04T15:26:00.762Z"
   },
   {
    "duration": 3277,
    "start_time": "2022-07-04T15:28:42.715Z"
   },
   {
    "duration": 16,
    "start_time": "2022-07-04T15:28:45.994Z"
   },
   {
    "duration": 14,
    "start_time": "2022-07-04T15:28:46.012Z"
   },
   {
    "duration": 276,
    "start_time": "2022-07-04T15:28:46.029Z"
   },
   {
    "duration": 15,
    "start_time": "2022-07-04T15:28:46.309Z"
   },
   {
    "duration": 3516,
    "start_time": "2022-07-04T15:28:46.329Z"
   },
   {
    "duration": 7,
    "start_time": "2022-07-04T15:28:49.847Z"
   },
   {
    "duration": 36,
    "start_time": "2022-07-04T15:28:49.855Z"
   },
   {
    "duration": 31,
    "start_time": "2022-07-04T15:28:49.893Z"
   },
   {
    "duration": 22,
    "start_time": "2022-07-04T15:28:49.926Z"
   },
   {
    "duration": 6,
    "start_time": "2022-07-04T15:28:49.949Z"
   },
   {
    "duration": 1035,
    "start_time": "2022-07-04T15:28:49.957Z"
   },
   {
    "duration": 14,
    "start_time": "2022-07-04T15:28:50.994Z"
   },
   {
    "duration": 15,
    "start_time": "2022-07-04T15:28:51.013Z"
   },
   {
    "duration": 13,
    "start_time": "2022-07-04T15:28:51.030Z"
   },
   {
    "duration": 23,
    "start_time": "2022-07-04T15:28:51.045Z"
   },
   {
    "duration": 97,
    "start_time": "2022-07-04T15:28:51.069Z"
   },
   {
    "duration": 14,
    "start_time": "2022-07-04T15:28:51.168Z"
   },
   {
    "duration": 448,
    "start_time": "2022-07-04T15:28:51.183Z"
   },
   {
    "duration": 7,
    "start_time": "2022-07-04T15:28:51.633Z"
   },
   {
    "duration": 288,
    "start_time": "2022-07-04T15:28:51.643Z"
   },
   {
    "duration": 183,
    "start_time": "2022-07-04T15:28:51.934Z"
   },
   {
    "duration": 244,
    "start_time": "2022-07-04T15:28:52.119Z"
   },
   {
    "duration": 338,
    "start_time": "2022-07-04T15:28:52.365Z"
   },
   {
    "duration": 200,
    "start_time": "2022-07-04T15:28:52.706Z"
   },
   {
    "duration": 145,
    "start_time": "2022-07-04T15:28:52.908Z"
   },
   {
    "duration": 1281,
    "start_time": "2022-07-04T15:28:53.055Z"
   },
   {
    "duration": 216,
    "start_time": "2022-07-04T15:28:54.338Z"
   },
   {
    "duration": 172,
    "start_time": "2022-07-04T15:28:54.556Z"
   },
   {
    "duration": 250,
    "start_time": "2022-07-04T15:28:54.731Z"
   },
   {
    "duration": 209,
    "start_time": "2022-07-04T15:28:54.983Z"
   },
   {
    "duration": 346,
    "start_time": "2022-07-04T15:28:55.194Z"
   },
   {
    "duration": 181,
    "start_time": "2022-07-04T15:28:55.542Z"
   },
   {
    "duration": 278,
    "start_time": "2022-07-04T15:28:55.726Z"
   },
   {
    "duration": 258,
    "start_time": "2022-07-04T15:28:56.006Z"
   },
   {
    "duration": 289,
    "start_time": "2022-07-04T15:28:56.266Z"
   },
   {
    "duration": 258,
    "start_time": "2022-07-04T15:28:56.556Z"
   },
   {
    "duration": 259,
    "start_time": "2022-07-04T15:28:56.816Z"
   },
   {
    "duration": 35,
    "start_time": "2022-07-04T15:28:57.077Z"
   },
   {
    "duration": 83,
    "start_time": "2022-07-04T15:28:57.115Z"
   },
   {
    "duration": 315,
    "start_time": "2022-07-04T15:28:57.203Z"
   },
   {
    "duration": 221,
    "start_time": "2022-07-04T15:28:57.521Z"
   },
   {
    "duration": 220,
    "start_time": "2022-07-04T15:28:57.743Z"
   },
   {
    "duration": 154,
    "start_time": "2022-07-04T15:28:57.965Z"
   },
   {
    "duration": 163,
    "start_time": "2022-07-04T15:28:58.121Z"
   },
   {
    "duration": 174,
    "start_time": "2022-07-04T15:28:58.285Z"
   },
   {
    "duration": 161,
    "start_time": "2022-07-04T15:28:58.461Z"
   },
   {
    "duration": 62,
    "start_time": "2022-07-04T15:28:58.625Z"
   },
   {
    "duration": 179,
    "start_time": "2022-07-04T15:28:58.704Z"
   },
   {
    "duration": 2517,
    "start_time": "2022-07-04T16:43:10.456Z"
   },
   {
    "duration": 8,
    "start_time": "2022-07-04T16:43:12.974Z"
   },
   {
    "duration": 4,
    "start_time": "2022-07-04T16:43:12.984Z"
   },
   {
    "duration": 196,
    "start_time": "2022-07-04T16:43:13.179Z"
   },
   {
    "duration": 10,
    "start_time": "2022-07-04T16:43:13.891Z"
   },
   {
    "duration": 2561,
    "start_time": "2022-07-04T16:43:14.099Z"
   },
   {
    "duration": 5,
    "start_time": "2022-07-04T16:43:16.662Z"
   },
   {
    "duration": 11,
    "start_time": "2022-07-04T16:43:17.415Z"
   },
   {
    "duration": 20,
    "start_time": "2022-07-04T16:43:17.651Z"
   },
   {
    "duration": 16,
    "start_time": "2022-07-04T16:43:17.863Z"
   },
   {
    "duration": 5,
    "start_time": "2022-07-04T16:43:19.256Z"
   },
   {
    "duration": 758,
    "start_time": "2022-07-04T16:43:19.464Z"
   },
   {
    "duration": 10,
    "start_time": "2022-07-04T16:43:20.811Z"
   },
   {
    "duration": 10,
    "start_time": "2022-07-04T16:43:21.823Z"
   },
   {
    "duration": 10,
    "start_time": "2022-07-04T16:43:23.934Z"
   },
   {
    "duration": 11,
    "start_time": "2022-07-04T16:43:24.948Z"
   },
   {
    "duration": 12,
    "start_time": "2022-07-04T16:43:26.999Z"
   },
   {
    "duration": 47,
    "start_time": "2022-07-04T16:43:34.854Z"
   },
   {
    "duration": 12,
    "start_time": "2022-07-04T16:44:23.527Z"
   },
   {
    "duration": 12,
    "start_time": "2022-07-04T16:44:36.208Z"
   },
   {
    "duration": 12,
    "start_time": "2022-07-04T16:44:46.212Z"
   },
   {
    "duration": 65,
    "start_time": "2022-07-04T16:44:52.263Z"
   },
   {
    "duration": 9,
    "start_time": "2022-07-04T16:44:52.656Z"
   },
   {
    "duration": 11,
    "start_time": "2022-07-04T16:44:53.176Z"
   },
   {
    "duration": 10,
    "start_time": "2022-07-04T16:44:53.556Z"
   },
   {
    "duration": 15,
    "start_time": "2022-07-04T16:44:55.508Z"
   },
   {
    "duration": 1922,
    "start_time": "2022-07-04T16:45:28.704Z"
   },
   {
    "duration": 6,
    "start_time": "2022-07-04T16:45:30.628Z"
   },
   {
    "duration": 6,
    "start_time": "2022-07-04T16:45:30.635Z"
   },
   {
    "duration": 200,
    "start_time": "2022-07-04T16:45:30.643Z"
   },
   {
    "duration": 9,
    "start_time": "2022-07-04T16:45:30.845Z"
   },
   {
    "duration": 2597,
    "start_time": "2022-07-04T16:45:30.855Z"
   },
   {
    "duration": 6,
    "start_time": "2022-07-04T16:45:33.453Z"
   },
   {
    "duration": 13,
    "start_time": "2022-07-04T16:45:33.460Z"
   },
   {
    "duration": 33,
    "start_time": "2022-07-04T16:45:33.474Z"
   },
   {
    "duration": 16,
    "start_time": "2022-07-04T16:45:33.509Z"
   },
   {
    "duration": 5,
    "start_time": "2022-07-04T16:45:33.526Z"
   },
   {
    "duration": 850,
    "start_time": "2022-07-04T16:45:33.532Z"
   },
   {
    "duration": 16,
    "start_time": "2022-07-04T16:45:34.384Z"
   },
   {
    "duration": 9,
    "start_time": "2022-07-04T16:45:34.402Z"
   },
   {
    "duration": 8,
    "start_time": "2022-07-04T16:45:34.412Z"
   },
   {
    "duration": 10,
    "start_time": "2022-07-04T16:45:34.421Z"
   },
   {
    "duration": 8,
    "start_time": "2022-07-04T16:45:34.433Z"
   },
   {
    "duration": 16,
    "start_time": "2022-07-04T16:45:35.400Z"
   },
   {
    "duration": 12,
    "start_time": "2022-07-04T16:45:36.580Z"
   },
   {
    "duration": 244,
    "start_time": "2022-07-04T16:45:36.784Z"
   },
   {
    "duration": 8,
    "start_time": "2022-07-04T16:45:37.179Z"
   },
   {
    "duration": 186,
    "start_time": "2022-07-04T16:45:38.180Z"
   },
   {
    "duration": 116,
    "start_time": "2022-07-04T16:45:38.800Z"
   },
   {
    "duration": 154,
    "start_time": "2022-07-04T16:45:39.211Z"
   },
   {
    "duration": 231,
    "start_time": "2022-07-04T16:45:39.600Z"
   },
   {
    "duration": 183,
    "start_time": "2022-07-04T16:45:40.016Z"
   },
   {
    "duration": 122,
    "start_time": "2022-07-04T16:45:40.419Z"
   },
   {
    "duration": 818,
    "start_time": "2022-07-04T16:45:41.016Z"
   },
   {
    "duration": 145,
    "start_time": "2022-07-04T16:45:41.836Z"
   },
   {
    "duration": 184,
    "start_time": "2022-07-04T16:45:41.982Z"
   },
   {
    "duration": 159,
    "start_time": "2022-07-04T16:45:42.168Z"
   },
   {
    "duration": 120,
    "start_time": "2022-07-04T16:45:42.392Z"
   },
   {
    "duration": 120,
    "start_time": "2022-07-04T16:45:42.815Z"
   },
   {
    "duration": 136,
    "start_time": "2022-07-04T16:45:43.176Z"
   },
   {
    "duration": 182,
    "start_time": "2022-07-04T16:45:43.580Z"
   },
   {
    "duration": 165,
    "start_time": "2022-07-04T16:45:43.976Z"
   },
   {
    "duration": 202,
    "start_time": "2022-07-04T16:45:44.604Z"
   },
   {
    "duration": 230,
    "start_time": "2022-07-04T16:45:45.180Z"
   },
   {
    "duration": 180,
    "start_time": "2022-07-04T16:45:45.589Z"
   },
   {
    "duration": 16,
    "start_time": "2022-07-04T16:45:46.428Z"
   },
   {
    "duration": 76,
    "start_time": "2022-07-04T16:45:46.667Z"
   },
   {
    "duration": 187,
    "start_time": "2022-07-04T16:45:46.879Z"
   },
   {
    "duration": 158,
    "start_time": "2022-07-04T16:45:47.504Z"
   },
   {
    "duration": 156,
    "start_time": "2022-07-04T16:45:47.716Z"
   },
   {
    "duration": 108,
    "start_time": "2022-07-04T16:45:48.352Z"
   },
   {
    "duration": 122,
    "start_time": "2022-07-04T16:45:48.816Z"
   },
   {
    "duration": 124,
    "start_time": "2022-07-04T16:45:49.231Z"
   },
   {
    "duration": 119,
    "start_time": "2022-07-04T16:45:49.668Z"
   },
   {
    "duration": 51,
    "start_time": "2022-07-04T16:45:50.308Z"
   },
   {
    "duration": 127,
    "start_time": "2022-07-04T16:45:50.968Z"
   },
   {
    "duration": 3768,
    "start_time": "2022-07-04T20:57:40.068Z"
   },
   {
    "duration": 9,
    "start_time": "2022-07-04T20:57:43.838Z"
   },
   {
    "duration": 16,
    "start_time": "2022-07-04T20:57:43.861Z"
   },
   {
    "duration": 235,
    "start_time": "2022-07-04T20:57:43.879Z"
   },
   {
    "duration": 10,
    "start_time": "2022-07-04T20:57:44.115Z"
   },
   {
    "duration": 3089,
    "start_time": "2022-07-04T20:57:44.126Z"
   },
   {
    "duration": 6,
    "start_time": "2022-07-04T20:57:47.217Z"
   },
   {
    "duration": 12,
    "start_time": "2022-07-04T20:57:47.225Z"
   },
   {
    "duration": 42,
    "start_time": "2022-07-04T20:57:47.239Z"
   },
   {
    "duration": 18,
    "start_time": "2022-07-04T20:57:47.284Z"
   },
   {
    "duration": 6,
    "start_time": "2022-07-04T20:57:47.304Z"
   },
   {
    "duration": 913,
    "start_time": "2022-07-04T20:57:47.311Z"
   },
   {
    "duration": 13,
    "start_time": "2022-07-04T20:57:48.225Z"
   },
   {
    "duration": 37,
    "start_time": "2022-07-04T20:57:48.240Z"
   },
   {
    "duration": 10,
    "start_time": "2022-07-04T20:57:48.279Z"
   },
   {
    "duration": 16,
    "start_time": "2022-07-04T20:57:48.290Z"
   },
   {
    "duration": 9,
    "start_time": "2022-07-04T20:57:48.308Z"
   },
   {
    "duration": 63,
    "start_time": "2022-07-04T20:57:48.319Z"
   },
   {
    "duration": 14,
    "start_time": "2022-07-04T20:57:48.384Z"
   },
   {
    "duration": 404,
    "start_time": "2022-07-04T20:57:48.399Z"
   },
   {
    "duration": 9,
    "start_time": "2022-07-04T20:57:48.804Z"
   },
   {
    "duration": 234,
    "start_time": "2022-07-04T20:57:48.815Z"
   },
   {
    "duration": 153,
    "start_time": "2022-07-04T20:57:49.050Z"
   },
   {
    "duration": 206,
    "start_time": "2022-07-04T20:57:49.205Z"
   },
   {
    "duration": 289,
    "start_time": "2022-07-04T20:57:49.413Z"
   },
   {
    "duration": 165,
    "start_time": "2022-07-04T20:57:49.703Z"
   },
   {
    "duration": 147,
    "start_time": "2022-07-04T20:57:49.872Z"
   },
   {
    "duration": 1056,
    "start_time": "2022-07-04T20:57:50.023Z"
   },
   {
    "duration": 166,
    "start_time": "2022-07-04T20:57:51.080Z"
   },
   {
    "duration": 145,
    "start_time": "2022-07-04T20:57:51.248Z"
   },
   {
    "duration": 178,
    "start_time": "2022-07-04T20:57:51.395Z"
   },
   {
    "duration": 156,
    "start_time": "2022-07-04T20:57:51.575Z"
   },
   {
    "duration": 258,
    "start_time": "2022-07-04T20:57:51.733Z"
   },
   {
    "duration": 173,
    "start_time": "2022-07-04T20:57:51.992Z"
   },
   {
    "duration": 223,
    "start_time": "2022-07-04T20:57:52.167Z"
   },
   {
    "duration": 204,
    "start_time": "2022-07-04T20:57:52.392Z"
   },
   {
    "duration": 245,
    "start_time": "2022-07-04T20:57:52.597Z"
   },
   {
    "duration": 211,
    "start_time": "2022-07-04T20:57:52.844Z"
   },
   {
    "duration": 212,
    "start_time": "2022-07-04T20:57:53.067Z"
   },
   {
    "duration": 18,
    "start_time": "2022-07-04T20:57:53.280Z"
   },
   {
    "duration": 89,
    "start_time": "2022-07-04T20:57:53.300Z"
   },
   {
    "duration": 283,
    "start_time": "2022-07-04T20:57:53.390Z"
   },
   {
    "duration": 183,
    "start_time": "2022-07-04T20:57:53.674Z"
   },
   {
    "duration": 188,
    "start_time": "2022-07-04T20:57:53.860Z"
   },
   {
    "duration": 142,
    "start_time": "2022-07-04T20:57:54.050Z"
   },
   {
    "duration": 180,
    "start_time": "2022-07-04T20:57:54.193Z"
   },
   {
    "duration": 158,
    "start_time": "2022-07-04T20:57:54.375Z"
   },
   {
    "duration": 176,
    "start_time": "2022-07-04T20:57:54.535Z"
   },
   {
    "duration": 71,
    "start_time": "2022-07-04T20:57:54.714Z"
   },
   {
    "duration": 162,
    "start_time": "2022-07-04T20:57:54.788Z"
   },
   {
    "duration": 30,
    "start_time": "2022-07-04T20:57:56.355Z"
   }
  ],
  "kernelspec": {
   "display_name": "Python 3 (ipykernel)",
   "language": "python",
   "name": "python3"
  },
  "language_info": {
   "codemirror_mode": {
    "name": "ipython",
    "version": 3
   },
   "file_extension": ".py",
   "mimetype": "text/x-python",
   "name": "python",
   "nbconvert_exporter": "python",
   "pygments_lexer": "ipython3",
   "version": "3.9.5"
  },
  "toc": {
   "base_numbering": 1,
   "nav_menu": {},
   "number_sections": true,
   "sideBar": true,
   "skip_h1_title": true,
   "title_cell": "Table of Contents",
   "title_sidebar": "Contents",
   "toc_cell": false,
   "toc_position": {
    "height": "calc(100% - 180px)",
    "left": "10px",
    "top": "150px",
    "width": "253px"
   },
   "toc_section_display": true,
   "toc_window_display": true
  },
  "widgets": {
   "application/vnd.jupyter.widget-state+json": {
    "state": {},
    "version_major": 2,
    "version_minor": 0
   }
  }
 },
 "nbformat": 4,
 "nbformat_minor": 2
}
