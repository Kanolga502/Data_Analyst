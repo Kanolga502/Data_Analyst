{
 "cells": [
  {
   "cell_type": "markdown",
   "metadata": {},
   "source": [
    "<div style=\"border:solid Chocolate 2px; padding: 40px\">\n",
    "    \n",
    "Привет👋 На данном этапе мои замечания будут выглядеть таким образом:\n",
    "    \n",
    "<h2> Комментарий ревьюера #3 <a class=\"tocSkip\"> </h2> \n",
    "\n"
   ]
  },
  {
   "cell_type": "markdown",
   "metadata": {},
   "source": [
    "<div style=\"border:solid Chocolate 2px; padding: 40px\">\n",
    "    \n",
    "Привет👋 Для того чтобы не создалась путаница я буду вставлять номер версии проверки в комментарии и на данном этапе мои замечания будут выглядеть таким образом:\n",
    "    \n",
    "<h2> Комментарий ревьюера #2 <a class=\"tocSkip\"> </h2> \n",
    "\n",
    "Ты также можешь реагировать на мои комментарии своими, выделяя их цветом отличным от моего и маркируя версию 😉."
   ]
  },
  {
   "cell_type": "markdown",
   "metadata": {},
   "source": [
    "<div style=\"border:solid Chocolate 2px; padding: 40px\">\n",
    "\n",
    "<b>Ольга, привет!👋</b>\n",
    "\n",
    "Меня зовут Юлия Булекова, я буду ревьюером твоего проекта. Ты можешь обращаться ко мне на \"ты\"😏 Надеюсь, тебя также не смутит, если я буду обращаться к тебе на \"ты\", но если это неудобно, обязательно скажи об этом!\n",
    "\n",
    "Пожалуйста, не удаляй мои комментарии, они будут особенно полезны для нашей работы в случае повторной проверки проекта. \n",
    "\n",
    "\n",
    "\n",
    "Ты можешь найти мои комментарии, обозначенные <font color='green'>зеленым</font>, <font color='gold'>желтым</font> и <font color='red'>красным</font> цветами, например:\n",
    "\n",
    "<br/>\n",
    "\n",
    "<div class=\"alert alert-success\">\n",
    "<h2> Комментарий ревьюера <a class=\"tocSkip\"> </h2>\n",
    "\n",
    "<b>Все отлично!👍:</b> В случае, если решение на отдельном шаге является полностью правильным.\n",
    "</div>\n",
    "\n",
    "<br/>\n",
    "\n",
    "<div class=\"alert alert-warning\">\n",
    "    <h2> Комментарий ревьюера <a class=\"tocSkip\"> </h2>\n",
    "    \n",
    "<b>Некоторые замечания и рекомендации💡:</b> В случае, когда решение на отдельном шаге станет еще лучше, если внести небольшие коррективы.\n",
    "</div>\n",
    "\n",
    "\n",
    "<br/>\n",
    "<div class=\"alert alert-block alert-danger\">\n",
    "<h2> Комментарий ревьюера <a class=\"tocSkip\"></h2>\n",
    "\n",
    "    \n",
    "<b>На доработку🤔:</b>\n",
    " В случае, когда решение на отдельном шаге требует существенной переработки и внесения правок. Напоминаю, что проект не может быть принят с первого раза, если ревью содержит комментарии, рекомендующие доработать шаги.\n",
    "</div>\n",
    "    \n",
    "Увидев у тебя неточность, в первый раз я лишь укажу на ее наличие и дам тебе возможность самому найти и исправить ее. На реальной работе твой руководитель будет поступать также, и я пытаюсь подготовить тебя именно к работе аналитиком. Но если ты пока не справишься с такой задачей - при следующей проверке я дам более точную подсказку!🤓\n",
    "    \n",
    "    \n",
    "Предлагаю работать над проектом в диалоге: если ты хочешь ответить на мои комментарии — пиши об этом. Мне будет легче отследить изменения, если ты выделишь свои комментарии вот так:\n",
    "\n",
    "<div class=\"alert alert-info\">\n",
    "<h2> Комментарий студента<a class=\"tocSkip\"></h2>\n",
    "\n",
    "Тут текст.\n",
    "</div>\n",
    "\n",
    "\n",
    "Всё это поможет выполнить повторную проверку твоего проекта оперативнее."
   ]
  },
  {
   "cell_type": "markdown",
   "metadata": {},
   "source": [
    "<div class=\"alert alert-warning\">\n",
    "    <h2> Комментарий ревьюера VERS#1 <a class=\"tocSkip\"> </h2>\n",
    "    \n",
    "<b>Некоторые замечания и рекомендации💡:</b> \n",
    "\n",
    "1. В начале работы стоит обратить внимание на оформление: было бы здорово добавить описание, а также интерактивное оглавление. Сделать данное оглавление можно с помощью гиперссылок или в плагине toc. Инструкции содержатся в notion. Ссылку на notion и доступ можно получить у куратора.\n",
    "        \n",
    "2. Для каждого раздела необходимо добавить название. Таким образом проект приобретет структурированный и логически оформленный вид. Общие рекомендации по оформлению содеражатся в notion: Оформление проекта/Как оформлять проект."
   ]
  },
  {
   "cell_type": "markdown",
   "metadata": {},
   "source": [
    "<div class=\"alert alert-warning\">\n",
    "    <h2> Комментарий ревьюера VERS#2 <a class=\"tocSkip\"> </h2>\n",
    "    \n",
    "<b>Некоторые замечания и рекомендации💡:</b> \n",
    "\n",
    "Плюс за добавление названия разделов👌. В начало проекта можно еще скопировать описание из бриф."
   ]
  },
  {
   "cell_type": "markdown",
   "metadata": {},
   "source": [
    "<div class=\"alert alert-success\"> \n",
    "<h2> Комментарий ревьюера  VERS#3 <a class=\"tocSkip\"> </h2>\n",
    "\n",
    "<b>Все отлично!👍:</b> \n",
    "    \n",
    "Здорово, что добавлено описание.👍👍👍 Для максимального перфекционизма рекомендую настроить интерактивное оглавление."
   ]
  },
  {
   "cell_type": "markdown",
   "metadata": {},
   "source": [
    "# Описание проекта\n",
    "Вы работаете в интернет-магазине «Стримчик», который продаёт по всему миру компьютерные игры. Из открытых источников доступны исторические данные о продажах игр, оценки пользователей и экспертов, жанры и платформы (например, Xbox или PlayStation). Вам нужно выявить определяющие успешность игры закономерности. Это позволит сделать ставку на потенциально популярный продукт и спланировать рекламные кампании.\n",
    "Перед вами данные до 2016 года. Представим, что сейчас декабрь 2016 г., и вы планируете кампанию на 2017-й. Нужно отработать принцип работы с данными. Неважно, прогнозируете ли вы продажи на 2017 год по данным 2016-го или же 2027-й — по данным 2026 года.\n",
    "В наборе данных попадается аббревиатура ESRB (Entertainment Software Rating Board) — это ассоциация, определяющая возрастной рейтинг компьютерных игр. ESRB оценивает игровой контент и присваивает ему подходящую возрастную категорию, например, «Для взрослых», «Для детей младшего возраста» или «Для подростков»."
   ]
  },
  {
   "cell_type": "markdown",
   "metadata": {},
   "source": [
    "# Сборный проект 1"
   ]
  },
  {
   "cell_type": "markdown",
   "metadata": {},
   "source": [
    "# Шаг 1. Откройте файл с данными и изучите общую информацию"
   ]
  },
  {
   "cell_type": "code",
   "execution_count": 1,
   "metadata": {
    "scrolled": true
   },
   "outputs": [],
   "source": [
    "#открываем фал и выводим информацию на экран\n",
    "import pandas as pd\n",
    "import numpy as np \n",
    "import seaborn as sns\n",
    "import matplotlib.pyplot as plt\n",
    "from scipy import stats as st\n",
    "\n"
   ]
  },
  {
   "cell_type": "code",
   "execution_count": 2,
   "metadata": {},
   "outputs": [],
   "source": [
    "try:\n",
    "    data = pd.read_csv('game_data.csv')#здесь указывается локальный путь\n",
    "except:\n",
    "    data= pd.read_csv('/datasets/games.csv')# чтение файла из общего доступа"
   ]
  },
  {
   "cell_type": "markdown",
   "metadata": {},
   "source": [
    "<div class=\"alert alert-warning\">\n",
    "    <h2> Комментарий ревьюера VERS#1<a class=\"tocSkip\"> </h2>\n",
    "    \n",
    "<b>Некоторые замечания и рекомендации💡:</b>\n",
    "\n",
    "1.Код на подгрузку библиотек и чтение файла необходимо разграничивать.\n",
    "        \n",
    "2.В данной ячейке можно не применять метод display для data.head(), так как выводится результат только одной операции. \n",
    " \n",
    "3.Для подгрузки данных рекомендую использовать конструкцию `try-except`, она поможет избежать потенциальных ошибок при загрузке данных, связанных, например, с некорректным указанием путей.\n",
    "        \n",
    "Подробнее о конструкции по ссылке:\n",
    "        \n",
    "https://pythonworld.ru/tipy-dannyx-v-python/isklyucheniya-v-python-konstrukciya-try-except-dlya-obrabotki-isklyuchenij.html\n",
    "        \n",
    "Либо же можно использовать стандартную библиотеку os:\n",
    "        \n",
    "https://pythonworld.ru/moduli/modul-os.html\n",
    "        \n",
    "Несколько интересных статей кейсы использования конструкции `try-except`:\n",
    "    \n",
    "https://www.programiz.com/python-programming/exception-handling\n",
    "    \n",
    "https://towardsdatascience.com/do-not-abuse-try-except-in-python-d9b8ee59e23b\n",
    "    \n",
    "https://www.techbeamers.com/use-try-except-python/"
   ]
  },
  {
   "cell_type": "markdown",
   "metadata": {},
   "source": [
    "<div class=\"alert alert-warning\">\n",
    "    <h2> Комментарий ревьюера VERS#2 <a class=\"tocSkip\"> </h2>\n",
    "    \n",
    "<b>Некоторые замечания и рекомендации💡:</b> \n",
    "\n",
    "1. Все используемые библиотеки теперь в начале проекта, но код на чтение файла не отделен от них(. Согласно общепринятому стандарту библиотеки лучше вынести в отдельную ячейку от остальных участков кода.\n",
    "        \n",
    "2. Относительно try-except добавлю: в данной конструкции указывать доступ к локальным файлам и к файлам из общего доступа,\n",
    "    и тогда код может выглядеть таким образом:\n",
    "        \n",
    "        try:\n",
    "           df = pd.read_csv('game_data.csv')#здесь указывается локальный путь\n",
    "\n",
    "        except:\n",
    "           df= pd.read_csv('/datasets/game.csv')# чтение файла из общего доступа"
   ]
  },
  {
   "cell_type": "markdown",
   "metadata": {},
   "source": [
    "<div class=\"alert alert-success\"> \n",
    "<h2> Комментарий ревьюера  VERS#3 <a class=\"tocSkip\"> </h2>\n",
    "\n",
    "<b>Все отлично!👍:</b> \n",
    "    \n",
    "В текущей версии ячейки выше оформлены наилушчим образом 🤗🤗🤗.\n"
   ]
  },
  {
   "cell_type": "markdown",
   "metadata": {},
   "source": [
    "# Шаг 2. Подготовьте данные\n"
   ]
  },
  {
   "cell_type": "code",
   "execution_count": 3,
   "metadata": {
    "scrolled": true
   },
   "outputs": [
    {
     "data": {
      "text/html": [
       "<div>\n",
       "<style scoped>\n",
       "    .dataframe tbody tr th:only-of-type {\n",
       "        vertical-align: middle;\n",
       "    }\n",
       "\n",
       "    .dataframe tbody tr th {\n",
       "        vertical-align: top;\n",
       "    }\n",
       "\n",
       "    .dataframe thead th {\n",
       "        text-align: right;\n",
       "    }\n",
       "</style>\n",
       "<table border=\"1\" class=\"dataframe\">\n",
       "  <thead>\n",
       "    <tr style=\"text-align: right;\">\n",
       "      <th></th>\n",
       "      <th>name</th>\n",
       "      <th>platform</th>\n",
       "      <th>year_of_release</th>\n",
       "      <th>genre</th>\n",
       "      <th>na_sales</th>\n",
       "      <th>eu_sales</th>\n",
       "      <th>jp_sales</th>\n",
       "      <th>other_sales</th>\n",
       "      <th>critic_score</th>\n",
       "      <th>user_score</th>\n",
       "      <th>rating</th>\n",
       "    </tr>\n",
       "  </thead>\n",
       "  <tbody>\n",
       "    <tr>\n",
       "      <th>0</th>\n",
       "      <td>Wii Sports</td>\n",
       "      <td>Wii</td>\n",
       "      <td>2006.0</td>\n",
       "      <td>Sports</td>\n",
       "      <td>41.36</td>\n",
       "      <td>28.96</td>\n",
       "      <td>3.77</td>\n",
       "      <td>8.45</td>\n",
       "      <td>76.0</td>\n",
       "      <td>8</td>\n",
       "      <td>E</td>\n",
       "    </tr>\n",
       "    <tr>\n",
       "      <th>1</th>\n",
       "      <td>Super Mario Bros.</td>\n",
       "      <td>NES</td>\n",
       "      <td>1985.0</td>\n",
       "      <td>Platform</td>\n",
       "      <td>29.08</td>\n",
       "      <td>3.58</td>\n",
       "      <td>6.81</td>\n",
       "      <td>0.77</td>\n",
       "      <td>NaN</td>\n",
       "      <td>NaN</td>\n",
       "      <td>NaN</td>\n",
       "    </tr>\n",
       "    <tr>\n",
       "      <th>2</th>\n",
       "      <td>Mario Kart Wii</td>\n",
       "      <td>Wii</td>\n",
       "      <td>2008.0</td>\n",
       "      <td>Racing</td>\n",
       "      <td>15.68</td>\n",
       "      <td>12.76</td>\n",
       "      <td>3.79</td>\n",
       "      <td>3.29</td>\n",
       "      <td>82.0</td>\n",
       "      <td>8.3</td>\n",
       "      <td>E</td>\n",
       "    </tr>\n",
       "    <tr>\n",
       "      <th>3</th>\n",
       "      <td>Wii Sports Resort</td>\n",
       "      <td>Wii</td>\n",
       "      <td>2009.0</td>\n",
       "      <td>Sports</td>\n",
       "      <td>15.61</td>\n",
       "      <td>10.93</td>\n",
       "      <td>3.28</td>\n",
       "      <td>2.95</td>\n",
       "      <td>80.0</td>\n",
       "      <td>8</td>\n",
       "      <td>E</td>\n",
       "    </tr>\n",
       "    <tr>\n",
       "      <th>4</th>\n",
       "      <td>Pokemon Red/Pokemon Blue</td>\n",
       "      <td>GB</td>\n",
       "      <td>1996.0</td>\n",
       "      <td>Role-Playing</td>\n",
       "      <td>11.27</td>\n",
       "      <td>8.89</td>\n",
       "      <td>10.22</td>\n",
       "      <td>1.00</td>\n",
       "      <td>NaN</td>\n",
       "      <td>NaN</td>\n",
       "      <td>NaN</td>\n",
       "    </tr>\n",
       "  </tbody>\n",
       "</table>\n",
       "</div>"
      ],
      "text/plain": [
       "                       name platform  year_of_release         genre  na_sales  \\\n",
       "0                Wii Sports      Wii           2006.0        Sports     41.36   \n",
       "1         Super Mario Bros.      NES           1985.0      Platform     29.08   \n",
       "2            Mario Kart Wii      Wii           2008.0        Racing     15.68   \n",
       "3         Wii Sports Resort      Wii           2009.0        Sports     15.61   \n",
       "4  Pokemon Red/Pokemon Blue       GB           1996.0  Role-Playing     11.27   \n",
       "\n",
       "   eu_sales  jp_sales  other_sales  critic_score user_score rating  \n",
       "0     28.96      3.77         8.45          76.0          8      E  \n",
       "1      3.58      6.81         0.77           NaN        NaN    NaN  \n",
       "2     12.76      3.79         3.29          82.0        8.3      E  \n",
       "3     10.93      3.28         2.95          80.0          8      E  \n",
       "4      8.89     10.22         1.00           NaN        NaN    NaN  "
      ]
     },
     "metadata": {},
     "output_type": "display_data"
    }
   ],
   "source": [
    "#заменяем названия столбцов, приводим все к нижнему регистру\n",
    "data.columns = data.columns.str.lower()\n",
    "display(data.head())"
   ]
  },
  {
   "cell_type": "code",
   "execution_count": 4,
   "metadata": {
    "scrolled": true
   },
   "outputs": [
    {
     "name": "stdout",
     "output_type": "stream",
     "text": [
      "<class 'pandas.core.frame.DataFrame'>\n",
      "RangeIndex: 16715 entries, 0 to 16714\n",
      "Data columns (total 11 columns):\n",
      " #   Column           Non-Null Count  Dtype  \n",
      "---  ------           --------------  -----  \n",
      " 0   name             16713 non-null  object \n",
      " 1   platform         16715 non-null  object \n",
      " 2   year_of_release  16446 non-null  float64\n",
      " 3   genre            16713 non-null  object \n",
      " 4   na_sales         16715 non-null  float64\n",
      " 5   eu_sales         16715 non-null  float64\n",
      " 6   jp_sales         16715 non-null  float64\n",
      " 7   other_sales      16715 non-null  float64\n",
      " 8   critic_score     8137 non-null   float64\n",
      " 9   user_score       10014 non-null  object \n",
      " 10  rating           9949 non-null   object \n",
      "dtypes: float64(6), object(5)\n",
      "memory usage: 1.4+ MB\n",
      "name                  2\n",
      "platform              0\n",
      "year_of_release     269\n",
      "genre                 2\n",
      "na_sales              0\n",
      "eu_sales              0\n",
      "jp_sales              0\n",
      "other_sales           0\n",
      "critic_score       8578\n",
      "user_score         6701\n",
      "rating             6766\n",
      "dtype: int64\n"
     ]
    }
   ],
   "source": [
    "#проверяем данные на типы и на пропуски\n",
    "data.info()\n",
    "print(data.isna().sum())"
   ]
  },
  {
   "cell_type": "code",
   "execution_count": 5,
   "metadata": {
    "scrolled": true
   },
   "outputs": [
    {
     "name": "stdout",
     "output_type": "stream",
     "text": [
      "name                  0\n",
      "platform              0\n",
      "year_of_release       0\n",
      "genre                 0\n",
      "na_sales              0\n",
      "eu_sales              0\n",
      "jp_sales              0\n",
      "other_sales           0\n",
      "critic_score       8461\n",
      "user_score         6605\n",
      "rating             6676\n",
      "dtype: int64\n"
     ]
    }
   ],
   "source": [
    "#удалим пропуски,которые не повлияют на исследование, чтобы в дальнейшем преобразовать в инт\n",
    "data=data.dropna(subset=['name'])\n",
    "data=data.dropna(subset=['genre'])\n",
    "data=data.dropna(subset=['year_of_release'])\n",
    "print(data.isna().sum())"
   ]
  },
  {
   "cell_type": "markdown",
   "metadata": {},
   "source": [
    "<div class=\"alert alert-block alert-danger\">\n",
    "<h2> Комментарий ревьюера VERS#1<a class=\"tocSkip\"></h2>\n",
    "\n",
    "    \n",
    "<b>На доработку🤔:</b>\n",
    "\n",
    "При расчете медианы, ты делаешь группировку по na_sales. Данный  метод берет в основу определенный объем продаж и для него ищет медианное значение года и логически для такого подхода достаточно сложно найти аргументы, тем более, для группировки по объему продаж в конкретном регионе. Здесь группировку следует произвести по другому параметру, например, по платформе. В общем, отмечу, что количество пропусков в колонке  составляет менее 2% от общего числа строк и такую малую долю пропусков для экономии времени можно сразу удалить. Также данная рекомендация по удалению справедлива для пропусков в колонках name и  genre.\n",
    "\n",
    "</div>\n"
   ]
  },
  {
   "cell_type": "markdown",
   "metadata": {},
   "source": [
    "<div class=\"alert alert-success\"> \n",
    "<h2> Комментарий ревьюера  VERS#2 <a class=\"tocSkip\"> </h2>\n",
    "\n",
    "<b>Все отлично!👍:</b> \n",
    "    \n",
    "Удаление значений в данных колонках произведено корректно.\n"
   ]
  },
  {
   "cell_type": "code",
   "execution_count": 6,
   "metadata": {},
   "outputs": [],
   "source": [
    "data['year_of_release']=data['year_of_release'].astype('int')"
   ]
  },
  {
   "cell_type": "markdown",
   "metadata": {},
   "source": [
    "<div class=\"alert alert-warning\">\n",
    "    <h2> Комментарий ревьюера VERS#1<a class=\"tocSkip\"> </h2>\n",
    "    \n",
    "<b>Некоторые замечания и рекомендации💡:</b> \n",
    "     \n",
    " Команду display в display(data.head()) также можно удалить.\n",
    "        \n",
    "***В работе лучше оформлять код лаконично и не использовать лишние команды, там где они не несут дополнительного функционала. Это рекомендация относится ко всему проекту.***"
   ]
  },
  {
   "cell_type": "code",
   "execution_count": 7,
   "metadata": {},
   "outputs": [
    {
     "data": {
      "text/plain": [
       "array(['8', nan, '8.3', '8.5', '6.6', '8.4', '8.6', '7.7', '6.3', '7.4',\n",
       "       '8.2', '9', '7.9', '8.1', '8.7', '7.1', '3.4', '5.3', '4.8', '3.2',\n",
       "       '8.9', '6.4', '7.8', '7.5', '2.6', '7.2', '9.2', '7', '7.3', '4.3',\n",
       "       '7.6', '5.7', '5', '9.1', '6.5', 'tbd', '8.8', '6.9', '9.4', '6.8',\n",
       "       '6.1', '6.7', '5.4', '4', '4.9', '4.5', '9.3', '6.2', '4.2', '6',\n",
       "       '3.7', '4.1', '5.8', '5.6', '5.5', '4.4', '4.6', '5.9', '3.9',\n",
       "       '3.1', '2.9', '5.2', '3.3', '4.7', '5.1', '3.5', '2.5', '1.9', '3',\n",
       "       '2.7', '2.2', '2', '9.5', '2.1', '3.6', '2.8', '1.8', '3.8', '0',\n",
       "       '1.6', '9.6', '2.4', '1.7', '1.1', '0.3', '1.5', '0.7', '1.2',\n",
       "       '2.3', '0.5', '1.3', '0.2', '0.6', '1.4', '0.9', '1', '9.7'],\n",
       "      dtype=object)"
      ]
     },
     "execution_count": 7,
     "metadata": {},
     "output_type": "execute_result"
    }
   ],
   "source": [
    "# далее поработаем со столбцом user_score,видим здесь пропуски и странное значение tbd\n",
    "data['user_score'].unique()"
   ]
  },
  {
   "cell_type": "markdown",
   "metadata": {},
   "source": [
    "<div class=\"alert alert-success\"> \n",
    "<h2> Комментарий ревьюера  VERS#1 <a class=\"tocSkip\"> </h2>\n",
    "\n",
    "<b>Все отлично!👍:</b> \n",
    "    \n",
    " Действительно, tbd не несет никакого смысла, поэтому следует такие значения заменить на NaN\n"
   ]
  },
  {
   "cell_type": "code",
   "execution_count": 8,
   "metadata": {},
   "outputs": [
    {
     "name": "stdout",
     "output_type": "stream",
     "text": [
      "8981\n"
     ]
    }
   ],
   "source": [
    "# заменим эти данные так как нам неизвестно происхождение tbd на пропуски, чтоб в дальнейшем работать с пропусками, предположим чтоэто ошибка в системе анпример или еще где-то\n",
    "data.loc[data['user_score']=='tbd','user_score'] = np.nan\n",
    "# проверим на пропуски\n",
    "print(data['user_score'].isna().sum())"
   ]
  },
  {
   "cell_type": "markdown",
   "metadata": {},
   "source": [
    "<div class=\"alert alert-warning\">\n",
    "    <h2> Комментарий ревьюера VERS#1<a class=\"tocSkip\"> </h2>\n",
    "    \n",
    "<b>Некоторые замечания и рекомендации💡:</b> \n",
    "     \n",
    "1. Загрузку всех используемых библиотек необходимо осуществлять в начале проекта, поэтому import numpy as np  следует перенести в ячейку к import pandas as pd.\n",
    "2. Строка data.loc[data['user_score']=='tbd'] излишня, ее необходимо удалить  и ,в целом, в работе не стоит оставлять такие безфункциональные операции.\n"
   ]
  },
  {
   "cell_type": "code",
   "execution_count": 9,
   "metadata": {},
   "outputs": [
    {
     "data": {
      "text/html": [
       "<div>\n",
       "<style scoped>\n",
       "    .dataframe tbody tr th:only-of-type {\n",
       "        vertical-align: middle;\n",
       "    }\n",
       "\n",
       "    .dataframe tbody tr th {\n",
       "        vertical-align: top;\n",
       "    }\n",
       "\n",
       "    .dataframe thead th {\n",
       "        text-align: right;\n",
       "    }\n",
       "</style>\n",
       "<table border=\"1\" class=\"dataframe\">\n",
       "  <thead>\n",
       "    <tr style=\"text-align: right;\">\n",
       "      <th></th>\n",
       "      <th>name</th>\n",
       "      <th>platform</th>\n",
       "      <th>year_of_release</th>\n",
       "      <th>genre</th>\n",
       "      <th>na_sales</th>\n",
       "      <th>eu_sales</th>\n",
       "      <th>jp_sales</th>\n",
       "      <th>other_sales</th>\n",
       "      <th>critic_score</th>\n",
       "      <th>user_score</th>\n",
       "      <th>rating</th>\n",
       "    </tr>\n",
       "  </thead>\n",
       "  <tbody>\n",
       "    <tr>\n",
       "      <th>0</th>\n",
       "      <td>Wii Sports</td>\n",
       "      <td>Wii</td>\n",
       "      <td>2006</td>\n",
       "      <td>Sports</td>\n",
       "      <td>41.36</td>\n",
       "      <td>28.96</td>\n",
       "      <td>3.77</td>\n",
       "      <td>8.45</td>\n",
       "      <td>76.0</td>\n",
       "      <td>8.0</td>\n",
       "      <td>E</td>\n",
       "    </tr>\n",
       "    <tr>\n",
       "      <th>1</th>\n",
       "      <td>Super Mario Bros.</td>\n",
       "      <td>NES</td>\n",
       "      <td>1985</td>\n",
       "      <td>Platform</td>\n",
       "      <td>29.08</td>\n",
       "      <td>3.58</td>\n",
       "      <td>6.81</td>\n",
       "      <td>0.77</td>\n",
       "      <td>NaN</td>\n",
       "      <td>NaN</td>\n",
       "      <td>NaN</td>\n",
       "    </tr>\n",
       "    <tr>\n",
       "      <th>2</th>\n",
       "      <td>Mario Kart Wii</td>\n",
       "      <td>Wii</td>\n",
       "      <td>2008</td>\n",
       "      <td>Racing</td>\n",
       "      <td>15.68</td>\n",
       "      <td>12.76</td>\n",
       "      <td>3.79</td>\n",
       "      <td>3.29</td>\n",
       "      <td>82.0</td>\n",
       "      <td>8.3</td>\n",
       "      <td>E</td>\n",
       "    </tr>\n",
       "    <tr>\n",
       "      <th>3</th>\n",
       "      <td>Wii Sports Resort</td>\n",
       "      <td>Wii</td>\n",
       "      <td>2009</td>\n",
       "      <td>Sports</td>\n",
       "      <td>15.61</td>\n",
       "      <td>10.93</td>\n",
       "      <td>3.28</td>\n",
       "      <td>2.95</td>\n",
       "      <td>80.0</td>\n",
       "      <td>8.0</td>\n",
       "      <td>E</td>\n",
       "    </tr>\n",
       "    <tr>\n",
       "      <th>4</th>\n",
       "      <td>Pokemon Red/Pokemon Blue</td>\n",
       "      <td>GB</td>\n",
       "      <td>1996</td>\n",
       "      <td>Role-Playing</td>\n",
       "      <td>11.27</td>\n",
       "      <td>8.89</td>\n",
       "      <td>10.22</td>\n",
       "      <td>1.00</td>\n",
       "      <td>NaN</td>\n",
       "      <td>NaN</td>\n",
       "      <td>NaN</td>\n",
       "    </tr>\n",
       "  </tbody>\n",
       "</table>\n",
       "</div>"
      ],
      "text/plain": [
       "                       name platform  year_of_release         genre  na_sales  \\\n",
       "0                Wii Sports      Wii             2006        Sports     41.36   \n",
       "1         Super Mario Bros.      NES             1985      Platform     29.08   \n",
       "2            Mario Kart Wii      Wii             2008        Racing     15.68   \n",
       "3         Wii Sports Resort      Wii             2009        Sports     15.61   \n",
       "4  Pokemon Red/Pokemon Blue       GB             1996  Role-Playing     11.27   \n",
       "\n",
       "   eu_sales  jp_sales  other_sales  critic_score  user_score rating  \n",
       "0     28.96      3.77         8.45          76.0         8.0      E  \n",
       "1      3.58      6.81         0.77           NaN         NaN    NaN  \n",
       "2     12.76      3.79         3.29          82.0         8.3      E  \n",
       "3     10.93      3.28         2.95          80.0         8.0      E  \n",
       "4      8.89     10.22         1.00           NaN         NaN    NaN  "
      ]
     },
     "metadata": {},
     "output_type": "display_data"
    }
   ],
   "source": [
    "#заменим в столбце user_score тип данных, на данные с плавающей запятой\n",
    "data['user_score'] = data['user_score'].astype('float')\n",
    "display(data.head())"
   ]
  },
  {
   "cell_type": "code",
   "execution_count": 10,
   "metadata": {},
   "outputs": [],
   "source": [
    "#заменим пропуски в необходимых столбцах,так чтобы они были Вне рейтинга\n",
    "data['user_score'] = data['user_score'].fillna(-1)\n",
    "data['critic_score'] = data['critic_score'].fillna(-1)\n",
    "data['rating'] = data['rating'].fillna('out of rating')\n",
    "data['genre'] = data['genre'].fillna('no genre')\n",
    "data['name'] = data['name'].fillna('no name')"
   ]
  },
  {
   "cell_type": "code",
   "execution_count": 11,
   "metadata": {
    "scrolled": false
   },
   "outputs": [
    {
     "name": "stdout",
     "output_type": "stream",
     "text": [
      "name               0\n",
      "platform           0\n",
      "year_of_release    0\n",
      "genre              0\n",
      "na_sales           0\n",
      "eu_sales           0\n",
      "jp_sales           0\n",
      "other_sales        0\n",
      "critic_score       0\n",
      "user_score         0\n",
      "rating             0\n",
      "dtype: int64\n"
     ]
    }
   ],
   "source": [
    "#проверим,что пропусков нет\n",
    "print(data.isna().sum())"
   ]
  },
  {
   "cell_type": "markdown",
   "metadata": {},
   "source": [
    "<div class=\"alert alert-success\">\n",
    "<h2> Комментарий ревьюера VERS#1<a class=\"tocSkip\"> </h2>\n",
    "\n",
    "<b>Все отлично!👍:</b> \n",
    "    \n",
    "Ольга, ты предложила определенные подходы к работе с пропусками в данных, в целом, на этом шаге ты поработал с пропусками во всех столбцах, где они присутствовали: произвел замену  пустых значений в year_of_release  и ввела значения \"заглушки\" в других столбцах,  что в целом тоже может быть стратегией работы. В целом метод обработки пропусков с помощью замены/удаления следует применять аккуратно, выполняя проверку на объективность, например, сравнив распределения и ключевые статистики до и после замены пропусков. Использование  заглушек потенциально может привести к проблемам при анализе влияния отзывов на продажи, необходимо отслеживать это.\n",
    "Хочу посоветовать тебе статью, которая рассматривает разные способы обработки пропусков, в том числе их удаление/игнорирование, выделяет их плюсы и минусы, думаю, тебе может быть интересно: https://loginom.ru/blog/missing"
   ]
  },
  {
   "cell_type": "code",
   "execution_count": 12,
   "metadata": {
    "scrolled": true
   },
   "outputs": [
    {
     "data": {
      "text/html": [
       "<div>\n",
       "<style scoped>\n",
       "    .dataframe tbody tr th:only-of-type {\n",
       "        vertical-align: middle;\n",
       "    }\n",
       "\n",
       "    .dataframe tbody tr th {\n",
       "        vertical-align: top;\n",
       "    }\n",
       "\n",
       "    .dataframe thead th {\n",
       "        text-align: right;\n",
       "    }\n",
       "</style>\n",
       "<table border=\"1\" class=\"dataframe\">\n",
       "  <thead>\n",
       "    <tr style=\"text-align: right;\">\n",
       "      <th></th>\n",
       "      <th>name</th>\n",
       "      <th>platform</th>\n",
       "      <th>year_of_release</th>\n",
       "      <th>genre</th>\n",
       "      <th>na_sales</th>\n",
       "      <th>eu_sales</th>\n",
       "      <th>jp_sales</th>\n",
       "      <th>other_sales</th>\n",
       "      <th>critic_score</th>\n",
       "      <th>user_score</th>\n",
       "      <th>rating</th>\n",
       "      <th>total_sales</th>\n",
       "    </tr>\n",
       "  </thead>\n",
       "  <tbody>\n",
       "    <tr>\n",
       "      <th>0</th>\n",
       "      <td>Wii Sports</td>\n",
       "      <td>Wii</td>\n",
       "      <td>2006</td>\n",
       "      <td>Sports</td>\n",
       "      <td>41.36</td>\n",
       "      <td>28.96</td>\n",
       "      <td>3.77</td>\n",
       "      <td>8.45</td>\n",
       "      <td>76.0</td>\n",
       "      <td>8.0</td>\n",
       "      <td>E</td>\n",
       "      <td>82.54</td>\n",
       "    </tr>\n",
       "    <tr>\n",
       "      <th>1</th>\n",
       "      <td>Super Mario Bros.</td>\n",
       "      <td>NES</td>\n",
       "      <td>1985</td>\n",
       "      <td>Platform</td>\n",
       "      <td>29.08</td>\n",
       "      <td>3.58</td>\n",
       "      <td>6.81</td>\n",
       "      <td>0.77</td>\n",
       "      <td>-1.0</td>\n",
       "      <td>-1.0</td>\n",
       "      <td>out of rating</td>\n",
       "      <td>40.24</td>\n",
       "    </tr>\n",
       "    <tr>\n",
       "      <th>2</th>\n",
       "      <td>Mario Kart Wii</td>\n",
       "      <td>Wii</td>\n",
       "      <td>2008</td>\n",
       "      <td>Racing</td>\n",
       "      <td>15.68</td>\n",
       "      <td>12.76</td>\n",
       "      <td>3.79</td>\n",
       "      <td>3.29</td>\n",
       "      <td>82.0</td>\n",
       "      <td>8.3</td>\n",
       "      <td>E</td>\n",
       "      <td>35.52</td>\n",
       "    </tr>\n",
       "    <tr>\n",
       "      <th>3</th>\n",
       "      <td>Wii Sports Resort</td>\n",
       "      <td>Wii</td>\n",
       "      <td>2009</td>\n",
       "      <td>Sports</td>\n",
       "      <td>15.61</td>\n",
       "      <td>10.93</td>\n",
       "      <td>3.28</td>\n",
       "      <td>2.95</td>\n",
       "      <td>80.0</td>\n",
       "      <td>8.0</td>\n",
       "      <td>E</td>\n",
       "      <td>32.77</td>\n",
       "    </tr>\n",
       "    <tr>\n",
       "      <th>4</th>\n",
       "      <td>Pokemon Red/Pokemon Blue</td>\n",
       "      <td>GB</td>\n",
       "      <td>1996</td>\n",
       "      <td>Role-Playing</td>\n",
       "      <td>11.27</td>\n",
       "      <td>8.89</td>\n",
       "      <td>10.22</td>\n",
       "      <td>1.00</td>\n",
       "      <td>-1.0</td>\n",
       "      <td>-1.0</td>\n",
       "      <td>out of rating</td>\n",
       "      <td>31.38</td>\n",
       "    </tr>\n",
       "  </tbody>\n",
       "</table>\n",
       "</div>"
      ],
      "text/plain": [
       "                       name platform  year_of_release         genre  na_sales  \\\n",
       "0                Wii Sports      Wii             2006        Sports     41.36   \n",
       "1         Super Mario Bros.      NES             1985      Platform     29.08   \n",
       "2            Mario Kart Wii      Wii             2008        Racing     15.68   \n",
       "3         Wii Sports Resort      Wii             2009        Sports     15.61   \n",
       "4  Pokemon Red/Pokemon Blue       GB             1996  Role-Playing     11.27   \n",
       "\n",
       "   eu_sales  jp_sales  other_sales  critic_score  user_score         rating  \\\n",
       "0     28.96      3.77         8.45          76.0         8.0              E   \n",
       "1      3.58      6.81         0.77          -1.0        -1.0  out of rating   \n",
       "2     12.76      3.79         3.29          82.0         8.3              E   \n",
       "3     10.93      3.28         2.95          80.0         8.0              E   \n",
       "4      8.89     10.22         1.00          -1.0        -1.0  out of rating   \n",
       "\n",
       "   total_sales  \n",
       "0        82.54  \n",
       "1        40.24  \n",
       "2        35.52  \n",
       "3        32.77  \n",
       "4        31.38  "
      ]
     },
     "metadata": {},
     "output_type": "display_data"
    }
   ],
   "source": [
    "# добавляю столбец с суммарными продажами\n",
    "data['total_sales']=data[['na_sales','eu_sales','jp_sales','other_sales']].sum(axis = 1)\n",
    "display(data.head())"
   ]
  },
  {
   "cell_type": "markdown",
   "metadata": {},
   "source": [
    "<div class=\"alert alert-success\">\n",
    "<h2> Комментарий ревьюера VERS#1<a class=\"tocSkip\"> </h2>\n",
    "\n",
    "<b>Все отлично!👍:</b> \n",
    "Для расчета total_sales можно использовать следующую конструкцию: data[['na_sales','eu_sales','jp_sales', 'other_sales']].sum(axis = 1)"
   ]
  },
  {
   "cell_type": "markdown",
   "metadata": {},
   "source": [
    "Данные подготовлены для дальнейшего анализа.\n",
    "Название столбцов приведено к нижнему регистру, призведена замена типов данных в годе выпуска, оценках критиков и пользователей (так же оценки приведены к единому формату), удалены пропуски в годе выпуска, добавлен столбец с общими продажами."
   ]
  },
  {
   "cell_type": "markdown",
   "metadata": {},
   "source": [
    "# Шаг 3. Проведите исследовательский анализ данных"
   ]
  },
  {
   "cell_type": "code",
   "execution_count": 13,
   "metadata": {},
   "outputs": [
    {
     "data": {
      "image/png": "[encoded data removed]",
      "text/plain": [
       "<Figure size 1080x360 with 1 Axes>"
      ]
     },
     "metadata": {
      "needs_background": "light"
     },
     "output_type": "display_data"
    }
   ],
   "source": [
    "#Построим гистограмму,для того чтобы увидеть годы релиза игр\n",
    "data['year_of_release'].hist(bins=40, figsize=(15,5), ec='black').set(xlabel ='Год релиза');"
   ]
  },
  {
   "cell_type": "markdown",
   "metadata": {},
   "source": [
    "<div class=\"alert alert-warning\">\n",
    "    <h2> Комментарий ревьюера VERS#1<a class=\"tocSkip\"> </h2>\n",
    "    \n",
    "<b>Некоторые замечания и рекомендации💡:</b> \n",
    "     \n",
    "\n",
    "        \n",
    "Import matplotlib и seaborn  тоже следует перенести в ячейку к import pandas as pd."
   ]
  },
  {
   "cell_type": "raw",
   "metadata": {},
   "source": [
    "Видим, что до 2000 года, игры были не развиты, затем после 2000 года, видимо подьем индустрии игр,стало выпускаться гораздо больше игр, вплоть до 2010, после 2010 видим, что все стало идти на спад, думаю в связи с развитием мобильных игр."
   ]
  },
  {
   "cell_type": "code",
   "execution_count": 14,
   "metadata": {},
   "outputs": [
    {
     "data": {
      "image/png": "[encoded data removed]",
      "text/plain": [
       "<Figure size 936x432 with 1 Axes>"
      ]
     },
     "metadata": {
      "needs_background": "light"
     },
     "output_type": "display_data"
    }
   ],
   "source": [
    "#Посмотрим, как менялись продажи по платформам\n",
    "platform_on_sales = data.pivot_table(\n",
    "    index='platform', values='total_sales', aggfunc='sum').sort_values(by='total_sales', ascending=False);\n",
    "\n",
    "plt.figure(figsize=(13,6));\n",
    "sns.barplot(x=platform_on_sales.index,y=platform_on_sales['total_sales']);\n",
    "plt.title(\"Продажи по платформам\");\n",
    "plt.xlabel(\"Название платформы\");\n",
    "plt.ylabel(\"Кол-во продаж\");\n"
   ]
  },
  {
   "cell_type": "markdown",
   "metadata": {},
   "source": [
    "Из графика видно, что самые популярные игровые платформы:PS2, X360, PS3, WII, DS"
   ]
  },
  {
   "cell_type": "code",
   "execution_count": 15,
   "metadata": {},
   "outputs": [
    {
     "data": {
      "text/html": [
       "<div>\n",
       "<style scoped>\n",
       "    .dataframe tbody tr th:only-of-type {\n",
       "        vertical-align: middle;\n",
       "    }\n",
       "\n",
       "    .dataframe tbody tr th {\n",
       "        vertical-align: top;\n",
       "    }\n",
       "\n",
       "    .dataframe thead th {\n",
       "        text-align: right;\n",
       "    }\n",
       "</style>\n",
       "<table border=\"1\" class=\"dataframe\">\n",
       "  <thead>\n",
       "    <tr style=\"text-align: right;\">\n",
       "      <th></th>\n",
       "      <th>platform</th>\n",
       "      <th>total_sales</th>\n",
       "    </tr>\n",
       "  </thead>\n",
       "  <tbody>\n",
       "    <tr>\n",
       "      <th>0</th>\n",
       "      <td>PS2</td>\n",
       "      <td>1233.56</td>\n",
       "    </tr>\n",
       "    <tr>\n",
       "      <th>1</th>\n",
       "      <td>X360</td>\n",
       "      <td>961.24</td>\n",
       "    </tr>\n",
       "    <tr>\n",
       "      <th>2</th>\n",
       "      <td>PS3</td>\n",
       "      <td>931.34</td>\n",
       "    </tr>\n",
       "    <tr>\n",
       "      <th>3</th>\n",
       "      <td>Wii</td>\n",
       "      <td>891.18</td>\n",
       "    </tr>\n",
       "    <tr>\n",
       "      <th>4</th>\n",
       "      <td>DS</td>\n",
       "      <td>802.78</td>\n",
       "    </tr>\n",
       "  </tbody>\n",
       "</table>\n",
       "</div>"
      ],
      "text/plain": [
       "  platform  total_sales\n",
       "0      PS2      1233.56\n",
       "1     X360       961.24\n",
       "2      PS3       931.34\n",
       "3      Wii       891.18\n",
       "4       DS       802.78"
      ]
     },
     "metadata": {},
     "output_type": "display_data"
    }
   ],
   "source": [
    "# Создадим свою таблицу по платформам и их обшим продажам. отсортируем их по убыванию и оставим только топ 5.\n",
    "top_5_platforms = data.pivot_table(index='platform', values='total_sales', aggfunc='sum').sort_values(by='total_sales', ascending=False).head(5)\n",
    "top_5_platforms = top_5_platforms.reset_index().rename_axis(None, axis=1)\n",
    "display(top_5_platforms)"
   ]
  },
  {
   "cell_type": "code",
   "execution_count": 16,
   "metadata": {},
   "outputs": [],
   "source": [
    "def year_total_sale_for_platform(name, data):\n",
    "    s = data[(data['platform'] == name) & (data['year_of_release'] > 2000)]\n",
    "    total = s.pivot_table(index='year_of_release', values='total_sales', aggfunc='sum').sort_values('year_of_release', ascending=False)\n",
    "    return total"
   ]
  },
  {
   "cell_type": "code",
   "execution_count": 17,
   "metadata": {},
   "outputs": [
    {
     "data": {
      "image/png": "[encoded data removed]",
      "text/plain": [
       "<Figure size 1008x504 with 1 Axes>"
      ]
     },
     "metadata": {
      "needs_background": "light"
     },
     "output_type": "display_data"
    }
   ],
   "source": [
    "#Создадим график по самым продаваемым платформам за последние 10 лет\n",
    "plt.figure(figsize=(14,7))\n",
    "plt.title('Количество продаж популярных платформ')\n",
    "plt.xlabel('Годы релизов')\n",
    "plt.ylabel('Продажи')\n",
    "\n",
    "for a in list(top_5_platforms['platform']):\n",
    "    sns.lineplot(data=year_total_sale_for_platform(a,data)['total_sales'], label=a)\n",
    "    plt.legend()"
   ]
  },
  {
   "cell_type": "markdown",
   "metadata": {},
   "source": [
    "Видим что самыме популярные платформы PS,XBOX\n",
    "В среднем игровая платформа существует 10 лет\n",
    "Самый пик наступает примерно спустя 5 лет после выходы\n",
    "Видим что у игр  WII и PS2 большой скачок, затем  большой спад"
   ]
  },
  {
   "cell_type": "code",
   "execution_count": 18,
   "metadata": {},
   "outputs": [],
   "source": [
    "#Выберем актуальный период и будем работать с этими данными\n",
    "games2012 = data.query('year_of_release >= 2012')"
   ]
  },
  {
   "cell_type": "markdown",
   "metadata": {},
   "source": [
    "<div class=\"alert alert-warning\">\n",
    "    <h2> Комментарий ревьюера VERS#1<a class=\"tocSkip\"> </h2>\n",
    "    \n",
    "<b>Некоторые замечания и рекомендации💡:</b> \n",
    "     \n",
    "\n",
    "Согласна с определением жизненного цикла равного 10 годам. Относительно актуального периода замечу, что за актуальный можно выделять период не ранее с 2012 года, так как следует отбросить старые ожившие тренды и не учитывать пиковые значения прошлых лет, потому что эти данные в большей части соответствуют платформам, не работающим к текущему моменту, а также могут значительно исказить оценку новых зарождающих трендов. Хотелось бы отметить, что в традиционных бизнесах редко берут данные более чем за 2-3 года. А в такой динамично меняющейся индустрии, как компьютерные игры, и вовсе не стоит брать слишком большой временной интервал, иначе обязательно захватишь уже отжившие тренды. Но и слишком короткий период тоже не стоит брать.     "
   ]
  },
  {
   "cell_type": "markdown",
   "metadata": {},
   "source": [
    "<div class=\"alert alert-success\"> \n",
    "<h2> Комментарий ревьюера  VERS#2 <a class=\"tocSkip\"> </h2>\n",
    "\n",
    "<b>Все отлично!👍:</b> \n",
    "    \n",
    "Актуальный период скорректирован верно)\n"
   ]
  },
  {
   "cell_type": "code",
   "execution_count": 19,
   "metadata": {},
   "outputs": [
    {
     "data": {
      "text/html": [
       "<div>\n",
       "<style scoped>\n",
       "    .dataframe tbody tr th:only-of-type {\n",
       "        vertical-align: middle;\n",
       "    }\n",
       "\n",
       "    .dataframe tbody tr th {\n",
       "        vertical-align: top;\n",
       "    }\n",
       "\n",
       "    .dataframe thead th {\n",
       "        text-align: right;\n",
       "    }\n",
       "</style>\n",
       "<table border=\"1\" class=\"dataframe\">\n",
       "  <thead>\n",
       "    <tr style=\"text-align: right;\">\n",
       "      <th>year_of_release</th>\n",
       "      <th>2012</th>\n",
       "      <th>2013</th>\n",
       "      <th>2014</th>\n",
       "      <th>2015</th>\n",
       "      <th>2016</th>\n",
       "      <th>total</th>\n",
       "    </tr>\n",
       "    <tr>\n",
       "      <th>platform</th>\n",
       "      <th></th>\n",
       "      <th></th>\n",
       "      <th></th>\n",
       "      <th></th>\n",
       "      <th></th>\n",
       "      <th></th>\n",
       "    </tr>\n",
       "  </thead>\n",
       "  <tbody>\n",
       "    <tr>\n",
       "      <th>total</th>\n",
       "      <td>355.84</td>\n",
       "      <td>361.24</td>\n",
       "      <td>331.53</td>\n",
       "      <td>267.98</td>\n",
       "      <td>129.94</td>\n",
       "      <td>1446.53</td>\n",
       "    </tr>\n",
       "    <tr>\n",
       "      <th>PS4</th>\n",
       "      <td>NaN</td>\n",
       "      <td>25.99</td>\n",
       "      <td>100.00</td>\n",
       "      <td>118.90</td>\n",
       "      <td>69.25</td>\n",
       "      <td>314.14</td>\n",
       "    </tr>\n",
       "    <tr>\n",
       "      <th>PS3</th>\n",
       "      <td>107.36</td>\n",
       "      <td>113.25</td>\n",
       "      <td>47.76</td>\n",
       "      <td>16.82</td>\n",
       "      <td>3.60</td>\n",
       "      <td>288.79</td>\n",
       "    </tr>\n",
       "    <tr>\n",
       "      <th>X360</th>\n",
       "      <td>99.74</td>\n",
       "      <td>88.58</td>\n",
       "      <td>34.74</td>\n",
       "      <td>11.96</td>\n",
       "      <td>1.52</td>\n",
       "      <td>236.54</td>\n",
       "    </tr>\n",
       "    <tr>\n",
       "      <th>3DS</th>\n",
       "      <td>51.36</td>\n",
       "      <td>56.57</td>\n",
       "      <td>43.76</td>\n",
       "      <td>27.78</td>\n",
       "      <td>15.14</td>\n",
       "      <td>194.61</td>\n",
       "    </tr>\n",
       "    <tr>\n",
       "      <th>XOne</th>\n",
       "      <td>NaN</td>\n",
       "      <td>18.96</td>\n",
       "      <td>54.07</td>\n",
       "      <td>60.14</td>\n",
       "      <td>26.15</td>\n",
       "      <td>159.32</td>\n",
       "    </tr>\n",
       "    <tr>\n",
       "      <th>WiiU</th>\n",
       "      <td>17.56</td>\n",
       "      <td>21.65</td>\n",
       "      <td>22.03</td>\n",
       "      <td>16.35</td>\n",
       "      <td>4.60</td>\n",
       "      <td>82.19</td>\n",
       "    </tr>\n",
       "    <tr>\n",
       "      <th>PC</th>\n",
       "      <td>23.22</td>\n",
       "      <td>12.38</td>\n",
       "      <td>13.28</td>\n",
       "      <td>8.52</td>\n",
       "      <td>5.25</td>\n",
       "      <td>62.65</td>\n",
       "    </tr>\n",
       "    <tr>\n",
       "      <th>PSV</th>\n",
       "      <td>16.19</td>\n",
       "      <td>10.59</td>\n",
       "      <td>11.90</td>\n",
       "      <td>6.25</td>\n",
       "      <td>4.25</td>\n",
       "      <td>49.18</td>\n",
       "    </tr>\n",
       "    <tr>\n",
       "      <th>Wii</th>\n",
       "      <td>21.71</td>\n",
       "      <td>8.59</td>\n",
       "      <td>3.75</td>\n",
       "      <td>1.14</td>\n",
       "      <td>0.18</td>\n",
       "      <td>35.37</td>\n",
       "    </tr>\n",
       "    <tr>\n",
       "      <th>DS</th>\n",
       "      <td>11.01</td>\n",
       "      <td>1.54</td>\n",
       "      <td>NaN</td>\n",
       "      <td>NaN</td>\n",
       "      <td>NaN</td>\n",
       "      <td>12.55</td>\n",
       "    </tr>\n",
       "    <tr>\n",
       "      <th>PSP</th>\n",
       "      <td>7.69</td>\n",
       "      <td>3.14</td>\n",
       "      <td>0.24</td>\n",
       "      <td>0.12</td>\n",
       "      <td>NaN</td>\n",
       "      <td>11.19</td>\n",
       "    </tr>\n",
       "  </tbody>\n",
       "</table>\n",
       "</div>"
      ],
      "text/plain": [
       "year_of_release    2012    2013    2014    2015    2016    total\n",
       "platform                                                        \n",
       "total            355.84  361.24  331.53  267.98  129.94  1446.53\n",
       "PS4                 NaN   25.99  100.00  118.90   69.25   314.14\n",
       "PS3              107.36  113.25   47.76   16.82    3.60   288.79\n",
       "X360              99.74   88.58   34.74   11.96    1.52   236.54\n",
       "3DS               51.36   56.57   43.76   27.78   15.14   194.61\n",
       "XOne                NaN   18.96   54.07   60.14   26.15   159.32\n",
       "WiiU              17.56   21.65   22.03   16.35    4.60    82.19\n",
       "PC                23.22   12.38   13.28    8.52    5.25    62.65\n",
       "PSV               16.19   10.59   11.90    6.25    4.25    49.18\n",
       "Wii               21.71    8.59    3.75    1.14    0.18    35.37\n",
       "DS                11.01    1.54     NaN     NaN     NaN    12.55\n",
       "PSP                7.69    3.14    0.24    0.12     NaN    11.19"
      ]
     },
     "execution_count": 19,
     "metadata": {},
     "output_type": "execute_result"
    }
   ],
   "source": [
    "#Сделаем срз и увидим что лидируют другие платформы\n",
    "pd.crosstab(games2012.platform, \n",
    "            games2012.year_of_release,\n",
    "            values=games2012.total_sales,\n",
    "            aggfunc='sum',\n",
    "            margins=True, margins_name=\"total\"\n",
    "           ).sort_values(by='total', ascending=False)"
   ]
  },
  {
   "cell_type": "markdown",
   "metadata": {},
   "source": [
    "Исходя из актуальных данных видим что лидируют: PS3,X360,PS4,3Ds,Xone"
   ]
  },
  {
   "cell_type": "code",
   "execution_count": 20,
   "metadata": {},
   "outputs": [],
   "source": [
    "total_act_platform=['PS3','X360','PS4','3DS','XOne']"
   ]
  },
  {
   "cell_type": "code",
   "execution_count": 21,
   "metadata": {},
   "outputs": [
    {
     "data": {
      "image/png": "[encoded data removed]",
      "text/plain": [
       "<Figure size 1080x360 with 1 Axes>"
      ]
     },
     "metadata": {
      "needs_background": "light"
     },
     "output_type": "display_data"
    },
    {
     "data": {
      "image/png": "[encoded data removed]",
      "text/plain": [
       "<Figure size 1080x360 with 1 Axes>"
      ]
     },
     "metadata": {
      "needs_background": "light"
     },
     "output_type": "display_data"
    }
   ],
   "source": [
    "plt.figure(figsize=(15,5))\n",
    "sns.boxplot(y='total_sales', \n",
    "            x='platform', \n",
    "            data = games2012.query('platform in @total_act_platform'),\n",
    "            )\n",
    "plt.title('Продажи игр, потенциально прибыльные платформы, млн $ ');\n",
    "plt.figure(figsize=(15,5))\n",
    "sns.boxplot(y='total_sales', \n",
    "            x='platform', \n",
    "            data = games2012.query('platform in @total_act_platform'),\n",
    "            )\n",
    "plt.ylim(0,5)\n",
    "plt.title('Продажи игр, потенциально прибыльные платформы, млн $ ');\n"
   ]
  },
  {
   "cell_type": "markdown",
   "metadata": {},
   "source": [
    "Исходя из графика видим, что больше всего продаж у PS3,затем Х360\n",
    "Также видим, что медиана протекает у всех по-разному\n"
   ]
  },
  {
   "cell_type": "markdown",
   "metadata": {},
   "source": [
    "<div class=\"alert alert-warning\">\n",
    "    <h2> Комментарий ревьюера VERS#1 <a class=\"tocSkip\"></h2>\n",
    "    \n",
    "<b>Некоторые замечания и рекомендации💡:</b>\n",
    "        \n",
    "1. К сожалению, на графиках хорошо видны  выбросы, и трудно различимы значения медиан. Для более обоснованных выводов нужно сделать дополнительный график, где будет отображена только нижняя часть boxplot-ов. Этого можно добиться, например, задав значения параметра ylim.\n",
    "        \n",
    "2. Пожалуйста добавь в вывод по этому графику ответы на поставленные вопросы: у каких платформ наибольшие медиана и 75% процентиль? Какие платформы наиболее интересны с точки зрения данных показателей."
   ]
  },
  {
   "cell_type": "markdown",
   "metadata": {},
   "source": [
    "<div class=\"alert alert-info\">\n",
    "<h2> Комментарий студента<a class=\"tocSkip\"></h2>\n",
    "\n",
    "Наибольшая мединана у платформ PS4 и Х360,видим что 3DS разброс цен в два раза меньше, чем у PS4 и Х360,что означает что консоль в два раза менее популярен\n",
    "</div>\n"
   ]
  },
  {
   "cell_type": "markdown",
   "metadata": {},
   "source": [
    "<div class=\"alert alert-success\"> \n",
    "<h2> Комментарий ревьюера  VERS#2 <a class=\"tocSkip\"> </h2>\n",
    "\n",
    "<b>Все отлично!👍:</b> \n",
    "    \n",
    "Отличная работа, согласна с указанными выводами.\n"
   ]
  },
  {
   "cell_type": "code",
   "execution_count": 22,
   "metadata": {},
   "outputs": [
    {
     "data": {
      "text/plain": [
       "0.00322740549303569"
      ]
     },
     "execution_count": 22,
     "metadata": {},
     "output_type": "execute_result"
    }
   ],
   "source": [
    "#уберем из выборки начения-заглушки,которые мы ранее использовали \n",
    "games_store2012=games2012.query('critic_score != -1 and user_score != -1')\n",
    "#посчитаем корреляцию между оценками пользователей и продажами\n",
    "Sony3=games_store2012[games_store2012['platform']=='PS3']\n",
    "Sony3['user_score'].corr(Sony3['total_sales'])    "
   ]
  },
  {
   "cell_type": "markdown",
   "metadata": {},
   "source": [
    "<div class=\"alert alert-block alert-danger\">\n",
    "<h2> Комментарий ревьюера VERS#2 <a class=\"tocSkip\"></h2>\n",
    "\n",
    "    \n",
    "<b>На доработку🤔:</b>\n",
    "\n",
    "В данной ячейке ты записываешь отфильтрованные данные в отдельные переменные и дальше они не применяются. В этом случае заглушки сохраняются при расчете корреляций и построение графиков. \n",
    "Каким же образом их можно исключить? Заглушки можно исключить с помощью метода query: games2012.query('critic_score != -1 and user_score != -1'). Результаты фильтрации необходимо записать в отдельный датасет. И далее, произвести анализ на данном шаге на основании этого датасета.\n",
    "    \n",
    "Пожалуйста скорректируй свое решение.\n",
    "</div>"
   ]
  },
  {
   "cell_type": "markdown",
   "metadata": {},
   "source": [
    "<div class=\"alert alert-info\">\n",
    "<h2> Комментарий студента<a class=\"tocSkip\"></h2>\n",
    "\n",
    "Надеюсь правильно все поняла)\n",
    "</div>\n",
    "\n"
   ]
  },
  {
   "cell_type": "markdown",
   "metadata": {},
   "source": [
    "<div class=\"alert alert-success\"> \n",
    "<h2> Комментарий ревьюера  VERS#3 <a class=\"tocSkip\"> </h2>\n",
    "\n",
    "<b>Все отлично!👍:</b> \n",
    "    \n",
    "Все верно) В текущей версии исключены корректным образом, а также верно произведено исследование зависимости цены от оценок критиков и пользователей.\n"
   ]
  },
  {
   "cell_type": "markdown",
   "metadata": {},
   "source": [
    "<div class=\"alert alert-block alert-danger\">\n",
    "<h2> Комментарий ревьюера VERS#1 <a class=\"tocSkip\"></h2>\n",
    "\n",
    "    \n",
    "<b>На доработку🤔:</b>\n",
    "\n",
    "1. Поставив при обработке пропусков значение-заглушку, следует исключать их из графиков и расчета корреляции т.к. в результате можно получить искаженные расчеты. Необходимо отфильтровать значения заглушки в critic и user score в расчетах на данном этапе анализа и после его проведения проверить ранее сформулированные выводы.\n",
    "2. Также на данном этапе необходимо использовать данные именно за актуальный период.\n",
    "</div>"
   ]
  },
  {
   "cell_type": "code",
   "execution_count": 23,
   "metadata": {},
   "outputs": [
    {
     "data": {
      "image/png": "[encoded data removed]",
      "text/plain": [
       "<Figure size 1440x504 with 1 Axes>"
      ]
     },
     "metadata": {
      "needs_background": "light"
     },
     "output_type": "display_data"
    }
   ],
   "source": [
    "#Построим диаграмму рассеяния \n",
    "plt.figure(figsize=(20,7))\n",
    "sns.scatterplot(x='user_score', y='total_sales', data=Sony3);"
   ]
  },
  {
   "cell_type": "code",
   "execution_count": 24,
   "metadata": {},
   "outputs": [
    {
     "data": {
      "text/plain": [
       "0.3310566175801407"
      ]
     },
     "execution_count": 24,
     "metadata": {},
     "output_type": "execute_result"
    }
   ],
   "source": [
    "#посчитаем корреляцию между оценками пользователей и продажами\n",
    "Sony3=games_store2012[games_store2012['platform']=='PS3']\n",
    "Sony3['critic_score'].corr(Sony3['total_sales'])    "
   ]
  },
  {
   "cell_type": "code",
   "execution_count": 25,
   "metadata": {},
   "outputs": [
    {
     "data": {
      "image/png": "[encoded data removed]",
      "text/plain": [
       "<Figure size 1440x504 with 1 Axes>"
      ]
     },
     "metadata": {
      "needs_background": "light"
     },
     "output_type": "display_data"
    }
   ],
   "source": [
    "plt.figure(figsize=(20,7))\n",
    "sns.scatterplot(x='critic_score', y='total_sales', data=Sony3);"
   ]
  },
  {
   "cell_type": "markdown",
   "metadata": {},
   "source": [
    "Исходя из диаграммы рассеивания и вычисления корреляции Пирсона, можно понять что:\n",
    "Между оценками критиков и прjдажами существует умеренная зависимость\n",
    "Между оценками пользователей и продажами существует практически нулевая зависимостью"
   ]
  },
  {
   "cell_type": "code",
   "execution_count": 26,
   "metadata": {},
   "outputs": [
    {
     "data": {
      "text/plain": [
       "-0.03362497596528878"
      ]
     },
     "execution_count": 26,
     "metadata": {},
     "output_type": "execute_result"
    }
   ],
   "source": [
    "#посчитаем корреляцию между оценками пользователей и продажами\n",
    "Sony4=games_store2012[games_store2012['platform']=='PS4']\n",
    "Sony4['user_score'].corr(Sony4['total_sales'])  "
   ]
  },
  {
   "cell_type": "code",
   "execution_count": 27,
   "metadata": {},
   "outputs": [
    {
     "data": {
      "image/png": "[encoded data removed]",
      "text/plain": [
       "<Figure size 1440x504 with 1 Axes>"
      ]
     },
     "metadata": {
      "needs_background": "light"
     },
     "output_type": "display_data"
    }
   ],
   "source": [
    "#Построим диаграмму рассеяния \n",
    "plt.figure(figsize=(20,7))\n",
    "sns.scatterplot(x='user_score', y='total_sales', data=Sony4);"
   ]
  },
  {
   "cell_type": "code",
   "execution_count": 28,
   "metadata": {},
   "outputs": [
    {
     "data": {
      "text/plain": [
       "0.40589480145836687"
      ]
     },
     "execution_count": 28,
     "metadata": {},
     "output_type": "execute_result"
    }
   ],
   "source": [
    "#посчитаем корреляцию между оценками пользователей и продажами\n",
    "Sony4=games_store2012[games_store2012['platform']=='PS4']\n",
    "Sony4['critic_score'].corr(Sony4['total_sales'])    \n"
   ]
  },
  {
   "cell_type": "code",
   "execution_count": 29,
   "metadata": {},
   "outputs": [
    {
     "data": {
      "image/png": "[encoded data removed]",
      "text/plain": [
       "<Figure size 1440x504 with 1 Axes>"
      ]
     },
     "metadata": {
      "needs_background": "light"
     },
     "output_type": "display_data"
    }
   ],
   "source": [
    "#Построим диаграмму рассеяния \n",
    "plt.figure(figsize=(20,7))\n",
    "sns.scatterplot(x='critic_score', y='total_sales', data=Sony3);"
   ]
  },
  {
   "cell_type": "code",
   "execution_count": 30,
   "metadata": {},
   "outputs": [
    {
     "data": {
      "text/plain": [
       "-0.0020140394826897853"
      ]
     },
     "execution_count": 30,
     "metadata": {},
     "output_type": "execute_result"
    }
   ],
   "source": [
    "x360=games_store2012[games_store2012['platform']=='X360']\n",
    "x360['user_score'].corr(x360['total_sales'])  "
   ]
  },
  {
   "cell_type": "code",
   "execution_count": 31,
   "metadata": {},
   "outputs": [
    {
     "data": {
      "image/png": "[encoded data removed]",
      "text/plain": [
       "<Figure size 1440x504 with 1 Axes>"
      ]
     },
     "metadata": {
      "needs_background": "light"
     },
     "output_type": "display_data"
    }
   ],
   "source": [
    "#Построим диаграмму рассеяния \n",
    "plt.figure(figsize=(20,7))\n",
    "sns.scatterplot(x='user_score', y='total_sales', data=x360);"
   ]
  },
  {
   "cell_type": "code",
   "execution_count": 32,
   "metadata": {},
   "outputs": [
    {
     "data": {
      "text/plain": [
       "0.3605734888507336"
      ]
     },
     "execution_count": 32,
     "metadata": {},
     "output_type": "execute_result"
    }
   ],
   "source": [
    "x360=games_store2012[games_store2012['platform']=='X360']\n",
    "x360['critic_score'].corr(x360['total_sales'])  "
   ]
  },
  {
   "cell_type": "code",
   "execution_count": 33,
   "metadata": {},
   "outputs": [
    {
     "data": {
      "image/png": "[encoded data removed]",
      "text/plain": [
       "<Figure size 1440x504 with 1 Axes>"
      ]
     },
     "metadata": {
      "needs_background": "light"
     },
     "output_type": "display_data"
    }
   ],
   "source": [
    "#Построим диаграмму рассеяния \n",
    "plt.figure(figsize=(20,7))\n",
    "sns.scatterplot(x='critic_score', y='total_sales', data=x360);"
   ]
  },
  {
   "cell_type": "code",
   "execution_count": 34,
   "metadata": {},
   "outputs": [
    {
     "data": {
      "text/plain": [
       "0.20181255007655283"
      ]
     },
     "execution_count": 34,
     "metadata": {},
     "output_type": "execute_result"
    }
   ],
   "source": [
    "ds=games_store2012[games_store2012['platform']=='3DS']\n",
    "ds['user_score'].corr(ds['total_sales'])  "
   ]
  },
  {
   "cell_type": "code",
   "execution_count": 35,
   "metadata": {
    "scrolled": true
   },
   "outputs": [
    {
     "data": {
      "image/png": "[encoded data removed]",
      "text/plain": [
       "<Figure size 1440x504 with 1 Axes>"
      ]
     },
     "metadata": {
      "needs_background": "light"
     },
     "output_type": "display_data"
    }
   ],
   "source": [
    "#Построим диаграмму рассеяния \n",
    "plt.figure(figsize=(20,7))\n",
    "sns.scatterplot(x='user_score', y='total_sales', data=ds);"
   ]
  },
  {
   "cell_type": "code",
   "execution_count": 36,
   "metadata": {},
   "outputs": [
    {
     "data": {
      "text/plain": [
       "0.31055301915326294"
      ]
     },
     "execution_count": 36,
     "metadata": {},
     "output_type": "execute_result"
    }
   ],
   "source": [
    "ds=games_store2012[games_store2012['platform']=='3DS']\n",
    "ds['critic_score'].corr(ds['total_sales'])  "
   ]
  },
  {
   "cell_type": "code",
   "execution_count": 37,
   "metadata": {},
   "outputs": [
    {
     "data": {
      "image/png": "[encoded data removed]",
      "text/plain": [
       "<Figure size 1440x504 with 1 Axes>"
      ]
     },
     "metadata": {
      "needs_background": "light"
     },
     "output_type": "display_data"
    }
   ],
   "source": [
    "#Построим диаграмму рассеяния \n",
    "plt.figure(figsize=(20,7))\n",
    "sns.scatterplot(x='critic_score', y='total_sales', data=ds);"
   ]
  },
  {
   "cell_type": "code",
   "execution_count": 38,
   "metadata": {},
   "outputs": [
    {
     "data": {
      "text/plain": [
       "0.41042203561296375"
      ]
     },
     "execution_count": 38,
     "metadata": {},
     "output_type": "execute_result"
    }
   ],
   "source": [
    "xone=games_store2012[games_store2012['platform']=='XOne']\n",
    "xone['critic_score'].corr(xone['total_sales'])"
   ]
  },
  {
   "cell_type": "code",
   "execution_count": 39,
   "metadata": {},
   "outputs": [
    {
     "data": {
      "image/png": "[encoded data removed]",
      "text/plain": [
       "<Figure size 1440x504 with 1 Axes>"
      ]
     },
     "metadata": {
      "needs_background": "light"
     },
     "output_type": "display_data"
    }
   ],
   "source": [
    "#Построим диаграмму рассеяния \n",
    "plt.figure(figsize=(20,7))\n",
    "sns.scatterplot(x='critic_score', y='total_sales', data=xone);"
   ]
  },
  {
   "cell_type": "code",
   "execution_count": 40,
   "metadata": {},
   "outputs": [
    {
     "data": {
      "text/plain": [
       "-0.09400318326920852"
      ]
     },
     "execution_count": 40,
     "metadata": {},
     "output_type": "execute_result"
    }
   ],
   "source": [
    "xone=games_store2012[games_store2012['platform']=='XOne']\n",
    "xone['user_score'].corr(xone['total_sales'])"
   ]
  },
  {
   "cell_type": "code",
   "execution_count": 41,
   "metadata": {},
   "outputs": [
    {
     "data": {
      "image/png": "[encoded data removed]",
      "text/plain": [
       "<Figure size 1440x504 with 1 Axes>"
      ]
     },
     "metadata": {
      "needs_background": "light"
     },
     "output_type": "display_data"
    }
   ],
   "source": [
    "#Построим диаграмму рассеяния \n",
    "plt.figure(figsize=(20,7))\n",
    "sns.scatterplot(x='user_score', y='total_sales', data=xone);"
   ]
  },
  {
   "cell_type": "markdown",
   "metadata": {},
   "source": [
    "Проверив на все платформах мы можем понять:\n",
    "Что на всех платформах зависимости практически нет между отзывами и продажами"
   ]
  },
  {
   "cell_type": "markdown",
   "metadata": {},
   "source": [
    "Выводы:\n",
    "Видим, что до 2000 года, игры были не развиты, затем после 2000 года, видимо подьем индустрии игр,стало выпускаться гораздо больше игр, вплоть до 2010, после 2010 видим, что все стало идти на спад, думаю в связи с развитием мобильных игр.\n",
    "Исходя из актуальных данных видим что лидируют: PS3,X360,PS4,3Ds,Xone\n",
    "Также мы выяснили что продажи практически не завияст от рейтинга пользователей и критиков"
   ]
  },
  {
   "cell_type": "markdown",
   "metadata": {},
   "source": [
    "<div class=\"alert alert-warning\">\n",
    "    <h2> Комментарий ревьюера VERS#1<a class=\"tocSkip\"> </h2>\n",
    "    \n",
    "<b>Некоторые замечания и рекомендации💡:</b> \n",
    "     \n",
    "убрать техническую строчку Text(0, 0.5, 'Продажи') можно с помощью метода `plt.show()` или `;` (у тебя есть эта проблема на графике ниже). Пожалуйста, скорректируй график и проверь остальные графики на наличие тех. надписей:) \n"
   ]
  },
  {
   "cell_type": "code",
   "execution_count": 42,
   "metadata": {},
   "outputs": [
    {
     "data": {
      "text/html": [
       "<div>\n",
       "<style scoped>\n",
       "    .dataframe tbody tr th:only-of-type {\n",
       "        vertical-align: middle;\n",
       "    }\n",
       "\n",
       "    .dataframe tbody tr th {\n",
       "        vertical-align: top;\n",
       "    }\n",
       "\n",
       "    .dataframe thead th {\n",
       "        text-align: right;\n",
       "    }\n",
       "</style>\n",
       "<table border=\"1\" class=\"dataframe\">\n",
       "  <thead>\n",
       "    <tr style=\"text-align: right;\">\n",
       "      <th></th>\n",
       "      <th>total_sales</th>\n",
       "    </tr>\n",
       "    <tr>\n",
       "      <th>genre</th>\n",
       "      <th></th>\n",
       "    </tr>\n",
       "  </thead>\n",
       "  <tbody>\n",
       "    <tr>\n",
       "      <th>Shooter</th>\n",
       "      <td>0.440</td>\n",
       "    </tr>\n",
       "    <tr>\n",
       "      <th>Sports</th>\n",
       "      <td>0.240</td>\n",
       "    </tr>\n",
       "    <tr>\n",
       "      <th>Platform</th>\n",
       "      <td>0.210</td>\n",
       "    </tr>\n",
       "    <tr>\n",
       "      <th>Role-Playing</th>\n",
       "      <td>0.140</td>\n",
       "    </tr>\n",
       "    <tr>\n",
       "      <th>Racing</th>\n",
       "      <td>0.140</td>\n",
       "    </tr>\n",
       "    <tr>\n",
       "      <th>Fighting</th>\n",
       "      <td>0.130</td>\n",
       "    </tr>\n",
       "    <tr>\n",
       "      <th>Action</th>\n",
       "      <td>0.120</td>\n",
       "    </tr>\n",
       "    <tr>\n",
       "      <th>Misc</th>\n",
       "      <td>0.120</td>\n",
       "    </tr>\n",
       "    <tr>\n",
       "      <th>Simulation</th>\n",
       "      <td>0.120</td>\n",
       "    </tr>\n",
       "    <tr>\n",
       "      <th>Strategy</th>\n",
       "      <td>0.080</td>\n",
       "    </tr>\n",
       "    <tr>\n",
       "      <th>Puzzle</th>\n",
       "      <td>0.045</td>\n",
       "    </tr>\n",
       "    <tr>\n",
       "      <th>Adventure</th>\n",
       "      <td>0.030</td>\n",
       "    </tr>\n",
       "  </tbody>\n",
       "</table>\n",
       "</div>"
      ],
      "text/plain": [
       "              total_sales\n",
       "genre                    \n",
       "Shooter             0.440\n",
       "Sports              0.240\n",
       "Platform            0.210\n",
       "Role-Playing        0.140\n",
       "Racing              0.140\n",
       "Fighting            0.130\n",
       "Action              0.120\n",
       "Misc                0.120\n",
       "Simulation          0.120\n",
       "Strategy            0.080\n",
       "Puzzle              0.045\n",
       "Adventure           0.030"
      ]
     },
     "metadata": {},
     "output_type": "display_data"
    }
   ],
   "source": [
    "top_genre= games2012.pivot_table(index='genre', values='total_sales', aggfunc='median').sort_values(by='total_sales', ascending=False)\n",
    "display(top_genre)"
   ]
  },
  {
   "cell_type": "code",
   "execution_count": 43,
   "metadata": {
    "scrolled": true
   },
   "outputs": [
    {
     "data": {
      "image/png": "[encoded data removed]",
      "text/plain": [
       "<Figure size 792x360 with 1 Axes>"
      ]
     },
     "metadata": {
      "needs_background": "light"
     },
     "output_type": "display_data"
    }
   ],
   "source": [
    "top_genre= games2012.pivot_table(index='genre', values='total_sales', aggfunc='median').sort_values(by='total_sales', ascending=False);\n",
    "plt.figure(figsize=(11,5));\n",
    "sns.barplot(x=top_genre.index,y=top_genre['total_sales']);\n",
    "plt.title(\"Продажи жанров\");\n",
    "plt.xlabel(\"Название\");\n",
    "plt.ylabel(\"Кол-во продаж\");"
   ]
  },
  {
   "cell_type": "markdown",
   "metadata": {},
   "source": [
    "Посмотрев распределение по жанрам можем сделать вывод что самый популярный жанр Shooter, самый непродаваемый жанр Adventure.\n",
    "На втором месте жанр Sports,далее platform."
   ]
  },
  {
   "cell_type": "markdown",
   "metadata": {},
   "source": [
    "<div class=\"alert alert-block alert-danger\">\n",
    "<h2> Комментарий ревьюера VERS#1<a class=\"tocSkip\"></h2>\n",
    "\n",
    "    \n",
    "<b>На доработку🤔:</b>\n",
    "\n",
    "1. Общие продажи - плохая метрика для поиска наиболее прибыльного жанра. За высокими показателями общих продаж может скрываться множество мелких игр с низкими продажами. Или 2-3 звезды и куча провалов. Лучше найти жанр, где игры стабильно приносят высокий доход - для этого стоит рассмотреть средние или медианные продажи.\n",
    "    \n",
    "    \n",
    "2. На данном этапе тоже следует использовать данные за актуальный период.\n",
    "\n",
    "</div>\n"
   ]
  },
  {
   "cell_type": "markdown",
   "metadata": {},
   "source": [
    "<div class=\"alert alert-block alert-danger\">\n",
    "<h2> Комментарий ревьюера VERS#2<a class=\"tocSkip\"></h2>\n",
    "\n",
    "    \n",
    "<b>На доработку🤔:</b>\n",
    "\n",
    "Ольга, здесь имелось ввиду, что в сводной таблице значение общих продаж можно заменить на медиану и среднее:\n",
    "    \n",
    "    top_genre= games2012.pivot_table(index='genre', values='total_sales', aggfunc='median')\n",
    "    \n",
    " Пожалуйста скорректируй данный этап и выводы.\n",
    "\n",
    "</div>\n"
   ]
  },
  {
   "cell_type": "markdown",
   "metadata": {},
   "source": [
    "<div class=\"alert alert-success\"> \n",
    "<h2> Комментарий ревьюера  VERS#3 <a class=\"tocSkip\"> </h2>\n",
    "\n",
    "<b>Все отлично!👍:</b> \n",
    "    \n",
    "Согласна с логикой и выводами проведенного анализа на текущем этапе.\n"
   ]
  },
  {
   "cell_type": "markdown",
   "metadata": {},
   "source": [
    "# Шаг 4. Составьте портрет пользователя каждого региона"
   ]
  },
  {
   "cell_type": "code",
   "execution_count": 44,
   "metadata": {},
   "outputs": [
    {
     "data": {
      "image/png": "[encoded data removed]",
      "text/plain": [
       "<Figure size 432x288 with 1 Axes>"
      ]
     },
     "metadata": {
      "needs_background": "light"
     },
     "output_type": "display_data"
    },
    {
     "data": {
      "image/png": "[encoded data removed]",
      "text/plain": [
       "<Figure size 432x288 with 1 Axes>"
      ]
     },
     "metadata": {
      "needs_background": "light"
     },
     "output_type": "display_data"
    },
    {
     "data": {
      "image/png": "[encoded data removed]",
      "text/plain": [
       "<Figure size 432x288 with 1 Axes>"
      ]
     },
     "metadata": {
      "needs_background": "light"
     },
     "output_type": "display_data"
    }
   ],
   "source": [
    "games2012.groupby(by='genre').agg({'jp_sales':'sum'}).sort_values(by='jp_sales', ascending=False).head(5).plot(kind='bar');\n",
    "games2012.groupby(by='genre').agg({'eu_sales':'sum'}).sort_values(by='eu_sales', ascending=False).head(5).plot(kind='bar');\n",
    "games2012.groupby(by='genre').agg({'na_sales':'sum'}).sort_values(by='na_sales', ascending=False).head(5).plot(kind='bar');"
   ]
  },
  {
   "cell_type": "markdown",
   "metadata": {},
   "source": [
    "Мы построили графики, видим топ 5 игр по регионам, видим чтоб в регион jp больше тратятся на ролевые игры, а в остальных регионах на  Action."
   ]
  },
  {
   "cell_type": "code",
   "execution_count": 45,
   "metadata": {},
   "outputs": [
    {
     "data": {
      "image/png": "[encoded data removed]",
      "text/plain": [
       "<Figure size 432x288 with 1 Axes>"
      ]
     },
     "metadata": {
      "needs_background": "light"
     },
     "output_type": "display_data"
    },
    {
     "data": {
      "image/png": "[encoded data removed]",
      "text/plain": [
       "<Figure size 432x288 with 1 Axes>"
      ]
     },
     "metadata": {
      "needs_background": "light"
     },
     "output_type": "display_data"
    },
    {
     "data": {
      "image/png": "[encoded data removed]",
      "text/plain": [
       "<Figure size 432x288 with 1 Axes>"
      ]
     },
     "metadata": {
      "needs_background": "light"
     },
     "output_type": "display_data"
    }
   ],
   "source": [
    "games2012.groupby(by='platform').agg({'jp_sales':'sum'}).sort_values(by='jp_sales', ascending=False).head(5).plot(kind='bar');\n",
    "games2012.groupby(by='platform').agg({'eu_sales':'sum'}).sort_values(by='eu_sales', ascending=False).head(5).plot(kind='bar');\n",
    "games2012.groupby(by='platform').agg({'na_sales':'sum'}).sort_values(by='na_sales', ascending=False).head(5).plot(kind='bar');"
   ]
  },
  {
   "cell_type": "markdown",
   "metadata": {},
   "source": [
    "Мы построили графики, видим топ 5 игр по регионам, видим чтоб в регионе jp покупают платформу DS, в регионе eu покупают платформу PS2,в регионе na покупают платформу X360"
   ]
  },
  {
   "cell_type": "code",
   "execution_count": 46,
   "metadata": {},
   "outputs": [
    {
     "data": {
      "image/png": "[encoded data removed]",
      "text/plain": [
       "<Figure size 432x288 with 1 Axes>"
      ]
     },
     "metadata": {
      "needs_background": "light"
     },
     "output_type": "display_data"
    },
    {
     "data": {
      "image/png": "[encoded data removed]",
      "text/plain": [
       "<Figure size 432x288 with 1 Axes>"
      ]
     },
     "metadata": {
      "needs_background": "light"
     },
     "output_type": "display_data"
    },
    {
     "data": {
      "image/png": "[encoded data removed]",
      "text/plain": [
       "<Figure size 432x288 with 1 Axes>"
      ]
     },
     "metadata": {
      "needs_background": "light"
     },
     "output_type": "display_data"
    }
   ],
   "source": [
    "games2012.groupby(by='rating').agg({'jp_sales':'sum'}).sort_values(by='jp_sales', ascending=False).head(5).plot(kind='bar');\n",
    "games2012.groupby(by='rating').agg({'eu_sales':'sum'}).sort_values(by='eu_sales', ascending=False).head(5).plot(kind='bar');\n",
    "games2012.groupby(by='rating').agg({'na_sales':'sum'}).sort_values(by='na_sales', ascending=False).head(5).plot(kind='bar');"
   ]
  },
  {
   "cell_type": "markdown",
   "metadata": {},
   "source": [
    "Видим что в Америке и Европе самые популярные игры с рейтингом Е(для всех), в то время как в Японии, много что было не указано, либо заполнено с ошибками, в связи с этим все попало в категорию вне рейтинга"
   ]
  },
  {
   "cell_type": "markdown",
   "metadata": {},
   "source": [
    "<div class=\"alert alert-success\"> \n",
    "<h2> Комментарий ревьюера  VERS#1 <a class=\"tocSkip\"> </h2>\n",
    "\n",
    "<b>Все отлично!👍:</b>\n",
    "\n",
    "Ольга, отличная работа! Действительно, Европа и Северная Америка очень похожи между собой по предпочтениям жанров и платформ, в то время как Япония более самобытна.  В Японии наибольший объем продаж занимают игры без рейтинга ESRB, так как у них действует своя система рейтингов CERO."
   ]
  },
  {
   "cell_type": "markdown",
   "metadata": {},
   "source": [
    "# Шаг 5. Проверьте гипотезы"
   ]
  },
  {
   "cell_type": "markdown",
   "metadata": {},
   "source": [
    "# Гипотезы:\n",
    "H0: средний пользовательский рейтинг платформ Xbox и PS3 одинаковый\n",
    "\n",
    "H1: средний пользовательский рейтинг платформ Xbox и PS3 различается"
   ]
  },
  {
   "cell_type": "code",
   "execution_count": 47,
   "metadata": {},
   "outputs": [],
   "source": [
    "alpha = 0.05"
   ]
  },
  {
   "cell_type": "code",
   "execution_count": 48,
   "metadata": {},
   "outputs": [],
   "source": [
    "xbox = games2012[(games2012['platform'] == 'XOne') & (games2012['user_score'] > 0)]['user_score']\n",
    "pc= games2012.loc[(games2012['platform'] == 'PC') & (games2012['user_score'] > 0)]['user_score']"
   ]
  },
  {
   "cell_type": "markdown",
   "metadata": {},
   "source": [
    "<div class=\"alert alert-block alert-danger\">\n",
    "<h2> Комментарий ревьюера VERS#1 <a class=\"tocSkip\"></h2>\n",
    "\n",
    "    \n",
    "<b>На доработку🤔:</b>\n",
    "\n",
    "1. На текущем шаге в каждом тесте следует  использовать данные за актуальный период.\n",
    "2.  Согласно ТЗ необходимо сравнить рейтинги платформ Xbox One и PC, то есть необходимо сделать выборки для плафторм с названием PC и XOne.\n",
    "    \n",
    "    \n",
    "    \n",
    "Пожалуйста скоррректируй отбор значений в выборки в первом и во втором тестах, а также актуальный период в обоих тестах.\n",
    "</div>"
   ]
  },
  {
   "cell_type": "code",
   "execution_count": 49,
   "metadata": {},
   "outputs": [
    {
     "name": "stdout",
     "output_type": "stream",
     "text": [
      "p-значение: 0.5535080500643661\n",
      "Не получилось отвергнуть нулевую гипотезу\n"
     ]
    }
   ],
   "source": [
    "results = st.ttest_ind(\n",
    "    xbox, \n",
    "    pc)\n",
    "\n",
    "print('p-значение:', results.pvalue)\n",
    "\n",
    "if results.pvalue < alpha:\n",
    "    print(\"Отвергаем нулевую гипотезу\")\n",
    "else:\n",
    "    print(\"Не получилось отвергнуть нулевую гипотезу\") \n"
   ]
  },
  {
   "cell_type": "markdown",
   "metadata": {},
   "source": [
    "# Гипотезы:\n",
    "H0: средний пользовательский рейтинг жанров Action и Sports одинаковый\n",
    "\n",
    "H1: средний пользовательский рейтинг жанров Action и Sports различается"
   ]
  },
  {
   "cell_type": "markdown",
   "metadata": {},
   "source": [
    "<div class=\"alert alert-success\"> \n",
    "<h2> Комментарий ревьюера  VERS#1 <a class=\"tocSkip\"> </h2>\n",
    "\n",
    "<b>Все отлично!👍:</b>\n",
    "\n",
    "Нулевая и альтернативная гипотезы в обоих тестах софрмулированы корректно."
   ]
  },
  {
   "cell_type": "code",
   "execution_count": 50,
   "metadata": {},
   "outputs": [],
   "source": [
    "alpha = 0.05"
   ]
  },
  {
   "cell_type": "code",
   "execution_count": 51,
   "metadata": {},
   "outputs": [],
   "source": [
    "act = games2012[(games2012['genre'] == 'Action') & (games2012['user_score'] > 0)]['user_score']\n",
    "sport = games2012[(games2012['genre'] == 'Sports') & (games2012['user_score'] > 0)]['user_score']"
   ]
  },
  {
   "cell_type": "code",
   "execution_count": 52,
   "metadata": {},
   "outputs": [
    {
     "name": "stdout",
     "output_type": "stream",
     "text": [
      "p-значение: 3.7163089460934874e-26\n",
      "Отвергаем нулевую гипотезу\n"
     ]
    }
   ],
   "source": [
    "results = st.ttest_ind(\n",
    "    act, \n",
    "    sport)\n",
    "\n",
    "print('p-значение:', results.pvalue)\n",
    "\n",
    "if results.pvalue < alpha:\n",
    "    print(\"Отвергаем нулевую гипотезу\")\n",
    "else:\n",
    "    print(\"Не получилось отвергнуть нулевую гипотезу\") \n"
   ]
  },
  {
   "cell_type": "markdown",
   "metadata": {},
   "source": [
    " Видим, что в первом случае мы не отвергаем нулевую гипотезу, это означает, что есть вероятность, что пользовательские рейтинги платформ Xbox One и PC равны\n",
    " Во втором случае мы отвергаем нулевую гипотезу, это означает, что средние пользовательские рейтинги жанров Action и Sports различаются"
   ]
  },
  {
   "cell_type": "markdown",
   "metadata": {},
   "source": [
    "<div class=\"alert alert-success\"> \n",
    "<h2> Комментарий ревьюера  VERS#2 <a class=\"tocSkip\"> </h2>\n",
    "\n",
    "<b>Все отлично!👍:</b>\n",
    "\n",
    "В первом тесте выборки сформированы корректно, результаты тестирования верные)"
   ]
  },
  {
   "cell_type": "markdown",
   "metadata": {},
   "source": [
    "# Шаг 6. Напишите общий вывод"
   ]
  },
  {
   "cell_type": "markdown",
   "metadata": {},
   "source": [
    "Из исследования мы можем понять, что в последние годы стали гораздо меньше выпаскать консольные игры и продавать, в связи с активным развитием мобильных игр.\n",
    "Видим что в среднем жизненный цикл платформы равен примерно 10 годам.\n",
    "Проверены две гипотезы, установлено, что средние пользовательские рейтинги XBox One и PC не отличаются и средние пользовательские рейтинги жанров Action и Sports разные.\n",
    "Cамые прибыльные платформы за все время - PS2, X360, PS3, Wii и DS.\n",
    "За актуальный период то есть с 2012 года самые прибыльные платформы:'PS3','X360','PS4','3DS','XOne'\n",
    "Также в каждом регионе необходимо делать различный упор на жанр игр, на категорию в рейтинге,а также различную платформу для игр.\n",
    "Лидером среди жанров являются 'Shooter', 'Role-Playing', 'Sports','Platform','Racing'\n",
    "В ближайших год необходимо делать упор на топ популярных консолей это Ps и Xbox, жанр выбирать в зависимости от региона."
   ]
  },
  {
   "cell_type": "markdown",
   "metadata": {},
   "source": [
    "<div class=\"alert alert-warning\">\n",
    "    <h2> Комментарий ревьюера VERS#1 <a class=\"tocSkip\"> </h2>\n",
    "    \n",
    "<b>Некоторые замечания и рекомендации💡:</b> \n",
    "\n",
    "Было бы здорово расширить вывод, например, можно указать длительность жизненного цикла и актуального периода, список перспективных платформ, лидеров среди жанров и т.п."
   ]
  },
  {
   "cell_type": "markdown",
   "metadata": {},
   "source": [
    "<div style=\"border:solid Chocolate 2px; padding: 40px\">\n",
    "\n",
    "**Общий вывод по проекту VERS#1**\n",
    "\n",
    "Ольга, спасибо за твой проект! Тобою выполнен большой объем работы , все пункты работы соблюдены; оформление, комментарии и выводы представлены, ты большая молодец! Существует несколько важных моментов, которые можно было бы улучшить, рекомендации будут ниже в комментариях.\n",
    "\n",
    "**Отдельно подчеркнуть положительные стороны проделанной работы🙂:**\n",
    " \n",
    "* Были предложены различные решения и методы для достижения поставленных целей проекта. Хорошая работа! \n",
    "* Тобой была активна использована визуализация на большом количестве этапов проекта. Здорово, что ты пользуешься данным инструментом.\n",
    "* Ты использовала самые разные методы для работы с данными, все получилось! \n",
    "\n",
    "\n",
    "\n",
    "**На что стоит обратить внимание🤓**:\n",
    "\n",
    "* Скорректировать итоговый на основе обновленного анализа.\n",
    "* Оформление разделов работы.\n",
    "* Выделение актуального периода и его применение на последующих этапах проекта.\n",
    "* Фильтрация значений заглушек при анализе влияния оценок пользователей и критиков.\n",
    "* В анализе возрастных рейтингов необходимо учесть значения без рейтинга.\n",
    "* Выделение выборок в тестирование гипотез.\n",
    "* Остальные рекомендации ты найдешь в моих комментариях!\n",
    "    \n",
    "    \n",
    "    \n",
    "    \n",
    "\n",
    "\n",
    "**Желаю удачи и жду твой проект на повторное ревью!**😉"
   ]
  },
  {
   "cell_type": "markdown",
   "metadata": {},
   "source": [
    "<div style=\"border:solid Chocolate 2px; padding: 40px\">\n",
    "\n",
    "**Общий вывод по VERS#2**\n",
    "\n",
    "Ольга, спасибо за проделанную работу. Ты уже приложила много усилий, теперь осталось совсем немного чтобы довести его до конца.\n",
    " \n",
    "\n",
    "**Кратко сформулирую итоги второй проверки**:\n",
    "    \n",
    "* Доработано примерно 90% работы👍👍👍. \n",
    "* Следует исключить значения заглушки в анализе влияния оценок пользователей и критиков.\n",
    "* Необходимо использовать метрику медианных или средних продаж в анализе жанров.\n",
    "* Следует скорректировать итоговый на основе обновленного анализа.\n",
    "\n",
    " \n",
    "\n",
    "**Желаю удачи и ожидаю проект на финальное ревью!**😉"
   ]
  },
  {
   "cell_type": "markdown",
   "metadata": {},
   "source": [
    "<div style=\"border:solid Chocolate 2px; padding: 40px\">\n",
    "\n",
    "**Общий вывод по проверке VERS#3**\n",
    "\n",
    "Ольга, спасибо за проделанную работу. Ты плодотворно поработала над данным проектом, учла рекомендации и довела работу до концав довольно сжатый срок👍👍👍\n",
    "Желаю удачи и успеха в освоение дальнейшей учебной программы!😉\n"
   ]
  }
 ],
 "metadata": {
  "ExecuteTimeLog": [
   {
    "duration": 441,
    "start_time": "2022-07-11T09:00:11.315Z"
   },
   {
    "duration": 86,
    "start_time": "2022-07-11T09:02:06.399Z"
   },
   {
    "duration": 100,
    "start_time": "2022-07-11T09:02:29.291Z"
   },
   {
    "duration": 58,
    "start_time": "2022-07-11T09:02:44.043Z"
   },
   {
    "duration": 10,
    "start_time": "2022-07-11T09:03:53.868Z"
   },
   {
    "duration": 4,
    "start_time": "2022-07-11T09:05:53.291Z"
   },
   {
    "duration": 8,
    "start_time": "2022-07-11T09:06:04.247Z"
   },
   {
    "duration": 96,
    "start_time": "2022-07-11T09:06:49.052Z"
   },
   {
    "duration": 24,
    "start_time": "2022-07-11T09:06:53.307Z"
   },
   {
    "duration": 68,
    "start_time": "2022-07-11T09:07:56.276Z"
   },
   {
    "duration": 53,
    "start_time": "2022-07-11T09:08:02.392Z"
   },
   {
    "duration": 64,
    "start_time": "2022-07-11T09:08:07.592Z"
   },
   {
    "duration": 84,
    "start_time": "2022-07-11T09:08:29.744Z"
   },
   {
    "duration": 51,
    "start_time": "2022-07-11T09:08:42.189Z"
   },
   {
    "duration": 32,
    "start_time": "2022-07-11T09:09:23.413Z"
   },
   {
    "duration": 1113,
    "start_time": "2022-07-11T09:13:08.645Z"
   },
   {
    "duration": 1099,
    "start_time": "2022-07-11T09:13:30.665Z"
   },
   {
    "duration": 67,
    "start_time": "2022-07-11T09:14:21.717Z"
   },
   {
    "duration": 19,
    "start_time": "2022-07-11T09:14:22.393Z"
   },
   {
    "duration": 42,
    "start_time": "2022-07-11T09:14:23.440Z"
   },
   {
    "duration": 13,
    "start_time": "2022-07-11T09:14:24.201Z"
   },
   {
    "duration": 12,
    "start_time": "2022-07-11T09:15:03.160Z"
   },
   {
    "duration": 499,
    "start_time": "2022-07-11T09:15:13.260Z"
   },
   {
    "duration": 22,
    "start_time": "2022-07-11T09:15:14.961Z"
   },
   {
    "duration": 20,
    "start_time": "2022-07-11T09:15:15.813Z"
   },
   {
    "duration": 88,
    "start_time": "2022-07-11T09:15:16.708Z"
   },
   {
    "duration": 11,
    "start_time": "2022-07-11T09:17:46.042Z"
   },
   {
    "duration": 12,
    "start_time": "2022-07-11T09:18:47.606Z"
   },
   {
    "duration": 49,
    "start_time": "2022-07-11T09:19:04.704Z"
   },
   {
    "duration": 5,
    "start_time": "2022-07-11T09:19:11.462Z"
   },
   {
    "duration": 16,
    "start_time": "2022-07-11T09:19:23.317Z"
   },
   {
    "duration": 14,
    "start_time": "2022-07-11T09:19:34.326Z"
   },
   {
    "duration": 411,
    "start_time": "2022-07-11T09:27:33.935Z"
   },
   {
    "duration": 382,
    "start_time": "2022-07-11T09:28:02.854Z"
   },
   {
    "duration": 11,
    "start_time": "2022-07-11T09:28:10.799Z"
   },
   {
    "duration": 389,
    "start_time": "2022-07-11T09:29:55.726Z"
   },
   {
    "duration": 377,
    "start_time": "2022-07-11T09:30:22.337Z"
   },
   {
    "duration": 4,
    "start_time": "2022-07-11T09:30:26.124Z"
   },
   {
    "duration": 14,
    "start_time": "2022-07-11T09:30:28.731Z"
   },
   {
    "duration": 6,
    "start_time": "2022-07-11T09:37:44.830Z"
   },
   {
    "duration": 8,
    "start_time": "2022-07-11T09:43:00.566Z"
   },
   {
    "duration": 12,
    "start_time": "2022-07-11T09:43:34.433Z"
   },
   {
    "duration": 5,
    "start_time": "2022-07-11T09:43:42.897Z"
   },
   {
    "duration": 4,
    "start_time": "2022-07-11T09:44:09.914Z"
   },
   {
    "duration": 9,
    "start_time": "2022-07-11T10:06:39.964Z"
   },
   {
    "duration": 5,
    "start_time": "2022-07-11T10:07:41.285Z"
   },
   {
    "duration": 15,
    "start_time": "2022-07-11T10:07:58.433Z"
   },
   {
    "duration": 1873,
    "start_time": "2022-07-11T10:11:10.099Z"
   },
   {
    "duration": 1040,
    "start_time": "2022-07-11T10:12:44.291Z"
   },
   {
    "duration": 18,
    "start_time": "2022-07-11T10:12:56.495Z"
   },
   {
    "duration": 14,
    "start_time": "2022-07-11T10:13:01.916Z"
   },
   {
    "duration": 8,
    "start_time": "2022-07-11T10:13:26.992Z"
   },
   {
    "duration": 21,
    "start_time": "2022-07-11T10:20:23.465Z"
   },
   {
    "duration": 664,
    "start_time": "2022-07-11T10:23:29.307Z"
   },
   {
    "duration": 164,
    "start_time": "2022-07-11T10:23:55.534Z"
   },
   {
    "duration": 224,
    "start_time": "2022-07-11T10:25:43.696Z"
   },
   {
    "duration": 41,
    "start_time": "2022-07-11T10:32:15.722Z"
   },
   {
    "duration": 15,
    "start_time": "2022-07-11T10:33:34.776Z"
   },
   {
    "duration": 20,
    "start_time": "2022-07-11T10:33:56.929Z"
   },
   {
    "duration": 16,
    "start_time": "2022-07-11T10:34:06.200Z"
   },
   {
    "duration": 231,
    "start_time": "2022-07-11T10:35:01.525Z"
   },
   {
    "duration": 286,
    "start_time": "2022-07-11T10:35:24.877Z"
   },
   {
    "duration": 215,
    "start_time": "2022-07-11T10:35:32.016Z"
   },
   {
    "duration": 60,
    "start_time": "2022-07-11T10:36:03.559Z"
   },
   {
    "duration": 18,
    "start_time": "2022-07-11T10:36:11.921Z"
   },
   {
    "duration": 306,
    "start_time": "2022-07-11T10:36:41.753Z"
   },
   {
    "duration": 48,
    "start_time": "2022-07-11T10:37:24.685Z"
   },
   {
    "duration": 199,
    "start_time": "2022-07-11T10:44:23.605Z"
   },
   {
    "duration": 18,
    "start_time": "2022-07-11T10:45:32.894Z"
   },
   {
    "duration": 4,
    "start_time": "2022-07-11T10:47:10.917Z"
   },
   {
    "duration": 271,
    "start_time": "2022-07-11T10:47:23.214Z"
   },
   {
    "duration": 17,
    "start_time": "2022-07-11T10:47:33.392Z"
   },
   {
    "duration": 16,
    "start_time": "2022-07-11T10:47:47.615Z"
   },
   {
    "duration": 280,
    "start_time": "2022-07-11T10:48:19.402Z"
   },
   {
    "duration": 461,
    "start_time": "2022-07-11T10:48:27.451Z"
   },
   {
    "duration": 347,
    "start_time": "2022-07-11T10:49:19.483Z"
   },
   {
    "duration": 16,
    "start_time": "2022-07-11T10:49:27.963Z"
   },
   {
    "duration": 13,
    "start_time": "2022-07-11T10:50:52.076Z"
   },
   {
    "duration": 378,
    "start_time": "2022-07-11T10:51:03.851Z"
   },
   {
    "duration": 362,
    "start_time": "2022-07-11T10:51:18.522Z"
   },
   {
    "duration": 630,
    "start_time": "2022-07-11T10:51:28.287Z"
   },
   {
    "duration": 305,
    "start_time": "2022-07-11T10:51:37.975Z"
   },
   {
    "duration": 560,
    "start_time": "2022-07-11T10:51:46.683Z"
   },
   {
    "duration": 436,
    "start_time": "2022-07-11T10:52:03.455Z"
   },
   {
    "duration": 440,
    "start_time": "2022-07-11T10:52:18.724Z"
   },
   {
    "duration": 534,
    "start_time": "2022-07-11T10:52:28.708Z"
   },
   {
    "duration": 418,
    "start_time": "2022-07-11T10:52:36.587Z"
   },
   {
    "duration": 174,
    "start_time": "2022-07-11T10:55:15.161Z"
   },
   {
    "duration": 43,
    "start_time": "2022-07-11T10:55:22.936Z"
   },
   {
    "duration": 10,
    "start_time": "2022-07-11T10:58:28.020Z"
   },
   {
    "duration": 10,
    "start_time": "2022-07-11T10:58:41.784Z"
   },
   {
    "duration": 57,
    "start_time": "2022-07-11T11:02:14.373Z"
   },
   {
    "duration": 10,
    "start_time": "2022-07-11T11:02:35.060Z"
   },
   {
    "duration": 26,
    "start_time": "2022-07-11T11:02:44.289Z"
   },
   {
    "duration": 10,
    "start_time": "2022-07-11T11:03:26.309Z"
   },
   {
    "duration": 11,
    "start_time": "2022-07-11T11:03:49.716Z"
   },
   {
    "duration": 167,
    "start_time": "2022-07-11T11:06:07.842Z"
   },
   {
    "duration": 148,
    "start_time": "2022-07-11T11:06:32.546Z"
   },
   {
    "duration": 37,
    "start_time": "2022-07-11T11:14:59.468Z"
   },
   {
    "duration": 102,
    "start_time": "2022-07-11T11:15:32.568Z"
   },
   {
    "duration": 772,
    "start_time": "2022-07-11T11:15:48.969Z"
   },
   {
    "duration": 419,
    "start_time": "2022-07-11T11:15:52.022Z"
   },
   {
    "duration": 409,
    "start_time": "2022-07-11T11:16:31.995Z"
   },
   {
    "duration": 16,
    "start_time": "2022-07-11T11:18:35.122Z"
   },
   {
    "duration": 30,
    "start_time": "2022-07-11T11:19:34.365Z"
   },
   {
    "duration": 40,
    "start_time": "2022-07-11T11:20:26.832Z"
   },
   {
    "duration": 14,
    "start_time": "2022-07-11T11:20:54.925Z"
   },
   {
    "duration": 3707,
    "start_time": "2022-07-11T11:21:31.381Z"
   },
   {
    "duration": 200,
    "start_time": "2022-07-11T11:21:57.925Z"
   },
   {
    "duration": 2216,
    "start_time": "2022-07-11T11:24:39.271Z"
   },
   {
    "duration": 8,
    "start_time": "2022-07-11T11:32:06.746Z"
   },
   {
    "duration": 5,
    "start_time": "2022-07-11T11:32:24.928Z"
   },
   {
    "duration": 25,
    "start_time": "2022-07-11T11:32:25.443Z"
   },
   {
    "duration": 1393,
    "start_time": "2022-07-11T11:32:41.982Z"
   },
   {
    "duration": 1816,
    "start_time": "2022-07-11T11:32:58.451Z"
   },
   {
    "duration": 1834,
    "start_time": "2022-07-11T11:33:34.767Z"
   },
   {
    "duration": 2302,
    "start_time": "2022-07-11T11:34:07.511Z"
   },
   {
    "duration": 8,
    "start_time": "2022-07-11T11:38:56.604Z"
   },
   {
    "duration": 12,
    "start_time": "2022-07-11T11:39:54.264Z"
   },
   {
    "duration": 171,
    "start_time": "2022-07-11T11:40:02.308Z"
   },
   {
    "duration": 33,
    "start_time": "2022-07-11T11:41:26.877Z"
   },
   {
    "duration": 1211,
    "start_time": "2022-07-11T11:41:49.840Z"
   },
   {
    "duration": 11,
    "start_time": "2022-07-11T11:42:02.000Z"
   },
   {
    "duration": 18,
    "start_time": "2022-07-11T11:42:16.427Z"
   },
   {
    "duration": 11,
    "start_time": "2022-07-11T11:43:22.014Z"
   },
   {
    "duration": 129,
    "start_time": "2022-07-11T11:43:29.778Z"
   },
   {
    "duration": 4,
    "start_time": "2022-07-11T11:49:14.416Z"
   },
   {
    "duration": 2161,
    "start_time": "2022-07-11T11:49:17.130Z"
   },
   {
    "duration": 17,
    "start_time": "2022-07-11T11:49:48.614Z"
   },
   {
    "duration": 11,
    "start_time": "2022-07-11T11:49:49.880Z"
   },
   {
    "duration": 161,
    "start_time": "2022-07-11T11:49:51.061Z"
   },
   {
    "duration": 366,
    "start_time": "2022-07-11T11:50:02.736Z"
   },
   {
    "duration": 421,
    "start_time": "2022-07-11T11:50:19.718Z"
   },
   {
    "duration": 454,
    "start_time": "2022-07-11T11:50:36.337Z"
   },
   {
    "duration": 3,
    "start_time": "2022-07-11T11:50:48.815Z"
   },
   {
    "duration": 345,
    "start_time": "2022-07-11T11:50:51.690Z"
   },
   {
    "duration": 5,
    "start_time": "2022-07-11T11:51:02.166Z"
   },
   {
    "duration": 337,
    "start_time": "2022-07-11T11:51:02.706Z"
   },
   {
    "duration": 4,
    "start_time": "2022-07-11T11:51:12.214Z"
   },
   {
    "duration": 384,
    "start_time": "2022-07-11T11:51:16.179Z"
   },
   {
    "duration": 3,
    "start_time": "2022-07-11T11:51:23.184Z"
   },
   {
    "duration": 399,
    "start_time": "2022-07-11T11:51:23.971Z"
   },
   {
    "duration": 379,
    "start_time": "2022-07-11T11:58:46.112Z"
   },
   {
    "duration": 342,
    "start_time": "2022-07-11T11:59:36.897Z"
   },
   {
    "duration": 9,
    "start_time": "2022-07-11T12:00:24.150Z"
   },
   {
    "duration": 364,
    "start_time": "2022-07-11T12:00:25.281Z"
   },
   {
    "duration": 4,
    "start_time": "2022-07-11T12:01:56.718Z"
   },
   {
    "duration": 553,
    "start_time": "2022-07-11T12:01:59.020Z"
   },
   {
    "duration": 11,
    "start_time": "2022-07-11T12:04:06.443Z"
   },
   {
    "duration": 77,
    "start_time": "2022-07-11T12:07:37.896Z"
   },
   {
    "duration": 47,
    "start_time": "2022-07-11T12:07:44.391Z"
   },
   {
    "duration": 7,
    "start_time": "2022-07-11T12:09:09.406Z"
   },
   {
    "duration": 61,
    "start_time": "2022-07-11T12:09:09.640Z"
   },
   {
    "duration": 28,
    "start_time": "2022-07-11T12:13:44.653Z"
   },
   {
    "duration": 141,
    "start_time": "2022-07-11T12:14:00.803Z"
   },
   {
    "duration": 15,
    "start_time": "2022-07-11T12:17:25.184Z"
   },
   {
    "duration": 20,
    "start_time": "2022-07-11T12:17:37.464Z"
   },
   {
    "duration": 163,
    "start_time": "2022-07-11T12:17:44.444Z"
   },
   {
    "duration": 16,
    "start_time": "2022-07-11T12:19:51.981Z"
   },
   {
    "duration": 3,
    "start_time": "2022-07-11T12:20:05.341Z"
   },
   {
    "duration": 16,
    "start_time": "2022-07-11T12:20:08.016Z"
   },
   {
    "duration": 19,
    "start_time": "2022-07-11T12:20:39.865Z"
   },
   {
    "duration": 18,
    "start_time": "2022-07-11T12:27:51.275Z"
   },
   {
    "duration": 16,
    "start_time": "2022-07-11T12:28:08.372Z"
   },
   {
    "duration": 18,
    "start_time": "2022-07-11T12:28:14.776Z"
   },
   {
    "duration": 176,
    "start_time": "2022-07-11T12:28:26.615Z"
   },
   {
    "duration": 13,
    "start_time": "2022-07-11T12:35:46.376Z"
   },
   {
    "duration": 9,
    "start_time": "2022-07-11T12:36:05.367Z"
   },
   {
    "duration": 25,
    "start_time": "2022-07-11T12:36:19.161Z"
   },
   {
    "duration": 27,
    "start_time": "2022-07-11T12:36:32.740Z"
   },
   {
    "duration": 16,
    "start_time": "2022-07-11T12:37:09.599Z"
   },
   {
    "duration": 22,
    "start_time": "2022-07-11T12:37:10.468Z"
   },
   {
    "duration": 17,
    "start_time": "2022-07-11T12:38:01.072Z"
   },
   {
    "duration": 16,
    "start_time": "2022-07-11T12:38:10.951Z"
   },
   {
    "duration": 49,
    "start_time": "2022-07-11T12:38:15.068Z"
   },
   {
    "duration": 19,
    "start_time": "2022-07-11T12:38:15.280Z"
   },
   {
    "duration": 32,
    "start_time": "2022-07-11T12:38:15.464Z"
   },
   {
    "duration": 436,
    "start_time": "2022-07-11T12:38:15.672Z"
   },
   {
    "duration": 4,
    "start_time": "2022-07-11T12:38:16.111Z"
   },
   {
    "duration": 20,
    "start_time": "2022-07-11T12:38:16.117Z"
   },
   {
    "duration": 7,
    "start_time": "2022-07-11T12:38:18.303Z"
   },
   {
    "duration": 14,
    "start_time": "2022-07-11T12:38:20.846Z"
   },
   {
    "duration": 22,
    "start_time": "2022-07-11T12:38:21.512Z"
   },
   {
    "duration": 13,
    "start_time": "2022-07-11T12:38:24.540Z"
   },
   {
    "duration": 38,
    "start_time": "2022-07-11T12:38:28.715Z"
   },
   {
    "duration": 27,
    "start_time": "2022-07-11T12:38:45.571Z"
   },
   {
    "duration": 13,
    "start_time": "2022-07-11T12:38:52.819Z"
   },
   {
    "duration": 533,
    "start_time": "2022-07-11T12:39:01.757Z"
   },
   {
    "duration": 18,
    "start_time": "2022-07-11T12:39:02.997Z"
   },
   {
    "duration": 22,
    "start_time": "2022-07-11T12:39:03.265Z"
   },
   {
    "duration": 69,
    "start_time": "2022-07-11T12:39:03.568Z"
   },
   {
    "duration": 16,
    "start_time": "2022-07-11T12:39:03.864Z"
   },
   {
    "duration": 16,
    "start_time": "2022-07-11T12:39:04.119Z"
   },
   {
    "duration": 6,
    "start_time": "2022-07-11T12:39:04.391Z"
   },
   {
    "duration": 73,
    "start_time": "2022-07-11T12:39:19.125Z"
   },
   {
    "duration": 21,
    "start_time": "2022-07-11T12:39:20.915Z"
   },
   {
    "duration": 24,
    "start_time": "2022-07-11T12:39:23.423Z"
   },
   {
    "duration": 15,
    "start_time": "2022-07-11T12:39:29.079Z"
   },
   {
    "duration": 437,
    "start_time": "2022-07-11T12:39:55.641Z"
   },
   {
    "duration": 5,
    "start_time": "2022-07-11T12:39:59.584Z"
   },
   {
    "duration": 16,
    "start_time": "2022-07-11T12:40:00.896Z"
   },
   {
    "duration": 11,
    "start_time": "2022-07-11T12:40:01.745Z"
   },
   {
    "duration": 10,
    "start_time": "2022-07-11T12:40:03.600Z"
   },
   {
    "duration": 17,
    "start_time": "2022-07-11T12:40:04.719Z"
   },
   {
    "duration": 21,
    "start_time": "2022-07-11T12:40:06.458Z"
   },
   {
    "duration": 15,
    "start_time": "2022-07-11T12:40:07.416Z"
   },
   {
    "duration": 18,
    "start_time": "2022-07-11T12:40:09.874Z"
   },
   {
    "duration": 1093,
    "start_time": "2022-07-11T12:40:13.473Z"
   },
   {
    "duration": 379,
    "start_time": "2022-07-11T12:40:14.680Z"
   },
   {
    "duration": 19,
    "start_time": "2022-07-11T12:40:16.111Z"
   },
   {
    "duration": 4,
    "start_time": "2022-07-11T12:40:17.504Z"
   },
   {
    "duration": 399,
    "start_time": "2022-07-11T12:40:18.477Z"
   },
   {
    "duration": 7,
    "start_time": "2022-07-11T12:40:25.893Z"
   },
   {
    "duration": 61,
    "start_time": "2022-07-11T12:40:26.424Z"
   },
   {
    "duration": 43,
    "start_time": "2022-07-11T12:40:46.080Z"
   },
   {
    "duration": 7,
    "start_time": "2022-07-11T12:41:00.177Z"
   },
   {
    "duration": 27,
    "start_time": "2022-07-11T12:41:04.675Z"
   },
   {
    "duration": 7,
    "start_time": "2022-07-11T12:41:45.000Z"
   },
   {
    "duration": 28,
    "start_time": "2022-07-11T12:41:46.035Z"
   },
   {
    "duration": 8,
    "start_time": "2022-07-11T12:41:58.975Z"
   },
   {
    "duration": 18,
    "start_time": "2022-07-11T12:42:01.208Z"
   },
   {
    "duration": 16,
    "start_time": "2022-07-11T12:42:12.778Z"
   },
   {
    "duration": 9,
    "start_time": "2022-07-11T12:42:46.268Z"
   },
   {
    "duration": 18,
    "start_time": "2022-07-11T12:42:47.380Z"
   },
   {
    "duration": 15,
    "start_time": "2022-07-11T12:43:13.569Z"
   },
   {
    "duration": 3,
    "start_time": "2022-07-11T12:49:04.005Z"
   },
   {
    "duration": 10,
    "start_time": "2022-07-11T12:49:04.812Z"
   },
   {
    "duration": 14,
    "start_time": "2022-07-11T12:49:19.170Z"
   },
   {
    "duration": 37,
    "start_time": "2022-07-11T12:49:28.060Z"
   },
   {
    "duration": 753,
    "start_time": "2022-07-11T12:49:41.974Z"
   },
   {
    "duration": 400,
    "start_time": "2022-07-11T12:49:57.517Z"
   },
   {
    "duration": 659,
    "start_time": "2022-07-11T12:50:07.575Z"
   },
   {
    "duration": 436,
    "start_time": "2022-07-11T12:50:43.798Z"
   },
   {
    "duration": 23,
    "start_time": "2022-07-11T12:51:42.393Z"
   },
   {
    "duration": 19,
    "start_time": "2022-07-11T12:51:53.546Z"
   },
   {
    "duration": 17,
    "start_time": "2022-07-11T12:52:01.873Z"
   },
   {
    "duration": 17,
    "start_time": "2022-07-11T12:54:53.775Z"
   },
   {
    "duration": 251,
    "start_time": "2022-07-11T12:55:24.983Z"
   },
   {
    "duration": 207,
    "start_time": "2022-07-11T12:55:42.209Z"
   },
   {
    "duration": 266,
    "start_time": "2022-07-11T12:56:04.806Z"
   },
   {
    "duration": 232,
    "start_time": "2022-07-11T12:56:18.101Z"
   },
   {
    "duration": 272,
    "start_time": "2022-07-11T12:57:11.571Z"
   },
   {
    "duration": 4,
    "start_time": "2022-07-11T12:57:30.760Z"
   },
   {
    "duration": 329,
    "start_time": "2022-07-11T12:57:31.606Z"
   },
   {
    "duration": 327,
    "start_time": "2022-07-11T12:57:44.446Z"
   },
   {
    "duration": 224,
    "start_time": "2022-07-11T12:57:51.143Z"
   },
   {
    "duration": 239,
    "start_time": "2022-07-11T12:57:57.173Z"
   },
   {
    "duration": 219,
    "start_time": "2022-07-11T13:10:59.438Z"
   },
   {
    "duration": 10,
    "start_time": "2022-07-11T13:14:34.176Z"
   },
   {
    "duration": 8,
    "start_time": "2022-07-11T13:14:48.000Z"
   },
   {
    "duration": 154,
    "start_time": "2022-07-11T13:15:20.774Z"
   },
   {
    "duration": 281,
    "start_time": "2022-07-11T13:15:51.690Z"
   },
   {
    "duration": 201,
    "start_time": "2022-07-11T13:15:57.790Z"
   },
   {
    "duration": 202,
    "start_time": "2022-07-11T13:16:06.576Z"
   },
   {
    "duration": 15,
    "start_time": "2022-07-11T13:18:23.453Z"
   },
   {
    "duration": 190,
    "start_time": "2022-07-11T13:18:35.580Z"
   },
   {
    "duration": 185,
    "start_time": "2022-07-11T13:19:04.018Z"
   },
   {
    "duration": 232,
    "start_time": "2022-07-11T13:19:25.456Z"
   },
   {
    "duration": 9,
    "start_time": "2022-07-11T13:19:25.990Z"
   },
   {
    "duration": 196,
    "start_time": "2022-07-11T13:19:26.878Z"
   },
   {
    "duration": 8,
    "start_time": "2022-07-11T13:25:22.219Z"
   },
   {
    "duration": 10,
    "start_time": "2022-07-11T13:25:29.116Z"
   },
   {
    "duration": 233,
    "start_time": "2022-07-11T13:26:57.788Z"
   },
   {
    "duration": 395,
    "start_time": "2022-07-11T13:27:39.244Z"
   },
   {
    "duration": 221,
    "start_time": "2022-07-11T13:28:08.813Z"
   },
   {
    "duration": 12,
    "start_time": "2022-07-11T13:28:32.635Z"
   },
   {
    "duration": 214,
    "start_time": "2022-07-11T13:28:34.274Z"
   },
   {
    "duration": 10,
    "start_time": "2022-07-11T13:28:39.119Z"
   },
   {
    "duration": 8,
    "start_time": "2022-07-11T13:30:17.907Z"
   },
   {
    "duration": 7,
    "start_time": "2022-07-11T13:30:25.118Z"
   },
   {
    "duration": 9,
    "start_time": "2022-07-11T13:30:39.487Z"
   },
   {
    "duration": 13,
    "start_time": "2022-07-11T13:30:43.039Z"
   },
   {
    "duration": 213,
    "start_time": "2022-07-11T13:30:43.778Z"
   },
   {
    "duration": 16,
    "start_time": "2022-07-11T13:30:45.641Z"
   },
   {
    "duration": 9,
    "start_time": "2022-07-11T13:31:34.271Z"
   },
   {
    "duration": 199,
    "start_time": "2022-07-11T13:31:34.913Z"
   },
   {
    "duration": 8,
    "start_time": "2022-07-11T13:31:37.606Z"
   },
   {
    "duration": 192,
    "start_time": "2022-07-11T13:31:38.539Z"
   },
   {
    "duration": 169,
    "start_time": "2022-07-11T13:32:26.277Z"
   },
   {
    "duration": 10,
    "start_time": "2022-07-11T13:32:31.522Z"
   },
   {
    "duration": 202,
    "start_time": "2022-07-11T13:32:37.420Z"
   },
   {
    "duration": 49,
    "start_time": "2022-07-11T13:33:32.981Z"
   },
   {
    "duration": 8,
    "start_time": "2022-07-11T13:33:41.621Z"
   },
   {
    "duration": 198,
    "start_time": "2022-07-11T13:33:49.937Z"
   },
   {
    "duration": 10,
    "start_time": "2022-07-11T13:34:11.676Z"
   },
   {
    "duration": 401,
    "start_time": "2022-07-11T13:34:29.065Z"
   },
   {
    "duration": 8,
    "start_time": "2022-07-11T13:35:02.374Z"
   },
   {
    "duration": 195,
    "start_time": "2022-07-11T13:35:26.432Z"
   },
   {
    "duration": 7,
    "start_time": "2022-07-11T13:35:37.213Z"
   },
   {
    "duration": 190,
    "start_time": "2022-07-11T13:35:51.712Z"
   },
   {
    "duration": 19,
    "start_time": "2022-07-11T13:38:25.245Z"
   },
   {
    "duration": 23,
    "start_time": "2022-07-11T13:38:32.840Z"
   },
   {
    "duration": 20,
    "start_time": "2022-07-11T13:38:41.759Z"
   },
   {
    "duration": 155,
    "start_time": "2022-07-11T13:44:36.204Z"
   },
   {
    "duration": 144,
    "start_time": "2022-07-11T13:44:52.157Z"
   },
   {
    "duration": 250,
    "start_time": "2022-07-11T13:45:25.338Z"
   },
   {
    "duration": 16,
    "start_time": "2022-07-11T13:47:54.966Z"
   },
   {
    "duration": 445,
    "start_time": "2022-07-11T13:48:18.057Z"
   },
   {
    "duration": 474,
    "start_time": "2022-07-11T13:51:23.684Z"
   },
   {
    "duration": 531,
    "start_time": "2022-07-11T13:51:40.972Z"
   },
   {
    "duration": 615,
    "start_time": "2022-07-11T13:51:51.834Z"
   },
   {
    "duration": 9,
    "start_time": "2022-07-11T14:01:04.217Z"
   },
   {
    "duration": 10,
    "start_time": "2022-07-11T14:01:37.475Z"
   },
   {
    "duration": 18,
    "start_time": "2022-07-11T14:01:43.147Z"
   },
   {
    "duration": 488,
    "start_time": "2022-07-11T14:04:19.698Z"
   },
   {
    "duration": 424,
    "start_time": "2022-07-11T14:04:41.076Z"
   },
   {
    "duration": 423,
    "start_time": "2022-07-11T14:04:47.513Z"
   },
   {
    "duration": 443,
    "start_time": "2022-07-11T14:04:52.789Z"
   },
   {
    "duration": 15,
    "start_time": "2022-07-11T14:18:15.466Z"
   },
   {
    "duration": 2,
    "start_time": "2022-07-11T14:18:17.206Z"
   },
   {
    "duration": 9,
    "start_time": "2022-07-11T14:18:17.707Z"
   },
   {
    "duration": 9,
    "start_time": "2022-07-11T14:18:18.614Z"
   },
   {
    "duration": 6,
    "start_time": "2022-07-11T14:18:51.169Z"
   },
   {
    "duration": 13,
    "start_time": "2022-07-11T14:18:51.842Z"
   },
   {
    "duration": 10,
    "start_time": "2022-07-11T14:18:52.478Z"
   },
   {
    "duration": 15,
    "start_time": "2022-07-11T14:19:23.856Z"
   },
   {
    "duration": 5,
    "start_time": "2022-07-11T14:19:25.234Z"
   },
   {
    "duration": 14,
    "start_time": "2022-07-11T14:24:38.044Z"
   },
   {
    "duration": 9,
    "start_time": "2022-07-11T14:24:38.634Z"
   },
   {
    "duration": 13,
    "start_time": "2022-07-11T14:24:39.486Z"
   },
   {
    "duration": 12,
    "start_time": "2022-07-11T14:24:44.672Z"
   },
   {
    "duration": 2,
    "start_time": "2022-07-11T14:27:31.494Z"
   },
   {
    "duration": 12,
    "start_time": "2022-07-11T14:27:32.072Z"
   },
   {
    "duration": 5,
    "start_time": "2022-07-11T14:27:32.590Z"
   },
   {
    "duration": 3,
    "start_time": "2022-07-11T14:27:37.514Z"
   },
   {
    "duration": 12,
    "start_time": "2022-07-11T14:27:37.972Z"
   },
   {
    "duration": 6,
    "start_time": "2022-07-11T14:27:38.691Z"
   },
   {
    "duration": 496,
    "start_time": "2022-07-11T15:34:34.308Z"
   },
   {
    "duration": 13,
    "start_time": "2022-07-11T15:34:34.806Z"
   },
   {
    "duration": 23,
    "start_time": "2022-07-11T15:34:34.821Z"
   },
   {
    "duration": 403,
    "start_time": "2022-07-11T15:34:34.845Z"
   },
   {
    "duration": 4,
    "start_time": "2022-07-11T15:34:35.250Z"
   },
   {
    "duration": 16,
    "start_time": "2022-07-11T15:34:35.256Z"
   },
   {
    "duration": 15,
    "start_time": "2022-07-11T15:34:35.274Z"
   },
   {
    "duration": 19,
    "start_time": "2022-07-11T15:34:35.291Z"
   },
   {
    "duration": 25,
    "start_time": "2022-07-11T15:34:35.312Z"
   },
   {
    "duration": 24,
    "start_time": "2022-07-11T15:34:35.338Z"
   },
   {
    "duration": 12,
    "start_time": "2022-07-11T15:34:35.364Z"
   },
   {
    "duration": 22,
    "start_time": "2022-07-11T15:34:35.378Z"
   },
   {
    "duration": 930,
    "start_time": "2022-07-11T15:34:35.402Z"
   },
   {
    "duration": 319,
    "start_time": "2022-07-11T15:34:36.335Z"
   },
   {
    "duration": 16,
    "start_time": "2022-07-11T15:34:36.655Z"
   },
   {
    "duration": 3,
    "start_time": "2022-07-11T15:34:36.672Z"
   },
   {
    "duration": 317,
    "start_time": "2022-07-11T15:34:36.677Z"
   },
   {
    "duration": 15,
    "start_time": "2022-07-11T15:34:36.996Z"
   },
   {
    "duration": 44,
    "start_time": "2022-07-11T15:34:37.012Z"
   },
   {
    "duration": 4,
    "start_time": "2022-07-11T15:34:37.058Z"
   },
   {
    "duration": 215,
    "start_time": "2022-07-11T15:34:37.063Z"
   },
   {
    "duration": 9,
    "start_time": "2022-07-11T15:34:37.280Z"
   },
   {
    "duration": 168,
    "start_time": "2022-07-11T15:34:37.290Z"
   },
   {
    "duration": 8,
    "start_time": "2022-07-11T15:34:37.460Z"
   },
   {
    "duration": 173,
    "start_time": "2022-07-11T15:34:37.470Z"
   },
   {
    "duration": 7,
    "start_time": "2022-07-11T15:34:37.645Z"
   },
   {
    "duration": 178,
    "start_time": "2022-07-11T15:34:37.654Z"
   },
   {
    "duration": 8,
    "start_time": "2022-07-11T15:34:37.834Z"
   },
   {
    "duration": 255,
    "start_time": "2022-07-11T15:34:37.844Z"
   },
   {
    "duration": 15,
    "start_time": "2022-07-11T15:34:38.101Z"
   },
   {
    "duration": 167,
    "start_time": "2022-07-11T15:34:38.118Z"
   },
   {
    "duration": 8,
    "start_time": "2022-07-11T15:34:38.287Z"
   },
   {
    "duration": 162,
    "start_time": "2022-07-11T15:34:38.309Z"
   },
   {
    "duration": 8,
    "start_time": "2022-07-11T15:34:38.473Z"
   },
   {
    "duration": 180,
    "start_time": "2022-07-11T15:34:38.483Z"
   },
   {
    "duration": 8,
    "start_time": "2022-07-11T15:34:38.665Z"
   },
   {
    "duration": 208,
    "start_time": "2022-07-11T15:34:38.675Z"
   },
   {
    "duration": 8,
    "start_time": "2022-07-11T15:34:38.885Z"
   },
   {
    "duration": 183,
    "start_time": "2022-07-11T15:34:38.909Z"
   },
   {
    "duration": 7,
    "start_time": "2022-07-11T15:34:39.093Z"
   },
   {
    "duration": 174,
    "start_time": "2022-07-11T15:34:39.109Z"
   },
   {
    "duration": 26,
    "start_time": "2022-07-11T15:34:39.284Z"
   },
   {
    "duration": 216,
    "start_time": "2022-07-11T15:34:39.312Z"
   },
   {
    "duration": 370,
    "start_time": "2022-07-11T15:34:39.530Z"
   },
   {
    "duration": 492,
    "start_time": "2022-07-11T15:34:39.901Z"
   },
   {
    "duration": 390,
    "start_time": "2022-07-11T15:34:40.395Z"
   },
   {
    "duration": 3,
    "start_time": "2022-07-11T15:34:40.786Z"
   },
   {
    "duration": 17,
    "start_time": "2022-07-11T15:34:40.790Z"
   },
   {
    "duration": 5,
    "start_time": "2022-07-11T15:34:40.809Z"
   },
   {
    "duration": 9,
    "start_time": "2022-07-11T15:34:40.815Z"
   },
   {
    "duration": 11,
    "start_time": "2022-07-11T15:34:40.826Z"
   },
   {
    "duration": 5,
    "start_time": "2022-07-11T15:34:40.839Z"
   },
   {
    "duration": 50,
    "start_time": "2022-07-11T15:39:53.337Z"
   },
   {
    "duration": 51,
    "start_time": "2022-07-11T15:39:58.566Z"
   },
   {
    "duration": 100,
    "start_time": "2022-07-11T15:41:35.296Z"
   },
   {
    "duration": 14,
    "start_time": "2022-07-11T15:41:48.139Z"
   },
   {
    "duration": 9,
    "start_time": "2022-07-11T15:41:51.567Z"
   },
   {
    "duration": 97,
    "start_time": "2022-07-11T15:47:08.981Z"
   },
   {
    "duration": 409,
    "start_time": "2022-07-11T15:47:40.958Z"
   },
   {
    "duration": 15,
    "start_time": "2022-07-11T15:47:41.369Z"
   },
   {
    "duration": 45,
    "start_time": "2022-07-11T15:47:41.385Z"
   },
   {
    "duration": 397,
    "start_time": "2022-07-11T15:47:41.433Z"
   },
   {
    "duration": 3,
    "start_time": "2022-07-11T15:47:41.832Z"
   },
   {
    "duration": 20,
    "start_time": "2022-07-11T15:47:41.836Z"
   },
   {
    "duration": 9,
    "start_time": "2022-07-11T15:47:41.857Z"
   },
   {
    "duration": 88,
    "start_time": "2022-07-11T15:47:41.868Z"
   },
   {
    "duration": 0,
    "start_time": "2022-07-11T15:47:41.958Z"
   },
   {
    "duration": 0,
    "start_time": "2022-07-11T15:47:41.959Z"
   },
   {
    "duration": 0,
    "start_time": "2022-07-11T15:47:41.960Z"
   },
   {
    "duration": 0,
    "start_time": "2022-07-11T15:47:41.962Z"
   },
   {
    "duration": 0,
    "start_time": "2022-07-11T15:47:41.962Z"
   },
   {
    "duration": 0,
    "start_time": "2022-07-11T15:47:41.963Z"
   },
   {
    "duration": 0,
    "start_time": "2022-07-11T15:47:41.964Z"
   },
   {
    "duration": 0,
    "start_time": "2022-07-11T15:47:41.965Z"
   },
   {
    "duration": 0,
    "start_time": "2022-07-11T15:47:41.966Z"
   },
   {
    "duration": 0,
    "start_time": "2022-07-11T15:47:41.967Z"
   },
   {
    "duration": 0,
    "start_time": "2022-07-11T15:47:41.968Z"
   },
   {
    "duration": 0,
    "start_time": "2022-07-11T15:47:41.969Z"
   },
   {
    "duration": 0,
    "start_time": "2022-07-11T15:47:41.970Z"
   },
   {
    "duration": 0,
    "start_time": "2022-07-11T15:47:41.971Z"
   },
   {
    "duration": 0,
    "start_time": "2022-07-11T15:47:41.972Z"
   },
   {
    "duration": 0,
    "start_time": "2022-07-11T15:47:41.972Z"
   },
   {
    "duration": 0,
    "start_time": "2022-07-11T15:47:41.973Z"
   },
   {
    "duration": 0,
    "start_time": "2022-07-11T15:47:41.974Z"
   },
   {
    "duration": 0,
    "start_time": "2022-07-11T15:47:41.975Z"
   },
   {
    "duration": 0,
    "start_time": "2022-07-11T15:47:41.976Z"
   },
   {
    "duration": 0,
    "start_time": "2022-07-11T15:47:41.977Z"
   },
   {
    "duration": 0,
    "start_time": "2022-07-11T15:47:41.979Z"
   },
   {
    "duration": 0,
    "start_time": "2022-07-11T15:47:41.980Z"
   },
   {
    "duration": 0,
    "start_time": "2022-07-11T15:47:41.981Z"
   },
   {
    "duration": 0,
    "start_time": "2022-07-11T15:47:41.982Z"
   },
   {
    "duration": 0,
    "start_time": "2022-07-11T15:47:41.983Z"
   },
   {
    "duration": 0,
    "start_time": "2022-07-11T15:47:41.984Z"
   },
   {
    "duration": 0,
    "start_time": "2022-07-11T15:47:41.984Z"
   },
   {
    "duration": 0,
    "start_time": "2022-07-11T15:47:41.985Z"
   },
   {
    "duration": 0,
    "start_time": "2022-07-11T15:47:41.987Z"
   },
   {
    "duration": 0,
    "start_time": "2022-07-11T15:47:41.988Z"
   },
   {
    "duration": 0,
    "start_time": "2022-07-11T15:47:41.988Z"
   },
   {
    "duration": 0,
    "start_time": "2022-07-11T15:47:41.989Z"
   },
   {
    "duration": 0,
    "start_time": "2022-07-11T15:47:41.991Z"
   },
   {
    "duration": 0,
    "start_time": "2022-07-11T15:47:41.992Z"
   },
   {
    "duration": 0,
    "start_time": "2022-07-11T15:47:41.993Z"
   },
   {
    "duration": 0,
    "start_time": "2022-07-11T15:47:41.994Z"
   },
   {
    "duration": 0,
    "start_time": "2022-07-11T15:47:41.995Z"
   },
   {
    "duration": 0,
    "start_time": "2022-07-11T15:47:42.009Z"
   },
   {
    "duration": 0,
    "start_time": "2022-07-11T15:47:42.010Z"
   },
   {
    "duration": 0,
    "start_time": "2022-07-11T15:47:42.011Z"
   },
   {
    "duration": 0,
    "start_time": "2022-07-11T15:47:42.012Z"
   },
   {
    "duration": 0,
    "start_time": "2022-07-11T15:47:42.013Z"
   },
   {
    "duration": 0,
    "start_time": "2022-07-11T15:47:42.014Z"
   },
   {
    "duration": 2,
    "start_time": "2022-07-11T15:48:14.614Z"
   },
   {
    "duration": 14,
    "start_time": "2022-07-11T15:48:24.663Z"
   },
   {
    "duration": 5,
    "start_time": "2022-07-11T15:48:41.337Z"
   },
   {
    "duration": 13,
    "start_time": "2022-07-11T15:48:49.334Z"
   },
   {
    "duration": 9,
    "start_time": "2022-07-11T15:49:08.262Z"
   },
   {
    "duration": 13,
    "start_time": "2022-07-11T15:49:12.390Z"
   },
   {
    "duration": 5,
    "start_time": "2022-07-11T15:49:20.000Z"
   },
   {
    "duration": 7,
    "start_time": "2022-07-11T15:49:36.742Z"
   },
   {
    "duration": 9,
    "start_time": "2022-07-11T15:51:37.125Z"
   },
   {
    "duration": 444,
    "start_time": "2022-07-11T15:55:27.231Z"
   },
   {
    "duration": 14,
    "start_time": "2022-07-11T15:55:27.677Z"
   },
   {
    "duration": 30,
    "start_time": "2022-07-11T15:55:27.692Z"
   },
   {
    "duration": 376,
    "start_time": "2022-07-11T15:55:27.724Z"
   },
   {
    "duration": 7,
    "start_time": "2022-07-11T15:55:28.102Z"
   },
   {
    "duration": 12,
    "start_time": "2022-07-11T15:55:28.111Z"
   },
   {
    "duration": 6,
    "start_time": "2022-07-11T15:55:28.125Z"
   },
   {
    "duration": 10,
    "start_time": "2022-07-11T15:55:28.133Z"
   },
   {
    "duration": 19,
    "start_time": "2022-07-11T15:55:28.145Z"
   },
   {
    "duration": 12,
    "start_time": "2022-07-11T15:55:28.166Z"
   },
   {
    "duration": 33,
    "start_time": "2022-07-11T15:55:28.179Z"
   },
   {
    "duration": 16,
    "start_time": "2022-07-11T15:55:28.214Z"
   },
   {
    "duration": 892,
    "start_time": "2022-07-11T15:55:28.231Z"
   },
   {
    "duration": 320,
    "start_time": "2022-07-11T15:55:29.124Z"
   },
   {
    "duration": 15,
    "start_time": "2022-07-11T15:55:29.446Z"
   },
   {
    "duration": 3,
    "start_time": "2022-07-11T15:55:29.462Z"
   },
   {
    "duration": 321,
    "start_time": "2022-07-11T15:55:29.467Z"
   },
   {
    "duration": 6,
    "start_time": "2022-07-11T15:55:29.790Z"
   },
   {
    "duration": 54,
    "start_time": "2022-07-11T15:55:29.797Z"
   },
   {
    "duration": 2,
    "start_time": "2022-07-11T15:55:29.853Z"
   },
   {
    "duration": 198,
    "start_time": "2022-07-11T15:55:29.857Z"
   },
   {
    "duration": 9,
    "start_time": "2022-07-11T15:55:30.057Z"
   },
   {
    "duration": 204,
    "start_time": "2022-07-11T15:55:30.068Z"
   },
   {
    "duration": 8,
    "start_time": "2022-07-11T15:55:30.273Z"
   },
   {
    "duration": 186,
    "start_time": "2022-07-11T15:55:30.282Z"
   },
   {
    "duration": 8,
    "start_time": "2022-07-11T15:55:30.470Z"
   },
   {
    "duration": 181,
    "start_time": "2022-07-11T15:55:30.480Z"
   },
   {
    "duration": 8,
    "start_time": "2022-07-11T15:55:30.664Z"
   },
   {
    "duration": 260,
    "start_time": "2022-07-11T15:55:30.673Z"
   },
   {
    "duration": 9,
    "start_time": "2022-07-11T15:55:30.935Z"
   },
   {
    "duration": 224,
    "start_time": "2022-07-11T15:55:30.946Z"
   },
   {
    "duration": 7,
    "start_time": "2022-07-11T15:55:31.172Z"
   },
   {
    "duration": 186,
    "start_time": "2022-07-11T15:55:31.180Z"
   },
   {
    "duration": 7,
    "start_time": "2022-07-11T15:55:31.368Z"
   },
   {
    "duration": 219,
    "start_time": "2022-07-11T15:55:31.377Z"
   },
   {
    "duration": 14,
    "start_time": "2022-07-11T15:55:31.598Z"
   },
   {
    "duration": 185,
    "start_time": "2022-07-11T15:55:31.613Z"
   },
   {
    "duration": 10,
    "start_time": "2022-07-11T15:55:31.799Z"
   },
   {
    "duration": 195,
    "start_time": "2022-07-11T15:55:31.811Z"
   },
   {
    "duration": 7,
    "start_time": "2022-07-11T15:55:32.009Z"
   },
   {
    "duration": 196,
    "start_time": "2022-07-11T15:55:32.017Z"
   },
   {
    "duration": 16,
    "start_time": "2022-07-11T15:55:32.214Z"
   },
   {
    "duration": 225,
    "start_time": "2022-07-11T15:55:32.232Z"
   },
   {
    "duration": 378,
    "start_time": "2022-07-11T15:55:32.459Z"
   },
   {
    "duration": 461,
    "start_time": "2022-07-11T15:55:32.839Z"
   },
   {
    "duration": 394,
    "start_time": "2022-07-11T15:55:33.302Z"
   },
   {
    "duration": 2,
    "start_time": "2022-07-11T15:55:33.698Z"
   },
   {
    "duration": 24,
    "start_time": "2022-07-11T15:55:33.710Z"
   },
   {
    "duration": 19,
    "start_time": "2022-07-11T15:55:33.735Z"
   },
   {
    "duration": 34,
    "start_time": "2022-07-11T15:55:33.756Z"
   },
   {
    "duration": 22,
    "start_time": "2022-07-11T15:55:33.792Z"
   },
   {
    "duration": 29,
    "start_time": "2022-07-11T15:55:33.815Z"
   },
   {
    "duration": 75,
    "start_time": "2022-07-11T16:00:33.155Z"
   },
   {
    "duration": 449,
    "start_time": "2022-07-11T16:00:53.823Z"
   },
   {
    "duration": 13,
    "start_time": "2022-07-11T16:00:54.274Z"
   },
   {
    "duration": 56,
    "start_time": "2022-07-11T16:00:54.289Z"
   },
   {
    "duration": 376,
    "start_time": "2022-07-11T16:00:54.347Z"
   },
   {
    "duration": 4,
    "start_time": "2022-07-11T16:00:54.725Z"
   },
   {
    "duration": 16,
    "start_time": "2022-07-11T16:00:54.730Z"
   },
   {
    "duration": 8,
    "start_time": "2022-07-11T16:00:54.748Z"
   },
   {
    "duration": 9,
    "start_time": "2022-07-11T16:00:54.758Z"
   },
   {
    "duration": 15,
    "start_time": "2022-07-11T16:00:54.769Z"
   },
   {
    "duration": 29,
    "start_time": "2022-07-11T16:00:54.786Z"
   },
   {
    "duration": 12,
    "start_time": "2022-07-11T16:00:54.816Z"
   },
   {
    "duration": 17,
    "start_time": "2022-07-11T16:00:54.830Z"
   },
   {
    "duration": 922,
    "start_time": "2022-07-11T16:00:54.848Z"
   },
   {
    "duration": 321,
    "start_time": "2022-07-11T16:00:55.772Z"
   },
   {
    "duration": 23,
    "start_time": "2022-07-11T16:00:56.095Z"
   },
   {
    "duration": 3,
    "start_time": "2022-07-11T16:00:56.120Z"
   },
   {
    "duration": 317,
    "start_time": "2022-07-11T16:00:56.125Z"
   },
   {
    "duration": 6,
    "start_time": "2022-07-11T16:00:56.444Z"
   },
   {
    "duration": 53,
    "start_time": "2022-07-11T16:00:56.451Z"
   },
   {
    "duration": 5,
    "start_time": "2022-07-11T16:00:56.505Z"
   },
   {
    "duration": 187,
    "start_time": "2022-07-11T16:00:56.511Z"
   },
   {
    "duration": 7,
    "start_time": "2022-07-11T16:00:56.709Z"
   },
   {
    "duration": 160,
    "start_time": "2022-07-11T16:00:56.717Z"
   },
   {
    "duration": 8,
    "start_time": "2022-07-11T16:00:56.879Z"
   },
   {
    "duration": 188,
    "start_time": "2022-07-11T16:00:56.888Z"
   },
   {
    "duration": 7,
    "start_time": "2022-07-11T16:00:57.078Z"
   },
   {
    "duration": 209,
    "start_time": "2022-07-11T16:00:57.087Z"
   },
   {
    "duration": 13,
    "start_time": "2022-07-11T16:00:57.299Z"
   },
   {
    "duration": 244,
    "start_time": "2022-07-11T16:00:57.313Z"
   },
   {
    "duration": 7,
    "start_time": "2022-07-11T16:00:57.558Z"
   },
   {
    "duration": 175,
    "start_time": "2022-07-11T16:00:57.567Z"
   },
   {
    "duration": 6,
    "start_time": "2022-07-11T16:00:57.744Z"
   },
   {
    "duration": 171,
    "start_time": "2022-07-11T16:00:57.752Z"
   },
   {
    "duration": 8,
    "start_time": "2022-07-11T16:00:57.924Z"
   },
   {
    "duration": 173,
    "start_time": "2022-07-11T16:00:57.933Z"
   },
   {
    "duration": 7,
    "start_time": "2022-07-11T16:00:58.110Z"
   },
   {
    "duration": 174,
    "start_time": "2022-07-11T16:00:58.118Z"
   },
   {
    "duration": 7,
    "start_time": "2022-07-11T16:00:58.294Z"
   },
   {
    "duration": 173,
    "start_time": "2022-07-11T16:00:58.302Z"
   },
   {
    "duration": 7,
    "start_time": "2022-07-11T16:00:58.477Z"
   },
   {
    "duration": 178,
    "start_time": "2022-07-11T16:00:58.485Z"
   },
   {
    "duration": 15,
    "start_time": "2022-07-11T16:00:58.665Z"
   },
   {
    "duration": 212,
    "start_time": "2022-07-11T16:00:58.682Z"
   },
   {
    "duration": 369,
    "start_time": "2022-07-11T16:00:58.895Z"
   },
   {
    "duration": 474,
    "start_time": "2022-07-11T16:00:59.266Z"
   },
   {
    "duration": 382,
    "start_time": "2022-07-11T16:00:59.741Z"
   },
   {
    "duration": 3,
    "start_time": "2022-07-11T16:01:00.125Z"
   },
   {
    "duration": 25,
    "start_time": "2022-07-11T16:01:00.129Z"
   },
   {
    "duration": 12,
    "start_time": "2022-07-11T16:01:00.156Z"
   },
   {
    "duration": 14,
    "start_time": "2022-07-11T16:01:00.170Z"
   },
   {
    "duration": 25,
    "start_time": "2022-07-11T16:01:00.186Z"
   },
   {
    "duration": 21,
    "start_time": "2022-07-11T16:01:00.213Z"
   },
   {
    "duration": 95,
    "start_time": "2022-07-11T16:01:25.746Z"
   },
   {
    "duration": 24,
    "start_time": "2022-07-11T16:01:30.103Z"
   },
   {
    "duration": 76,
    "start_time": "2022-07-11T16:14:05.346Z"
   },
   {
    "duration": 21,
    "start_time": "2022-07-11T16:14:22.428Z"
   },
   {
    "duration": 4,
    "start_time": "2022-07-11T16:20:09.561Z"
   },
   {
    "duration": 4,
    "start_time": "2022-07-11T16:20:17.424Z"
   },
   {
    "duration": 9,
    "start_time": "2022-07-11T16:20:22.559Z"
   },
   {
    "duration": 15,
    "start_time": "2022-07-11T16:24:57.789Z"
   },
   {
    "duration": 78,
    "start_time": "2022-07-11T16:25:04.462Z"
   },
   {
    "duration": 15,
    "start_time": "2022-07-11T16:25:07.413Z"
   },
   {
    "duration": 6,
    "start_time": "2022-07-11T16:44:54.355Z"
   },
   {
    "duration": 6,
    "start_time": "2022-07-11T16:45:15.947Z"
   },
   {
    "duration": 4,
    "start_time": "2022-07-11T16:45:20.123Z"
   },
   {
    "duration": 4,
    "start_time": "2022-07-11T16:45:39.171Z"
   },
   {
    "duration": 5,
    "start_time": "2022-07-11T16:46:51.964Z"
   },
   {
    "duration": 6,
    "start_time": "2022-07-11T16:47:26.226Z"
   },
   {
    "duration": 4,
    "start_time": "2022-07-11T16:47:28.899Z"
   },
   {
    "duration": 6,
    "start_time": "2022-07-11T16:47:41.793Z"
   },
   {
    "duration": 4,
    "start_time": "2022-07-11T16:47:43.705Z"
   },
   {
    "duration": 6,
    "start_time": "2022-07-11T16:47:54.842Z"
   },
   {
    "duration": 5,
    "start_time": "2022-07-11T16:47:56.849Z"
   },
   {
    "duration": 6,
    "start_time": "2022-07-11T16:48:02.441Z"
   },
   {
    "duration": 4,
    "start_time": "2022-07-11T16:48:04.458Z"
   },
   {
    "duration": 44,
    "start_time": "2022-07-11T17:22:45.929Z"
   },
   {
    "duration": 651,
    "start_time": "2022-07-11T17:22:51.193Z"
   },
   {
    "duration": 14,
    "start_time": "2022-07-11T17:22:53.688Z"
   },
   {
    "duration": 20,
    "start_time": "2022-07-11T17:22:54.677Z"
   },
   {
    "duration": 2146,
    "start_time": "2022-07-11T17:22:56.540Z"
   },
   {
    "duration": 1227,
    "start_time": "2022-07-11T17:24:07.564Z"
   },
   {
    "duration": 15,
    "start_time": "2022-07-11T17:25:45.130Z"
   },
   {
    "duration": 5,
    "start_time": "2022-07-11T17:25:51.226Z"
   },
   {
    "duration": 4,
    "start_time": "2022-07-11T17:26:01.518Z"
   },
   {
    "duration": 9,
    "start_time": "2022-07-11T17:26:07.958Z"
   },
   {
    "duration": 18,
    "start_time": "2022-07-11T17:26:09.454Z"
   },
   {
    "duration": 66,
    "start_time": "2022-07-11T17:26:49.922Z"
   },
   {
    "duration": 14,
    "start_time": "2022-07-11T17:26:51.466Z"
   },
   {
    "duration": 18,
    "start_time": "2022-07-11T17:26:51.990Z"
   },
   {
    "duration": 18,
    "start_time": "2022-07-11T17:26:52.518Z"
   },
   {
    "duration": 4,
    "start_time": "2022-07-11T17:26:58.018Z"
   },
   {
    "duration": 5,
    "start_time": "2022-07-11T17:26:59.286Z"
   },
   {
    "duration": 7,
    "start_time": "2022-07-11T17:27:01.742Z"
   },
   {
    "duration": 6,
    "start_time": "2022-07-11T17:27:14.546Z"
   },
   {
    "duration": 18,
    "start_time": "2022-07-11T17:27:19.646Z"
   },
   {
    "duration": 7,
    "start_time": "2022-07-11T17:27:22.235Z"
   },
   {
    "duration": 8,
    "start_time": "2022-07-11T17:27:22.634Z"
   },
   {
    "duration": 25,
    "start_time": "2022-07-11T17:27:53.270Z"
   },
   {
    "duration": 860,
    "start_time": "2022-07-11T17:28:20.814Z"
   },
   {
    "duration": 13,
    "start_time": "2022-07-11T17:28:21.676Z"
   },
   {
    "duration": 18,
    "start_time": "2022-07-11T17:28:21.691Z"
   },
   {
    "duration": 18,
    "start_time": "2022-07-11T17:28:22.218Z"
   },
   {
    "duration": 4,
    "start_time": "2022-07-11T17:28:23.275Z"
   },
   {
    "duration": 6,
    "start_time": "2022-07-11T17:28:24.707Z"
   },
   {
    "duration": 7,
    "start_time": "2022-07-11T17:28:25.736Z"
   },
   {
    "duration": 15,
    "start_time": "2022-07-11T17:28:27.010Z"
   },
   {
    "duration": 8,
    "start_time": "2022-07-11T17:28:28.206Z"
   },
   {
    "duration": 15,
    "start_time": "2022-07-11T17:28:29.446Z"
   },
   {
    "duration": 25,
    "start_time": "2022-07-11T17:28:30.542Z"
   },
   {
    "duration": 201,
    "start_time": "2022-07-11T17:28:36.378Z"
   },
   {
    "duration": 43,
    "start_time": "2022-07-11T17:28:41.470Z"
   },
   {
    "duration": 21,
    "start_time": "2022-07-11T17:29:06.720Z"
   },
   {
    "duration": 193,
    "start_time": "2022-07-11T17:29:09.139Z"
   },
   {
    "duration": 16,
    "start_time": "2022-07-11T17:29:12.158Z"
   },
   {
    "duration": 18,
    "start_time": "2022-07-11T17:29:32.847Z"
   },
   {
    "duration": 12,
    "start_time": "2022-07-11T17:29:44.603Z"
   },
   {
    "duration": 15,
    "start_time": "2022-07-11T17:30:15.131Z"
   },
   {
    "duration": 189,
    "start_time": "2022-07-11T17:30:19.690Z"
   },
   {
    "duration": 352,
    "start_time": "2022-07-11T17:30:23.391Z"
   },
   {
    "duration": 16,
    "start_time": "2022-07-11T17:30:26.822Z"
   },
   {
    "duration": 3,
    "start_time": "2022-07-11T17:30:27.586Z"
   },
   {
    "duration": 330,
    "start_time": "2022-07-11T17:30:28.597Z"
   },
   {
    "duration": 6,
    "start_time": "2022-07-11T17:30:32.939Z"
   },
   {
    "duration": 5,
    "start_time": "2022-07-11T17:30:49.695Z"
   },
   {
    "duration": 45,
    "start_time": "2022-07-11T17:30:57.723Z"
   },
   {
    "duration": 3,
    "start_time": "2022-07-11T17:31:02.465Z"
   },
   {
    "duration": 194,
    "start_time": "2022-07-11T17:31:02.783Z"
   },
   {
    "duration": 391,
    "start_time": "2022-07-11T17:32:38.978Z"
   },
   {
    "duration": 337,
    "start_time": "2022-07-11T17:33:41.667Z"
   },
   {
    "duration": 87,
    "start_time": "2022-07-11T17:33:53.819Z"
   },
   {
    "duration": 387,
    "start_time": "2022-07-11T17:34:02.427Z"
   },
   {
    "duration": 351,
    "start_time": "2022-07-11T17:34:12.939Z"
   },
   {
    "duration": 15,
    "start_time": "2022-07-11T17:46:34.882Z"
   },
   {
    "duration": 183,
    "start_time": "2022-07-11T17:46:36.682Z"
   },
   {
    "duration": 286,
    "start_time": "2022-07-11T17:46:38.438Z"
   },
   {
    "duration": 359,
    "start_time": "2022-07-11T17:46:46.970Z"
   },
   {
    "duration": 21,
    "start_time": "2022-07-11T17:46:48.046Z"
   },
   {
    "duration": 3,
    "start_time": "2022-07-11T17:46:49.148Z"
   },
   {
    "duration": 288,
    "start_time": "2022-07-11T17:46:50.310Z"
   },
   {
    "duration": 5,
    "start_time": "2022-07-11T17:46:51.870Z"
   },
   {
    "duration": 42,
    "start_time": "2022-07-11T17:46:59.239Z"
   },
   {
    "duration": 3,
    "start_time": "2022-07-11T17:47:32.686Z"
   },
   {
    "duration": 320,
    "start_time": "2022-07-11T17:47:38.164Z"
   },
   {
    "duration": 6,
    "start_time": "2022-07-11T17:48:16.671Z"
   },
   {
    "duration": 158,
    "start_time": "2022-07-11T17:48:48.548Z"
   },
   {
    "duration": 6,
    "start_time": "2022-07-11T17:49:00.587Z"
   },
   {
    "duration": 159,
    "start_time": "2022-07-11T17:49:03.871Z"
   },
   {
    "duration": 6,
    "start_time": "2022-07-11T17:49:13.919Z"
   },
   {
    "duration": 149,
    "start_time": "2022-07-11T17:49:17.587Z"
   },
   {
    "duration": 6,
    "start_time": "2022-07-11T17:49:32.718Z"
   },
   {
    "duration": 152,
    "start_time": "2022-07-11T17:49:34.631Z"
   },
   {
    "duration": 5,
    "start_time": "2022-07-11T17:49:44.699Z"
   },
   {
    "duration": 165,
    "start_time": "2022-07-11T17:49:48.162Z"
   },
   {
    "duration": 6,
    "start_time": "2022-07-11T17:49:57.391Z"
   },
   {
    "duration": 158,
    "start_time": "2022-07-11T17:49:59.083Z"
   },
   {
    "duration": 16,
    "start_time": "2022-07-11T17:50:07.748Z"
   },
   {
    "duration": 155,
    "start_time": "2022-07-11T17:50:08.472Z"
   },
   {
    "duration": 149,
    "start_time": "2022-07-11T17:50:19.165Z"
   },
   {
    "duration": 7,
    "start_time": "2022-07-11T17:50:20.363Z"
   },
   {
    "duration": 161,
    "start_time": "2022-07-11T17:50:22.367Z"
   },
   {
    "duration": 6,
    "start_time": "2022-07-11T17:50:30.142Z"
   },
   {
    "duration": 151,
    "start_time": "2022-07-11T17:50:31.191Z"
   },
   {
    "duration": 6,
    "start_time": "2022-07-11T17:50:43.203Z"
   },
   {
    "duration": 259,
    "start_time": "2022-07-11T17:50:44.943Z"
   },
   {
    "duration": 18,
    "start_time": "2022-07-11T17:51:20.431Z"
   },
   {
    "duration": 14,
    "start_time": "2022-07-11T17:51:41.827Z"
   },
   {
    "duration": 191,
    "start_time": "2022-07-11T17:52:03.175Z"
   },
   {
    "duration": 36,
    "start_time": "2022-07-11T17:58:46.689Z"
   },
   {
    "duration": 40,
    "start_time": "2022-07-11T17:59:00.048Z"
   },
   {
    "duration": 24,
    "start_time": "2022-07-11T17:59:33.185Z"
   },
   {
    "duration": 14,
    "start_time": "2022-07-11T17:59:35.949Z"
   },
   {
    "duration": 28,
    "start_time": "2022-07-11T17:59:55.342Z"
   },
   {
    "duration": 12,
    "start_time": "2022-07-11T17:59:57.463Z"
   },
   {
    "duration": 32,
    "start_time": "2022-07-11T18:00:22.146Z"
   },
   {
    "duration": 11,
    "start_time": "2022-07-11T18:00:23.991Z"
   },
   {
    "duration": 27,
    "start_time": "2022-07-11T18:00:45.101Z"
   },
   {
    "duration": 30,
    "start_time": "2022-07-11T18:01:03.570Z"
   },
   {
    "duration": 16,
    "start_time": "2022-07-11T18:01:07.822Z"
   },
   {
    "duration": 24,
    "start_time": "2022-07-11T18:01:35.373Z"
   },
   {
    "duration": 15,
    "start_time": "2022-07-11T18:01:36.901Z"
   },
   {
    "duration": 285,
    "start_time": "2022-07-11T18:02:29.283Z"
   },
   {
    "duration": 288,
    "start_time": "2022-07-11T18:02:35.490Z"
   },
   {
    "duration": 294,
    "start_time": "2022-07-11T18:02:40.313Z"
   },
   {
    "duration": 354,
    "start_time": "2022-07-11T18:02:56.170Z"
   },
   {
    "duration": 5,
    "start_time": "2022-07-11T18:03:49.902Z"
   },
   {
    "duration": 5,
    "start_time": "2022-07-11T18:04:13.078Z"
   },
   {
    "duration": 18,
    "start_time": "2022-07-11T18:06:56.068Z"
   },
   {
    "duration": 26,
    "start_time": "2022-07-11T18:07:20.058Z"
   },
   {
    "duration": 25,
    "start_time": "2022-07-11T18:07:26.122Z"
   },
   {
    "duration": 1369,
    "start_time": "2022-07-11T18:07:57.646Z"
   },
   {
    "duration": 20,
    "start_time": "2022-07-11T18:08:10.763Z"
   },
   {
    "duration": 170,
    "start_time": "2022-07-11T18:08:30.864Z"
   },
   {
    "duration": 7,
    "start_time": "2022-07-11T18:11:12.324Z"
   },
   {
    "duration": 244,
    "start_time": "2022-07-11T18:11:14.167Z"
   },
   {
    "duration": 6,
    "start_time": "2022-07-11T18:11:16.407Z"
   },
   {
    "duration": 165,
    "start_time": "2022-07-11T18:11:18.210Z"
   },
   {
    "duration": 7,
    "start_time": "2022-07-11T18:11:20.648Z"
   },
   {
    "duration": 161,
    "start_time": "2022-07-11T18:11:22.241Z"
   },
   {
    "duration": 7,
    "start_time": "2022-07-11T18:11:23.497Z"
   },
   {
    "duration": 8,
    "start_time": "2022-07-11T18:11:26.077Z"
   },
   {
    "duration": 146,
    "start_time": "2022-07-11T18:11:26.682Z"
   },
   {
    "duration": 6,
    "start_time": "2022-07-11T18:11:29.803Z"
   },
   {
    "duration": 155,
    "start_time": "2022-07-11T18:11:31.367Z"
   },
   {
    "duration": 6,
    "start_time": "2022-07-11T18:11:34.563Z"
   },
   {
    "duration": 8,
    "start_time": "2022-07-11T18:12:50.711Z"
   },
   {
    "duration": 145,
    "start_time": "2022-07-11T18:12:52.367Z"
   },
   {
    "duration": 6,
    "start_time": "2022-07-11T18:12:52.566Z"
   },
   {
    "duration": 151,
    "start_time": "2022-07-11T18:12:52.765Z"
   },
   {
    "duration": 6,
    "start_time": "2022-07-11T18:12:53.467Z"
   },
   {
    "duration": 156,
    "start_time": "2022-07-11T18:12:53.664Z"
   },
   {
    "duration": 7,
    "start_time": "2022-07-11T18:12:54.163Z"
   },
   {
    "duration": 154,
    "start_time": "2022-07-11T18:12:55.751Z"
   },
   {
    "duration": 6,
    "start_time": "2022-07-11T18:12:55.971Z"
   },
   {
    "duration": 174,
    "start_time": "2022-07-11T18:12:56.475Z"
   },
   {
    "duration": 6,
    "start_time": "2022-07-11T18:12:56.683Z"
   },
   {
    "duration": 173,
    "start_time": "2022-07-11T18:12:56.907Z"
   },
   {
    "duration": 6,
    "start_time": "2022-07-11T18:12:58.115Z"
   },
   {
    "duration": 163,
    "start_time": "2022-07-11T18:12:58.364Z"
   },
   {
    "duration": 6,
    "start_time": "2022-07-11T18:12:58.967Z"
   },
   {
    "duration": 161,
    "start_time": "2022-07-11T18:12:59.607Z"
   },
   {
    "duration": 6,
    "start_time": "2022-07-11T18:13:01.967Z"
   },
   {
    "duration": 202,
    "start_time": "2022-07-11T18:13:03.368Z"
   },
   {
    "duration": 8,
    "start_time": "2022-07-11T18:13:03.741Z"
   },
   {
    "duration": 201,
    "start_time": "2022-07-11T18:13:04.015Z"
   },
   {
    "duration": 15,
    "start_time": "2022-07-11T18:14:54.507Z"
   },
   {
    "duration": 8,
    "start_time": "2022-07-11T18:16:52.272Z"
   },
   {
    "duration": 9,
    "start_time": "2022-07-11T18:17:03.184Z"
   },
   {
    "duration": 9,
    "start_time": "2022-07-11T18:17:04.568Z"
   },
   {
    "duration": 9,
    "start_time": "2022-07-11T18:17:08.364Z"
   },
   {
    "duration": 61,
    "start_time": "2022-07-11T18:17:48.446Z"
   },
   {
    "duration": 13,
    "start_time": "2022-07-11T18:17:49.074Z"
   },
   {
    "duration": 23,
    "start_time": "2022-07-11T18:17:49.245Z"
   },
   {
    "duration": 22,
    "start_time": "2022-07-11T18:17:49.442Z"
   },
   {
    "duration": 4,
    "start_time": "2022-07-11T18:17:49.808Z"
   },
   {
    "duration": 5,
    "start_time": "2022-07-11T18:17:50.208Z"
   },
   {
    "duration": 6,
    "start_time": "2022-07-11T18:17:50.642Z"
   },
   {
    "duration": 14,
    "start_time": "2022-07-11T18:17:51.064Z"
   },
   {
    "duration": 8,
    "start_time": "2022-07-11T18:17:51.204Z"
   },
   {
    "duration": 7,
    "start_time": "2022-07-11T18:17:51.412Z"
   },
   {
    "duration": 15,
    "start_time": "2022-07-11T18:17:51.812Z"
   },
   {
    "duration": 197,
    "start_time": "2022-07-11T18:17:52.444Z"
   },
   {
    "duration": 457,
    "start_time": "2022-07-11T18:17:53.052Z"
   },
   {
    "duration": 19,
    "start_time": "2022-07-11T18:17:55.412Z"
   },
   {
    "duration": 4,
    "start_time": "2022-07-11T18:17:55.620Z"
   },
   {
    "duration": 348,
    "start_time": "2022-07-11T18:17:55.831Z"
   },
   {
    "duration": 8,
    "start_time": "2022-07-11T18:17:56.224Z"
   },
   {
    "duration": 37,
    "start_time": "2022-07-11T18:17:57.675Z"
   },
   {
    "duration": 2,
    "start_time": "2022-07-11T18:18:01.644Z"
   },
   {
    "duration": 378,
    "start_time": "2022-07-11T18:18:02.542Z"
   },
   {
    "duration": 9,
    "start_time": "2022-07-11T18:18:03.696Z"
   },
   {
    "duration": 185,
    "start_time": "2022-07-11T18:18:05.080Z"
   },
   {
    "duration": 7,
    "start_time": "2022-07-11T18:18:05.269Z"
   },
   {
    "duration": 178,
    "start_time": "2022-07-11T18:18:05.496Z"
   },
   {
    "duration": 7,
    "start_time": "2022-07-11T18:18:05.943Z"
   },
   {
    "duration": 219,
    "start_time": "2022-07-11T18:18:06.152Z"
   },
   {
    "duration": 5,
    "start_time": "2022-07-11T18:18:06.745Z"
   },
   {
    "duration": 153,
    "start_time": "2022-07-11T18:18:06.963Z"
   },
   {
    "duration": 6,
    "start_time": "2022-07-11T18:18:07.400Z"
   },
   {
    "duration": 183,
    "start_time": "2022-07-11T18:18:07.663Z"
   },
   {
    "duration": 6,
    "start_time": "2022-07-11T18:18:08.108Z"
   },
   {
    "duration": 201,
    "start_time": "2022-07-11T18:18:08.316Z"
   },
   {
    "duration": 7,
    "start_time": "2022-07-11T18:18:08.539Z"
   },
   {
    "duration": 172,
    "start_time": "2022-07-11T18:18:08.723Z"
   },
   {
    "duration": 7,
    "start_time": "2022-07-11T18:18:09.264Z"
   },
   {
    "duration": 162,
    "start_time": "2022-07-11T18:18:09.469Z"
   },
   {
    "duration": 6,
    "start_time": "2022-07-11T18:18:09.693Z"
   },
   {
    "duration": 185,
    "start_time": "2022-07-11T18:18:09.939Z"
   },
   {
    "duration": 7,
    "start_time": "2022-07-11T18:18:10.163Z"
   },
   {
    "duration": 184,
    "start_time": "2022-07-11T18:18:10.396Z"
   },
   {
    "duration": 19,
    "start_time": "2022-07-11T18:18:16.101Z"
   },
   {
    "duration": 176,
    "start_time": "2022-07-11T18:18:16.596Z"
   },
   {
    "duration": 524,
    "start_time": "2022-07-11T18:18:17.841Z"
   },
   {
    "duration": 380,
    "start_time": "2022-07-11T18:18:19.607Z"
   },
   {
    "duration": 444,
    "start_time": "2022-07-11T18:18:20.496Z"
   },
   {
    "duration": 2,
    "start_time": "2022-07-11T18:18:24.480Z"
   },
   {
    "duration": 8,
    "start_time": "2022-07-11T18:18:25.468Z"
   },
   {
    "duration": 5,
    "start_time": "2022-07-11T18:18:28.048Z"
   },
   {
    "duration": 8,
    "start_time": "2022-07-11T18:18:44.954Z"
   },
   {
    "duration": 7,
    "start_time": "2022-07-11T18:18:45.616Z"
   },
   {
    "duration": 6,
    "start_time": "2022-07-11T18:19:28.782Z"
   },
   {
    "duration": 5,
    "start_time": "2022-07-11T18:19:33.104Z"
   },
   {
    "duration": 3,
    "start_time": "2022-07-11T18:19:57.568Z"
   },
   {
    "duration": 5,
    "start_time": "2022-07-11T18:19:58.173Z"
   },
   {
    "duration": 4,
    "start_time": "2022-07-11T18:19:59.963Z"
   },
   {
    "duration": 3,
    "start_time": "2022-07-11T18:20:39.211Z"
   },
   {
    "duration": 6,
    "start_time": "2022-07-11T18:20:39.784Z"
   },
   {
    "duration": 4,
    "start_time": "2022-07-11T18:20:42.733Z"
   },
   {
    "duration": 5,
    "start_time": "2022-07-11T18:23:24.279Z"
   },
   {
    "duration": 15,
    "start_time": "2022-07-11T18:24:19.006Z"
   },
   {
    "duration": 11,
    "start_time": "2022-07-11T18:24:40.550Z"
   },
   {
    "duration": 3,
    "start_time": "2022-07-11T18:25:25.966Z"
   },
   {
    "duration": 6,
    "start_time": "2022-07-11T18:26:11.618Z"
   },
   {
    "duration": 4,
    "start_time": "2022-07-11T18:26:14.777Z"
   },
   {
    "duration": 67,
    "start_time": "2022-07-11T18:28:39.599Z"
   },
   {
    "duration": 1244,
    "start_time": "2022-07-11T18:29:06.916Z"
   },
   {
    "duration": 24,
    "start_time": "2022-07-11T18:29:10.536Z"
   },
   {
    "duration": 20,
    "start_time": "2022-07-11T18:29:13.495Z"
   },
   {
    "duration": 18,
    "start_time": "2022-07-11T18:29:16.884Z"
   },
   {
    "duration": 4,
    "start_time": "2022-07-11T18:29:30.568Z"
   },
   {
    "duration": 6,
    "start_time": "2022-07-11T18:29:38.444Z"
   },
   {
    "duration": 6,
    "start_time": "2022-07-11T18:29:43.323Z"
   },
   {
    "duration": 19,
    "start_time": "2022-07-11T18:29:51.754Z"
   },
   {
    "duration": 10,
    "start_time": "2022-07-11T18:29:56.168Z"
   },
   {
    "duration": 8,
    "start_time": "2022-07-11T18:29:58.708Z"
   },
   {
    "duration": 17,
    "start_time": "2022-07-11T18:30:06.524Z"
   },
   {
    "duration": 206,
    "start_time": "2022-07-11T18:30:10.968Z"
   },
   {
    "duration": 377,
    "start_time": "2022-07-11T18:30:15.987Z"
   },
   {
    "duration": 16,
    "start_time": "2022-07-11T18:30:23.610Z"
   },
   {
    "duration": 4,
    "start_time": "2022-07-11T18:30:25.163Z"
   },
   {
    "duration": 355,
    "start_time": "2022-07-11T18:30:26.312Z"
   },
   {
    "duration": 7,
    "start_time": "2022-07-11T18:30:30.824Z"
   },
   {
    "duration": 45,
    "start_time": "2022-07-11T18:30:39.133Z"
   },
   {
    "duration": 3,
    "start_time": "2022-07-11T18:30:41.848Z"
   },
   {
    "duration": 385,
    "start_time": "2022-07-11T18:30:42.947Z"
   },
   {
    "duration": 10,
    "start_time": "2022-07-11T18:30:50.008Z"
   },
   {
    "duration": 158,
    "start_time": "2022-07-11T18:31:01.360Z"
   },
   {
    "duration": 7,
    "start_time": "2022-07-11T18:31:03.696Z"
   },
   {
    "duration": 195,
    "start_time": "2022-07-11T18:31:05.012Z"
   },
   {
    "duration": 7,
    "start_time": "2022-07-11T18:31:08.785Z"
   },
   {
    "duration": 231,
    "start_time": "2022-07-11T18:31:09.376Z"
   },
   {
    "duration": 6,
    "start_time": "2022-07-11T18:31:10.076Z"
   },
   {
    "duration": 156,
    "start_time": "2022-07-11T18:31:10.826Z"
   },
   {
    "duration": 7,
    "start_time": "2022-07-11T18:31:11.716Z"
   },
   {
    "duration": 162,
    "start_time": "2022-07-11T18:31:12.563Z"
   },
   {
    "duration": 9,
    "start_time": "2022-07-11T18:31:13.149Z"
   },
   {
    "duration": 175,
    "start_time": "2022-07-11T18:31:13.817Z"
   },
   {
    "duration": 8,
    "start_time": "2022-07-11T18:31:23.568Z"
   },
   {
    "duration": 212,
    "start_time": "2022-07-11T18:31:24.109Z"
   },
   {
    "duration": 7,
    "start_time": "2022-07-11T18:31:24.739Z"
   },
   {
    "duration": 183,
    "start_time": "2022-07-11T18:31:25.081Z"
   },
   {
    "duration": 7,
    "start_time": "2022-07-11T18:31:25.825Z"
   },
   {
    "duration": 159,
    "start_time": "2022-07-11T18:31:27.467Z"
   },
   {
    "duration": 6,
    "start_time": "2022-07-11T18:31:29.274Z"
   },
   {
    "duration": 165,
    "start_time": "2022-07-11T18:31:30.324Z"
   },
   {
    "duration": 217,
    "start_time": "2022-07-11T18:43:34.393Z"
   },
   {
    "duration": 126,
    "start_time": "2022-07-11T18:43:42.269Z"
   },
   {
    "duration": 175,
    "start_time": "2022-07-11T18:43:54.886Z"
   },
   {
    "duration": 20,
    "start_time": "2022-07-11T18:43:58.358Z"
   },
   {
    "duration": 192,
    "start_time": "2022-07-11T18:43:59.205Z"
   },
   {
    "duration": 508,
    "start_time": "2022-07-11T18:44:04.012Z"
   },
   {
    "duration": 422,
    "start_time": "2022-07-11T18:44:05.528Z"
   },
   {
    "duration": 524,
    "start_time": "2022-07-11T18:44:05.952Z"
   },
   {
    "duration": 2,
    "start_time": "2022-07-11T18:44:06.989Z"
   },
   {
    "duration": 8,
    "start_time": "2022-07-11T18:44:07.189Z"
   },
   {
    "duration": 4,
    "start_time": "2022-07-11T18:44:07.620Z"
   },
   {
    "duration": 3,
    "start_time": "2022-07-11T18:44:08.315Z"
   },
   {
    "duration": 7,
    "start_time": "2022-07-11T18:44:08.508Z"
   },
   {
    "duration": 95,
    "start_time": "2022-07-11T18:44:08.729Z"
   },
   {
    "duration": 2,
    "start_time": "2022-07-11T18:44:35.190Z"
   },
   {
    "duration": 7,
    "start_time": "2022-07-11T18:44:35.863Z"
   },
   {
    "duration": 82,
    "start_time": "2022-07-11T18:44:41.228Z"
   },
   {
    "duration": 5,
    "start_time": "2022-07-11T18:44:51.115Z"
   },
   {
    "duration": 9,
    "start_time": "2022-07-11T18:49:04.170Z"
   },
   {
    "duration": 13,
    "start_time": "2022-07-11T18:49:14.093Z"
   },
   {
    "duration": 9,
    "start_time": "2022-07-11T18:49:32.093Z"
   },
   {
    "duration": 215,
    "start_time": "2022-07-11T18:49:37.885Z"
   },
   {
    "duration": 14,
    "start_time": "2022-07-11T18:52:28.205Z"
   },
   {
    "duration": 204,
    "start_time": "2022-07-11T18:52:31.773Z"
   },
   {
    "duration": 79,
    "start_time": "2022-07-11T18:54:26.997Z"
   },
   {
    "duration": 419,
    "start_time": "2022-07-11T18:54:40.887Z"
   },
   {
    "duration": 464,
    "start_time": "2022-07-11T18:54:41.469Z"
   },
   {
    "duration": 405,
    "start_time": "2022-07-11T18:54:41.935Z"
   },
   {
    "duration": 3,
    "start_time": "2022-07-11T18:54:47.225Z"
   },
   {
    "duration": 9,
    "start_time": "2022-07-11T18:58:14.965Z"
   },
   {
    "duration": 4,
    "start_time": "2022-07-11T18:58:17.574Z"
   },
   {
    "duration": 7,
    "start_time": "2022-07-11T18:58:26.168Z"
   },
   {
    "duration": 5,
    "start_time": "2022-07-11T18:58:27.367Z"
   },
   {
    "duration": 15,
    "start_time": "2022-07-11T18:58:42.152Z"
   },
   {
    "duration": 2,
    "start_time": "2022-07-11T18:58:49.098Z"
   },
   {
    "duration": 7,
    "start_time": "2022-07-11T18:58:49.417Z"
   },
   {
    "duration": 6,
    "start_time": "2022-07-11T18:58:51.001Z"
   },
   {
    "duration": 3,
    "start_time": "2022-07-11T18:59:49.581Z"
   },
   {
    "duration": 7,
    "start_time": "2022-07-11T18:59:50.463Z"
   },
   {
    "duration": 3,
    "start_time": "2022-07-11T19:01:22.545Z"
   },
   {
    "duration": 6,
    "start_time": "2022-07-11T19:01:23.074Z"
   },
   {
    "duration": 5,
    "start_time": "2022-07-11T19:01:27.682Z"
   },
   {
    "duration": 14,
    "start_time": "2022-07-11T19:12:11.470Z"
   },
   {
    "duration": 429,
    "start_time": "2022-07-11T19:13:30.908Z"
   },
   {
    "duration": 386,
    "start_time": "2022-07-11T19:14:32.819Z"
   },
   {
    "duration": 373,
    "start_time": "2022-07-11T19:14:44.456Z"
   },
   {
    "duration": 4,
    "start_time": "2022-07-11T19:15:03.023Z"
   },
   {
    "duration": 1543,
    "start_time": "2022-07-11T19:15:14.292Z"
   },
   {
    "duration": 420,
    "start_time": "2022-07-11T19:15:56.495Z"
   },
   {
    "duration": 508,
    "start_time": "2022-07-11T19:16:31.811Z"
   },
   {
    "duration": 479,
    "start_time": "2022-07-11T19:18:48.188Z"
   },
   {
    "duration": 402,
    "start_time": "2022-07-11T19:18:59.972Z"
   },
   {
    "duration": 433,
    "start_time": "2022-07-11T19:19:16.061Z"
   },
   {
    "duration": 56,
    "start_time": "2022-07-11T19:19:34.991Z"
   },
   {
    "duration": 16,
    "start_time": "2022-07-11T19:19:35.561Z"
   },
   {
    "duration": 17,
    "start_time": "2022-07-11T19:19:35.767Z"
   },
   {
    "duration": 22,
    "start_time": "2022-07-11T19:19:35.953Z"
   },
   {
    "duration": 5,
    "start_time": "2022-07-11T19:19:36.366Z"
   },
   {
    "duration": 5,
    "start_time": "2022-07-11T19:19:36.767Z"
   },
   {
    "duration": 1228,
    "start_time": "2022-07-11T19:19:44.990Z"
   },
   {
    "duration": 25,
    "start_time": "2022-07-11T19:19:46.220Z"
   },
   {
    "duration": 30,
    "start_time": "2022-07-11T19:19:46.247Z"
   },
   {
    "duration": 23,
    "start_time": "2022-07-11T19:19:46.281Z"
   },
   {
    "duration": 7,
    "start_time": "2022-07-11T19:19:46.452Z"
   },
   {
    "duration": 9,
    "start_time": "2022-07-11T19:19:46.861Z"
   },
   {
    "duration": 7,
    "start_time": "2022-07-11T19:19:47.524Z"
   },
   {
    "duration": 20,
    "start_time": "2022-07-11T19:19:47.673Z"
   },
   {
    "duration": 10,
    "start_time": "2022-07-11T19:19:47.884Z"
   },
   {
    "duration": 8,
    "start_time": "2022-07-11T19:19:48.092Z"
   },
   {
    "duration": 18,
    "start_time": "2022-07-11T19:19:48.524Z"
   },
   {
    "duration": 204,
    "start_time": "2022-07-11T19:19:49.416Z"
   },
   {
    "duration": 315,
    "start_time": "2022-07-11T19:19:50.069Z"
   },
   {
    "duration": 16,
    "start_time": "2022-07-11T19:19:50.493Z"
   },
   {
    "duration": 3,
    "start_time": "2022-07-11T19:19:50.701Z"
   },
   {
    "duration": 343,
    "start_time": "2022-07-11T19:19:50.932Z"
   },
   {
    "duration": 6,
    "start_time": "2022-07-11T19:19:51.370Z"
   },
   {
    "duration": 49,
    "start_time": "2022-07-11T19:19:51.809Z"
   },
   {
    "duration": 4,
    "start_time": "2022-07-11T19:19:52.467Z"
   },
   {
    "duration": 371,
    "start_time": "2022-07-11T19:19:52.658Z"
   },
   {
    "duration": 9,
    "start_time": "2022-07-11T19:19:54.204Z"
   },
   {
    "duration": 161,
    "start_time": "2022-07-11T19:19:54.666Z"
   },
   {
    "duration": 8,
    "start_time": "2022-07-11T19:19:54.870Z"
   },
   {
    "duration": 167,
    "start_time": "2022-07-11T19:19:55.084Z"
   },
   {
    "duration": 8,
    "start_time": "2022-07-11T19:19:55.967Z"
   },
   {
    "duration": 271,
    "start_time": "2022-07-11T19:19:56.481Z"
   },
   {
    "duration": 6,
    "start_time": "2022-07-11T19:19:57.016Z"
   },
   {
    "duration": 167,
    "start_time": "2022-07-11T19:19:57.557Z"
   },
   {
    "duration": 10,
    "start_time": "2022-07-11T19:19:58.158Z"
   },
   {
    "duration": 176,
    "start_time": "2022-07-11T19:19:59.021Z"
   },
   {
    "duration": 7,
    "start_time": "2022-07-11T19:19:59.366Z"
   },
   {
    "duration": 179,
    "start_time": "2022-07-11T19:19:59.667Z"
   },
   {
    "duration": 7,
    "start_time": "2022-07-11T19:20:00.324Z"
   },
   {
    "duration": 180,
    "start_time": "2022-07-11T19:20:00.689Z"
   },
   {
    "duration": 7,
    "start_time": "2022-07-11T19:20:01.208Z"
   },
   {
    "duration": 167,
    "start_time": "2022-07-11T19:20:01.459Z"
   },
   {
    "duration": 7,
    "start_time": "2022-07-11T19:20:01.716Z"
   },
   {
    "duration": 176,
    "start_time": "2022-07-11T19:20:01.968Z"
   },
   {
    "duration": 11,
    "start_time": "2022-07-11T19:20:03.151Z"
   },
   {
    "duration": 182,
    "start_time": "2022-07-11T19:20:03.412Z"
   },
   {
    "duration": 20,
    "start_time": "2022-07-11T19:20:04.493Z"
   },
   {
    "duration": 18,
    "start_time": "2022-07-11T19:20:04.785Z"
   },
   {
    "duration": 284,
    "start_time": "2022-07-11T19:20:05.021Z"
   },
   {
    "duration": 59,
    "start_time": "2022-07-11T19:20:38.316Z"
   },
   {
    "duration": 20,
    "start_time": "2022-07-11T19:20:41.752Z"
   },
   {
    "duration": 16,
    "start_time": "2022-07-11T19:20:43.669Z"
   },
   {
    "duration": 31,
    "start_time": "2022-07-11T19:20:46.356Z"
   },
   {
    "duration": 8,
    "start_time": "2022-07-11T19:20:49.564Z"
   },
   {
    "duration": 7,
    "start_time": "2022-07-11T19:20:52.793Z"
   },
   {
    "duration": 10,
    "start_time": "2022-07-11T19:20:54.153Z"
   },
   {
    "duration": 21,
    "start_time": "2022-07-11T19:20:56.600Z"
   },
   {
    "duration": 12,
    "start_time": "2022-07-11T19:20:59.312Z"
   },
   {
    "duration": 8,
    "start_time": "2022-07-11T19:21:03.016Z"
   },
   {
    "duration": 22,
    "start_time": "2022-07-11T19:21:06.704Z"
   },
   {
    "duration": 210,
    "start_time": "2022-07-11T19:21:11.597Z"
   },
   {
    "duration": 411,
    "start_time": "2022-07-11T19:21:15.351Z"
   },
   {
    "duration": 18,
    "start_time": "2022-07-11T19:21:17.489Z"
   },
   {
    "duration": 3,
    "start_time": "2022-07-11T19:21:20.100Z"
   },
   {
    "duration": 389,
    "start_time": "2022-07-11T19:21:22.575Z"
   },
   {
    "duration": 6,
    "start_time": "2022-07-11T19:21:26.919Z"
   },
   {
    "duration": 42,
    "start_time": "2022-07-11T19:21:36.369Z"
   },
   {
    "duration": 3,
    "start_time": "2022-07-11T19:21:36.819Z"
   },
   {
    "duration": 403,
    "start_time": "2022-07-11T19:21:37.563Z"
   },
   {
    "duration": 10,
    "start_time": "2022-07-11T19:21:41.067Z"
   },
   {
    "duration": 175,
    "start_time": "2022-07-11T19:21:43.697Z"
   },
   {
    "duration": 7,
    "start_time": "2022-07-11T19:21:44.224Z"
   },
   {
    "duration": 174,
    "start_time": "2022-07-11T19:21:44.769Z"
   },
   {
    "duration": 10,
    "start_time": "2022-07-11T19:21:46.762Z"
   },
   {
    "duration": 184,
    "start_time": "2022-07-11T19:21:47.124Z"
   },
   {
    "duration": 6,
    "start_time": "2022-07-11T19:21:48.840Z"
   },
   {
    "duration": 193,
    "start_time": "2022-07-11T19:21:49.773Z"
   },
   {
    "duration": 6,
    "start_time": "2022-07-11T19:21:51.200Z"
   },
   {
    "duration": 179,
    "start_time": "2022-07-11T19:21:52.774Z"
   },
   {
    "duration": 8,
    "start_time": "2022-07-11T19:21:56.582Z"
   },
   {
    "duration": 184,
    "start_time": "2022-07-11T19:21:58.481Z"
   },
   {
    "duration": 6,
    "start_time": "2022-07-11T19:21:58.683Z"
   },
   {
    "duration": 191,
    "start_time": "2022-07-11T19:21:58.927Z"
   },
   {
    "duration": 7,
    "start_time": "2022-07-11T19:21:59.582Z"
   },
   {
    "duration": 283,
    "start_time": "2022-07-11T19:22:00.199Z"
   },
   {
    "duration": 7,
    "start_time": "2022-07-11T19:22:00.823Z"
   },
   {
    "duration": 179,
    "start_time": "2022-07-11T19:22:01.394Z"
   },
   {
    "duration": 7,
    "start_time": "2022-07-11T19:22:02.282Z"
   },
   {
    "duration": 212,
    "start_time": "2022-07-11T19:22:02.871Z"
   },
   {
    "duration": 35,
    "start_time": "2022-07-11T19:22:07.263Z"
   },
   {
    "duration": 16,
    "start_time": "2022-07-11T19:22:26.270Z"
   },
   {
    "duration": 234,
    "start_time": "2022-07-11T19:22:34.392Z"
   },
   {
    "duration": 408,
    "start_time": "2022-07-11T19:23:12.595Z"
   },
   {
    "duration": 438,
    "start_time": "2022-07-11T19:23:43.179Z"
   },
   {
    "duration": 402,
    "start_time": "2022-07-11T19:23:48.020Z"
   },
   {
    "duration": 465,
    "start_time": "2022-07-11T19:24:28.980Z"
   },
   {
    "duration": 394,
    "start_time": "2022-07-11T19:26:07.501Z"
   },
   {
    "duration": 367,
    "start_time": "2022-07-11T19:26:15.077Z"
   },
   {
    "duration": 95,
    "start_time": "2022-07-11T19:26:22.193Z"
   },
   {
    "duration": 376,
    "start_time": "2022-07-11T19:26:32.155Z"
   },
   {
    "duration": 7,
    "start_time": "2022-07-11T19:27:03.952Z"
   },
   {
    "duration": 396,
    "start_time": "2022-07-11T19:27:07.477Z"
   },
   {
    "duration": 507,
    "start_time": "2022-07-11T19:31:13.793Z"
   },
   {
    "duration": 3,
    "start_time": "2022-07-11T19:31:21.097Z"
   },
   {
    "duration": 8,
    "start_time": "2022-07-11T19:31:21.293Z"
   },
   {
    "duration": 7,
    "start_time": "2022-07-11T19:31:21.685Z"
   },
   {
    "duration": 3,
    "start_time": "2022-07-11T19:31:22.281Z"
   },
   {
    "duration": 7,
    "start_time": "2022-07-11T19:31:22.479Z"
   },
   {
    "duration": 5,
    "start_time": "2022-07-11T19:31:22.684Z"
   },
   {
    "duration": 49,
    "start_time": "2022-07-12T06:50:15.179Z"
   },
   {
    "duration": 7,
    "start_time": "2022-07-12T06:50:20.299Z"
   },
   {
    "duration": 1161,
    "start_time": "2022-07-12T06:50:33.829Z"
   },
   {
    "duration": 18,
    "start_time": "2022-07-12T06:50:34.992Z"
   },
   {
    "duration": 18,
    "start_time": "2022-07-12T06:50:35.012Z"
   },
   {
    "duration": 26,
    "start_time": "2022-07-12T06:50:35.032Z"
   },
   {
    "duration": 4,
    "start_time": "2022-07-12T06:50:35.059Z"
   },
   {
    "duration": 18,
    "start_time": "2022-07-12T06:50:35.065Z"
   },
   {
    "duration": 28,
    "start_time": "2022-07-12T06:50:35.084Z"
   },
   {
    "duration": 28,
    "start_time": "2022-07-12T06:50:35.114Z"
   },
   {
    "duration": 27,
    "start_time": "2022-07-12T06:50:35.144Z"
   },
   {
    "duration": 18,
    "start_time": "2022-07-12T06:50:35.174Z"
   },
   {
    "duration": 31,
    "start_time": "2022-07-12T06:50:35.194Z"
   },
   {
    "duration": 271,
    "start_time": "2022-07-12T06:50:35.229Z"
   },
   {
    "duration": 334,
    "start_time": "2022-07-12T06:50:35.502Z"
   },
   {
    "duration": 20,
    "start_time": "2022-07-12T06:50:35.837Z"
   },
   {
    "duration": 4,
    "start_time": "2022-07-12T06:50:35.859Z"
   },
   {
    "duration": 321,
    "start_time": "2022-07-12T06:50:35.865Z"
   },
   {
    "duration": 13,
    "start_time": "2022-07-12T06:50:36.188Z"
   },
   {
    "duration": 56,
    "start_time": "2022-07-12T06:50:36.203Z"
   },
   {
    "duration": 3,
    "start_time": "2022-07-12T06:50:36.261Z"
   },
   {
    "duration": 388,
    "start_time": "2022-07-12T06:50:36.265Z"
   },
   {
    "duration": 9,
    "start_time": "2022-07-12T06:50:36.655Z"
   },
   {
    "duration": 199,
    "start_time": "2022-07-12T06:50:36.666Z"
   },
   {
    "duration": 8,
    "start_time": "2022-07-12T06:50:36.867Z"
   },
   {
    "duration": 208,
    "start_time": "2022-07-12T06:50:36.877Z"
   },
   {
    "duration": 7,
    "start_time": "2022-07-12T06:50:37.086Z"
   },
   {
    "duration": 283,
    "start_time": "2022-07-12T06:50:37.100Z"
   },
   {
    "duration": 15,
    "start_time": "2022-07-12T06:50:37.386Z"
   },
   {
    "duration": 196,
    "start_time": "2022-07-12T06:50:37.404Z"
   },
   {
    "duration": 7,
    "start_time": "2022-07-12T06:50:37.602Z"
   },
   {
    "duration": 209,
    "start_time": "2022-07-12T06:50:37.610Z"
   },
   {
    "duration": 8,
    "start_time": "2022-07-12T06:50:37.821Z"
   },
   {
    "duration": 191,
    "start_time": "2022-07-12T06:50:37.831Z"
   },
   {
    "duration": 7,
    "start_time": "2022-07-12T06:50:38.024Z"
   },
   {
    "duration": 213,
    "start_time": "2022-07-12T06:50:38.033Z"
   },
   {
    "duration": 9,
    "start_time": "2022-07-12T06:50:38.249Z"
   },
   {
    "duration": 209,
    "start_time": "2022-07-12T06:50:38.260Z"
   },
   {
    "duration": 7,
    "start_time": "2022-07-12T06:50:38.470Z"
   },
   {
    "duration": 211,
    "start_time": "2022-07-12T06:50:38.479Z"
   },
   {
    "duration": 14,
    "start_time": "2022-07-12T06:50:38.692Z"
   },
   {
    "duration": 218,
    "start_time": "2022-07-12T06:50:38.708Z"
   },
   {
    "duration": 17,
    "start_time": "2022-07-12T06:50:38.928Z"
   },
   {
    "duration": 16,
    "start_time": "2022-07-12T06:50:38.947Z"
   },
   {
    "duration": 232,
    "start_time": "2022-07-12T06:50:38.965Z"
   },
   {
    "duration": 406,
    "start_time": "2022-07-12T06:50:39.198Z"
   },
   {
    "duration": 470,
    "start_time": "2022-07-12T06:50:39.606Z"
   },
   {
    "duration": 405,
    "start_time": "2022-07-12T06:50:40.078Z"
   },
   {
    "duration": 3,
    "start_time": "2022-07-12T06:50:40.485Z"
   },
   {
    "duration": 21,
    "start_time": "2022-07-12T06:50:40.502Z"
   },
   {
    "duration": 12,
    "start_time": "2022-07-12T06:50:40.524Z"
   },
   {
    "duration": 6,
    "start_time": "2022-07-12T06:50:40.538Z"
   },
   {
    "duration": 11,
    "start_time": "2022-07-12T06:50:40.545Z"
   },
   {
    "duration": 10,
    "start_time": "2022-07-12T06:50:40.557Z"
   },
   {
    "duration": 5,
    "start_time": "2022-07-12T06:51:02.703Z"
   },
   {
    "duration": 7,
    "start_time": "2022-07-12T06:51:22.744Z"
   },
   {
    "duration": 1339,
    "start_time": "2022-07-12T09:13:08.674Z"
   },
   {
    "duration": 74,
    "start_time": "2022-07-12T09:13:11.166Z"
   },
   {
    "duration": 142,
    "start_time": "2022-07-12T09:13:24.635Z"
   },
   {
    "duration": 66,
    "start_time": "2022-07-12T09:14:44.562Z"
   },
   {
    "duration": 57,
    "start_time": "2022-07-12T09:14:57.529Z"
   },
   {
    "duration": 64,
    "start_time": "2022-07-12T09:15:50.900Z"
   },
   {
    "duration": 19,
    "start_time": "2022-07-12T09:15:57.604Z"
   },
   {
    "duration": 23,
    "start_time": "2022-07-12T09:15:59.814Z"
   },
   {
    "duration": 27,
    "start_time": "2022-07-12T09:16:02.899Z"
   },
   {
    "duration": 5,
    "start_time": "2022-07-12T09:16:06.998Z"
   },
   {
    "duration": 6,
    "start_time": "2022-07-12T09:16:11.613Z"
   },
   {
    "duration": 7,
    "start_time": "2022-07-12T09:16:15.130Z"
   },
   {
    "duration": 19,
    "start_time": "2022-07-12T09:16:18.228Z"
   },
   {
    "duration": 9,
    "start_time": "2022-07-12T09:16:20.862Z"
   },
   {
    "duration": 9,
    "start_time": "2022-07-12T09:16:21.144Z"
   },
   {
    "duration": 22,
    "start_time": "2022-07-12T09:16:24.676Z"
   },
   {
    "duration": 192,
    "start_time": "2022-07-12T09:16:29.384Z"
   },
   {
    "duration": 318,
    "start_time": "2022-07-12T09:16:33.361Z"
   },
   {
    "duration": 17,
    "start_time": "2022-07-12T09:16:37.257Z"
   },
   {
    "duration": 3,
    "start_time": "2022-07-12T09:16:39.725Z"
   },
   {
    "duration": 330,
    "start_time": "2022-07-12T09:16:40.256Z"
   },
   {
    "duration": 7,
    "start_time": "2022-07-12T09:16:46.187Z"
   },
   {
    "duration": 49,
    "start_time": "2022-07-12T09:16:51.950Z"
   },
   {
    "duration": 3,
    "start_time": "2022-07-12T09:16:54.958Z"
   },
   {
    "duration": 371,
    "start_time": "2022-07-12T09:16:55.561Z"
   },
   {
    "duration": 9,
    "start_time": "2022-07-12T09:17:04.846Z"
   },
   {
    "duration": 10,
    "start_time": "2022-07-12T09:18:36.037Z"
   },
   {
    "duration": 176,
    "start_time": "2022-07-12T09:19:06.854Z"
   },
   {
    "duration": 7,
    "start_time": "2022-07-12T09:19:19.233Z"
   },
   {
    "duration": 161,
    "start_time": "2022-07-12T09:19:23.296Z"
   },
   {
    "duration": 6,
    "start_time": "2022-07-12T09:19:43.135Z"
   },
   {
    "duration": 258,
    "start_time": "2022-07-12T09:19:47.544Z"
   },
   {
    "duration": 6,
    "start_time": "2022-07-12T09:25:41.345Z"
   },
   {
    "duration": 175,
    "start_time": "2022-07-12T09:25:45.540Z"
   },
   {
    "duration": 7,
    "start_time": "2022-07-12T09:26:03.991Z"
   },
   {
    "duration": 185,
    "start_time": "2022-07-12T09:26:08.514Z"
   },
   {
    "duration": 9,
    "start_time": "2022-07-12T09:26:17.983Z"
   },
   {
    "duration": 205,
    "start_time": "2022-07-12T09:26:21.173Z"
   },
   {
    "duration": 6,
    "start_time": "2022-07-12T09:26:32.800Z"
   },
   {
    "duration": 163,
    "start_time": "2022-07-12T09:26:51.553Z"
   },
   {
    "duration": 8,
    "start_time": "2022-07-12T09:27:06.536Z"
   },
   {
    "duration": 186,
    "start_time": "2022-07-12T09:27:08.940Z"
   },
   {
    "duration": 8,
    "start_time": "2022-07-12T09:27:17.030Z"
   },
   {
    "duration": 183,
    "start_time": "2022-07-12T09:27:17.846Z"
   },
   {
    "duration": 7,
    "start_time": "2022-07-12T09:27:32.181Z"
   },
   {
    "duration": 196,
    "start_time": "2022-07-12T09:27:33.906Z"
   },
   {
    "duration": 16,
    "start_time": "2022-07-12T09:29:23.074Z"
   },
   {
    "duration": 13,
    "start_time": "2022-07-12T09:29:37.441Z"
   },
   {
    "duration": 13,
    "start_time": "2022-07-12T09:31:05.945Z"
   },
   {
    "duration": 15,
    "start_time": "2022-07-12T09:31:58.732Z"
   },
   {
    "duration": 19,
    "start_time": "2022-07-12T09:34:20.163Z"
   },
   {
    "duration": 19,
    "start_time": "2022-07-12T09:34:33.064Z"
   },
   {
    "duration": 14,
    "start_time": "2022-07-12T09:34:42.243Z"
   },
   {
    "duration": 13,
    "start_time": "2022-07-12T09:34:54.895Z"
   },
   {
    "duration": 15,
    "start_time": "2022-07-12T09:35:01.799Z"
   },
   {
    "duration": 192,
    "start_time": "2022-07-12T09:38:25.677Z"
   },
   {
    "duration": 181,
    "start_time": "2022-07-12T09:39:02.565Z"
   },
   {
    "duration": 211,
    "start_time": "2022-07-12T09:39:07.105Z"
   },
   {
    "duration": 489,
    "start_time": "2022-07-12T10:32:44.558Z"
   },
   {
    "duration": 375,
    "start_time": "2022-07-12T10:32:50.082Z"
   },
   {
    "duration": 427,
    "start_time": "2022-07-12T10:32:55.677Z"
   },
   {
    "duration": 2,
    "start_time": "2022-07-12T10:33:00.446Z"
   },
   {
    "duration": 6,
    "start_time": "2022-07-12T10:33:01.655Z"
   },
   {
    "duration": 5,
    "start_time": "2022-07-12T10:33:13.662Z"
   },
   {
    "duration": 3,
    "start_time": "2022-07-12T10:33:18.542Z"
   },
   {
    "duration": 6,
    "start_time": "2022-07-12T10:33:19.224Z"
   },
   {
    "duration": 5,
    "start_time": "2022-07-12T10:33:20.504Z"
   },
   {
    "duration": 193,
    "start_time": "2022-07-12T10:40:18.593Z"
   },
   {
    "duration": 179,
    "start_time": "2022-07-12T10:40:26.685Z"
   },
   {
    "duration": 408,
    "start_time": "2022-07-12T10:40:31.882Z"
   },
   {
    "duration": 490,
    "start_time": "2022-07-12T10:40:33.624Z"
   },
   {
    "duration": 413,
    "start_time": "2022-07-12T10:40:34.123Z"
   },
   {
    "duration": 2,
    "start_time": "2022-07-12T10:40:34.966Z"
   },
   {
    "duration": 7,
    "start_time": "2022-07-12T10:40:44.223Z"
   },
   {
    "duration": 6,
    "start_time": "2022-07-12T10:40:45.094Z"
   },
   {
    "duration": 2,
    "start_time": "2022-07-12T10:40:49.087Z"
   },
   {
    "duration": 6,
    "start_time": "2022-07-12T10:40:49.599Z"
   },
   {
    "duration": 4,
    "start_time": "2022-07-12T10:40:49.839Z"
   },
   {
    "duration": 1307,
    "start_time": "2022-07-12T12:00:51.807Z"
   },
   {
    "duration": 113,
    "start_time": "2022-07-12T12:00:53.116Z"
   },
   {
    "duration": 18,
    "start_time": "2022-07-12T12:00:53.231Z"
   },
   {
    "duration": 20,
    "start_time": "2022-07-12T12:00:53.251Z"
   },
   {
    "duration": 18,
    "start_time": "2022-07-12T12:00:53.272Z"
   },
   {
    "duration": 20,
    "start_time": "2022-07-12T12:00:53.292Z"
   },
   {
    "duration": 13,
    "start_time": "2022-07-12T12:00:53.313Z"
   },
   {
    "duration": 12,
    "start_time": "2022-07-12T12:00:53.328Z"
   },
   {
    "duration": 28,
    "start_time": "2022-07-12T12:00:53.342Z"
   },
   {
    "duration": 9,
    "start_time": "2022-07-12T12:00:53.372Z"
   },
   {
    "duration": 11,
    "start_time": "2022-07-12T12:00:53.383Z"
   },
   {
    "duration": 23,
    "start_time": "2022-07-12T12:00:53.395Z"
   },
   {
    "duration": 218,
    "start_time": "2022-07-12T12:00:53.420Z"
   },
   {
    "duration": 317,
    "start_time": "2022-07-12T12:00:53.640Z"
   },
   {
    "duration": 15,
    "start_time": "2022-07-12T12:00:53.959Z"
   },
   {
    "duration": 3,
    "start_time": "2022-07-12T12:00:53.975Z"
   },
   {
    "duration": 356,
    "start_time": "2022-07-12T12:00:53.980Z"
   },
   {
    "duration": 6,
    "start_time": "2022-07-12T12:00:54.338Z"
   },
   {
    "duration": 42,
    "start_time": "2022-07-12T12:00:54.346Z"
   },
   {
    "duration": 3,
    "start_time": "2022-07-12T12:00:54.389Z"
   },
   {
    "duration": 349,
    "start_time": "2022-07-12T12:00:54.393Z"
   },
   {
    "duration": 10,
    "start_time": "2022-07-12T12:00:54.744Z"
   },
   {
    "duration": 182,
    "start_time": "2022-07-12T12:00:54.756Z"
   },
   {
    "duration": 6,
    "start_time": "2022-07-12T12:00:54.940Z"
   },
   {
    "duration": 178,
    "start_time": "2022-07-12T12:00:54.948Z"
   },
   {
    "duration": 6,
    "start_time": "2022-07-12T12:00:55.128Z"
   },
   {
    "duration": 252,
    "start_time": "2022-07-12T12:00:55.135Z"
   },
   {
    "duration": 7,
    "start_time": "2022-07-12T12:00:55.390Z"
   },
   {
    "duration": 156,
    "start_time": "2022-07-12T12:00:55.409Z"
   },
   {
    "duration": 6,
    "start_time": "2022-07-12T12:00:55.566Z"
   },
   {
    "duration": 202,
    "start_time": "2022-07-12T12:00:55.574Z"
   },
   {
    "duration": 5,
    "start_time": "2022-07-12T12:00:55.778Z"
   },
   {
    "duration": 199,
    "start_time": "2022-07-12T12:00:55.785Z"
   },
   {
    "duration": 6,
    "start_time": "2022-07-12T12:00:55.986Z"
   },
   {
    "duration": 211,
    "start_time": "2022-07-12T12:00:55.994Z"
   },
   {
    "duration": 7,
    "start_time": "2022-07-12T12:00:56.209Z"
   },
   {
    "duration": 184,
    "start_time": "2022-07-12T12:00:56.217Z"
   },
   {
    "duration": 10,
    "start_time": "2022-07-12T12:00:56.403Z"
   },
   {
    "duration": 186,
    "start_time": "2022-07-12T12:00:56.415Z"
   },
   {
    "duration": 6,
    "start_time": "2022-07-12T12:00:56.609Z"
   },
   {
    "duration": 185,
    "start_time": "2022-07-12T12:00:56.616Z"
   },
   {
    "duration": 18,
    "start_time": "2022-07-12T12:00:56.803Z"
   },
   {
    "duration": 191,
    "start_time": "2022-07-12T12:00:56.823Z"
   },
   {
    "duration": 414,
    "start_time": "2022-07-12T12:00:57.016Z"
   },
   {
    "duration": 453,
    "start_time": "2022-07-12T12:00:57.432Z"
   },
   {
    "duration": 387,
    "start_time": "2022-07-12T12:00:57.886Z"
   },
   {
    "duration": 2,
    "start_time": "2022-07-12T12:00:58.275Z"
   },
   {
    "duration": 28,
    "start_time": "2022-07-12T12:00:58.279Z"
   },
   {
    "duration": 32,
    "start_time": "2022-07-12T12:00:58.309Z"
   },
   {
    "duration": 24,
    "start_time": "2022-07-12T12:00:58.343Z"
   },
   {
    "duration": 30,
    "start_time": "2022-07-12T12:00:58.368Z"
   },
   {
    "duration": 29,
    "start_time": "2022-07-12T12:00:58.400Z"
   }
  ],
  "kernelspec": {
   "display_name": "Python 3 (ipykernel)",
   "language": "python",
   "name": "python3"
  },
  "language_info": {
   "codemirror_mode": {
    "name": "ipython",
    "version": 3
   },
   "file_extension": ".py",
   "mimetype": "text/x-python",
   "name": "python",
   "nbconvert_exporter": "python",
   "pygments_lexer": "ipython3",
   "version": "3.9.5"
  },
  "toc": {
   "base_numbering": 1,
   "nav_menu": {},
   "number_sections": true,
   "sideBar": true,
   "skip_h1_title": true,
   "title_cell": "Table of Contents",
   "title_sidebar": "Contents",
   "toc_cell": false,
   "toc_position": {
    "height": "calc(100% - 180px)",
    "left": "10px",
    "top": "150px",
    "width": "165px"
   },
   "toc_section_display": true,
   "toc_window_display": true
  }
 },
 "nbformat": 4,
 "nbformat_minor": 2
}
